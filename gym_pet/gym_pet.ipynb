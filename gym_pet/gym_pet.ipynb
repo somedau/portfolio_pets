{
 "cells": [
  {
   "cell_type": "markdown",
   "id": "7d61ae02",
   "metadata": {},
   "source": [
    "**Анализ поведения клиентов фитнес клуба.**\n",
    "\n",
    "Проект выполнен с использованием открытых данных с kaggle. Согласно описанию, датасет имеет синтетическую природу. \n",
    "\n",
    "Цель: изучить паттерны потребительского поведения клиентов фитнес клуба"
   ]
  },
  {
   "cell_type": "code",
   "execution_count": 1,
   "id": "3811f5ce",
   "metadata": {},
   "outputs": [
    {
     "data": {
      "text/html": [
       "        <script type=\"text/javascript\">\n",
       "        window.PlotlyConfig = {MathJaxConfig: 'local'};\n",
       "        if (window.MathJax && window.MathJax.Hub && window.MathJax.Hub.Config) {window.MathJax.Hub.Config({SVG: {font: \"STIX-Web\"}});}\n",
       "        </script>\n",
       "        <script type=\"module\">import \"https://cdn.plot.ly/plotly-3.0.1.min\"</script>\n",
       "        "
      ]
     },
     "metadata": {},
     "output_type": "display_data"
    }
   ],
   "source": [
    "import pandas as pd\n",
    "\n",
    "import seaborn as sns\n",
    "import matplotlib.pyplot as plt\n",
    "\n",
    "import plotly.offline as pyo\n",
    "import plotly.graph_objects as go\n",
    "import plotly.express as px\n",
    "pyo.init_notebook_mode(connected=True)\n",
    "\n",
    "\n",
    "import scipy.stats as stats\n",
    "import numpy as np\n",
    "\n",
    "import warnings\n",
    "warnings.filterwarnings('ignore')"
   ]
  },
  {
   "cell_type": "code",
   "execution_count": 2,
   "id": "d60ae758",
   "metadata": {},
   "outputs": [],
   "source": [
    "# Install dependencies as needed:\n",
    "#%pip install kagglehub[pandas-datasets]\n",
    "import kagglehub\n",
    "from kagglehub import KaggleDatasetAdapter\n",
    "\n",
    "# Set the path to the file you'd like to load\n",
    "file_path = \"gym_membership.csv\"\n",
    "\n",
    "# Load the latest version\n",
    "df = kagglehub.load_dataset(\n",
    "  KaggleDatasetAdapter.PANDAS,\n",
    "  \"ka66ledata/gym-membership-dataset\",\n",
    "  file_path,\n",
    "  # Provide any additional arguments like \n",
    "  # sql_query or pandas_kwargs. See the \n",
    "  # documenation for more information:\n",
    "  # https://github.com/Kaggle/kagglehub/blob/main/README.md#kaggledatasetadapterpandas\n",
    ")"
   ]
  },
  {
   "cell_type": "code",
   "execution_count": 3,
   "id": "0a6e649b",
   "metadata": {},
   "outputs": [
    {
     "name": "stdout",
     "output_type": "stream",
     "text": [
      "Дубликатов нет\n"
     ]
    }
   ],
   "source": [
    "if df.duplicated().sum() == 0:\n",
    "    print('Дубликатов нет')\n",
    "else:\n",
    "    print(f'В датасете найдено {df.duplicated().sum()} дубликатов')"
   ]
  },
  {
   "cell_type": "code",
   "execution_count": 4,
   "id": "3e856c9f",
   "metadata": {},
   "outputs": [
    {
     "name": "stdout",
     "output_type": "stream",
     "text": [
      "<class 'pandas.core.frame.DataFrame'>\n",
      "RangeIndex: 1000 entries, 0 to 999\n",
      "Data columns (total 17 columns):\n",
      " #   Column                 Non-Null Count  Dtype \n",
      "---  ------                 --------------  ----- \n",
      " 0   id                     1000 non-null   int64 \n",
      " 1   gender                 1000 non-null   object\n",
      " 2   birthday               1000 non-null   object\n",
      " 3   Age                    1000 non-null   int64 \n",
      " 4   abonoment_type         1000 non-null   object\n",
      " 5   visit_per_week         1000 non-null   int64 \n",
      " 6   days_per_week          1000 non-null   object\n",
      " 7   attend_group_lesson    1000 non-null   bool  \n",
      " 8   fav_group_lesson       503 non-null    object\n",
      " 9   avg_time_check_in      1000 non-null   object\n",
      " 10  avg_time_check_out     1000 non-null   object\n",
      " 11  avg_time_in_gym        1000 non-null   int64 \n",
      " 12  drink_abo              1000 non-null   bool  \n",
      " 13  fav_drink              496 non-null    object\n",
      " 14  personal_training      1000 non-null   bool  \n",
      " 15  name_personal_trainer  518 non-null    object\n",
      " 16  uses_sauna             1000 non-null   bool  \n",
      "dtypes: bool(4), int64(4), object(9)\n",
      "memory usage: 105.6+ KB\n"
     ]
    }
   ],
   "source": [
    "df.info()"
   ]
  },
  {
   "cell_type": "code",
   "execution_count": 5,
   "id": "42d3c2ba",
   "metadata": {},
   "outputs": [
    {
     "data": {
      "text/html": [
       "<div>\n",
       "<style scoped>\n",
       "    .dataframe tbody tr th:only-of-type {\n",
       "        vertical-align: middle;\n",
       "    }\n",
       "\n",
       "    .dataframe tbody tr th {\n",
       "        vertical-align: top;\n",
       "    }\n",
       "\n",
       "    .dataframe thead th {\n",
       "        text-align: right;\n",
       "    }\n",
       "</style>\n",
       "<table border=\"1\" class=\"dataframe\">\n",
       "  <thead>\n",
       "    <tr style=\"text-align: right;\">\n",
       "      <th></th>\n",
       "      <th>id</th>\n",
       "      <th>gender</th>\n",
       "      <th>birthday</th>\n",
       "      <th>Age</th>\n",
       "      <th>abonoment_type</th>\n",
       "      <th>visit_per_week</th>\n",
       "      <th>days_per_week</th>\n",
       "      <th>attend_group_lesson</th>\n",
       "      <th>fav_group_lesson</th>\n",
       "      <th>avg_time_check_in</th>\n",
       "      <th>avg_time_check_out</th>\n",
       "      <th>avg_time_in_gym</th>\n",
       "      <th>drink_abo</th>\n",
       "      <th>fav_drink</th>\n",
       "      <th>personal_training</th>\n",
       "      <th>name_personal_trainer</th>\n",
       "      <th>uses_sauna</th>\n",
       "    </tr>\n",
       "  </thead>\n",
       "  <tbody>\n",
       "    <tr>\n",
       "      <th>0</th>\n",
       "      <td>1</td>\n",
       "      <td>Female</td>\n",
       "      <td>1997-04-18</td>\n",
       "      <td>27</td>\n",
       "      <td>Premium</td>\n",
       "      <td>4</td>\n",
       "      <td>Mon, Sat, Tue, Wed</td>\n",
       "      <td>True</td>\n",
       "      <td>Kickboxen, BodyPump, Zumba</td>\n",
       "      <td>19:31:00</td>\n",
       "      <td>21:27:00</td>\n",
       "      <td>116</td>\n",
       "      <td>False</td>\n",
       "      <td>NaN</td>\n",
       "      <td>False</td>\n",
       "      <td>NaN</td>\n",
       "      <td>True</td>\n",
       "    </tr>\n",
       "    <tr>\n",
       "      <th>1</th>\n",
       "      <td>2</td>\n",
       "      <td>Female</td>\n",
       "      <td>1977-09-18</td>\n",
       "      <td>47</td>\n",
       "      <td>Standard</td>\n",
       "      <td>3</td>\n",
       "      <td>Mon, Sat, Wed</td>\n",
       "      <td>False</td>\n",
       "      <td>NaN</td>\n",
       "      <td>19:31:00</td>\n",
       "      <td>20:19:00</td>\n",
       "      <td>48</td>\n",
       "      <td>False</td>\n",
       "      <td>NaN</td>\n",
       "      <td>True</td>\n",
       "      <td>Chantal</td>\n",
       "      <td>False</td>\n",
       "    </tr>\n",
       "    <tr>\n",
       "      <th>2</th>\n",
       "      <td>3</td>\n",
       "      <td>Male</td>\n",
       "      <td>1983-03-30</td>\n",
       "      <td>41</td>\n",
       "      <td>Premium</td>\n",
       "      <td>1</td>\n",
       "      <td>Sat</td>\n",
       "      <td>True</td>\n",
       "      <td>XCore</td>\n",
       "      <td>08:29:00</td>\n",
       "      <td>10:32:00</td>\n",
       "      <td>123</td>\n",
       "      <td>True</td>\n",
       "      <td>berry_boost, lemon</td>\n",
       "      <td>True</td>\n",
       "      <td>Mike</td>\n",
       "      <td>False</td>\n",
       "    </tr>\n",
       "    <tr>\n",
       "      <th>3</th>\n",
       "      <td>4</td>\n",
       "      <td>Male</td>\n",
       "      <td>1980-04-12</td>\n",
       "      <td>44</td>\n",
       "      <td>Premium</td>\n",
       "      <td>3</td>\n",
       "      <td>Sat, Tue, Wed</td>\n",
       "      <td>False</td>\n",
       "      <td>NaN</td>\n",
       "      <td>09:54:00</td>\n",
       "      <td>11:33:00</td>\n",
       "      <td>99</td>\n",
       "      <td>True</td>\n",
       "      <td>passion_fruit</td>\n",
       "      <td>True</td>\n",
       "      <td>Mike</td>\n",
       "      <td>True</td>\n",
       "    </tr>\n",
       "    <tr>\n",
       "      <th>4</th>\n",
       "      <td>5</td>\n",
       "      <td>Male</td>\n",
       "      <td>1980-09-10</td>\n",
       "      <td>44</td>\n",
       "      <td>Standard</td>\n",
       "      <td>2</td>\n",
       "      <td>Thu, Wed</td>\n",
       "      <td>True</td>\n",
       "      <td>Running, Yoga, Zumba</td>\n",
       "      <td>08:29:00</td>\n",
       "      <td>09:19:00</td>\n",
       "      <td>50</td>\n",
       "      <td>False</td>\n",
       "      <td>NaN</td>\n",
       "      <td>True</td>\n",
       "      <td>Mike</td>\n",
       "      <td>False</td>\n",
       "    </tr>\n",
       "  </tbody>\n",
       "</table>\n",
       "</div>"
      ],
      "text/plain": [
       "   id  gender    birthday  Age abonoment_type  visit_per_week  \\\n",
       "0   1  Female  1997-04-18   27        Premium               4   \n",
       "1   2  Female  1977-09-18   47       Standard               3   \n",
       "2   3    Male  1983-03-30   41        Premium               1   \n",
       "3   4    Male  1980-04-12   44        Premium               3   \n",
       "4   5    Male  1980-09-10   44       Standard               2   \n",
       "\n",
       "        days_per_week  attend_group_lesson            fav_group_lesson  \\\n",
       "0  Mon, Sat, Tue, Wed                 True  Kickboxen, BodyPump, Zumba   \n",
       "1       Mon, Sat, Wed                False                         NaN   \n",
       "2                 Sat                 True                       XCore   \n",
       "3       Sat, Tue, Wed                False                         NaN   \n",
       "4            Thu, Wed                 True        Running, Yoga, Zumba   \n",
       "\n",
       "  avg_time_check_in avg_time_check_out  avg_time_in_gym  drink_abo  \\\n",
       "0          19:31:00           21:27:00              116      False   \n",
       "1          19:31:00           20:19:00               48      False   \n",
       "2          08:29:00           10:32:00              123       True   \n",
       "3          09:54:00           11:33:00               99       True   \n",
       "4          08:29:00           09:19:00               50      False   \n",
       "\n",
       "            fav_drink  personal_training name_personal_trainer  uses_sauna  \n",
       "0                 NaN              False                   NaN        True  \n",
       "1                 NaN               True               Chantal       False  \n",
       "2  berry_boost, lemon               True                  Mike       False  \n",
       "3       passion_fruit               True                  Mike        True  \n",
       "4                 NaN               True                  Mike       False  "
      ]
     },
     "execution_count": 5,
     "metadata": {},
     "output_type": "execute_result"
    }
   ],
   "source": [
    "df.head(5)"
   ]
  },
  {
   "cell_type": "markdown",
   "id": "56b90568",
   "metadata": {},
   "source": [
    "**Структура данных**\n",
    "\n",
    "Датасет состоит из 17 столбцов, с учетом уникального ключа id.\n",
    "В нем представленны переменные различных типов:\n",
    "* Категориальные:\n",
    "    * Пол\n",
    "    * Тип абонемента\n",
    "    * Дни посещения\n",
    "    * Любимые групповые занятия\n",
    "    * Любимый напиток\n",
    "    * Имя персонального тренера\n",
    "* Числовые:\n",
    "    * Возраст\n",
    "    * Количество посещений в неделю\n",
    "    * Среднее время в зале\n",
    "* Булевы дихотомии: \n",
    "    * Посещение групповых занятий\n",
    "    * Абонемент с напитками\n",
    "    * Персональные тренировки\n",
    "    * Посещение сауны\n",
    "* Временные данные:\n",
    "    * Дата рождения\n",
    "    * Среднее время входа в зал\n",
    "    * Среднее время выхода\n",
    "\n",
    "Стоит сделать замечание, что дни посещения, любимые напитки и любимые групповые занятия хранятся в одной колонке, через запятую. Что фактически создает множество категорий, каждая их которых содержит свой набор значений.\n",
    "\n",
    "Временные данные храятся в формате объектов, не поддерживающих математические операции.\n",
    "\n",
    "Также можно заметить опечатку в колонке с индексом 4"
   ]
  },
  {
   "cell_type": "code",
   "execution_count": 6,
   "id": "c6593132",
   "metadata": {},
   "outputs": [],
   "source": [
    "df.rename(columns={'Age':'age',\n",
    "                   'abonoment_type':'abonement_type'},\n",
    "                   inplace=True\n",
    "                   )\n",
    "#приведение Age к нижнему регистру для соответсвия общему стилю заголовков"
   ]
  },
  {
   "cell_type": "code",
   "execution_count": 7,
   "id": "b5b4cd2f",
   "metadata": {},
   "outputs": [],
   "source": [
    "for i in ['avg_time_check_in','avg_time_check_out']:\n",
    "    df[i] = pd.to_timedelta(df[i])"
   ]
  },
  {
   "cell_type": "markdown",
   "id": "3281f19d",
   "metadata": {},
   "source": [
    "Датасет имеет 1000 записей. Видно, что в некоторых колонках существуют null значения.\n",
    "Эти пропуски являются естественными: \n",
    "* не все люди посещают групповые занятия, часть занимается индивидуально (fav_group_lesson)\n",
    "* не у всех есть любимый напиток, так как не все прибретают их в зале, посетитель может приносить с собой или просто воздеживаться от покупки (fav_drink)\n",
    "* часть людей тренируется самостоятельно или в группах, что обуславливает отсутсвие персонального тренера/инструктора (name_personal_trainer)\n",
    "\n",
    "В этом можно легко убедиться: датасет содержит связанные с описанными выше колонки с булевым типом данных."
   ]
  },
  {
   "cell_type": "code",
   "execution_count": 8,
   "id": "96edc9d5",
   "metadata": {},
   "outputs": [
    {
     "name": "stdout",
     "output_type": "stream",
     "text": [
      "Количество людей без соотвествующей опции attend_group_lesson:497\n",
      "Количество пропусков по опции fav_group_lesson: 497\n",
      "Количество людей без соотвествующей опции drink_abo:504\n",
      "Количество пропусков по опции fav_drink: 504\n",
      "Количество людей без соотвествующей опции personal_training:482\n",
      "Количество пропусков по опции name_personal_trainer: 482\n"
     ]
    }
   ],
   "source": [
    "nan_cols = ['fav_group_lesson', 'fav_drink', 'name_personal_trainer']\n",
    "connected_cols = ['attend_group_lesson', 'drink_abo', 'personal_training']\n",
    "\n",
    "for i,j in zip(nan_cols,connected_cols):\n",
    "    print(f'Количество людей без соотвествующей опции {j}:{df[j].value_counts().loc[False]}')\n",
    "    print(f'Количество пропусков по опции {i}: {df[i].isna().sum()}')"
   ]
  },
  {
   "cell_type": "markdown",
   "id": "11de4ea1",
   "metadata": {},
   "source": [
    "Объяснение природы пропусков подтвердилось"
   ]
  },
  {
   "cell_type": "code",
   "execution_count": 9,
   "id": "064b1409",
   "metadata": {},
   "outputs": [],
   "source": [
    "#заполним пропуски\n",
    "for i in nan_cols:\n",
    "    df.fillna({i:'No'}, inplace=True)"
   ]
  },
  {
   "cell_type": "code",
   "execution_count": 10,
   "id": "d5c28279",
   "metadata": {},
   "outputs": [
    {
     "data": {
      "text/html": [
       "<div>\n",
       "<style scoped>\n",
       "    .dataframe tbody tr th:only-of-type {\n",
       "        vertical-align: middle;\n",
       "    }\n",
       "\n",
       "    .dataframe tbody tr th {\n",
       "        vertical-align: top;\n",
       "    }\n",
       "\n",
       "    .dataframe thead th {\n",
       "        text-align: right;\n",
       "    }\n",
       "</style>\n",
       "<table border=\"1\" class=\"dataframe\">\n",
       "  <thead>\n",
       "    <tr style=\"text-align: right;\">\n",
       "      <th></th>\n",
       "      <th>id</th>\n",
       "      <th>age</th>\n",
       "      <th>visit_per_week</th>\n",
       "      <th>avg_time_check_in</th>\n",
       "      <th>avg_time_check_out</th>\n",
       "      <th>avg_time_in_gym</th>\n",
       "    </tr>\n",
       "  </thead>\n",
       "  <tbody>\n",
       "    <tr>\n",
       "      <th>count</th>\n",
       "      <td>1000.000000</td>\n",
       "      <td>1000.000000</td>\n",
       "      <td>1000.000000</td>\n",
       "      <td>1000</td>\n",
       "      <td>1000</td>\n",
       "      <td>1000.000000</td>\n",
       "    </tr>\n",
       "    <tr>\n",
       "      <th>mean</th>\n",
       "      <td>500.500000</td>\n",
       "      <td>30.604000</td>\n",
       "      <td>2.682000</td>\n",
       "      <td>0 days 14:24:06.720000</td>\n",
       "      <td>0 days 16:09:22.320000</td>\n",
       "      <td>105.260000</td>\n",
       "    </tr>\n",
       "    <tr>\n",
       "      <th>std</th>\n",
       "      <td>288.819436</td>\n",
       "      <td>10.817958</td>\n",
       "      <td>1.241941</td>\n",
       "      <td>0 days 03:46:33.053797920</td>\n",
       "      <td>0 days 03:49:41.930409903</td>\n",
       "      <td>43.557177</td>\n",
       "    </tr>\n",
       "    <tr>\n",
       "      <th>min</th>\n",
       "      <td>1.000000</td>\n",
       "      <td>12.000000</td>\n",
       "      <td>1.000000</td>\n",
       "      <td>0 days 08:00:00</td>\n",
       "      <td>0 days 08:47:00</td>\n",
       "      <td>30.000000</td>\n",
       "    </tr>\n",
       "    <tr>\n",
       "      <th>25%</th>\n",
       "      <td>250.750000</td>\n",
       "      <td>21.000000</td>\n",
       "      <td>2.000000</td>\n",
       "      <td>0 days 10:55:45</td>\n",
       "      <td>0 days 12:48:45</td>\n",
       "      <td>67.000000</td>\n",
       "    </tr>\n",
       "    <tr>\n",
       "      <th>50%</th>\n",
       "      <td>500.500000</td>\n",
       "      <td>30.000000</td>\n",
       "      <td>3.000000</td>\n",
       "      <td>0 days 14:20:00</td>\n",
       "      <td>0 days 16:06:30</td>\n",
       "      <td>104.000000</td>\n",
       "    </tr>\n",
       "    <tr>\n",
       "      <th>75%</th>\n",
       "      <td>750.250000</td>\n",
       "      <td>40.000000</td>\n",
       "      <td>3.000000</td>\n",
       "      <td>0 days 17:41:15</td>\n",
       "      <td>0 days 19:28:30</td>\n",
       "      <td>143.000000</td>\n",
       "    </tr>\n",
       "    <tr>\n",
       "      <th>max</th>\n",
       "      <td>1000.000000</td>\n",
       "      <td>49.000000</td>\n",
       "      <td>5.000000</td>\n",
       "      <td>0 days 20:58:00</td>\n",
       "      <td>0 days 23:49:00</td>\n",
       "      <td>180.000000</td>\n",
       "    </tr>\n",
       "  </tbody>\n",
       "</table>\n",
       "</div>"
      ],
      "text/plain": [
       "                id          age  visit_per_week          avg_time_check_in  \\\n",
       "count  1000.000000  1000.000000     1000.000000                       1000   \n",
       "mean    500.500000    30.604000        2.682000     0 days 14:24:06.720000   \n",
       "std     288.819436    10.817958        1.241941  0 days 03:46:33.053797920   \n",
       "min       1.000000    12.000000        1.000000            0 days 08:00:00   \n",
       "25%     250.750000    21.000000        2.000000            0 days 10:55:45   \n",
       "50%     500.500000    30.000000        3.000000            0 days 14:20:00   \n",
       "75%     750.250000    40.000000        3.000000            0 days 17:41:15   \n",
       "max    1000.000000    49.000000        5.000000            0 days 20:58:00   \n",
       "\n",
       "              avg_time_check_out  avg_time_in_gym  \n",
       "count                       1000      1000.000000  \n",
       "mean      0 days 16:09:22.320000       105.260000  \n",
       "std    0 days 03:49:41.930409903        43.557177  \n",
       "min              0 days 08:47:00        30.000000  \n",
       "25%              0 days 12:48:45        67.000000  \n",
       "50%              0 days 16:06:30       104.000000  \n",
       "75%              0 days 19:28:30       143.000000  \n",
       "max              0 days 23:49:00       180.000000  "
      ]
     },
     "execution_count": 10,
     "metadata": {},
     "output_type": "execute_result"
    }
   ],
   "source": [
    "df.describe()"
   ]
  },
  {
   "cell_type": "code",
   "execution_count": 11,
   "id": "8b0ef4c9",
   "metadata": {},
   "outputs": [
    {
     "data": {
      "text/plain": [
       "Index(['id', 'gender', 'birthday', 'age', 'abonement_type', 'visit_per_week',\n",
       "       'days_per_week', 'attend_group_lesson', 'fav_group_lesson',\n",
       "       'avg_time_check_in', 'avg_time_check_out', 'avg_time_in_gym',\n",
       "       'drink_abo', 'fav_drink', 'personal_training', 'name_personal_trainer',\n",
       "       'uses_sauna'],\n",
       "      dtype='object')"
      ]
     },
     "execution_count": 11,
     "metadata": {},
     "output_type": "execute_result"
    }
   ],
   "source": [
    "df.columns"
   ]
  },
  {
   "cell_type": "code",
   "execution_count": 12,
   "id": "7fbdf7fd",
   "metadata": {},
   "outputs": [
    {
     "data": {
      "text/plain": [
       "Text(0, 0.5, 'Частота')"
      ]
     },
     "execution_count": 12,
     "metadata": {},
     "output_type": "execute_result"
    },
    {
     "data": {
      "image/png": "[encoded data removed]",
      "text/plain": [
       "<Figure size 1000x1500 with 5 Axes>"
      ]
     },
     "metadata": {},
     "output_type": "display_data"
    }
   ],
   "source": [
    "fig = plt.figure(figsize=(10,15))\n",
    "\n",
    "layout = \"\"\"\n",
    "    AB\n",
    "    CC\n",
    "    DE\n",
    "\"\"\"\n",
    "\n",
    "ax = fig.subplot_mosaic(layout)\n",
    "\n",
    "gender_freq = df.groupby(by='gender').agg(\n",
    "    freq=pd.NamedAgg(column='gender', aggfunc='count')\n",
    "    )\n",
    "ax['A'].pie(data=gender_freq,\n",
    "          x=gender_freq.freq,\n",
    "          autopct='%1.1f%%',\n",
    "          explode=[0.02,0.02],\n",
    "          startangle= 90)\n",
    "ax['A'].legend(gender_freq.index, bbox_to_anchor=(0.9,0.5))\n",
    "ax['A'].set_title('Распределение по полу')\n",
    " \n",
    "abo_df = df.groupby(by='abonement_type').agg(\n",
    "    freq= pd.NamedAgg(column='abonement_type', aggfunc='count')\n",
    ")\n",
    "ax['B'].pie(x=abo_df['freq'],\n",
    "        autopct='%1.1f%%', \n",
    "        startangle= 90,\n",
    "        explode= [0.02,0.02])\n",
    "ax['B'].legend(abo_df.index, bbox_to_anchor=(0.9,0.5))\n",
    "ax['B'].set_title('Распределение по абонементам')\n",
    "\n",
    "sns.histplot(data=df,\n",
    "             x='age',\n",
    "             ax=ax['C'],\n",
    "             bins=20,\n",
    "             kde=True)\n",
    "ax['C'].set_title('Распределение по возрасту')\n",
    "ax['C'].set_xlabel('Возраст')\n",
    "ax['C'].set_ylabel('Частота')\n",
    "\n",
    "trainer_df = df.groupby(by='name_personal_trainer').agg(\n",
    "    freq= pd.NamedAgg(column='name_personal_trainer', aggfunc='count')\n",
    ")\n",
    "trainer_df = trainer_df.sort_values(by='freq')\n",
    "ax['D'].bar(data= trainer_df,\n",
    "        x=trainer_df.index[:-1], #исключаем последнюю строку, там без тренера\n",
    "        height=trainer_df.freq[:-1],\n",
    ")\n",
    "ax['D'].set_title('Количество людей у каждого тренера',x=0.5)\n",
    "\n",
    "\n",
    "visit_w_freq= df.groupby(by='visit_per_week').agg(\n",
    "    freq= pd.NamedAgg(column='visit_per_week',aggfunc='count')\n",
    ")\n",
    "sns.barplot(\n",
    "            data=visit_w_freq,\n",
    "            x=visit_w_freq.index,\n",
    "            y=visit_w_freq.freq,\n",
    "            ax=ax['E']\n",
    "            )\n",
    "ax['E'].set_title('Количество посещений в неделю', x=0.5)\n",
    "ax['E'].set_xlabel('Посещения в неделю',x= 0.5)\n",
    "ax['E'].set_ylabel('Частота')"
   ]
  },
  {
   "cell_type": "code",
   "execution_count": 13,
   "id": "99b2118f",
   "metadata": {},
   "outputs": [
    {
     "name": "stdout",
     "output_type": "stream",
     "text": [
      "abonement_type  Premium  Standard\n",
      "gender                           \n",
      "Female              242       261\n",
      "Male                251       246\n",
      "\n",
      "Хи2:0.4804225106326079 \n",
      "P_value:0.48823099898636313\n",
      "\n",
      "[[247.979 255.021]\n",
      " [245.021 251.979]]\n"
     ]
    }
   ],
   "source": [
    "data_frame= df.groupby(by=['gender','abonement_type']).agg({'id':'count'})\n",
    "cross = data_frame.unstack()\n",
    "cross.columns = cross.columns.droplevel(0)\n",
    "\n",
    "chi2, p_val, dof, exp = stats.chi2_contingency(cross)\n",
    "\n",
    "print(cross)\n",
    "print(f'\\nХи2:{chi2} \\nP_value:{p_val}\\n')\n",
    "print(exp)"
   ]
  },
  {
   "cell_type": "code",
   "execution_count": 14,
   "id": "74f66db2",
   "metadata": {},
   "outputs": [
    {
     "data": {
      "application/vnd.plotly.v1+json": {
       "config": {
        "plotlyServerURL": "https://plot.ly"
       },
       "data": [
        {
         "hovertemplate": "variable=count<br>days_per_week=%{x}<br>value=%{y}<extra></extra>",
         "legendgroup": "count",
         "marker": {
          "color": "#636efa",
          "pattern": {
           "shape": ""
          }
         },
         "name": "count",
         "orientation": "v",
         "showlegend": true,
         "textposition": "auto",
         "type": "bar",
         "x": [
          "Mon",
          "Tue",
          "Wed",
          "Thu",
          "Fri",
          "Sat",
          "Sun"
         ],
         "xaxis": "x",
         "y": {
          "bdata": "XQGHAZABewF4AXwBlwE=",
          "dtype": "i2"
         },
         "yaxis": "y"
        }
       ],
       "layout": {
        "barmode": "relative",
        "legend": {
         "title": {
          "text": "variable"
         },
         "tracegroupgap": 0
        },
        "margin": {
         "t": 60
        },
        "template": {
         "data": {
          "bar": [
           {
            "error_x": {
             "color": "#2a3f5f"
            },
            "error_y": {
             "color": "#2a3f5f"
            },
            "marker": {
             "line": {
              "color": "#E5ECF6",
              "width": 0.5
             },
             "pattern": {
              "fillmode": "overlay",
              "size": 10,
              "solidity": 0.2
             }
            },
            "type": "bar"
           }
          ],
          "barpolar": [
           {
            "marker": {
             "line": {
              "color": "#E5ECF6",
              "width": 0.5
             },
             "pattern": {
              "fillmode": "overlay",
              "size": 10,
              "solidity": 0.2
             }
            },
            "type": "barpolar"
           }
          ],
          "carpet": [
           {
            "aaxis": {
             "endlinecolor": "#2a3f5f",
             "gridcolor": "white",
             "linecolor": "white",
             "minorgridcolor": "white",
             "startlinecolor": "#2a3f5f"
            },
            "baxis": {
             "endlinecolor": "#2a3f5f",
             "gridcolor": "white",
             "linecolor": "white",
             "minorgridcolor": "white",
             "startlinecolor": "#2a3f5f"
            },
            "type": "carpet"
           }
          ],
          "choropleth": [
           {
            "colorbar": {
             "outlinewidth": 0,
             "ticks": ""
            },
            "type": "choropleth"
           }
          ],
          "contour": [
           {
            "colorbar": {
             "outlinewidth": 0,
             "ticks": ""
            },
            "colorscale": [
             [
              0,
              "#0d0887"
             ],
             [
              0.1111111111111111,
              "#46039f"
             ],
             [
              0.2222222222222222,
              "#7201a8"
             ],
             [
              0.3333333333333333,
              "#9c179e"
             ],
             [
              0.4444444444444444,
              "#bd3786"
             ],
             [
              0.5555555555555556,
              "#d8576b"
             ],
             [
              0.6666666666666666,
              "#ed7953"
             ],
             [
              0.7777777777777778,
              "#fb9f3a"
             ],
             [
              0.8888888888888888,
              "#fdca26"
             ],
             [
              1,
              "#f0f921"
             ]
            ],
            "type": "contour"
           }
          ],
          "contourcarpet": [
           {
            "colorbar": {
             "outlinewidth": 0,
             "ticks": ""
            },
            "type": "contourcarpet"
           }
          ],
          "heatmap": [
           {
            "colorbar": {
             "outlinewidth": 0,
             "ticks": ""
            },
            "colorscale": [
             [
              0,
              "#0d0887"
             ],
             [
              0.1111111111111111,
              "#46039f"
             ],
             [
              0.2222222222222222,
              "#7201a8"
             ],
             [
              0.3333333333333333,
              "#9c179e"
             ],
             [
              0.4444444444444444,
              "#bd3786"
             ],
             [
              0.5555555555555556,
              "#d8576b"
             ],
             [
              0.6666666666666666,
              "#ed7953"
             ],
             [
              0.7777777777777778,
              "#fb9f3a"
             ],
             [
              0.8888888888888888,
              "#fdca26"
             ],
             [
              1,
              "#f0f921"
             ]
            ],
            "type": "heatmap"
           }
          ],
          "histogram": [
           {
            "marker": {
             "pattern": {
              "fillmode": "overlay",
              "size": 10,
              "solidity": 0.2
             }
            },
            "type": "histogram"
           }
          ],
          "histogram2d": [
           {
            "colorbar": {
             "outlinewidth": 0,
             "ticks": ""
            },
            "colorscale": [
             [
              0,
              "#0d0887"
             ],
             [
              0.1111111111111111,
              "#46039f"
             ],
             [
              0.2222222222222222,
              "#7201a8"
             ],
             [
              0.3333333333333333,
              "#9c179e"
             ],
             [
              0.4444444444444444,
              "#bd3786"
             ],
             [
              0.5555555555555556,
              "#d8576b"
             ],
             [
              0.6666666666666666,
              "#ed7953"
             ],
             [
              0.7777777777777778,
              "#fb9f3a"
             ],
             [
              0.8888888888888888,
              "#fdca26"
             ],
             [
              1,
              "#f0f921"
             ]
            ],
            "type": "histogram2d"
           }
          ],
          "histogram2dcontour": [
           {
            "colorbar": {
             "outlinewidth": 0,
             "ticks": ""
            },
            "colorscale": [
             [
              0,
              "#0d0887"
             ],
             [
              0.1111111111111111,
              "#46039f"
             ],
             [
              0.2222222222222222,
              "#7201a8"
             ],
             [
              0.3333333333333333,
              "#9c179e"
             ],
             [
              0.4444444444444444,
              "#bd3786"
             ],
             [
              0.5555555555555556,
              "#d8576b"
             ],
             [
              0.6666666666666666,
              "#ed7953"
             ],
             [
              0.7777777777777778,
              "#fb9f3a"
             ],
             [
              0.8888888888888888,
              "#fdca26"
             ],
             [
              1,
              "#f0f921"
             ]
            ],
            "type": "histogram2dcontour"
           }
          ],
          "mesh3d": [
           {
            "colorbar": {
             "outlinewidth": 0,
             "ticks": ""
            },
            "type": "mesh3d"
           }
          ],
          "parcoords": [
           {
            "line": {
             "colorbar": {
              "outlinewidth": 0,
              "ticks": ""
             }
            },
            "type": "parcoords"
           }
          ],
          "pie": [
           {
            "automargin": true,
            "type": "pie"
           }
          ],
          "scatter": [
           {
            "fillpattern": {
             "fillmode": "overlay",
             "size": 10,
             "solidity": 0.2
            },
            "type": "scatter"
           }
          ],
          "scatter3d": [
           {
            "line": {
             "colorbar": {
              "outlinewidth": 0,
              "ticks": ""
             }
            },
            "marker": {
             "colorbar": {
              "outlinewidth": 0,
              "ticks": ""
             }
            },
            "type": "scatter3d"
           }
          ],
          "scattercarpet": [
           {
            "marker": {
             "colorbar": {
              "outlinewidth": 0,
              "ticks": ""
             }
            },
            "type": "scattercarpet"
           }
          ],
          "scattergeo": [
           {
            "marker": {
             "colorbar": {
              "outlinewidth": 0,
              "ticks": ""
             }
            },
            "type": "scattergeo"
           }
          ],
          "scattergl": [
           {
            "marker": {
             "colorbar": {
              "outlinewidth": 0,
              "ticks": ""
             }
            },
            "type": "scattergl"
           }
          ],
          "scattermap": [
           {
            "marker": {
             "colorbar": {
              "outlinewidth": 0,
              "ticks": ""
             }
            },
            "type": "scattermap"
           }
          ],
          "scattermapbox": [
           {
            "marker": {
             "colorbar": {
              "outlinewidth": 0,
              "ticks": ""
             }
            },
            "type": "scattermapbox"
           }
          ],
          "scatterpolar": [
           {
            "marker": {
             "colorbar": {
              "outlinewidth": 0,
              "ticks": ""
             }
            },
            "type": "scatterpolar"
           }
          ],
          "scatterpolargl": [
           {
            "marker": {
             "colorbar": {
              "outlinewidth": 0,
              "ticks": ""
             }
            },
            "type": "scatterpolargl"
           }
          ],
          "scatterternary": [
           {
            "marker": {
             "colorbar": {
              "outlinewidth": 0,
              "ticks": ""
             }
            },
            "type": "scatterternary"
           }
          ],
          "surface": [
           {
            "colorbar": {
             "outlinewidth": 0,
             "ticks": ""
            },
            "colorscale": [
             [
              0,
              "#0d0887"
             ],
             [
              0.1111111111111111,
              "#46039f"
             ],
             [
              0.2222222222222222,
              "#7201a8"
             ],
             [
              0.3333333333333333,
              "#9c179e"
             ],
             [
              0.4444444444444444,
              "#bd3786"
             ],
             [
              0.5555555555555556,
              "#d8576b"
             ],
             [
              0.6666666666666666,
              "#ed7953"
             ],
             [
              0.7777777777777778,
              "#fb9f3a"
             ],
             [
              0.8888888888888888,
              "#fdca26"
             ],
             [
              1,
              "#f0f921"
             ]
            ],
            "type": "surface"
           }
          ],
          "table": [
           {
            "cells": {
             "fill": {
              "color": "#EBF0F8"
             },
             "line": {
              "color": "white"
             }
            },
            "header": {
             "fill": {
              "color": "#C8D4E3"
             },
             "line": {
              "color": "white"
             }
            },
            "type": "table"
           }
          ]
         },
         "layout": {
          "annotationdefaults": {
           "arrowcolor": "#2a3f5f",
           "arrowhead": 0,
           "arrowwidth": 1
          },
          "autotypenumbers": "strict",
          "coloraxis": {
           "colorbar": {
            "outlinewidth": 0,
            "ticks": ""
           }
          },
          "colorscale": {
           "diverging": [
            [
             0,
             "#8e0152"
            ],
            [
             0.1,
             "#c51b7d"
            ],
            [
             0.2,
             "#de77ae"
            ],
            [
             0.3,
             "#f1b6da"
            ],
            [
             0.4,
             "#fde0ef"
            ],
            [
             0.5,
             "#f7f7f7"
            ],
            [
             0.6,
             "#e6f5d0"
            ],
            [
             0.7,
             "#b8e186"
            ],
            [
             0.8,
             "#7fbc41"
            ],
            [
             0.9,
             "#4d9221"
            ],
            [
             1,
             "#276419"
            ]
           ],
           "sequential": [
            [
             0,
             "#0d0887"
            ],
            [
             0.1111111111111111,
             "#46039f"
            ],
            [
             0.2222222222222222,
             "#7201a8"
            ],
            [
             0.3333333333333333,
             "#9c179e"
            ],
            [
             0.4444444444444444,
             "#bd3786"
            ],
            [
             0.5555555555555556,
             "#d8576b"
            ],
            [
             0.6666666666666666,
             "#ed7953"
            ],
            [
             0.7777777777777778,
             "#fb9f3a"
            ],
            [
             0.8888888888888888,
             "#fdca26"
            ],
            [
             1,
             "#f0f921"
            ]
           ],
           "sequentialminus": [
            [
             0,
             "#0d0887"
            ],
            [
             0.1111111111111111,
             "#46039f"
            ],
            [
             0.2222222222222222,
             "#7201a8"
            ],
            [
             0.3333333333333333,
             "#9c179e"
            ],
            [
             0.4444444444444444,
             "#bd3786"
            ],
            [
             0.5555555555555556,
             "#d8576b"
            ],
            [
             0.6666666666666666,
             "#ed7953"
            ],
            [
             0.7777777777777778,
             "#fb9f3a"
            ],
            [
             0.8888888888888888,
             "#fdca26"
            ],
            [
             1,
             "#f0f921"
            ]
           ]
          },
          "colorway": [
           "#636efa",
           "#EF553B",
           "#00cc96",
           "#ab63fa",
           "#FFA15A",
           "#19d3f3",
           "#FF6692",
           "#B6E880",
           "#FF97FF",
           "#FECB52"
          ],
          "font": {
           "color": "#2a3f5f"
          },
          "geo": {
           "bgcolor": "white",
           "lakecolor": "white",
           "landcolor": "#E5ECF6",
           "showlakes": true,
           "showland": true,
           "subunitcolor": "white"
          },
          "hoverlabel": {
           "align": "left"
          },
          "hovermode": "closest",
          "mapbox": {
           "style": "light"
          },
          "paper_bgcolor": "white",
          "plot_bgcolor": "#E5ECF6",
          "polar": {
           "angularaxis": {
            "gridcolor": "white",
            "linecolor": "white",
            "ticks": ""
           },
           "bgcolor": "#E5ECF6",
           "radialaxis": {
            "gridcolor": "white",
            "linecolor": "white",
            "ticks": ""
           }
          },
          "scene": {
           "xaxis": {
            "backgroundcolor": "#E5ECF6",
            "gridcolor": "white",
            "gridwidth": 2,
            "linecolor": "white",
            "showbackground": true,
            "ticks": "",
            "zerolinecolor": "white"
           },
           "yaxis": {
            "backgroundcolor": "#E5ECF6",
            "gridcolor": "white",
            "gridwidth": 2,
            "linecolor": "white",
            "showbackground": true,
            "ticks": "",
            "zerolinecolor": "white"
           },
           "zaxis": {
            "backgroundcolor": "#E5ECF6",
            "gridcolor": "white",
            "gridwidth": 2,
            "linecolor": "white",
            "showbackground": true,
            "ticks": "",
            "zerolinecolor": "white"
           }
          },
          "shapedefaults": {
           "line": {
            "color": "#2a3f5f"
           }
          },
          "ternary": {
           "aaxis": {
            "gridcolor": "white",
            "linecolor": "white",
            "ticks": ""
           },
           "baxis": {
            "gridcolor": "white",
            "linecolor": "white",
            "ticks": ""
           },
           "bgcolor": "#E5ECF6",
           "caxis": {
            "gridcolor": "white",
            "linecolor": "white",
            "ticks": ""
           }
          },
          "title": {
           "x": 0.05
          },
          "xaxis": {
           "automargin": true,
           "gridcolor": "white",
           "linecolor": "white",
           "ticks": "",
           "title": {
            "standoff": 15
           },
           "zerolinecolor": "white",
           "zerolinewidth": 2
          },
          "yaxis": {
           "automargin": true,
           "gridcolor": "white",
           "linecolor": "white",
           "ticks": "",
           "title": {
            "standoff": 15
           },
           "zerolinecolor": "white",
           "zerolinewidth": 2
          }
         }
        },
        "title": {
         "text": "Посещений в дни недели",
         "x": 0.5
        },
        "xaxis": {
         "anchor": "y",
         "domain": [
          0,
          1
         ],
         "title": {
          "text": "days_per_week"
         }
        },
        "yaxis": {
         "anchor": "x",
         "domain": [
          0,
          1
         ],
         "title": {
          "text": "value"
         }
        }
       }
      },
      "text/html": [
       "<div>            <script src=\"https://cdnjs.cloudflare.com/ajax/libs/mathjax/2.7.5/MathJax.js?config=TeX-AMS-MML_SVG\"></script><script type=\"text/javascript\">if (window.MathJax && window.MathJax.Hub && window.MathJax.Hub.Config) {window.MathJax.Hub.Config({SVG: {font: \"STIX-Web\"}});}</script>                <script type=\"text/javascript\">window.PlotlyConfig = {MathJaxConfig: 'local'};</script>\n",
       "        <script charset=\"utf-8\" src=\"https://cdn.plot.ly/plotly-3.0.1.min.js\"></script>                <div id=\"9631bdef-7a76-4ad9-a16f-044d6da93936\" class=\"plotly-graph-div\" style=\"height:525px; width:100%;\"></div>            <script type=\"text/javascript\">                window.PLOTLYENV=window.PLOTLYENV || {};                                if (document.getElementById(\"9631bdef-7a76-4ad9-a16f-044d6da93936\")) {                    Plotly.newPlot(                        \"9631bdef-7a76-4ad9-a16f-044d6da93936\",                        [{\"hovertemplate\":\"variable=count\\u003cbr\\u003edays_per_week=%{x}\\u003cbr\\u003evalue=%{y}\\u003cextra\\u003e\\u003c\\u002fextra\\u003e\",\"legendgroup\":\"count\",\"marker\":{\"color\":\"#636efa\",\"pattern\":{\"shape\":\"\"}},\"name\":\"count\",\"orientation\":\"v\",\"showlegend\":true,\"textposition\":\"auto\",\"x\":[\"Mon\",\"Tue\",\"Wed\",\"Thu\",\"Fri\",\"Sat\",\"Sun\"],\"xaxis\":\"x\",\"y\":{\"dtype\":\"i2\",\"bdata\":\"XQGHAZABewF4AXwBlwE=\"},\"yaxis\":\"y\",\"type\":\"bar\"}],                        {\"template\":{\"data\":{\"histogram2dcontour\":[{\"type\":\"histogram2dcontour\",\"colorbar\":{\"outlinewidth\":0,\"ticks\":\"\"},\"colorscale\":[[0.0,\"#0d0887\"],[0.1111111111111111,\"#46039f\"],[0.2222222222222222,\"#7201a8\"],[0.3333333333333333,\"#9c179e\"],[0.4444444444444444,\"#bd3786\"],[0.5555555555555556,\"#d8576b\"],[0.6666666666666666,\"#ed7953\"],[0.7777777777777778,\"#fb9f3a\"],[0.8888888888888888,\"#fdca26\"],[1.0,\"#f0f921\"]]}],\"choropleth\":[{\"type\":\"choropleth\",\"colorbar\":{\"outlinewidth\":0,\"ticks\":\"\"}}],\"histogram2d\":[{\"type\":\"histogram2d\",\"colorbar\":{\"outlinewidth\":0,\"ticks\":\"\"},\"colorscale\":[[0.0,\"#0d0887\"],[0.1111111111111111,\"#46039f\"],[0.2222222222222222,\"#7201a8\"],[0.3333333333333333,\"#9c179e\"],[0.4444444444444444,\"#bd3786\"],[0.5555555555555556,\"#d8576b\"],[0.6666666666666666,\"#ed7953\"],[0.7777777777777778,\"#fb9f3a\"],[0.8888888888888888,\"#fdca26\"],[1.0,\"#f0f921\"]]}],\"heatmap\":[{\"type\":\"heatmap\",\"colorbar\":{\"outlinewidth\":0,\"ticks\":\"\"},\"colorscale\":[[0.0,\"#0d0887\"],[0.1111111111111111,\"#46039f\"],[0.2222222222222222,\"#7201a8\"],[0.3333333333333333,\"#9c179e\"],[0.4444444444444444,\"#bd3786\"],[0.5555555555555556,\"#d8576b\"],[0.6666666666666666,\"#ed7953\"],[0.7777777777777778,\"#fb9f3a\"],[0.8888888888888888,\"#fdca26\"],[1.0,\"#f0f921\"]]}],\"contourcarpet\":[{\"type\":\"contourcarpet\",\"colorbar\":{\"outlinewidth\":0,\"ticks\":\"\"}}],\"contour\":[{\"type\":\"contour\",\"colorbar\":{\"outlinewidth\":0,\"ticks\":\"\"},\"colorscale\":[[0.0,\"#0d0887\"],[0.1111111111111111,\"#46039f\"],[0.2222222222222222,\"#7201a8\"],[0.3333333333333333,\"#9c179e\"],[0.4444444444444444,\"#bd3786\"],[0.5555555555555556,\"#d8576b\"],[0.6666666666666666,\"#ed7953\"],[0.7777777777777778,\"#fb9f3a\"],[0.8888888888888888,\"#fdca26\"],[1.0,\"#f0f921\"]]}],\"surface\":[{\"type\":\"surface\",\"colorbar\":{\"outlinewidth\":0,\"ticks\":\"\"},\"colorscale\":[[0.0,\"#0d0887\"],[0.1111111111111111,\"#46039f\"],[0.2222222222222222,\"#7201a8\"],[0.3333333333333333,\"#9c179e\"],[0.4444444444444444,\"#bd3786\"],[0.5555555555555556,\"#d8576b\"],[0.6666666666666666,\"#ed7953\"],[0.7777777777777778,\"#fb9f3a\"],[0.8888888888888888,\"#fdca26\"],[1.0,\"#f0f921\"]]}],\"mesh3d\":[{\"type\":\"mesh3d\",\"colorbar\":{\"outlinewidth\":0,\"ticks\":\"\"}}],\"scatter\":[{\"fillpattern\":{\"fillmode\":\"overlay\",\"size\":10,\"solidity\":0.2},\"type\":\"scatter\"}],\"parcoords\":[{\"type\":\"parcoords\",\"line\":{\"colorbar\":{\"outlinewidth\":0,\"ticks\":\"\"}}}],\"scatterpolargl\":[{\"type\":\"scatterpolargl\",\"marker\":{\"colorbar\":{\"outlinewidth\":0,\"ticks\":\"\"}}}],\"bar\":[{\"error_x\":{\"color\":\"#2a3f5f\"},\"error_y\":{\"color\":\"#2a3f5f\"},\"marker\":{\"line\":{\"color\":\"#E5ECF6\",\"width\":0.5},\"pattern\":{\"fillmode\":\"overlay\",\"size\":10,\"solidity\":0.2}},\"type\":\"bar\"}],\"scattergeo\":[{\"type\":\"scattergeo\",\"marker\":{\"colorbar\":{\"outlinewidth\":0,\"ticks\":\"\"}}}],\"scatterpolar\":[{\"type\":\"scatterpolar\",\"marker\":{\"colorbar\":{\"outlinewidth\":0,\"ticks\":\"\"}}}],\"histogram\":[{\"marker\":{\"pattern\":{\"fillmode\":\"overlay\",\"size\":10,\"solidity\":0.2}},\"type\":\"histogram\"}],\"scattergl\":[{\"type\":\"scattergl\",\"marker\":{\"colorbar\":{\"outlinewidth\":0,\"ticks\":\"\"}}}],\"scatter3d\":[{\"type\":\"scatter3d\",\"line\":{\"colorbar\":{\"outlinewidth\":0,\"ticks\":\"\"}},\"marker\":{\"colorbar\":{\"outlinewidth\":0,\"ticks\":\"\"}}}],\"scattermap\":[{\"type\":\"scattermap\",\"marker\":{\"colorbar\":{\"outlinewidth\":0,\"ticks\":\"\"}}}],\"scattermapbox\":[{\"type\":\"scattermapbox\",\"marker\":{\"colorbar\":{\"outlinewidth\":0,\"ticks\":\"\"}}}],\"scatterternary\":[{\"type\":\"scatterternary\",\"marker\":{\"colorbar\":{\"outlinewidth\":0,\"ticks\":\"\"}}}],\"scattercarpet\":[{\"type\":\"scattercarpet\",\"marker\":{\"colorbar\":{\"outlinewidth\":0,\"ticks\":\"\"}}}],\"carpet\":[{\"aaxis\":{\"endlinecolor\":\"#2a3f5f\",\"gridcolor\":\"white\",\"linecolor\":\"white\",\"minorgridcolor\":\"white\",\"startlinecolor\":\"#2a3f5f\"},\"baxis\":{\"endlinecolor\":\"#2a3f5f\",\"gridcolor\":\"white\",\"linecolor\":\"white\",\"minorgridcolor\":\"white\",\"startlinecolor\":\"#2a3f5f\"},\"type\":\"carpet\"}],\"table\":[{\"cells\":{\"fill\":{\"color\":\"#EBF0F8\"},\"line\":{\"color\":\"white\"}},\"header\":{\"fill\":{\"color\":\"#C8D4E3\"},\"line\":{\"color\":\"white\"}},\"type\":\"table\"}],\"barpolar\":[{\"marker\":{\"line\":{\"color\":\"#E5ECF6\",\"width\":0.5},\"pattern\":{\"fillmode\":\"overlay\",\"size\":10,\"solidity\":0.2}},\"type\":\"barpolar\"}],\"pie\":[{\"automargin\":true,\"type\":\"pie\"}]},\"layout\":{\"autotypenumbers\":\"strict\",\"colorway\":[\"#636efa\",\"#EF553B\",\"#00cc96\",\"#ab63fa\",\"#FFA15A\",\"#19d3f3\",\"#FF6692\",\"#B6E880\",\"#FF97FF\",\"#FECB52\"],\"font\":{\"color\":\"#2a3f5f\"},\"hovermode\":\"closest\",\"hoverlabel\":{\"align\":\"left\"},\"paper_bgcolor\":\"white\",\"plot_bgcolor\":\"#E5ECF6\",\"polar\":{\"bgcolor\":\"#E5ECF6\",\"angularaxis\":{\"gridcolor\":\"white\",\"linecolor\":\"white\",\"ticks\":\"\"},\"radialaxis\":{\"gridcolor\":\"white\",\"linecolor\":\"white\",\"ticks\":\"\"}},\"ternary\":{\"bgcolor\":\"#E5ECF6\",\"aaxis\":{\"gridcolor\":\"white\",\"linecolor\":\"white\",\"ticks\":\"\"},\"baxis\":{\"gridcolor\":\"white\",\"linecolor\":\"white\",\"ticks\":\"\"},\"caxis\":{\"gridcolor\":\"white\",\"linecolor\":\"white\",\"ticks\":\"\"}},\"coloraxis\":{\"colorbar\":{\"outlinewidth\":0,\"ticks\":\"\"}},\"colorscale\":{\"sequential\":[[0.0,\"#0d0887\"],[0.1111111111111111,\"#46039f\"],[0.2222222222222222,\"#7201a8\"],[0.3333333333333333,\"#9c179e\"],[0.4444444444444444,\"#bd3786\"],[0.5555555555555556,\"#d8576b\"],[0.6666666666666666,\"#ed7953\"],[0.7777777777777778,\"#fb9f3a\"],[0.8888888888888888,\"#fdca26\"],[1.0,\"#f0f921\"]],\"sequentialminus\":[[0.0,\"#0d0887\"],[0.1111111111111111,\"#46039f\"],[0.2222222222222222,\"#7201a8\"],[0.3333333333333333,\"#9c179e\"],[0.4444444444444444,\"#bd3786\"],[0.5555555555555556,\"#d8576b\"],[0.6666666666666666,\"#ed7953\"],[0.7777777777777778,\"#fb9f3a\"],[0.8888888888888888,\"#fdca26\"],[1.0,\"#f0f921\"]],\"diverging\":[[0,\"#8e0152\"],[0.1,\"#c51b7d\"],[0.2,\"#de77ae\"],[0.3,\"#f1b6da\"],[0.4,\"#fde0ef\"],[0.5,\"#f7f7f7\"],[0.6,\"#e6f5d0\"],[0.7,\"#b8e186\"],[0.8,\"#7fbc41\"],[0.9,\"#4d9221\"],[1,\"#276419\"]]},\"xaxis\":{\"gridcolor\":\"white\",\"linecolor\":\"white\",\"ticks\":\"\",\"title\":{\"standoff\":15},\"zerolinecolor\":\"white\",\"automargin\":true,\"zerolinewidth\":2},\"yaxis\":{\"gridcolor\":\"white\",\"linecolor\":\"white\",\"ticks\":\"\",\"title\":{\"standoff\":15},\"zerolinecolor\":\"white\",\"automargin\":true,\"zerolinewidth\":2},\"scene\":{\"xaxis\":{\"backgroundcolor\":\"#E5ECF6\",\"gridcolor\":\"white\",\"linecolor\":\"white\",\"showbackground\":true,\"ticks\":\"\",\"zerolinecolor\":\"white\",\"gridwidth\":2},\"yaxis\":{\"backgroundcolor\":\"#E5ECF6\",\"gridcolor\":\"white\",\"linecolor\":\"white\",\"showbackground\":true,\"ticks\":\"\",\"zerolinecolor\":\"white\",\"gridwidth\":2},\"zaxis\":{\"backgroundcolor\":\"#E5ECF6\",\"gridcolor\":\"white\",\"linecolor\":\"white\",\"showbackground\":true,\"ticks\":\"\",\"zerolinecolor\":\"white\",\"gridwidth\":2}},\"shapedefaults\":{\"line\":{\"color\":\"#2a3f5f\"}},\"annotationdefaults\":{\"arrowcolor\":\"#2a3f5f\",\"arrowhead\":0,\"arrowwidth\":1},\"geo\":{\"bgcolor\":\"white\",\"landcolor\":\"#E5ECF6\",\"subunitcolor\":\"white\",\"showland\":true,\"showlakes\":true,\"lakecolor\":\"white\"},\"title\":{\"x\":0.05},\"mapbox\":{\"style\":\"light\"}}},\"xaxis\":{\"anchor\":\"y\",\"domain\":[0.0,1.0],\"title\":{\"text\":\"days_per_week\"}},\"yaxis\":{\"anchor\":\"x\",\"domain\":[0.0,1.0],\"title\":{\"text\":\"value\"}},\"legend\":{\"title\":{\"text\":\"variable\"},\"tracegroupgap\":0},\"margin\":{\"t\":60},\"barmode\":\"relative\",\"title\":{\"text\":\"\\u041f\\u043e\\u0441\\u0435\\u0449\\u0435\\u043d\\u0438\\u0439 \\u0432 \\u0434\\u043d\\u0438 \\u043d\\u0435\\u0434\\u0435\\u043b\\u0438\",\"x\":0.5}},                        {\"responsive\": true}                    ).then(function(){\n",
       "                            \n",
       "var gd = document.getElementById('9631bdef-7a76-4ad9-a16f-044d6da93936');\n",
       "var x = new MutationObserver(function (mutations, observer) {{\n",
       "        var display = window.getComputedStyle(gd).display;\n",
       "        if (!display || display === 'none') {{\n",
       "            console.log([gd, 'removed!']);\n",
       "            Plotly.purge(gd);\n",
       "            observer.disconnect();\n",
       "        }}\n",
       "}});\n",
       "\n",
       "// Listen for the removal of the full notebook cells\n",
       "var notebookContainer = gd.closest('#notebook-container');\n",
       "if (notebookContainer) {{\n",
       "    x.observe(notebookContainer, {childList: true});\n",
       "}}\n",
       "\n",
       "// Listen for the clearing of the current output cell\n",
       "var outputEl = gd.closest('.output');\n",
       "if (outputEl) {{\n",
       "    x.observe(outputEl, {childList: true});\n",
       "}}\n",
       "\n",
       "                        })                };            </script>        </div>"
      ]
     },
     "metadata": {},
     "output_type": "display_data"
    }
   ],
   "source": [
    "days = df['days_per_week'].str.split(', ').explode()\n",
    "days = days.value_counts().reindex(index = ['Mon', 'Tue', 'Wed', 'Thu', 'Fri', 'Sat', 'Sun'])\n",
    "\n",
    "fig = px.bar(data_frame=days)\n",
    "fig.update_layout(title='Посещений в дни недели', title_x= 0.5)"
   ]
  },
  {
   "cell_type": "code",
   "execution_count": 15,
   "id": "bfcb88f5",
   "metadata": {},
   "outputs": [
    {
     "data": {
      "application/vnd.plotly.v1+json": {
       "config": {
        "plotlyServerURL": "https://plot.ly"
       },
       "data": [
        {
         "hovertemplate": "abonement_type=Premium<br>variable=%{x}<br>value=%{y}<extra></extra>",
         "legendgroup": "",
         "marker": {
          "color": "#636efa",
          "pattern": {
           "shape": ""
          }
         },
         "name": "",
         "orientation": "v",
         "showlegend": false,
         "textposition": "auto",
         "texttemplate": "%{y}",
         "type": "bar",
         "x": [
          "Mon",
          "Tue",
          "Wed",
          "Thu",
          "Fri",
          "Sat",
          "Sun"
         ],
         "xaxis": "x",
         "y": {
          "bdata": "tADDAMAAtgC6AMgAvAA=",
          "dtype": "i2"
         },
         "yaxis": "y"
        },
        {
         "hovertemplate": "abonement_type=Standard<br>variable=%{x}<br>value=%{y}<extra></extra>",
         "legendgroup": "",
         "marker": {
          "color": "#636efa",
          "pattern": {
           "shape": ""
          }
         },
         "name": "",
         "orientation": "v",
         "showlegend": false,
         "textposition": "auto",
         "texttemplate": "%{y}",
         "type": "bar",
         "x": [
          "Mon",
          "Tue",
          "Wed",
          "Thu",
          "Fri",
          "Sat",
          "Sun"
         ],
         "xaxis": "x2",
         "y": {
          "bdata": "qQDEANAAxQC+ALQA2wA=",
          "dtype": "i2"
         },
         "yaxis": "y2"
        }
       ],
       "layout": {
        "annotations": [
         {
          "font": {},
          "showarrow": false,
          "text": "abonement_type=Premium",
          "x": 0.245,
          "xanchor": "center",
          "xref": "paper",
          "y": 1,
          "yanchor": "bottom",
          "yref": "paper"
         },
         {
          "font": {},
          "showarrow": false,
          "text": "abonement_type=Standard",
          "x": 0.755,
          "xanchor": "center",
          "xref": "paper",
          "y": 1,
          "yanchor": "bottom",
          "yref": "paper"
         }
        ],
        "barmode": "relative",
        "legend": {
         "tracegroupgap": 0
        },
        "margin": {
         "t": 60
        },
        "template": {
         "data": {
          "bar": [
           {
            "error_x": {
             "color": "#2a3f5f"
            },
            "error_y": {
             "color": "#2a3f5f"
            },
            "marker": {
             "line": {
              "color": "#E5ECF6",
              "width": 0.5
             },
             "pattern": {
              "fillmode": "overlay",
              "size": 10,
              "solidity": 0.2
             }
            },
            "type": "bar"
           }
          ],
          "barpolar": [
           {
            "marker": {
             "line": {
              "color": "#E5ECF6",
              "width": 0.5
             },
             "pattern": {
              "fillmode": "overlay",
              "size": 10,
              "solidity": 0.2
             }
            },
            "type": "barpolar"
           }
          ],
          "carpet": [
           {
            "aaxis": {
             "endlinecolor": "#2a3f5f",
             "gridcolor": "white",
             "linecolor": "white",
             "minorgridcolor": "white",
             "startlinecolor": "#2a3f5f"
            },
            "baxis": {
             "endlinecolor": "#2a3f5f",
             "gridcolor": "white",
             "linecolor": "white",
             "minorgridcolor": "white",
             "startlinecolor": "#2a3f5f"
            },
            "type": "carpet"
           }
          ],
          "choropleth": [
           {
            "colorbar": {
             "outlinewidth": 0,
             "ticks": ""
            },
            "type": "choropleth"
           }
          ],
          "contour": [
           {
            "colorbar": {
             "outlinewidth": 0,
             "ticks": ""
            },
            "colorscale": [
             [
              0,
              "#0d0887"
             ],
             [
              0.1111111111111111,
              "#46039f"
             ],
             [
              0.2222222222222222,
              "#7201a8"
             ],
             [
              0.3333333333333333,
              "#9c179e"
             ],
             [
              0.4444444444444444,
              "#bd3786"
             ],
             [
              0.5555555555555556,
              "#d8576b"
             ],
             [
              0.6666666666666666,
              "#ed7953"
             ],
             [
              0.7777777777777778,
              "#fb9f3a"
             ],
             [
              0.8888888888888888,
              "#fdca26"
             ],
             [
              1,
              "#f0f921"
             ]
            ],
            "type": "contour"
           }
          ],
          "contourcarpet": [
           {
            "colorbar": {
             "outlinewidth": 0,
             "ticks": ""
            },
            "type": "contourcarpet"
           }
          ],
          "heatmap": [
           {
            "colorbar": {
             "outlinewidth": 0,
             "ticks": ""
            },
            "colorscale": [
             [
              0,
              "#0d0887"
             ],
             [
              0.1111111111111111,
              "#46039f"
             ],
             [
              0.2222222222222222,
              "#7201a8"
             ],
             [
              0.3333333333333333,
              "#9c179e"
             ],
             [
              0.4444444444444444,
              "#bd3786"
             ],
             [
              0.5555555555555556,
              "#d8576b"
             ],
             [
              0.6666666666666666,
              "#ed7953"
             ],
             [
              0.7777777777777778,
              "#fb9f3a"
             ],
             [
              0.8888888888888888,
              "#fdca26"
             ],
             [
              1,
              "#f0f921"
             ]
            ],
            "type": "heatmap"
           }
          ],
          "histogram": [
           {
            "marker": {
             "pattern": {
              "fillmode": "overlay",
              "size": 10,
              "solidity": 0.2
             }
            },
            "type": "histogram"
           }
          ],
          "histogram2d": [
           {
            "colorbar": {
             "outlinewidth": 0,
             "ticks": ""
            },
            "colorscale": [
             [
              0,
              "#0d0887"
             ],
             [
              0.1111111111111111,
              "#46039f"
             ],
             [
              0.2222222222222222,
              "#7201a8"
             ],
             [
              0.3333333333333333,
              "#9c179e"
             ],
             [
              0.4444444444444444,
              "#bd3786"
             ],
             [
              0.5555555555555556,
              "#d8576b"
             ],
             [
              0.6666666666666666,
              "#ed7953"
             ],
             [
              0.7777777777777778,
              "#fb9f3a"
             ],
             [
              0.8888888888888888,
              "#fdca26"
             ],
             [
              1,
              "#f0f921"
             ]
            ],
            "type": "histogram2d"
           }
          ],
          "histogram2dcontour": [
           {
            "colorbar": {
             "outlinewidth": 0,
             "ticks": ""
            },
            "colorscale": [
             [
              0,
              "#0d0887"
             ],
             [
              0.1111111111111111,
              "#46039f"
             ],
             [
              0.2222222222222222,
              "#7201a8"
             ],
             [
              0.3333333333333333,
              "#9c179e"
             ],
             [
              0.4444444444444444,
              "#bd3786"
             ],
             [
              0.5555555555555556,
              "#d8576b"
             ],
             [
              0.6666666666666666,
              "#ed7953"
             ],
             [
              0.7777777777777778,
              "#fb9f3a"
             ],
             [
              0.8888888888888888,
              "#fdca26"
             ],
             [
              1,
              "#f0f921"
             ]
            ],
            "type": "histogram2dcontour"
           }
          ],
          "mesh3d": [
           {
            "colorbar": {
             "outlinewidth": 0,
             "ticks": ""
            },
            "type": "mesh3d"
           }
          ],
          "parcoords": [
           {
            "line": {
             "colorbar": {
              "outlinewidth": 0,
              "ticks": ""
             }
            },
            "type": "parcoords"
           }
          ],
          "pie": [
           {
            "automargin": true,
            "type": "pie"
           }
          ],
          "scatter": [
           {
            "fillpattern": {
             "fillmode": "overlay",
             "size": 10,
             "solidity": 0.2
            },
            "type": "scatter"
           }
          ],
          "scatter3d": [
           {
            "line": {
             "colorbar": {
              "outlinewidth": 0,
              "ticks": ""
             }
            },
            "marker": {
             "colorbar": {
              "outlinewidth": 0,
              "ticks": ""
             }
            },
            "type": "scatter3d"
           }
          ],
          "scattercarpet": [
           {
            "marker": {
             "colorbar": {
              "outlinewidth": 0,
              "ticks": ""
             }
            },
            "type": "scattercarpet"
           }
          ],
          "scattergeo": [
           {
            "marker": {
             "colorbar": {
              "outlinewidth": 0,
              "ticks": ""
             }
            },
            "type": "scattergeo"
           }
          ],
          "scattergl": [
           {
            "marker": {
             "colorbar": {
              "outlinewidth": 0,
              "ticks": ""
             }
            },
            "type": "scattergl"
           }
          ],
          "scattermap": [
           {
            "marker": {
             "colorbar": {
              "outlinewidth": 0,
              "ticks": ""
             }
            },
            "type": "scattermap"
           }
          ],
          "scattermapbox": [
           {
            "marker": {
             "colorbar": {
              "outlinewidth": 0,
              "ticks": ""
             }
            },
            "type": "scattermapbox"
           }
          ],
          "scatterpolar": [
           {
            "marker": {
             "colorbar": {
              "outlinewidth": 0,
              "ticks": ""
             }
            },
            "type": "scatterpolar"
           }
          ],
          "scatterpolargl": [
           {
            "marker": {
             "colorbar": {
              "outlinewidth": 0,
              "ticks": ""
             }
            },
            "type": "scatterpolargl"
           }
          ],
          "scatterternary": [
           {
            "marker": {
             "colorbar": {
              "outlinewidth": 0,
              "ticks": ""
             }
            },
            "type": "scatterternary"
           }
          ],
          "surface": [
           {
            "colorbar": {
             "outlinewidth": 0,
             "ticks": ""
            },
            "colorscale": [
             [
              0,
              "#0d0887"
             ],
             [
              0.1111111111111111,
              "#46039f"
             ],
             [
              0.2222222222222222,
              "#7201a8"
             ],
             [
              0.3333333333333333,
              "#9c179e"
             ],
             [
              0.4444444444444444,
              "#bd3786"
             ],
             [
              0.5555555555555556,
              "#d8576b"
             ],
             [
              0.6666666666666666,
              "#ed7953"
             ],
             [
              0.7777777777777778,
              "#fb9f3a"
             ],
             [
              0.8888888888888888,
              "#fdca26"
             ],
             [
              1,
              "#f0f921"
             ]
            ],
            "type": "surface"
           }
          ],
          "table": [
           {
            "cells": {
             "fill": {
              "color": "#EBF0F8"
             },
             "line": {
              "color": "white"
             }
            },
            "header": {
             "fill": {
              "color": "#C8D4E3"
             },
             "line": {
              "color": "white"
             }
            },
            "type": "table"
           }
          ]
         },
         "layout": {
          "annotationdefaults": {
           "arrowcolor": "#2a3f5f",
           "arrowhead": 0,
           "arrowwidth": 1
          },
          "autotypenumbers": "strict",
          "coloraxis": {
           "colorbar": {
            "outlinewidth": 0,
            "ticks": ""
           }
          },
          "colorscale": {
           "diverging": [
            [
             0,
             "#8e0152"
            ],
            [
             0.1,
             "#c51b7d"
            ],
            [
             0.2,
             "#de77ae"
            ],
            [
             0.3,
             "#f1b6da"
            ],
            [
             0.4,
             "#fde0ef"
            ],
            [
             0.5,
             "#f7f7f7"
            ],
            [
             0.6,
             "#e6f5d0"
            ],
            [
             0.7,
             "#b8e186"
            ],
            [
             0.8,
             "#7fbc41"
            ],
            [
             0.9,
             "#4d9221"
            ],
            [
             1,
             "#276419"
            ]
           ],
           "sequential": [
            [
             0,
             "#0d0887"
            ],
            [
             0.1111111111111111,
             "#46039f"
            ],
            [
             0.2222222222222222,
             "#7201a8"
            ],
            [
             0.3333333333333333,
             "#9c179e"
            ],
            [
             0.4444444444444444,
             "#bd3786"
            ],
            [
             0.5555555555555556,
             "#d8576b"
            ],
            [
             0.6666666666666666,
             "#ed7953"
            ],
            [
             0.7777777777777778,
             "#fb9f3a"
            ],
            [
             0.8888888888888888,
             "#fdca26"
            ],
            [
             1,
             "#f0f921"
            ]
           ],
           "sequentialminus": [
            [
             0,
             "#0d0887"
            ],
            [
             0.1111111111111111,
             "#46039f"
            ],
            [
             0.2222222222222222,
             "#7201a8"
            ],
            [
             0.3333333333333333,
             "#9c179e"
            ],
            [
             0.4444444444444444,
             "#bd3786"
            ],
            [
             0.5555555555555556,
             "#d8576b"
            ],
            [
             0.6666666666666666,
             "#ed7953"
            ],
            [
             0.7777777777777778,
             "#fb9f3a"
            ],
            [
             0.8888888888888888,
             "#fdca26"
            ],
            [
             1,
             "#f0f921"
            ]
           ]
          },
          "colorway": [
           "#636efa",
           "#EF553B",
           "#00cc96",
           "#ab63fa",
           "#FFA15A",
           "#19d3f3",
           "#FF6692",
           "#B6E880",
           "#FF97FF",
           "#FECB52"
          ],
          "font": {
           "color": "#2a3f5f"
          },
          "geo": {
           "bgcolor": "white",
           "lakecolor": "white",
           "landcolor": "#E5ECF6",
           "showlakes": true,
           "showland": true,
           "subunitcolor": "white"
          },
          "hoverlabel": {
           "align": "left"
          },
          "hovermode": "closest",
          "mapbox": {
           "style": "light"
          },
          "paper_bgcolor": "white",
          "plot_bgcolor": "#E5ECF6",
          "polar": {
           "angularaxis": {
            "gridcolor": "white",
            "linecolor": "white",
            "ticks": ""
           },
           "bgcolor": "#E5ECF6",
           "radialaxis": {
            "gridcolor": "white",
            "linecolor": "white",
            "ticks": ""
           }
          },
          "scene": {
           "xaxis": {
            "backgroundcolor": "#E5ECF6",
            "gridcolor": "white",
            "gridwidth": 2,
            "linecolor": "white",
            "showbackground": true,
            "ticks": "",
            "zerolinecolor": "white"
           },
           "yaxis": {
            "backgroundcolor": "#E5ECF6",
            "gridcolor": "white",
            "gridwidth": 2,
            "linecolor": "white",
            "showbackground": true,
            "ticks": "",
            "zerolinecolor": "white"
           },
           "zaxis": {
            "backgroundcolor": "#E5ECF6",
            "gridcolor": "white",
            "gridwidth": 2,
            "linecolor": "white",
            "showbackground": true,
            "ticks": "",
            "zerolinecolor": "white"
           }
          },
          "shapedefaults": {
           "line": {
            "color": "#2a3f5f"
           }
          },
          "ternary": {
           "aaxis": {
            "gridcolor": "white",
            "linecolor": "white",
            "ticks": ""
           },
           "baxis": {
            "gridcolor": "white",
            "linecolor": "white",
            "ticks": ""
           },
           "bgcolor": "#E5ECF6",
           "caxis": {
            "gridcolor": "white",
            "linecolor": "white",
            "ticks": ""
           }
          },
          "title": {
           "x": 0.05
          },
          "xaxis": {
           "automargin": true,
           "gridcolor": "white",
           "linecolor": "white",
           "ticks": "",
           "title": {
            "standoff": 15
           },
           "zerolinecolor": "white",
           "zerolinewidth": 2
          },
          "yaxis": {
           "automargin": true,
           "gridcolor": "white",
           "linecolor": "white",
           "ticks": "",
           "title": {
            "standoff": 15
           },
           "zerolinecolor": "white",
           "zerolinewidth": 2
          }
         }
        },
        "xaxis": {
         "anchor": "y",
         "domain": [
          0,
          0.49
         ],
         "title": {
          "text": "variable"
         }
        },
        "xaxis2": {
         "anchor": "y2",
         "domain": [
          0.51,
          1
         ],
         "matches": "x",
         "title": {
          "text": "variable"
         }
        },
        "yaxis": {
         "anchor": "x",
         "domain": [
          0,
          1
         ],
         "title": {
          "text": "value"
         }
        },
        "yaxis2": {
         "anchor": "x2",
         "domain": [
          0,
          1
         ],
         "matches": "y",
         "showticklabels": false
        }
       }
      },
      "text/html": [
       "<div>            <script src=\"https://cdnjs.cloudflare.com/ajax/libs/mathjax/2.7.5/MathJax.js?config=TeX-AMS-MML_SVG\"></script><script type=\"text/javascript\">if (window.MathJax && window.MathJax.Hub && window.MathJax.Hub.Config) {window.MathJax.Hub.Config({SVG: {font: \"STIX-Web\"}});}</script>                <script type=\"text/javascript\">window.PlotlyConfig = {MathJaxConfig: 'local'};</script>\n",
       "        <script charset=\"utf-8\" src=\"https://cdn.plot.ly/plotly-3.0.1.min.js\"></script>                <div id=\"6428a0a2-7c9e-4809-8a79-462dc9db4d80\" class=\"plotly-graph-div\" style=\"height:525px; width:100%;\"></div>            <script type=\"text/javascript\">                window.PLOTLYENV=window.PLOTLYENV || {};                                if (document.getElementById(\"6428a0a2-7c9e-4809-8a79-462dc9db4d80\")) {                    Plotly.newPlot(                        \"6428a0a2-7c9e-4809-8a79-462dc9db4d80\",                        [{\"hovertemplate\":\"abonement_type=Premium\\u003cbr\\u003evariable=%{x}\\u003cbr\\u003evalue=%{y}\\u003cextra\\u003e\\u003c\\u002fextra\\u003e\",\"legendgroup\":\"\",\"marker\":{\"color\":\"#636efa\",\"pattern\":{\"shape\":\"\"}},\"name\":\"\",\"orientation\":\"v\",\"showlegend\":false,\"textposition\":\"auto\",\"texttemplate\":\"%{y}\",\"x\":[\"Mon\",\"Tue\",\"Wed\",\"Thu\",\"Fri\",\"Sat\",\"Sun\"],\"xaxis\":\"x\",\"y\":{\"dtype\":\"i2\",\"bdata\":\"tADDAMAAtgC6AMgAvAA=\"},\"yaxis\":\"y\",\"type\":\"bar\"},{\"hovertemplate\":\"abonement_type=Standard\\u003cbr\\u003evariable=%{x}\\u003cbr\\u003evalue=%{y}\\u003cextra\\u003e\\u003c\\u002fextra\\u003e\",\"legendgroup\":\"\",\"marker\":{\"color\":\"#636efa\",\"pattern\":{\"shape\":\"\"}},\"name\":\"\",\"orientation\":\"v\",\"showlegend\":false,\"textposition\":\"auto\",\"texttemplate\":\"%{y}\",\"x\":[\"Mon\",\"Tue\",\"Wed\",\"Thu\",\"Fri\",\"Sat\",\"Sun\"],\"xaxis\":\"x2\",\"y\":{\"dtype\":\"i2\",\"bdata\":\"qQDEANAAxQC+ALQA2wA=\"},\"yaxis\":\"y2\",\"type\":\"bar\"}],                        {\"template\":{\"data\":{\"histogram2dcontour\":[{\"type\":\"histogram2dcontour\",\"colorbar\":{\"outlinewidth\":0,\"ticks\":\"\"},\"colorscale\":[[0.0,\"#0d0887\"],[0.1111111111111111,\"#46039f\"],[0.2222222222222222,\"#7201a8\"],[0.3333333333333333,\"#9c179e\"],[0.4444444444444444,\"#bd3786\"],[0.5555555555555556,\"#d8576b\"],[0.6666666666666666,\"#ed7953\"],[0.7777777777777778,\"#fb9f3a\"],[0.8888888888888888,\"#fdca26\"],[1.0,\"#f0f921\"]]}],\"choropleth\":[{\"type\":\"choropleth\",\"colorbar\":{\"outlinewidth\":0,\"ticks\":\"\"}}],\"histogram2d\":[{\"type\":\"histogram2d\",\"colorbar\":{\"outlinewidth\":0,\"ticks\":\"\"},\"colorscale\":[[0.0,\"#0d0887\"],[0.1111111111111111,\"#46039f\"],[0.2222222222222222,\"#7201a8\"],[0.3333333333333333,\"#9c179e\"],[0.4444444444444444,\"#bd3786\"],[0.5555555555555556,\"#d8576b\"],[0.6666666666666666,\"#ed7953\"],[0.7777777777777778,\"#fb9f3a\"],[0.8888888888888888,\"#fdca26\"],[1.0,\"#f0f921\"]]}],\"heatmap\":[{\"type\":\"heatmap\",\"colorbar\":{\"outlinewidth\":0,\"ticks\":\"\"},\"colorscale\":[[0.0,\"#0d0887\"],[0.1111111111111111,\"#46039f\"],[0.2222222222222222,\"#7201a8\"],[0.3333333333333333,\"#9c179e\"],[0.4444444444444444,\"#bd3786\"],[0.5555555555555556,\"#d8576b\"],[0.6666666666666666,\"#ed7953\"],[0.7777777777777778,\"#fb9f3a\"],[0.8888888888888888,\"#fdca26\"],[1.0,\"#f0f921\"]]}],\"contourcarpet\":[{\"type\":\"contourcarpet\",\"colorbar\":{\"outlinewidth\":0,\"ticks\":\"\"}}],\"contour\":[{\"type\":\"contour\",\"colorbar\":{\"outlinewidth\":0,\"ticks\":\"\"},\"colorscale\":[[0.0,\"#0d0887\"],[0.1111111111111111,\"#46039f\"],[0.2222222222222222,\"#7201a8\"],[0.3333333333333333,\"#9c179e\"],[0.4444444444444444,\"#bd3786\"],[0.5555555555555556,\"#d8576b\"],[0.6666666666666666,\"#ed7953\"],[0.7777777777777778,\"#fb9f3a\"],[0.8888888888888888,\"#fdca26\"],[1.0,\"#f0f921\"]]}],\"surface\":[{\"type\":\"surface\",\"colorbar\":{\"outlinewidth\":0,\"ticks\":\"\"},\"colorscale\":[[0.0,\"#0d0887\"],[0.1111111111111111,\"#46039f\"],[0.2222222222222222,\"#7201a8\"],[0.3333333333333333,\"#9c179e\"],[0.4444444444444444,\"#bd3786\"],[0.5555555555555556,\"#d8576b\"],[0.6666666666666666,\"#ed7953\"],[0.7777777777777778,\"#fb9f3a\"],[0.8888888888888888,\"#fdca26\"],[1.0,\"#f0f921\"]]}],\"mesh3d\":[{\"type\":\"mesh3d\",\"colorbar\":{\"outlinewidth\":0,\"ticks\":\"\"}}],\"scatter\":[{\"fillpattern\":{\"fillmode\":\"overlay\",\"size\":10,\"solidity\":0.2},\"type\":\"scatter\"}],\"parcoords\":[{\"type\":\"parcoords\",\"line\":{\"colorbar\":{\"outlinewidth\":0,\"ticks\":\"\"}}}],\"scatterpolargl\":[{\"type\":\"scatterpolargl\",\"marker\":{\"colorbar\":{\"outlinewidth\":0,\"ticks\":\"\"}}}],\"bar\":[{\"error_x\":{\"color\":\"#2a3f5f\"},\"error_y\":{\"color\":\"#2a3f5f\"},\"marker\":{\"line\":{\"color\":\"#E5ECF6\",\"width\":0.5},\"pattern\":{\"fillmode\":\"overlay\",\"size\":10,\"solidity\":0.2}},\"type\":\"bar\"}],\"scattergeo\":[{\"type\":\"scattergeo\",\"marker\":{\"colorbar\":{\"outlinewidth\":0,\"ticks\":\"\"}}}],\"scatterpolar\":[{\"type\":\"scatterpolar\",\"marker\":{\"colorbar\":{\"outlinewidth\":0,\"ticks\":\"\"}}}],\"histogram\":[{\"marker\":{\"pattern\":{\"fillmode\":\"overlay\",\"size\":10,\"solidity\":0.2}},\"type\":\"histogram\"}],\"scattergl\":[{\"type\":\"scattergl\",\"marker\":{\"colorbar\":{\"outlinewidth\":0,\"ticks\":\"\"}}}],\"scatter3d\":[{\"type\":\"scatter3d\",\"line\":{\"colorbar\":{\"outlinewidth\":0,\"ticks\":\"\"}},\"marker\":{\"colorbar\":{\"outlinewidth\":0,\"ticks\":\"\"}}}],\"scattermap\":[{\"type\":\"scattermap\",\"marker\":{\"colorbar\":{\"outlinewidth\":0,\"ticks\":\"\"}}}],\"scattermapbox\":[{\"type\":\"scattermapbox\",\"marker\":{\"colorbar\":{\"outlinewidth\":0,\"ticks\":\"\"}}}],\"scatterternary\":[{\"type\":\"scatterternary\",\"marker\":{\"colorbar\":{\"outlinewidth\":0,\"ticks\":\"\"}}}],\"scattercarpet\":[{\"type\":\"scattercarpet\",\"marker\":{\"colorbar\":{\"outlinewidth\":0,\"ticks\":\"\"}}}],\"carpet\":[{\"aaxis\":{\"endlinecolor\":\"#2a3f5f\",\"gridcolor\":\"white\",\"linecolor\":\"white\",\"minorgridcolor\":\"white\",\"startlinecolor\":\"#2a3f5f\"},\"baxis\":{\"endlinecolor\":\"#2a3f5f\",\"gridcolor\":\"white\",\"linecolor\":\"white\",\"minorgridcolor\":\"white\",\"startlinecolor\":\"#2a3f5f\"},\"type\":\"carpet\"}],\"table\":[{\"cells\":{\"fill\":{\"color\":\"#EBF0F8\"},\"line\":{\"color\":\"white\"}},\"header\":{\"fill\":{\"color\":\"#C8D4E3\"},\"line\":{\"color\":\"white\"}},\"type\":\"table\"}],\"barpolar\":[{\"marker\":{\"line\":{\"color\":\"#E5ECF6\",\"width\":0.5},\"pattern\":{\"fillmode\":\"overlay\",\"size\":10,\"solidity\":0.2}},\"type\":\"barpolar\"}],\"pie\":[{\"automargin\":true,\"type\":\"pie\"}]},\"layout\":{\"autotypenumbers\":\"strict\",\"colorway\":[\"#636efa\",\"#EF553B\",\"#00cc96\",\"#ab63fa\",\"#FFA15A\",\"#19d3f3\",\"#FF6692\",\"#B6E880\",\"#FF97FF\",\"#FECB52\"],\"font\":{\"color\":\"#2a3f5f\"},\"hovermode\":\"closest\",\"hoverlabel\":{\"align\":\"left\"},\"paper_bgcolor\":\"white\",\"plot_bgcolor\":\"#E5ECF6\",\"polar\":{\"bgcolor\":\"#E5ECF6\",\"angularaxis\":{\"gridcolor\":\"white\",\"linecolor\":\"white\",\"ticks\":\"\"},\"radialaxis\":{\"gridcolor\":\"white\",\"linecolor\":\"white\",\"ticks\":\"\"}},\"ternary\":{\"bgcolor\":\"#E5ECF6\",\"aaxis\":{\"gridcolor\":\"white\",\"linecolor\":\"white\",\"ticks\":\"\"},\"baxis\":{\"gridcolor\":\"white\",\"linecolor\":\"white\",\"ticks\":\"\"},\"caxis\":{\"gridcolor\":\"white\",\"linecolor\":\"white\",\"ticks\":\"\"}},\"coloraxis\":{\"colorbar\":{\"outlinewidth\":0,\"ticks\":\"\"}},\"colorscale\":{\"sequential\":[[0.0,\"#0d0887\"],[0.1111111111111111,\"#46039f\"],[0.2222222222222222,\"#7201a8\"],[0.3333333333333333,\"#9c179e\"],[0.4444444444444444,\"#bd3786\"],[0.5555555555555556,\"#d8576b\"],[0.6666666666666666,\"#ed7953\"],[0.7777777777777778,\"#fb9f3a\"],[0.8888888888888888,\"#fdca26\"],[1.0,\"#f0f921\"]],\"sequentialminus\":[[0.0,\"#0d0887\"],[0.1111111111111111,\"#46039f\"],[0.2222222222222222,\"#7201a8\"],[0.3333333333333333,\"#9c179e\"],[0.4444444444444444,\"#bd3786\"],[0.5555555555555556,\"#d8576b\"],[0.6666666666666666,\"#ed7953\"],[0.7777777777777778,\"#fb9f3a\"],[0.8888888888888888,\"#fdca26\"],[1.0,\"#f0f921\"]],\"diverging\":[[0,\"#8e0152\"],[0.1,\"#c51b7d\"],[0.2,\"#de77ae\"],[0.3,\"#f1b6da\"],[0.4,\"#fde0ef\"],[0.5,\"#f7f7f7\"],[0.6,\"#e6f5d0\"],[0.7,\"#b8e186\"],[0.8,\"#7fbc41\"],[0.9,\"#4d9221\"],[1,\"#276419\"]]},\"xaxis\":{\"gridcolor\":\"white\",\"linecolor\":\"white\",\"ticks\":\"\",\"title\":{\"standoff\":15},\"zerolinecolor\":\"white\",\"automargin\":true,\"zerolinewidth\":2},\"yaxis\":{\"gridcolor\":\"white\",\"linecolor\":\"white\",\"ticks\":\"\",\"title\":{\"standoff\":15},\"zerolinecolor\":\"white\",\"automargin\":true,\"zerolinewidth\":2},\"scene\":{\"xaxis\":{\"backgroundcolor\":\"#E5ECF6\",\"gridcolor\":\"white\",\"linecolor\":\"white\",\"showbackground\":true,\"ticks\":\"\",\"zerolinecolor\":\"white\",\"gridwidth\":2},\"yaxis\":{\"backgroundcolor\":\"#E5ECF6\",\"gridcolor\":\"white\",\"linecolor\":\"white\",\"showbackground\":true,\"ticks\":\"\",\"zerolinecolor\":\"white\",\"gridwidth\":2},\"zaxis\":{\"backgroundcolor\":\"#E5ECF6\",\"gridcolor\":\"white\",\"linecolor\":\"white\",\"showbackground\":true,\"ticks\":\"\",\"zerolinecolor\":\"white\",\"gridwidth\":2}},\"shapedefaults\":{\"line\":{\"color\":\"#2a3f5f\"}},\"annotationdefaults\":{\"arrowcolor\":\"#2a3f5f\",\"arrowhead\":0,\"arrowwidth\":1},\"geo\":{\"bgcolor\":\"white\",\"landcolor\":\"#E5ECF6\",\"subunitcolor\":\"white\",\"showland\":true,\"showlakes\":true,\"lakecolor\":\"white\"},\"title\":{\"x\":0.05},\"mapbox\":{\"style\":\"light\"}}},\"xaxis\":{\"anchor\":\"y\",\"domain\":[0.0,0.49],\"title\":{\"text\":\"variable\"}},\"yaxis\":{\"anchor\":\"x\",\"domain\":[0.0,1.0],\"title\":{\"text\":\"value\"}},\"xaxis2\":{\"anchor\":\"y2\",\"domain\":[0.51,1.0],\"matches\":\"x\",\"title\":{\"text\":\"variable\"}},\"yaxis2\":{\"anchor\":\"x2\",\"domain\":[0.0,1.0],\"matches\":\"y\",\"showticklabels\":false},\"annotations\":[{\"font\":{},\"showarrow\":false,\"text\":\"abonement_type=Premium\",\"x\":0.245,\"xanchor\":\"center\",\"xref\":\"paper\",\"y\":1.0,\"yanchor\":\"bottom\",\"yref\":\"paper\"},{\"font\":{},\"showarrow\":false,\"text\":\"abonement_type=Standard\",\"x\":0.755,\"xanchor\":\"center\",\"xref\":\"paper\",\"y\":1.0,\"yanchor\":\"bottom\",\"yref\":\"paper\"}],\"legend\":{\"tracegroupgap\":0},\"margin\":{\"t\":60},\"barmode\":\"relative\"},                        {\"responsive\": true}                    ).then(function(){\n",
       "                            \n",
       "var gd = document.getElementById('6428a0a2-7c9e-4809-8a79-462dc9db4d80');\n",
       "var x = new MutationObserver(function (mutations, observer) {{\n",
       "        var display = window.getComputedStyle(gd).display;\n",
       "        if (!display || display === 'none') {{\n",
       "            console.log([gd, 'removed!']);\n",
       "            Plotly.purge(gd);\n",
       "            observer.disconnect();\n",
       "        }}\n",
       "}});\n",
       "\n",
       "// Listen for the removal of the full notebook cells\n",
       "var notebookContainer = gd.closest('#notebook-container');\n",
       "if (notebookContainer) {{\n",
       "    x.observe(notebookContainer, {childList: true});\n",
       "}}\n",
       "\n",
       "// Listen for the clearing of the current output cell\n",
       "var outputEl = gd.closest('.output');\n",
       "if (outputEl) {{\n",
       "    x.observe(outputEl, {childList: true});\n",
       "}}\n",
       "\n",
       "                        })                };            </script>        </div>"
      ]
     },
     "metadata": {},
     "output_type": "display_data"
    }
   ],
   "source": [
    "##посещения по дням недели / абонемент\n",
    "df_dummies = df['days_per_week'].str.get_dummies(sep=', ')\n",
    "df_days = pd.concat([df, df_dummies], axis=1)\n",
    "\n",
    "lst = days.index.tolist()\n",
    "lst.append('abonement_type')\n",
    "days_abo = df_days[lst].groupby('abonement_type').agg('sum')\n",
    "\n",
    "days_abo = days_abo.reset_index().melt(id_vars='abonement_type')\n",
    "px.bar(data_frame=days_abo, \n",
    "       x='variable', \n",
    "       y='value', \n",
    "       facet_col='abonement_type',\n",
    "       text_auto=True)"
   ]
  },
  {
   "cell_type": "code",
   "execution_count": 16,
   "id": "dd60e0e3",
   "metadata": {},
   "outputs": [
    {
     "data": {
      "application/vnd.plotly.v1+json": {
       "config": {
        "plotlyServerURL": "https://plot.ly"
       },
       "data": [
        {
         "hovertemplate": "abonement_type=Premium<br>gender=Female<br>visit_per_week=%{x}<br>visits=%{y}<extra></extra>",
         "legendgroup": "",
         "marker": {
          "color": "#636efa",
          "pattern": {
           "shape": ""
          }
         },
         "name": "",
         "orientation": "v",
         "showlegend": false,
         "textposition": "auto",
         "texttemplate": "%{y}",
         "type": "bar",
         "x": {
          "bdata": "AQIDBAU=",
          "dtype": "i1"
         },
         "xaxis": "x3",
         "y": {
          "bdata": "MkJFGh8=",
          "dtype": "i1"
         },
         "yaxis": "y3"
        },
        {
         "hovertemplate": "abonement_type=Premium<br>gender=Male<br>visit_per_week=%{x}<br>visits=%{y}<extra></extra>",
         "legendgroup": "",
         "marker": {
          "color": "#636efa",
          "pattern": {
           "shape": ""
          }
         },
         "name": "",
         "orientation": "v",
         "showlegend": false,
         "textposition": "auto",
         "texttemplate": "%{y}",
         "type": "bar",
         "x": {
          "bdata": "AQIDBAU=",
          "dtype": "i1"
         },
         "xaxis": "x4",
         "y": {
          "bdata": "KE5TFB4=",
          "dtype": "i1"
         },
         "yaxis": "y4"
        },
        {
         "hovertemplate": "abonement_type=Standard<br>gender=Female<br>visit_per_week=%{x}<br>visits=%{y}<extra></extra>",
         "legendgroup": "",
         "marker": {
          "color": "#636efa",
          "pattern": {
           "shape": ""
          }
         },
         "name": "",
         "orientation": "v",
         "showlegend": false,
         "textposition": "auto",
         "texttemplate": "%{y}",
         "type": "bar",
         "x": {
          "bdata": "AQIDBAU=",
          "dtype": "i1"
         },
         "xaxis": "x",
         "y": {
          "bdata": "MEJTHiI=",
          "dtype": "i1"
         },
         "yaxis": "y"
        },
        {
         "hovertemplate": "abonement_type=Standard<br>gender=Male<br>visit_per_week=%{x}<br>visits=%{y}<extra></extra>",
         "legendgroup": "",
         "marker": {
          "color": "#636efa",
          "pattern": {
           "shape": ""
          }
         },
         "name": "",
         "orientation": "v",
         "showlegend": false,
         "textposition": "auto",
         "texttemplate": "%{y}",
         "type": "bar",
         "x": {
          "bdata": "AQIDBAU=",
          "dtype": "i1"
         },
         "xaxis": "x2",
         "y": {
          "bdata": "OEBNFB0=",
          "dtype": "i1"
         },
         "yaxis": "y2"
        }
       ],
       "layout": {
        "annotations": [
         {
          "font": {},
          "showarrow": false,
          "text": "gender=Female",
          "x": 0.24,
          "xanchor": "center",
          "xref": "paper",
          "y": 1,
          "yanchor": "bottom",
          "yref": "paper"
         },
         {
          "font": {},
          "showarrow": false,
          "text": "gender=Male",
          "x": 0.74,
          "xanchor": "center",
          "xref": "paper",
          "y": 1,
          "yanchor": "bottom",
          "yref": "paper"
         },
         {
          "font": {},
          "showarrow": false,
          "text": "abonement_type=Standard",
          "textangle": 90,
          "x": 0.98,
          "xanchor": "left",
          "xref": "paper",
          "y": 0.2425,
          "yanchor": "middle",
          "yref": "paper"
         },
         {
          "font": {},
          "showarrow": false,
          "text": "abonement_type=Premium",
          "textangle": 90,
          "x": 0.98,
          "xanchor": "left",
          "xref": "paper",
          "y": 0.7575000000000001,
          "yanchor": "middle",
          "yref": "paper"
         }
        ],
        "barmode": "relative",
        "legend": {
         "tracegroupgap": 0
        },
        "margin": {
         "t": 60
        },
        "template": {
         "data": {
          "bar": [
           {
            "error_x": {
             "color": "#2a3f5f"
            },
            "error_y": {
             "color": "#2a3f5f"
            },
            "marker": {
             "line": {
              "color": "#E5ECF6",
              "width": 0.5
             },
             "pattern": {
              "fillmode": "overlay",
              "size": 10,
              "solidity": 0.2
             }
            },
            "type": "bar"
           }
          ],
          "barpolar": [
           {
            "marker": {
             "line": {
              "color": "#E5ECF6",
              "width": 0.5
             },
             "pattern": {
              "fillmode": "overlay",
              "size": 10,
              "solidity": 0.2
             }
            },
            "type": "barpolar"
           }
          ],
          "carpet": [
           {
            "aaxis": {
             "endlinecolor": "#2a3f5f",
             "gridcolor": "white",
             "linecolor": "white",
             "minorgridcolor": "white",
             "startlinecolor": "#2a3f5f"
            },
            "baxis": {
             "endlinecolor": "#2a3f5f",
             "gridcolor": "white",
             "linecolor": "white",
             "minorgridcolor": "white",
             "startlinecolor": "#2a3f5f"
            },
            "type": "carpet"
           }
          ],
          "choropleth": [
           {
            "colorbar": {
             "outlinewidth": 0,
             "ticks": ""
            },
            "type": "choropleth"
           }
          ],
          "contour": [
           {
            "colorbar": {
             "outlinewidth": 0,
             "ticks": ""
            },
            "colorscale": [
             [
              0,
              "#0d0887"
             ],
             [
              0.1111111111111111,
              "#46039f"
             ],
             [
              0.2222222222222222,
              "#7201a8"
             ],
             [
              0.3333333333333333,
              "#9c179e"
             ],
             [
              0.4444444444444444,
              "#bd3786"
             ],
             [
              0.5555555555555556,
              "#d8576b"
             ],
             [
              0.6666666666666666,
              "#ed7953"
             ],
             [
              0.7777777777777778,
              "#fb9f3a"
             ],
             [
              0.8888888888888888,
              "#fdca26"
             ],
             [
              1,
              "#f0f921"
             ]
            ],
            "type": "contour"
           }
          ],
          "contourcarpet": [
           {
            "colorbar": {
             "outlinewidth": 0,
             "ticks": ""
            },
            "type": "contourcarpet"
           }
          ],
          "heatmap": [
           {
            "colorbar": {
             "outlinewidth": 0,
             "ticks": ""
            },
            "colorscale": [
             [
              0,
              "#0d0887"
             ],
             [
              0.1111111111111111,
              "#46039f"
             ],
             [
              0.2222222222222222,
              "#7201a8"
             ],
             [
              0.3333333333333333,
              "#9c179e"
             ],
             [
              0.4444444444444444,
              "#bd3786"
             ],
             [
              0.5555555555555556,
              "#d8576b"
             ],
             [
              0.6666666666666666,
              "#ed7953"
             ],
             [
              0.7777777777777778,
              "#fb9f3a"
             ],
             [
              0.8888888888888888,
              "#fdca26"
             ],
             [
              1,
              "#f0f921"
             ]
            ],
            "type": "heatmap"
           }
          ],
          "histogram": [
           {
            "marker": {
             "pattern": {
              "fillmode": "overlay",
              "size": 10,
              "solidity": 0.2
             }
            },
            "type": "histogram"
           }
          ],
          "histogram2d": [
           {
            "colorbar": {
             "outlinewidth": 0,
             "ticks": ""
            },
            "colorscale": [
             [
              0,
              "#0d0887"
             ],
             [
              0.1111111111111111,
              "#46039f"
             ],
             [
              0.2222222222222222,
              "#7201a8"
             ],
             [
              0.3333333333333333,
              "#9c179e"
             ],
             [
              0.4444444444444444,
              "#bd3786"
             ],
             [
              0.5555555555555556,
              "#d8576b"
             ],
             [
              0.6666666666666666,
              "#ed7953"
             ],
             [
              0.7777777777777778,
              "#fb9f3a"
             ],
             [
              0.8888888888888888,
              "#fdca26"
             ],
             [
              1,
              "#f0f921"
             ]
            ],
            "type": "histogram2d"
           }
          ],
          "histogram2dcontour": [
           {
            "colorbar": {
             "outlinewidth": 0,
             "ticks": ""
            },
            "colorscale": [
             [
              0,
              "#0d0887"
             ],
             [
              0.1111111111111111,
              "#46039f"
             ],
             [
              0.2222222222222222,
              "#7201a8"
             ],
             [
              0.3333333333333333,
              "#9c179e"
             ],
             [
              0.4444444444444444,
              "#bd3786"
             ],
             [
              0.5555555555555556,
              "#d8576b"
             ],
             [
              0.6666666666666666,
              "#ed7953"
             ],
             [
              0.7777777777777778,
              "#fb9f3a"
             ],
             [
              0.8888888888888888,
              "#fdca26"
             ],
             [
              1,
              "#f0f921"
             ]
            ],
            "type": "histogram2dcontour"
           }
          ],
          "mesh3d": [
           {
            "colorbar": {
             "outlinewidth": 0,
             "ticks": ""
            },
            "type": "mesh3d"
           }
          ],
          "parcoords": [
           {
            "line": {
             "colorbar": {
              "outlinewidth": 0,
              "ticks": ""
             }
            },
            "type": "parcoords"
           }
          ],
          "pie": [
           {
            "automargin": true,
            "type": "pie"
           }
          ],
          "scatter": [
           {
            "fillpattern": {
             "fillmode": "overlay",
             "size": 10,
             "solidity": 0.2
            },
            "type": "scatter"
           }
          ],
          "scatter3d": [
           {
            "line": {
             "colorbar": {
              "outlinewidth": 0,
              "ticks": ""
             }
            },
            "marker": {
             "colorbar": {
              "outlinewidth": 0,
              "ticks": ""
             }
            },
            "type": "scatter3d"
           }
          ],
          "scattercarpet": [
           {
            "marker": {
             "colorbar": {
              "outlinewidth": 0,
              "ticks": ""
             }
            },
            "type": "scattercarpet"
           }
          ],
          "scattergeo": [
           {
            "marker": {
             "colorbar": {
              "outlinewidth": 0,
              "ticks": ""
             }
            },
            "type": "scattergeo"
           }
          ],
          "scattergl": [
           {
            "marker": {
             "colorbar": {
              "outlinewidth": 0,
              "ticks": ""
             }
            },
            "type": "scattergl"
           }
          ],
          "scattermap": [
           {
            "marker": {
             "colorbar": {
              "outlinewidth": 0,
              "ticks": ""
             }
            },
            "type": "scattermap"
           }
          ],
          "scattermapbox": [
           {
            "marker": {
             "colorbar": {
              "outlinewidth": 0,
              "ticks": ""
             }
            },
            "type": "scattermapbox"
           }
          ],
          "scatterpolar": [
           {
            "marker": {
             "colorbar": {
              "outlinewidth": 0,
              "ticks": ""
             }
            },
            "type": "scatterpolar"
           }
          ],
          "scatterpolargl": [
           {
            "marker": {
             "colorbar": {
              "outlinewidth": 0,
              "ticks": ""
             }
            },
            "type": "scatterpolargl"
           }
          ],
          "scatterternary": [
           {
            "marker": {
             "colorbar": {
              "outlinewidth": 0,
              "ticks": ""
             }
            },
            "type": "scatterternary"
           }
          ],
          "surface": [
           {
            "colorbar": {
             "outlinewidth": 0,
             "ticks": ""
            },
            "colorscale": [
             [
              0,
              "#0d0887"
             ],
             [
              0.1111111111111111,
              "#46039f"
             ],
             [
              0.2222222222222222,
              "#7201a8"
             ],
             [
              0.3333333333333333,
              "#9c179e"
             ],
             [
              0.4444444444444444,
              "#bd3786"
             ],
             [
              0.5555555555555556,
              "#d8576b"
             ],
             [
              0.6666666666666666,
              "#ed7953"
             ],
             [
              0.7777777777777778,
              "#fb9f3a"
             ],
             [
              0.8888888888888888,
              "#fdca26"
             ],
             [
              1,
              "#f0f921"
             ]
            ],
            "type": "surface"
           }
          ],
          "table": [
           {
            "cells": {
             "fill": {
              "color": "#EBF0F8"
             },
             "line": {
              "color": "white"
             }
            },
            "header": {
             "fill": {
              "color": "#C8D4E3"
             },
             "line": {
              "color": "white"
             }
            },
            "type": "table"
           }
          ]
         },
         "layout": {
          "annotationdefaults": {
           "arrowcolor": "#2a3f5f",
           "arrowhead": 0,
           "arrowwidth": 1
          },
          "autotypenumbers": "strict",
          "coloraxis": {
           "colorbar": {
            "outlinewidth": 0,
            "ticks": ""
           }
          },
          "colorscale": {
           "diverging": [
            [
             0,
             "#8e0152"
            ],
            [
             0.1,
             "#c51b7d"
            ],
            [
             0.2,
             "#de77ae"
            ],
            [
             0.3,
             "#f1b6da"
            ],
            [
             0.4,
             "#fde0ef"
            ],
            [
             0.5,
             "#f7f7f7"
            ],
            [
             0.6,
             "#e6f5d0"
            ],
            [
             0.7,
             "#b8e186"
            ],
            [
             0.8,
             "#7fbc41"
            ],
            [
             0.9,
             "#4d9221"
            ],
            [
             1,
             "#276419"
            ]
           ],
           "sequential": [
            [
             0,
             "#0d0887"
            ],
            [
             0.1111111111111111,
             "#46039f"
            ],
            [
             0.2222222222222222,
             "#7201a8"
            ],
            [
             0.3333333333333333,
             "#9c179e"
            ],
            [
             0.4444444444444444,
             "#bd3786"
            ],
            [
             0.5555555555555556,
             "#d8576b"
            ],
            [
             0.6666666666666666,
             "#ed7953"
            ],
            [
             0.7777777777777778,
             "#fb9f3a"
            ],
            [
             0.8888888888888888,
             "#fdca26"
            ],
            [
             1,
             "#f0f921"
            ]
           ],
           "sequentialminus": [
            [
             0,
             "#0d0887"
            ],
            [
             0.1111111111111111,
             "#46039f"
            ],
            [
             0.2222222222222222,
             "#7201a8"
            ],
            [
             0.3333333333333333,
             "#9c179e"
            ],
            [
             0.4444444444444444,
             "#bd3786"
            ],
            [
             0.5555555555555556,
             "#d8576b"
            ],
            [
             0.6666666666666666,
             "#ed7953"
            ],
            [
             0.7777777777777778,
             "#fb9f3a"
            ],
            [
             0.8888888888888888,
             "#fdca26"
            ],
            [
             1,
             "#f0f921"
            ]
           ]
          },
          "colorway": [
           "#636efa",
           "#EF553B",
           "#00cc96",
           "#ab63fa",
           "#FFA15A",
           "#19d3f3",
           "#FF6692",
           "#B6E880",
           "#FF97FF",
           "#FECB52"
          ],
          "font": {
           "color": "#2a3f5f"
          },
          "geo": {
           "bgcolor": "white",
           "lakecolor": "white",
           "landcolor": "#E5ECF6",
           "showlakes": true,
           "showland": true,
           "subunitcolor": "white"
          },
          "hoverlabel": {
           "align": "left"
          },
          "hovermode": "closest",
          "mapbox": {
           "style": "light"
          },
          "paper_bgcolor": "white",
          "plot_bgcolor": "#E5ECF6",
          "polar": {
           "angularaxis": {
            "gridcolor": "white",
            "linecolor": "white",
            "ticks": ""
           },
           "bgcolor": "#E5ECF6",
           "radialaxis": {
            "gridcolor": "white",
            "linecolor": "white",
            "ticks": ""
           }
          },
          "scene": {
           "xaxis": {
            "backgroundcolor": "#E5ECF6",
            "gridcolor": "white",
            "gridwidth": 2,
            "linecolor": "white",
            "showbackground": true,
            "ticks": "",
            "zerolinecolor": "white"
           },
           "yaxis": {
            "backgroundcolor": "#E5ECF6",
            "gridcolor": "white",
            "gridwidth": 2,
            "linecolor": "white",
            "showbackground": true,
            "ticks": "",
            "zerolinecolor": "white"
           },
           "zaxis": {
            "backgroundcolor": "#E5ECF6",
            "gridcolor": "white",
            "gridwidth": 2,
            "linecolor": "white",
            "showbackground": true,
            "ticks": "",
            "zerolinecolor": "white"
           }
          },
          "shapedefaults": {
           "line": {
            "color": "#2a3f5f"
           }
          },
          "ternary": {
           "aaxis": {
            "gridcolor": "white",
            "linecolor": "white",
            "ticks": ""
           },
           "baxis": {
            "gridcolor": "white",
            "linecolor": "white",
            "ticks": ""
           },
           "bgcolor": "#E5ECF6",
           "caxis": {
            "gridcolor": "white",
            "linecolor": "white",
            "ticks": ""
           }
          },
          "title": {
           "x": 0.05
          },
          "xaxis": {
           "automargin": true,
           "gridcolor": "white",
           "linecolor": "white",
           "ticks": "",
           "title": {
            "standoff": 15
           },
           "zerolinecolor": "white",
           "zerolinewidth": 2
          },
          "yaxis": {
           "automargin": true,
           "gridcolor": "white",
           "linecolor": "white",
           "ticks": "",
           "title": {
            "standoff": 15
           },
           "zerolinecolor": "white",
           "zerolinewidth": 2
          }
         }
        },
        "xaxis": {
         "anchor": "y",
         "domain": [
          0,
          0.48
         ],
         "title": {
          "text": "visit_per_week"
         }
        },
        "xaxis2": {
         "anchor": "y2",
         "domain": [
          0.5,
          0.98
         ],
         "matches": "x",
         "title": {
          "text": "visit_per_week"
         }
        },
        "xaxis3": {
         "anchor": "y3",
         "domain": [
          0,
          0.48
         ],
         "matches": "x",
         "showticklabels": false
        },
        "xaxis4": {
         "anchor": "y4",
         "domain": [
          0.5,
          0.98
         ],
         "matches": "x",
         "showticklabels": false
        },
        "yaxis": {
         "anchor": "x",
         "domain": [
          0,
          0.485
         ],
         "title": {
          "text": "visits"
         }
        },
        "yaxis2": {
         "anchor": "x2",
         "domain": [
          0,
          0.485
         ],
         "matches": "y",
         "showticklabels": false
        },
        "yaxis3": {
         "anchor": "x3",
         "domain": [
          0.515,
          1
         ],
         "matches": "y",
         "title": {
          "text": "visits"
         }
        },
        "yaxis4": {
         "anchor": "x4",
         "domain": [
          0.515,
          1
         ],
         "matches": "y",
         "showticklabels": false
        }
       }
      },
      "text/html": [
       "<div>            <script src=\"https://cdnjs.cloudflare.com/ajax/libs/mathjax/2.7.5/MathJax.js?config=TeX-AMS-MML_SVG\"></script><script type=\"text/javascript\">if (window.MathJax && window.MathJax.Hub && window.MathJax.Hub.Config) {window.MathJax.Hub.Config({SVG: {font: \"STIX-Web\"}});}</script>                <script type=\"text/javascript\">window.PlotlyConfig = {MathJaxConfig: 'local'};</script>\n",
       "        <script charset=\"utf-8\" src=\"https://cdn.plot.ly/plotly-3.0.1.min.js\"></script>                <div id=\"3ecc9044-c509-4689-8d2b-6b29481f2508\" class=\"plotly-graph-div\" style=\"height:525px; width:100%;\"></div>            <script type=\"text/javascript\">                window.PLOTLYENV=window.PLOTLYENV || {};                                if (document.getElementById(\"3ecc9044-c509-4689-8d2b-6b29481f2508\")) {                    Plotly.newPlot(                        \"3ecc9044-c509-4689-8d2b-6b29481f2508\",                        [{\"hovertemplate\":\"abonement_type=Premium\\u003cbr\\u003egender=Female\\u003cbr\\u003evisit_per_week=%{x}\\u003cbr\\u003evisits=%{y}\\u003cextra\\u003e\\u003c\\u002fextra\\u003e\",\"legendgroup\":\"\",\"marker\":{\"color\":\"#636efa\",\"pattern\":{\"shape\":\"\"}},\"name\":\"\",\"orientation\":\"v\",\"showlegend\":false,\"textposition\":\"auto\",\"texttemplate\":\"%{y}\",\"x\":{\"dtype\":\"i1\",\"bdata\":\"AQIDBAU=\"},\"xaxis\":\"x3\",\"y\":{\"dtype\":\"i1\",\"bdata\":\"MkJFGh8=\"},\"yaxis\":\"y3\",\"type\":\"bar\"},{\"hovertemplate\":\"abonement_type=Premium\\u003cbr\\u003egender=Male\\u003cbr\\u003evisit_per_week=%{x}\\u003cbr\\u003evisits=%{y}\\u003cextra\\u003e\\u003c\\u002fextra\\u003e\",\"legendgroup\":\"\",\"marker\":{\"color\":\"#636efa\",\"pattern\":{\"shape\":\"\"}},\"name\":\"\",\"orientation\":\"v\",\"showlegend\":false,\"textposition\":\"auto\",\"texttemplate\":\"%{y}\",\"x\":{\"dtype\":\"i1\",\"bdata\":\"AQIDBAU=\"},\"xaxis\":\"x4\",\"y\":{\"dtype\":\"i1\",\"bdata\":\"KE5TFB4=\"},\"yaxis\":\"y4\",\"type\":\"bar\"},{\"hovertemplate\":\"abonement_type=Standard\\u003cbr\\u003egender=Female\\u003cbr\\u003evisit_per_week=%{x}\\u003cbr\\u003evisits=%{y}\\u003cextra\\u003e\\u003c\\u002fextra\\u003e\",\"legendgroup\":\"\",\"marker\":{\"color\":\"#636efa\",\"pattern\":{\"shape\":\"\"}},\"name\":\"\",\"orientation\":\"v\",\"showlegend\":false,\"textposition\":\"auto\",\"texttemplate\":\"%{y}\",\"x\":{\"dtype\":\"i1\",\"bdata\":\"AQIDBAU=\"},\"xaxis\":\"x\",\"y\":{\"dtype\":\"i1\",\"bdata\":\"MEJTHiI=\"},\"yaxis\":\"y\",\"type\":\"bar\"},{\"hovertemplate\":\"abonement_type=Standard\\u003cbr\\u003egender=Male\\u003cbr\\u003evisit_per_week=%{x}\\u003cbr\\u003evisits=%{y}\\u003cextra\\u003e\\u003c\\u002fextra\\u003e\",\"legendgroup\":\"\",\"marker\":{\"color\":\"#636efa\",\"pattern\":{\"shape\":\"\"}},\"name\":\"\",\"orientation\":\"v\",\"showlegend\":false,\"textposition\":\"auto\",\"texttemplate\":\"%{y}\",\"x\":{\"dtype\":\"i1\",\"bdata\":\"AQIDBAU=\"},\"xaxis\":\"x2\",\"y\":{\"dtype\":\"i1\",\"bdata\":\"OEBNFB0=\"},\"yaxis\":\"y2\",\"type\":\"bar\"}],                        {\"template\":{\"data\":{\"histogram2dcontour\":[{\"type\":\"histogram2dcontour\",\"colorbar\":{\"outlinewidth\":0,\"ticks\":\"\"},\"colorscale\":[[0.0,\"#0d0887\"],[0.1111111111111111,\"#46039f\"],[0.2222222222222222,\"#7201a8\"],[0.3333333333333333,\"#9c179e\"],[0.4444444444444444,\"#bd3786\"],[0.5555555555555556,\"#d8576b\"],[0.6666666666666666,\"#ed7953\"],[0.7777777777777778,\"#fb9f3a\"],[0.8888888888888888,\"#fdca26\"],[1.0,\"#f0f921\"]]}],\"choropleth\":[{\"type\":\"choropleth\",\"colorbar\":{\"outlinewidth\":0,\"ticks\":\"\"}}],\"histogram2d\":[{\"type\":\"histogram2d\",\"colorbar\":{\"outlinewidth\":0,\"ticks\":\"\"},\"colorscale\":[[0.0,\"#0d0887\"],[0.1111111111111111,\"#46039f\"],[0.2222222222222222,\"#7201a8\"],[0.3333333333333333,\"#9c179e\"],[0.4444444444444444,\"#bd3786\"],[0.5555555555555556,\"#d8576b\"],[0.6666666666666666,\"#ed7953\"],[0.7777777777777778,\"#fb9f3a\"],[0.8888888888888888,\"#fdca26\"],[1.0,\"#f0f921\"]]}],\"heatmap\":[{\"type\":\"heatmap\",\"colorbar\":{\"outlinewidth\":0,\"ticks\":\"\"},\"colorscale\":[[0.0,\"#0d0887\"],[0.1111111111111111,\"#46039f\"],[0.2222222222222222,\"#7201a8\"],[0.3333333333333333,\"#9c179e\"],[0.4444444444444444,\"#bd3786\"],[0.5555555555555556,\"#d8576b\"],[0.6666666666666666,\"#ed7953\"],[0.7777777777777778,\"#fb9f3a\"],[0.8888888888888888,\"#fdca26\"],[1.0,\"#f0f921\"]]}],\"contourcarpet\":[{\"type\":\"contourcarpet\",\"colorbar\":{\"outlinewidth\":0,\"ticks\":\"\"}}],\"contour\":[{\"type\":\"contour\",\"colorbar\":{\"outlinewidth\":0,\"ticks\":\"\"},\"colorscale\":[[0.0,\"#0d0887\"],[0.1111111111111111,\"#46039f\"],[0.2222222222222222,\"#7201a8\"],[0.3333333333333333,\"#9c179e\"],[0.4444444444444444,\"#bd3786\"],[0.5555555555555556,\"#d8576b\"],[0.6666666666666666,\"#ed7953\"],[0.7777777777777778,\"#fb9f3a\"],[0.8888888888888888,\"#fdca26\"],[1.0,\"#f0f921\"]]}],\"surface\":[{\"type\":\"surface\",\"colorbar\":{\"outlinewidth\":0,\"ticks\":\"\"},\"colorscale\":[[0.0,\"#0d0887\"],[0.1111111111111111,\"#46039f\"],[0.2222222222222222,\"#7201a8\"],[0.3333333333333333,\"#9c179e\"],[0.4444444444444444,\"#bd3786\"],[0.5555555555555556,\"#d8576b\"],[0.6666666666666666,\"#ed7953\"],[0.7777777777777778,\"#fb9f3a\"],[0.8888888888888888,\"#fdca26\"],[1.0,\"#f0f921\"]]}],\"mesh3d\":[{\"type\":\"mesh3d\",\"colorbar\":{\"outlinewidth\":0,\"ticks\":\"\"}}],\"scatter\":[{\"fillpattern\":{\"fillmode\":\"overlay\",\"size\":10,\"solidity\":0.2},\"type\":\"scatter\"}],\"parcoords\":[{\"type\":\"parcoords\",\"line\":{\"colorbar\":{\"outlinewidth\":0,\"ticks\":\"\"}}}],\"scatterpolargl\":[{\"type\":\"scatterpolargl\",\"marker\":{\"colorbar\":{\"outlinewidth\":0,\"ticks\":\"\"}}}],\"bar\":[{\"error_x\":{\"color\":\"#2a3f5f\"},\"error_y\":{\"color\":\"#2a3f5f\"},\"marker\":{\"line\":{\"color\":\"#E5ECF6\",\"width\":0.5},\"pattern\":{\"fillmode\":\"overlay\",\"size\":10,\"solidity\":0.2}},\"type\":\"bar\"}],\"scattergeo\":[{\"type\":\"scattergeo\",\"marker\":{\"colorbar\":{\"outlinewidth\":0,\"ticks\":\"\"}}}],\"scatterpolar\":[{\"type\":\"scatterpolar\",\"marker\":{\"colorbar\":{\"outlinewidth\":0,\"ticks\":\"\"}}}],\"histogram\":[{\"marker\":{\"pattern\":{\"fillmode\":\"overlay\",\"size\":10,\"solidity\":0.2}},\"type\":\"histogram\"}],\"scattergl\":[{\"type\":\"scattergl\",\"marker\":{\"colorbar\":{\"outlinewidth\":0,\"ticks\":\"\"}}}],\"scatter3d\":[{\"type\":\"scatter3d\",\"line\":{\"colorbar\":{\"outlinewidth\":0,\"ticks\":\"\"}},\"marker\":{\"colorbar\":{\"outlinewidth\":0,\"ticks\":\"\"}}}],\"scattermap\":[{\"type\":\"scattermap\",\"marker\":{\"colorbar\":{\"outlinewidth\":0,\"ticks\":\"\"}}}],\"scattermapbox\":[{\"type\":\"scattermapbox\",\"marker\":{\"colorbar\":{\"outlinewidth\":0,\"ticks\":\"\"}}}],\"scatterternary\":[{\"type\":\"scatterternary\",\"marker\":{\"colorbar\":{\"outlinewidth\":0,\"ticks\":\"\"}}}],\"scattercarpet\":[{\"type\":\"scattercarpet\",\"marker\":{\"colorbar\":{\"outlinewidth\":0,\"ticks\":\"\"}}}],\"carpet\":[{\"aaxis\":{\"endlinecolor\":\"#2a3f5f\",\"gridcolor\":\"white\",\"linecolor\":\"white\",\"minorgridcolor\":\"white\",\"startlinecolor\":\"#2a3f5f\"},\"baxis\":{\"endlinecolor\":\"#2a3f5f\",\"gridcolor\":\"white\",\"linecolor\":\"white\",\"minorgridcolor\":\"white\",\"startlinecolor\":\"#2a3f5f\"},\"type\":\"carpet\"}],\"table\":[{\"cells\":{\"fill\":{\"color\":\"#EBF0F8\"},\"line\":{\"color\":\"white\"}},\"header\":{\"fill\":{\"color\":\"#C8D4E3\"},\"line\":{\"color\":\"white\"}},\"type\":\"table\"}],\"barpolar\":[{\"marker\":{\"line\":{\"color\":\"#E5ECF6\",\"width\":0.5},\"pattern\":{\"fillmode\":\"overlay\",\"size\":10,\"solidity\":0.2}},\"type\":\"barpolar\"}],\"pie\":[{\"automargin\":true,\"type\":\"pie\"}]},\"layout\":{\"autotypenumbers\":\"strict\",\"colorway\":[\"#636efa\",\"#EF553B\",\"#00cc96\",\"#ab63fa\",\"#FFA15A\",\"#19d3f3\",\"#FF6692\",\"#B6E880\",\"#FF97FF\",\"#FECB52\"],\"font\":{\"color\":\"#2a3f5f\"},\"hovermode\":\"closest\",\"hoverlabel\":{\"align\":\"left\"},\"paper_bgcolor\":\"white\",\"plot_bgcolor\":\"#E5ECF6\",\"polar\":{\"bgcolor\":\"#E5ECF6\",\"angularaxis\":{\"gridcolor\":\"white\",\"linecolor\":\"white\",\"ticks\":\"\"},\"radialaxis\":{\"gridcolor\":\"white\",\"linecolor\":\"white\",\"ticks\":\"\"}},\"ternary\":{\"bgcolor\":\"#E5ECF6\",\"aaxis\":{\"gridcolor\":\"white\",\"linecolor\":\"white\",\"ticks\":\"\"},\"baxis\":{\"gridcolor\":\"white\",\"linecolor\":\"white\",\"ticks\":\"\"},\"caxis\":{\"gridcolor\":\"white\",\"linecolor\":\"white\",\"ticks\":\"\"}},\"coloraxis\":{\"colorbar\":{\"outlinewidth\":0,\"ticks\":\"\"}},\"colorscale\":{\"sequential\":[[0.0,\"#0d0887\"],[0.1111111111111111,\"#46039f\"],[0.2222222222222222,\"#7201a8\"],[0.3333333333333333,\"#9c179e\"],[0.4444444444444444,\"#bd3786\"],[0.5555555555555556,\"#d8576b\"],[0.6666666666666666,\"#ed7953\"],[0.7777777777777778,\"#fb9f3a\"],[0.8888888888888888,\"#fdca26\"],[1.0,\"#f0f921\"]],\"sequentialminus\":[[0.0,\"#0d0887\"],[0.1111111111111111,\"#46039f\"],[0.2222222222222222,\"#7201a8\"],[0.3333333333333333,\"#9c179e\"],[0.4444444444444444,\"#bd3786\"],[0.5555555555555556,\"#d8576b\"],[0.6666666666666666,\"#ed7953\"],[0.7777777777777778,\"#fb9f3a\"],[0.8888888888888888,\"#fdca26\"],[1.0,\"#f0f921\"]],\"diverging\":[[0,\"#8e0152\"],[0.1,\"#c51b7d\"],[0.2,\"#de77ae\"],[0.3,\"#f1b6da\"],[0.4,\"#fde0ef\"],[0.5,\"#f7f7f7\"],[0.6,\"#e6f5d0\"],[0.7,\"#b8e186\"],[0.8,\"#7fbc41\"],[0.9,\"#4d9221\"],[1,\"#276419\"]]},\"xaxis\":{\"gridcolor\":\"white\",\"linecolor\":\"white\",\"ticks\":\"\",\"title\":{\"standoff\":15},\"zerolinecolor\":\"white\",\"automargin\":true,\"zerolinewidth\":2},\"yaxis\":{\"gridcolor\":\"white\",\"linecolor\":\"white\",\"ticks\":\"\",\"title\":{\"standoff\":15},\"zerolinecolor\":\"white\",\"automargin\":true,\"zerolinewidth\":2},\"scene\":{\"xaxis\":{\"backgroundcolor\":\"#E5ECF6\",\"gridcolor\":\"white\",\"linecolor\":\"white\",\"showbackground\":true,\"ticks\":\"\",\"zerolinecolor\":\"white\",\"gridwidth\":2},\"yaxis\":{\"backgroundcolor\":\"#E5ECF6\",\"gridcolor\":\"white\",\"linecolor\":\"white\",\"showbackground\":true,\"ticks\":\"\",\"zerolinecolor\":\"white\",\"gridwidth\":2},\"zaxis\":{\"backgroundcolor\":\"#E5ECF6\",\"gridcolor\":\"white\",\"linecolor\":\"white\",\"showbackground\":true,\"ticks\":\"\",\"zerolinecolor\":\"white\",\"gridwidth\":2}},\"shapedefaults\":{\"line\":{\"color\":\"#2a3f5f\"}},\"annotationdefaults\":{\"arrowcolor\":\"#2a3f5f\",\"arrowhead\":0,\"arrowwidth\":1},\"geo\":{\"bgcolor\":\"white\",\"landcolor\":\"#E5ECF6\",\"subunitcolor\":\"white\",\"showland\":true,\"showlakes\":true,\"lakecolor\":\"white\"},\"title\":{\"x\":0.05},\"mapbox\":{\"style\":\"light\"}}},\"xaxis\":{\"anchor\":\"y\",\"domain\":[0.0,0.48],\"title\":{\"text\":\"visit_per_week\"}},\"yaxis\":{\"anchor\":\"x\",\"domain\":[0.0,0.485],\"title\":{\"text\":\"visits\"}},\"xaxis2\":{\"anchor\":\"y2\",\"domain\":[0.5,0.98],\"matches\":\"x\",\"title\":{\"text\":\"visit_per_week\"}},\"yaxis2\":{\"anchor\":\"x2\",\"domain\":[0.0,0.485],\"matches\":\"y\",\"showticklabels\":false},\"xaxis3\":{\"anchor\":\"y3\",\"domain\":[0.0,0.48],\"matches\":\"x\",\"showticklabels\":false},\"yaxis3\":{\"anchor\":\"x3\",\"domain\":[0.515,1.0],\"matches\":\"y\",\"title\":{\"text\":\"visits\"}},\"xaxis4\":{\"anchor\":\"y4\",\"domain\":[0.5,0.98],\"matches\":\"x\",\"showticklabels\":false},\"yaxis4\":{\"anchor\":\"x4\",\"domain\":[0.515,1.0],\"matches\":\"y\",\"showticklabels\":false},\"annotations\":[{\"font\":{},\"showarrow\":false,\"text\":\"gender=Female\",\"x\":0.24,\"xanchor\":\"center\",\"xref\":\"paper\",\"y\":1.0,\"yanchor\":\"bottom\",\"yref\":\"paper\"},{\"font\":{},\"showarrow\":false,\"text\":\"gender=Male\",\"x\":0.74,\"xanchor\":\"center\",\"xref\":\"paper\",\"y\":1.0,\"yanchor\":\"bottom\",\"yref\":\"paper\"},{\"font\":{},\"showarrow\":false,\"text\":\"abonement_type=Standard\",\"textangle\":90,\"x\":0.98,\"xanchor\":\"left\",\"xref\":\"paper\",\"y\":0.2425,\"yanchor\":\"middle\",\"yref\":\"paper\"},{\"font\":{},\"showarrow\":false,\"text\":\"abonement_type=Premium\",\"textangle\":90,\"x\":0.98,\"xanchor\":\"left\",\"xref\":\"paper\",\"y\":0.7575000000000001,\"yanchor\":\"middle\",\"yref\":\"paper\"}],\"legend\":{\"tracegroupgap\":0},\"margin\":{\"t\":60},\"barmode\":\"relative\"},                        {\"responsive\": true}                    ).then(function(){\n",
       "                            \n",
       "var gd = document.getElementById('3ecc9044-c509-4689-8d2b-6b29481f2508');\n",
       "var x = new MutationObserver(function (mutations, observer) {{\n",
       "        var display = window.getComputedStyle(gd).display;\n",
       "        if (!display || display === 'none') {{\n",
       "            console.log([gd, 'removed!']);\n",
       "            Plotly.purge(gd);\n",
       "            observer.disconnect();\n",
       "        }}\n",
       "}});\n",
       "\n",
       "// Listen for the removal of the full notebook cells\n",
       "var notebookContainer = gd.closest('#notebook-container');\n",
       "if (notebookContainer) {{\n",
       "    x.observe(notebookContainer, {childList: true});\n",
       "}}\n",
       "\n",
       "// Listen for the clearing of the current output cell\n",
       "var outputEl = gd.closest('.output');\n",
       "if (outputEl) {{\n",
       "    x.observe(outputEl, {childList: true});\n",
       "}}\n",
       "\n",
       "                        })                };            </script>        </div>"
      ]
     },
     "metadata": {},
     "output_type": "display_data"
    }
   ],
   "source": [
    "data_frame = df.groupby(by=['gender','abonement_type','visit_per_week']).agg(visits = pd.NamedAgg(column = 'visit_per_week', aggfunc='count')).reset_index()\n",
    "px.bar(data_frame,\n",
    "       x='visit_per_week',\n",
    "       y='visits',\n",
    "       facet_col = 'gender',\n",
    "       facet_row = 'abonement_type',\n",
    "       text_auto=True)"
   ]
  },
  {
   "cell_type": "code",
   "execution_count": 17,
   "id": "b9ce72f0",
   "metadata": {},
   "outputs": [
    {
     "data": {
      "application/vnd.plotly.v1+json": {
       "config": {
        "plotlyServerURL": "https://plot.ly"
       },
       "data": [
        {
         "hovertemplate": "variable=count<br>fav_group_lesson=%{x}<br>value=%{y}<extra></extra>",
         "legendgroup": "count",
         "marker": {
          "color": "#636efa",
          "pattern": {
           "shape": ""
          }
         },
         "name": "count",
         "orientation": "v",
         "showlegend": true,
         "textposition": "auto",
         "texttemplate": "%{y}",
         "type": "bar",
         "x": [
          "BodyPump",
          "LesMiles",
          "HIT",
          "Pilates",
          "XCore",
          "Yoga",
          "BodyBalance",
          "Spinning",
          "Kickboxen",
          "Running",
          "Zumba"
         ],
         "xaxis": "x",
         "y": {
          "bdata": "cGNhX1paV1VVUlE=",
          "dtype": "i1"
         },
         "yaxis": "y"
        }
       ],
       "layout": {
        "barmode": "relative",
        "legend": {
         "title": {
          "text": "variable"
         },
         "tracegroupgap": 0
        },
        "margin": {
         "t": 60
        },
        "template": {
         "data": {
          "bar": [
           {
            "error_x": {
             "color": "#2a3f5f"
            },
            "error_y": {
             "color": "#2a3f5f"
            },
            "marker": {
             "line": {
              "color": "#E5ECF6",
              "width": 0.5
             },
             "pattern": {
              "fillmode": "overlay",
              "size": 10,
              "solidity": 0.2
             }
            },
            "type": "bar"
           }
          ],
          "barpolar": [
           {
            "marker": {
             "line": {
              "color": "#E5ECF6",
              "width": 0.5
             },
             "pattern": {
              "fillmode": "overlay",
              "size": 10,
              "solidity": 0.2
             }
            },
            "type": "barpolar"
           }
          ],
          "carpet": [
           {
            "aaxis": {
             "endlinecolor": "#2a3f5f",
             "gridcolor": "white",
             "linecolor": "white",
             "minorgridcolor": "white",
             "startlinecolor": "#2a3f5f"
            },
            "baxis": {
             "endlinecolor": "#2a3f5f",
             "gridcolor": "white",
             "linecolor": "white",
             "minorgridcolor": "white",
             "startlinecolor": "#2a3f5f"
            },
            "type": "carpet"
           }
          ],
          "choropleth": [
           {
            "colorbar": {
             "outlinewidth": 0,
             "ticks": ""
            },
            "type": "choropleth"
           }
          ],
          "contour": [
           {
            "colorbar": {
             "outlinewidth": 0,
             "ticks": ""
            },
            "colorscale": [
             [
              0,
              "#0d0887"
             ],
             [
              0.1111111111111111,
              "#46039f"
             ],
             [
              0.2222222222222222,
              "#7201a8"
             ],
             [
              0.3333333333333333,
              "#9c179e"
             ],
             [
              0.4444444444444444,
              "#bd3786"
             ],
             [
              0.5555555555555556,
              "#d8576b"
             ],
             [
              0.6666666666666666,
              "#ed7953"
             ],
             [
              0.7777777777777778,
              "#fb9f3a"
             ],
             [
              0.8888888888888888,
              "#fdca26"
             ],
             [
              1,
              "#f0f921"
             ]
            ],
            "type": "contour"
           }
          ],
          "contourcarpet": [
           {
            "colorbar": {
             "outlinewidth": 0,
             "ticks": ""
            },
            "type": "contourcarpet"
           }
          ],
          "heatmap": [
           {
            "colorbar": {
             "outlinewidth": 0,
             "ticks": ""
            },
            "colorscale": [
             [
              0,
              "#0d0887"
             ],
             [
              0.1111111111111111,
              "#46039f"
             ],
             [
              0.2222222222222222,
              "#7201a8"
             ],
             [
              0.3333333333333333,
              "#9c179e"
             ],
             [
              0.4444444444444444,
              "#bd3786"
             ],
             [
              0.5555555555555556,
              "#d8576b"
             ],
             [
              0.6666666666666666,
              "#ed7953"
             ],
             [
              0.7777777777777778,
              "#fb9f3a"
             ],
             [
              0.8888888888888888,
              "#fdca26"
             ],
             [
              1,
              "#f0f921"
             ]
            ],
            "type": "heatmap"
           }
          ],
          "histogram": [
           {
            "marker": {
             "pattern": {
              "fillmode": "overlay",
              "size": 10,
              "solidity": 0.2
             }
            },
            "type": "histogram"
           }
          ],
          "histogram2d": [
           {
            "colorbar": {
             "outlinewidth": 0,
             "ticks": ""
            },
            "colorscale": [
             [
              0,
              "#0d0887"
             ],
             [
              0.1111111111111111,
              "#46039f"
             ],
             [
              0.2222222222222222,
              "#7201a8"
             ],
             [
              0.3333333333333333,
              "#9c179e"
             ],
             [
              0.4444444444444444,
              "#bd3786"
             ],
             [
              0.5555555555555556,
              "#d8576b"
             ],
             [
              0.6666666666666666,
              "#ed7953"
             ],
             [
              0.7777777777777778,
              "#fb9f3a"
             ],
             [
              0.8888888888888888,
              "#fdca26"
             ],
             [
              1,
              "#f0f921"
             ]
            ],
            "type": "histogram2d"
           }
          ],
          "histogram2dcontour": [
           {
            "colorbar": {
             "outlinewidth": 0,
             "ticks": ""
            },
            "colorscale": [
             [
              0,
              "#0d0887"
             ],
             [
              0.1111111111111111,
              "#46039f"
             ],
             [
              0.2222222222222222,
              "#7201a8"
             ],
             [
              0.3333333333333333,
              "#9c179e"
             ],
             [
              0.4444444444444444,
              "#bd3786"
             ],
             [
              0.5555555555555556,
              "#d8576b"
             ],
             [
              0.6666666666666666,
              "#ed7953"
             ],
             [
              0.7777777777777778,
              "#fb9f3a"
             ],
             [
              0.8888888888888888,
              "#fdca26"
             ],
             [
              1,
              "#f0f921"
             ]
            ],
            "type": "histogram2dcontour"
           }
          ],
          "mesh3d": [
           {
            "colorbar": {
             "outlinewidth": 0,
             "ticks": ""
            },
            "type": "mesh3d"
           }
          ],
          "parcoords": [
           {
            "line": {
             "colorbar": {
              "outlinewidth": 0,
              "ticks": ""
             }
            },
            "type": "parcoords"
           }
          ],
          "pie": [
           {
            "automargin": true,
            "type": "pie"
           }
          ],
          "scatter": [
           {
            "fillpattern": {
             "fillmode": "overlay",
             "size": 10,
             "solidity": 0.2
            },
            "type": "scatter"
           }
          ],
          "scatter3d": [
           {
            "line": {
             "colorbar": {
              "outlinewidth": 0,
              "ticks": ""
             }
            },
            "marker": {
             "colorbar": {
              "outlinewidth": 0,
              "ticks": ""
             }
            },
            "type": "scatter3d"
           }
          ],
          "scattercarpet": [
           {
            "marker": {
             "colorbar": {
              "outlinewidth": 0,
              "ticks": ""
             }
            },
            "type": "scattercarpet"
           }
          ],
          "scattergeo": [
           {
            "marker": {
             "colorbar": {
              "outlinewidth": 0,
              "ticks": ""
             }
            },
            "type": "scattergeo"
           }
          ],
          "scattergl": [
           {
            "marker": {
             "colorbar": {
              "outlinewidth": 0,
              "ticks": ""
             }
            },
            "type": "scattergl"
           }
          ],
          "scattermap": [
           {
            "marker": {
             "colorbar": {
              "outlinewidth": 0,
              "ticks": ""
             }
            },
            "type": "scattermap"
           }
          ],
          "scattermapbox": [
           {
            "marker": {
             "colorbar": {
              "outlinewidth": 0,
              "ticks": ""
             }
            },
            "type": "scattermapbox"
           }
          ],
          "scatterpolar": [
           {
            "marker": {
             "colorbar": {
              "outlinewidth": 0,
              "ticks": ""
             }
            },
            "type": "scatterpolar"
           }
          ],
          "scatterpolargl": [
           {
            "marker": {
             "colorbar": {
              "outlinewidth": 0,
              "ticks": ""
             }
            },
            "type": "scatterpolargl"
           }
          ],
          "scatterternary": [
           {
            "marker": {
             "colorbar": {
              "outlinewidth": 0,
              "ticks": ""
             }
            },
            "type": "scatterternary"
           }
          ],
          "surface": [
           {
            "colorbar": {
             "outlinewidth": 0,
             "ticks": ""
            },
            "colorscale": [
             [
              0,
              "#0d0887"
             ],
             [
              0.1111111111111111,
              "#46039f"
             ],
             [
              0.2222222222222222,
              "#7201a8"
             ],
             [
              0.3333333333333333,
              "#9c179e"
             ],
             [
              0.4444444444444444,
              "#bd3786"
             ],
             [
              0.5555555555555556,
              "#d8576b"
             ],
             [
              0.6666666666666666,
              "#ed7953"
             ],
             [
              0.7777777777777778,
              "#fb9f3a"
             ],
             [
              0.8888888888888888,
              "#fdca26"
             ],
             [
              1,
              "#f0f921"
             ]
            ],
            "type": "surface"
           }
          ],
          "table": [
           {
            "cells": {
             "fill": {
              "color": "#EBF0F8"
             },
             "line": {
              "color": "white"
             }
            },
            "header": {
             "fill": {
              "color": "#C8D4E3"
             },
             "line": {
              "color": "white"
             }
            },
            "type": "table"
           }
          ]
         },
         "layout": {
          "annotationdefaults": {
           "arrowcolor": "#2a3f5f",
           "arrowhead": 0,
           "arrowwidth": 1
          },
          "autotypenumbers": "strict",
          "coloraxis": {
           "colorbar": {
            "outlinewidth": 0,
            "ticks": ""
           }
          },
          "colorscale": {
           "diverging": [
            [
             0,
             "#8e0152"
            ],
            [
             0.1,
             "#c51b7d"
            ],
            [
             0.2,
             "#de77ae"
            ],
            [
             0.3,
             "#f1b6da"
            ],
            [
             0.4,
             "#fde0ef"
            ],
            [
             0.5,
             "#f7f7f7"
            ],
            [
             0.6,
             "#e6f5d0"
            ],
            [
             0.7,
             "#b8e186"
            ],
            [
             0.8,
             "#7fbc41"
            ],
            [
             0.9,
             "#4d9221"
            ],
            [
             1,
             "#276419"
            ]
           ],
           "sequential": [
            [
             0,
             "#0d0887"
            ],
            [
             0.1111111111111111,
             "#46039f"
            ],
            [
             0.2222222222222222,
             "#7201a8"
            ],
            [
             0.3333333333333333,
             "#9c179e"
            ],
            [
             0.4444444444444444,
             "#bd3786"
            ],
            [
             0.5555555555555556,
             "#d8576b"
            ],
            [
             0.6666666666666666,
             "#ed7953"
            ],
            [
             0.7777777777777778,
             "#fb9f3a"
            ],
            [
             0.8888888888888888,
             "#fdca26"
            ],
            [
             1,
             "#f0f921"
            ]
           ],
           "sequentialminus": [
            [
             0,
             "#0d0887"
            ],
            [
             0.1111111111111111,
             "#46039f"
            ],
            [
             0.2222222222222222,
             "#7201a8"
            ],
            [
             0.3333333333333333,
             "#9c179e"
            ],
            [
             0.4444444444444444,
             "#bd3786"
            ],
            [
             0.5555555555555556,
             "#d8576b"
            ],
            [
             0.6666666666666666,
             "#ed7953"
            ],
            [
             0.7777777777777778,
             "#fb9f3a"
            ],
            [
             0.8888888888888888,
             "#fdca26"
            ],
            [
             1,
             "#f0f921"
            ]
           ]
          },
          "colorway": [
           "#636efa",
           "#EF553B",
           "#00cc96",
           "#ab63fa",
           "#FFA15A",
           "#19d3f3",
           "#FF6692",
           "#B6E880",
           "#FF97FF",
           "#FECB52"
          ],
          "font": {
           "color": "#2a3f5f"
          },
          "geo": {
           "bgcolor": "white",
           "lakecolor": "white",
           "landcolor": "#E5ECF6",
           "showlakes": true,
           "showland": true,
           "subunitcolor": "white"
          },
          "hoverlabel": {
           "align": "left"
          },
          "hovermode": "closest",
          "mapbox": {
           "style": "light"
          },
          "paper_bgcolor": "white",
          "plot_bgcolor": "#E5ECF6",
          "polar": {
           "angularaxis": {
            "gridcolor": "white",
            "linecolor": "white",
            "ticks": ""
           },
           "bgcolor": "#E5ECF6",
           "radialaxis": {
            "gridcolor": "white",
            "linecolor": "white",
            "ticks": ""
           }
          },
          "scene": {
           "xaxis": {
            "backgroundcolor": "#E5ECF6",
            "gridcolor": "white",
            "gridwidth": 2,
            "linecolor": "white",
            "showbackground": true,
            "ticks": "",
            "zerolinecolor": "white"
           },
           "yaxis": {
            "backgroundcolor": "#E5ECF6",
            "gridcolor": "white",
            "gridwidth": 2,
            "linecolor": "white",
            "showbackground": true,
            "ticks": "",
            "zerolinecolor": "white"
           },
           "zaxis": {
            "backgroundcolor": "#E5ECF6",
            "gridcolor": "white",
            "gridwidth": 2,
            "linecolor": "white",
            "showbackground": true,
            "ticks": "",
            "zerolinecolor": "white"
           }
          },
          "shapedefaults": {
           "line": {
            "color": "#2a3f5f"
           }
          },
          "ternary": {
           "aaxis": {
            "gridcolor": "white",
            "linecolor": "white",
            "ticks": ""
           },
           "baxis": {
            "gridcolor": "white",
            "linecolor": "white",
            "ticks": ""
           },
           "bgcolor": "#E5ECF6",
           "caxis": {
            "gridcolor": "white",
            "linecolor": "white",
            "ticks": ""
           }
          },
          "title": {
           "x": 0.05
          },
          "xaxis": {
           "automargin": true,
           "gridcolor": "white",
           "linecolor": "white",
           "ticks": "",
           "title": {
            "standoff": 15
           },
           "zerolinecolor": "white",
           "zerolinewidth": 2
          },
          "yaxis": {
           "automargin": true,
           "gridcolor": "white",
           "linecolor": "white",
           "ticks": "",
           "title": {
            "standoff": 15
           },
           "zerolinecolor": "white",
           "zerolinewidth": 2
          }
         }
        },
        "title": {
         "text": "Любимые групповые занятия",
         "x": 0.5
        },
        "xaxis": {
         "anchor": "y",
         "domain": [
          0,
          1
         ],
         "title": {
          "text": "fav_group_lesson"
         }
        },
        "yaxis": {
         "anchor": "x",
         "domain": [
          0,
          1
         ],
         "title": {
          "text": "value"
         }
        }
       }
      },
      "text/html": [
       "<div>            <script src=\"https://cdnjs.cloudflare.com/ajax/libs/mathjax/2.7.5/MathJax.js?config=TeX-AMS-MML_SVG\"></script><script type=\"text/javascript\">if (window.MathJax && window.MathJax.Hub && window.MathJax.Hub.Config) {window.MathJax.Hub.Config({SVG: {font: \"STIX-Web\"}});}</script>                <script type=\"text/javascript\">window.PlotlyConfig = {MathJaxConfig: 'local'};</script>\n",
       "        <script charset=\"utf-8\" src=\"https://cdn.plot.ly/plotly-3.0.1.min.js\"></script>                <div id=\"77b51a48-a802-44a8-85da-3473a8ec34ef\" class=\"plotly-graph-div\" style=\"height:525px; width:100%;\"></div>            <script type=\"text/javascript\">                window.PLOTLYENV=window.PLOTLYENV || {};                                if (document.getElementById(\"77b51a48-a802-44a8-85da-3473a8ec34ef\")) {                    Plotly.newPlot(                        \"77b51a48-a802-44a8-85da-3473a8ec34ef\",                        [{\"hovertemplate\":\"variable=count\\u003cbr\\u003efav_group_lesson=%{x}\\u003cbr\\u003evalue=%{y}\\u003cextra\\u003e\\u003c\\u002fextra\\u003e\",\"legendgroup\":\"count\",\"marker\":{\"color\":\"#636efa\",\"pattern\":{\"shape\":\"\"}},\"name\":\"count\",\"orientation\":\"v\",\"showlegend\":true,\"textposition\":\"auto\",\"texttemplate\":\"%{y}\",\"x\":[\"BodyPump\",\"LesMiles\",\"HIT\",\"Pilates\",\"XCore\",\"Yoga\",\"BodyBalance\",\"Spinning\",\"Kickboxen\",\"Running\",\"Zumba\"],\"xaxis\":\"x\",\"y\":{\"dtype\":\"i1\",\"bdata\":\"cGNhX1paV1VVUlE=\"},\"yaxis\":\"y\",\"type\":\"bar\"}],                        {\"template\":{\"data\":{\"histogram2dcontour\":[{\"type\":\"histogram2dcontour\",\"colorbar\":{\"outlinewidth\":0,\"ticks\":\"\"},\"colorscale\":[[0.0,\"#0d0887\"],[0.1111111111111111,\"#46039f\"],[0.2222222222222222,\"#7201a8\"],[0.3333333333333333,\"#9c179e\"],[0.4444444444444444,\"#bd3786\"],[0.5555555555555556,\"#d8576b\"],[0.6666666666666666,\"#ed7953\"],[0.7777777777777778,\"#fb9f3a\"],[0.8888888888888888,\"#fdca26\"],[1.0,\"#f0f921\"]]}],\"choropleth\":[{\"type\":\"choropleth\",\"colorbar\":{\"outlinewidth\":0,\"ticks\":\"\"}}],\"histogram2d\":[{\"type\":\"histogram2d\",\"colorbar\":{\"outlinewidth\":0,\"ticks\":\"\"},\"colorscale\":[[0.0,\"#0d0887\"],[0.1111111111111111,\"#46039f\"],[0.2222222222222222,\"#7201a8\"],[0.3333333333333333,\"#9c179e\"],[0.4444444444444444,\"#bd3786\"],[0.5555555555555556,\"#d8576b\"],[0.6666666666666666,\"#ed7953\"],[0.7777777777777778,\"#fb9f3a\"],[0.8888888888888888,\"#fdca26\"],[1.0,\"#f0f921\"]]}],\"heatmap\":[{\"type\":\"heatmap\",\"colorbar\":{\"outlinewidth\":0,\"ticks\":\"\"},\"colorscale\":[[0.0,\"#0d0887\"],[0.1111111111111111,\"#46039f\"],[0.2222222222222222,\"#7201a8\"],[0.3333333333333333,\"#9c179e\"],[0.4444444444444444,\"#bd3786\"],[0.5555555555555556,\"#d8576b\"],[0.6666666666666666,\"#ed7953\"],[0.7777777777777778,\"#fb9f3a\"],[0.8888888888888888,\"#fdca26\"],[1.0,\"#f0f921\"]]}],\"contourcarpet\":[{\"type\":\"contourcarpet\",\"colorbar\":{\"outlinewidth\":0,\"ticks\":\"\"}}],\"contour\":[{\"type\":\"contour\",\"colorbar\":{\"outlinewidth\":0,\"ticks\":\"\"},\"colorscale\":[[0.0,\"#0d0887\"],[0.1111111111111111,\"#46039f\"],[0.2222222222222222,\"#7201a8\"],[0.3333333333333333,\"#9c179e\"],[0.4444444444444444,\"#bd3786\"],[0.5555555555555556,\"#d8576b\"],[0.6666666666666666,\"#ed7953\"],[0.7777777777777778,\"#fb9f3a\"],[0.8888888888888888,\"#fdca26\"],[1.0,\"#f0f921\"]]}],\"surface\":[{\"type\":\"surface\",\"colorbar\":{\"outlinewidth\":0,\"ticks\":\"\"},\"colorscale\":[[0.0,\"#0d0887\"],[0.1111111111111111,\"#46039f\"],[0.2222222222222222,\"#7201a8\"],[0.3333333333333333,\"#9c179e\"],[0.4444444444444444,\"#bd3786\"],[0.5555555555555556,\"#d8576b\"],[0.6666666666666666,\"#ed7953\"],[0.7777777777777778,\"#fb9f3a\"],[0.8888888888888888,\"#fdca26\"],[1.0,\"#f0f921\"]]}],\"mesh3d\":[{\"type\":\"mesh3d\",\"colorbar\":{\"outlinewidth\":0,\"ticks\":\"\"}}],\"scatter\":[{\"fillpattern\":{\"fillmode\":\"overlay\",\"size\":10,\"solidity\":0.2},\"type\":\"scatter\"}],\"parcoords\":[{\"type\":\"parcoords\",\"line\":{\"colorbar\":{\"outlinewidth\":0,\"ticks\":\"\"}}}],\"scatterpolargl\":[{\"type\":\"scatterpolargl\",\"marker\":{\"colorbar\":{\"outlinewidth\":0,\"ticks\":\"\"}}}],\"bar\":[{\"error_x\":{\"color\":\"#2a3f5f\"},\"error_y\":{\"color\":\"#2a3f5f\"},\"marker\":{\"line\":{\"color\":\"#E5ECF6\",\"width\":0.5},\"pattern\":{\"fillmode\":\"overlay\",\"size\":10,\"solidity\":0.2}},\"type\":\"bar\"}],\"scattergeo\":[{\"type\":\"scattergeo\",\"marker\":{\"colorbar\":{\"outlinewidth\":0,\"ticks\":\"\"}}}],\"scatterpolar\":[{\"type\":\"scatterpolar\",\"marker\":{\"colorbar\":{\"outlinewidth\":0,\"ticks\":\"\"}}}],\"histogram\":[{\"marker\":{\"pattern\":{\"fillmode\":\"overlay\",\"size\":10,\"solidity\":0.2}},\"type\":\"histogram\"}],\"scattergl\":[{\"type\":\"scattergl\",\"marker\":{\"colorbar\":{\"outlinewidth\":0,\"ticks\":\"\"}}}],\"scatter3d\":[{\"type\":\"scatter3d\",\"line\":{\"colorbar\":{\"outlinewidth\":0,\"ticks\":\"\"}},\"marker\":{\"colorbar\":{\"outlinewidth\":0,\"ticks\":\"\"}}}],\"scattermap\":[{\"type\":\"scattermap\",\"marker\":{\"colorbar\":{\"outlinewidth\":0,\"ticks\":\"\"}}}],\"scattermapbox\":[{\"type\":\"scattermapbox\",\"marker\":{\"colorbar\":{\"outlinewidth\":0,\"ticks\":\"\"}}}],\"scatterternary\":[{\"type\":\"scatterternary\",\"marker\":{\"colorbar\":{\"outlinewidth\":0,\"ticks\":\"\"}}}],\"scattercarpet\":[{\"type\":\"scattercarpet\",\"marker\":{\"colorbar\":{\"outlinewidth\":0,\"ticks\":\"\"}}}],\"carpet\":[{\"aaxis\":{\"endlinecolor\":\"#2a3f5f\",\"gridcolor\":\"white\",\"linecolor\":\"white\",\"minorgridcolor\":\"white\",\"startlinecolor\":\"#2a3f5f\"},\"baxis\":{\"endlinecolor\":\"#2a3f5f\",\"gridcolor\":\"white\",\"linecolor\":\"white\",\"minorgridcolor\":\"white\",\"startlinecolor\":\"#2a3f5f\"},\"type\":\"carpet\"}],\"table\":[{\"cells\":{\"fill\":{\"color\":\"#EBF0F8\"},\"line\":{\"color\":\"white\"}},\"header\":{\"fill\":{\"color\":\"#C8D4E3\"},\"line\":{\"color\":\"white\"}},\"type\":\"table\"}],\"barpolar\":[{\"marker\":{\"line\":{\"color\":\"#E5ECF6\",\"width\":0.5},\"pattern\":{\"fillmode\":\"overlay\",\"size\":10,\"solidity\":0.2}},\"type\":\"barpolar\"}],\"pie\":[{\"automargin\":true,\"type\":\"pie\"}]},\"layout\":{\"autotypenumbers\":\"strict\",\"colorway\":[\"#636efa\",\"#EF553B\",\"#00cc96\",\"#ab63fa\",\"#FFA15A\",\"#19d3f3\",\"#FF6692\",\"#B6E880\",\"#FF97FF\",\"#FECB52\"],\"font\":{\"color\":\"#2a3f5f\"},\"hovermode\":\"closest\",\"hoverlabel\":{\"align\":\"left\"},\"paper_bgcolor\":\"white\",\"plot_bgcolor\":\"#E5ECF6\",\"polar\":{\"bgcolor\":\"#E5ECF6\",\"angularaxis\":{\"gridcolor\":\"white\",\"linecolor\":\"white\",\"ticks\":\"\"},\"radialaxis\":{\"gridcolor\":\"white\",\"linecolor\":\"white\",\"ticks\":\"\"}},\"ternary\":{\"bgcolor\":\"#E5ECF6\",\"aaxis\":{\"gridcolor\":\"white\",\"linecolor\":\"white\",\"ticks\":\"\"},\"baxis\":{\"gridcolor\":\"white\",\"linecolor\":\"white\",\"ticks\":\"\"},\"caxis\":{\"gridcolor\":\"white\",\"linecolor\":\"white\",\"ticks\":\"\"}},\"coloraxis\":{\"colorbar\":{\"outlinewidth\":0,\"ticks\":\"\"}},\"colorscale\":{\"sequential\":[[0.0,\"#0d0887\"],[0.1111111111111111,\"#46039f\"],[0.2222222222222222,\"#7201a8\"],[0.3333333333333333,\"#9c179e\"],[0.4444444444444444,\"#bd3786\"],[0.5555555555555556,\"#d8576b\"],[0.6666666666666666,\"#ed7953\"],[0.7777777777777778,\"#fb9f3a\"],[0.8888888888888888,\"#fdca26\"],[1.0,\"#f0f921\"]],\"sequentialminus\":[[0.0,\"#0d0887\"],[0.1111111111111111,\"#46039f\"],[0.2222222222222222,\"#7201a8\"],[0.3333333333333333,\"#9c179e\"],[0.4444444444444444,\"#bd3786\"],[0.5555555555555556,\"#d8576b\"],[0.6666666666666666,\"#ed7953\"],[0.7777777777777778,\"#fb9f3a\"],[0.8888888888888888,\"#fdca26\"],[1.0,\"#f0f921\"]],\"diverging\":[[0,\"#8e0152\"],[0.1,\"#c51b7d\"],[0.2,\"#de77ae\"],[0.3,\"#f1b6da\"],[0.4,\"#fde0ef\"],[0.5,\"#f7f7f7\"],[0.6,\"#e6f5d0\"],[0.7,\"#b8e186\"],[0.8,\"#7fbc41\"],[0.9,\"#4d9221\"],[1,\"#276419\"]]},\"xaxis\":{\"gridcolor\":\"white\",\"linecolor\":\"white\",\"ticks\":\"\",\"title\":{\"standoff\":15},\"zerolinecolor\":\"white\",\"automargin\":true,\"zerolinewidth\":2},\"yaxis\":{\"gridcolor\":\"white\",\"linecolor\":\"white\",\"ticks\":\"\",\"title\":{\"standoff\":15},\"zerolinecolor\":\"white\",\"automargin\":true,\"zerolinewidth\":2},\"scene\":{\"xaxis\":{\"backgroundcolor\":\"#E5ECF6\",\"gridcolor\":\"white\",\"linecolor\":\"white\",\"showbackground\":true,\"ticks\":\"\",\"zerolinecolor\":\"white\",\"gridwidth\":2},\"yaxis\":{\"backgroundcolor\":\"#E5ECF6\",\"gridcolor\":\"white\",\"linecolor\":\"white\",\"showbackground\":true,\"ticks\":\"\",\"zerolinecolor\":\"white\",\"gridwidth\":2},\"zaxis\":{\"backgroundcolor\":\"#E5ECF6\",\"gridcolor\":\"white\",\"linecolor\":\"white\",\"showbackground\":true,\"ticks\":\"\",\"zerolinecolor\":\"white\",\"gridwidth\":2}},\"shapedefaults\":{\"line\":{\"color\":\"#2a3f5f\"}},\"annotationdefaults\":{\"arrowcolor\":\"#2a3f5f\",\"arrowhead\":0,\"arrowwidth\":1},\"geo\":{\"bgcolor\":\"white\",\"landcolor\":\"#E5ECF6\",\"subunitcolor\":\"white\",\"showland\":true,\"showlakes\":true,\"lakecolor\":\"white\"},\"title\":{\"x\":0.05},\"mapbox\":{\"style\":\"light\"}}},\"xaxis\":{\"anchor\":\"y\",\"domain\":[0.0,1.0],\"title\":{\"text\":\"fav_group_lesson\"}},\"yaxis\":{\"anchor\":\"x\",\"domain\":[0.0,1.0],\"title\":{\"text\":\"value\"}},\"legend\":{\"title\":{\"text\":\"variable\"},\"tracegroupgap\":0},\"margin\":{\"t\":60},\"barmode\":\"relative\",\"title\":{\"text\":\"\\u041b\\u044e\\u0431\\u0438\\u043c\\u044b\\u0435 \\u0433\\u0440\\u0443\\u043f\\u043f\\u043e\\u0432\\u044b\\u0435 \\u0437\\u0430\\u043d\\u044f\\u0442\\u0438\\u044f\",\"x\":0.5}},                        {\"responsive\": true}                    ).then(function(){\n",
       "                            \n",
       "var gd = document.getElementById('77b51a48-a802-44a8-85da-3473a8ec34ef');\n",
       "var x = new MutationObserver(function (mutations, observer) {{\n",
       "        var display = window.getComputedStyle(gd).display;\n",
       "        if (!display || display === 'none') {{\n",
       "            console.log([gd, 'removed!']);\n",
       "            Plotly.purge(gd);\n",
       "            observer.disconnect();\n",
       "        }}\n",
       "}});\n",
       "\n",
       "// Listen for the removal of the full notebook cells\n",
       "var notebookContainer = gd.closest('#notebook-container');\n",
       "if (notebookContainer) {{\n",
       "    x.observe(notebookContainer, {childList: true});\n",
       "}}\n",
       "\n",
       "// Listen for the clearing of the current output cell\n",
       "var outputEl = gd.closest('.output');\n",
       "if (outputEl) {{\n",
       "    x.observe(outputEl, {childList: true});\n",
       "}}\n",
       "\n",
       "                        })                };            </script>        </div>"
      ]
     },
     "metadata": {},
     "output_type": "display_data"
    }
   ],
   "source": [
    "group_lessons = df['fav_group_lesson'].str.split(', ').explode()\n",
    "group_lessons.value_counts()\n",
    "\n",
    "fig = px.bar(data_frame=group_lessons.value_counts()[1:],\n",
    "             text_auto=True) #исключаем без групповых занятий\n",
    "fig.update_layout(title='Любимые групповые занятия', title_x= 0.5)"
   ]
  },
  {
   "cell_type": "code",
   "execution_count": 18,
   "id": "20cece9a",
   "metadata": {},
   "outputs": [
    {
     "data": {
      "text/plain": [
       "fav_group_lesson\n",
       "BodyPump       11.167\n",
       "LesMiles        9.870\n",
       "HIT             9.671\n",
       "Pilates         9.472\n",
       "XCore           8.973\n",
       "Yoga            8.973\n",
       "BodyBalance     8.674\n",
       "Spinning        8.475\n",
       "Kickboxen       8.475\n",
       "Running         8.175\n",
       "Zumba           8.076\n",
       "Name: count, dtype: float64"
      ]
     },
     "execution_count": 18,
     "metadata": {},
     "output_type": "execute_result"
    }
   ],
   "source": [
    "(group_lessons.value_counts()[1:]/(group_lessons.value_counts()[1:].values.sum()/100)).round(3)"
   ]
  },
  {
   "cell_type": "code",
   "execution_count": 19,
   "id": "b5242a0c",
   "metadata": {},
   "outputs": [
    {
     "data": {
      "text/plain": [
       "array(['Kickboxen', 'BodyPump', 'Zumba', 'No', 'XCore', 'Running', 'Yoga',\n",
       "       'LesMiles', 'Pilates', 'HIT', 'Spinning', 'BodyBalance'],\n",
       "      dtype=object)"
      ]
     },
     "execution_count": 19,
     "metadata": {},
     "output_type": "execute_result"
    }
   ],
   "source": [
    "lst = pd.unique(group_lessons)\n",
    "lst"
   ]
  },
  {
   "cell_type": "code",
   "execution_count": 20,
   "id": "85f85987",
   "metadata": {},
   "outputs": [
    {
     "data": {
      "application/vnd.plotly.v1+json": {
       "config": {
        "plotlyServerURL": "https://plot.ly"
       },
       "data": [
        {
         "hovertemplate": "abonement_type=Premium<br>variable=%{x}<br>value=%{y}<extra></extra>",
         "legendgroup": "",
         "marker": {
          "color": "#636efa",
          "pattern": {
           "shape": ""
          }
         },
         "name": "",
         "orientation": "v",
         "showlegend": false,
         "textposition": "auto",
         "texttemplate": "%{y}",
         "type": "bar",
         "x": [
          "Kickboxen",
          "BodyPump",
          "Zumba",
          "XCore",
          "Running",
          "Yoga",
          "LesMiles",
          "Pilates",
          "HIT",
          "Spinning",
          "BodyBalance"
         ],
         "xaxis": "x",
         "y": {
          "bdata": "Lz4pJSQoNC0rKyw=",
          "dtype": "i1"
         },
         "yaxis": "y"
        },
        {
         "hovertemplate": "abonement_type=Standard<br>variable=%{x}<br>value=%{y}<extra></extra>",
         "legendgroup": "",
         "marker": {
          "color": "#636efa",
          "pattern": {
           "shape": ""
          }
         },
         "name": "",
         "orientation": "v",
         "showlegend": false,
         "textposition": "auto",
         "texttemplate": "%{y}",
         "type": "bar",
         "x": [
          "Kickboxen",
          "BodyPump",
          "Zumba",
          "XCore",
          "Running",
          "Yoga",
          "LesMiles",
          "Pilates",
          "HIT",
          "Spinning",
          "BodyBalance"
         ],
         "xaxis": "x2",
         "y": {
          "bdata": "JjIoNS4yLzI2Kis=",
          "dtype": "i1"
         },
         "yaxis": "y2"
        }
       ],
       "layout": {
        "annotations": [
         {
          "font": {},
          "showarrow": false,
          "text": "abonement_type=Premium",
          "x": 0.245,
          "xanchor": "center",
          "xref": "paper",
          "y": 1,
          "yanchor": "bottom",
          "yref": "paper"
         },
         {
          "font": {},
          "showarrow": false,
          "text": "abonement_type=Standard",
          "x": 0.755,
          "xanchor": "center",
          "xref": "paper",
          "y": 1,
          "yanchor": "bottom",
          "yref": "paper"
         }
        ],
        "barmode": "relative",
        "legend": {
         "tracegroupgap": 0
        },
        "margin": {
         "t": 60
        },
        "template": {
         "data": {
          "bar": [
           {
            "error_x": {
             "color": "#2a3f5f"
            },
            "error_y": {
             "color": "#2a3f5f"
            },
            "marker": {
             "line": {
              "color": "#E5ECF6",
              "width": 0.5
             },
             "pattern": {
              "fillmode": "overlay",
              "size": 10,
              "solidity": 0.2
             }
            },
            "type": "bar"
           }
          ],
          "barpolar": [
           {
            "marker": {
             "line": {
              "color": "#E5ECF6",
              "width": 0.5
             },
             "pattern": {
              "fillmode": "overlay",
              "size": 10,
              "solidity": 0.2
             }
            },
            "type": "barpolar"
           }
          ],
          "carpet": [
           {
            "aaxis": {
             "endlinecolor": "#2a3f5f",
             "gridcolor": "white",
             "linecolor": "white",
             "minorgridcolor": "white",
             "startlinecolor": "#2a3f5f"
            },
            "baxis": {
             "endlinecolor": "#2a3f5f",
             "gridcolor": "white",
             "linecolor": "white",
             "minorgridcolor": "white",
             "startlinecolor": "#2a3f5f"
            },
            "type": "carpet"
           }
          ],
          "choropleth": [
           {
            "colorbar": {
             "outlinewidth": 0,
             "ticks": ""
            },
            "type": "choropleth"
           }
          ],
          "contour": [
           {
            "colorbar": {
             "outlinewidth": 0,
             "ticks": ""
            },
            "colorscale": [
             [
              0,
              "#0d0887"
             ],
             [
              0.1111111111111111,
              "#46039f"
             ],
             [
              0.2222222222222222,
              "#7201a8"
             ],
             [
              0.3333333333333333,
              "#9c179e"
             ],
             [
              0.4444444444444444,
              "#bd3786"
             ],
             [
              0.5555555555555556,
              "#d8576b"
             ],
             [
              0.6666666666666666,
              "#ed7953"
             ],
             [
              0.7777777777777778,
              "#fb9f3a"
             ],
             [
              0.8888888888888888,
              "#fdca26"
             ],
             [
              1,
              "#f0f921"
             ]
            ],
            "type": "contour"
           }
          ],
          "contourcarpet": [
           {
            "colorbar": {
             "outlinewidth": 0,
             "ticks": ""
            },
            "type": "contourcarpet"
           }
          ],
          "heatmap": [
           {
            "colorbar": {
             "outlinewidth": 0,
             "ticks": ""
            },
            "colorscale": [
             [
              0,
              "#0d0887"
             ],
             [
              0.1111111111111111,
              "#46039f"
             ],
             [
              0.2222222222222222,
              "#7201a8"
             ],
             [
              0.3333333333333333,
              "#9c179e"
             ],
             [
              0.4444444444444444,
              "#bd3786"
             ],
             [
              0.5555555555555556,
              "#d8576b"
             ],
             [
              0.6666666666666666,
              "#ed7953"
             ],
             [
              0.7777777777777778,
              "#fb9f3a"
             ],
             [
              0.8888888888888888,
              "#fdca26"
             ],
             [
              1,
              "#f0f921"
             ]
            ],
            "type": "heatmap"
           }
          ],
          "histogram": [
           {
            "marker": {
             "pattern": {
              "fillmode": "overlay",
              "size": 10,
              "solidity": 0.2
             }
            },
            "type": "histogram"
           }
          ],
          "histogram2d": [
           {
            "colorbar": {
             "outlinewidth": 0,
             "ticks": ""
            },
            "colorscale": [
             [
              0,
              "#0d0887"
             ],
             [
              0.1111111111111111,
              "#46039f"
             ],
             [
              0.2222222222222222,
              "#7201a8"
             ],
             [
              0.3333333333333333,
              "#9c179e"
             ],
             [
              0.4444444444444444,
              "#bd3786"
             ],
             [
              0.5555555555555556,
              "#d8576b"
             ],
             [
              0.6666666666666666,
              "#ed7953"
             ],
             [
              0.7777777777777778,
              "#fb9f3a"
             ],
             [
              0.8888888888888888,
              "#fdca26"
             ],
             [
              1,
              "#f0f921"
             ]
            ],
            "type": "histogram2d"
           }
          ],
          "histogram2dcontour": [
           {
            "colorbar": {
             "outlinewidth": 0,
             "ticks": ""
            },
            "colorscale": [
             [
              0,
              "#0d0887"
             ],
             [
              0.1111111111111111,
              "#46039f"
             ],
             [
              0.2222222222222222,
              "#7201a8"
             ],
             [
              0.3333333333333333,
              "#9c179e"
             ],
             [
              0.4444444444444444,
              "#bd3786"
             ],
             [
              0.5555555555555556,
              "#d8576b"
             ],
             [
              0.6666666666666666,
              "#ed7953"
             ],
             [
              0.7777777777777778,
              "#fb9f3a"
             ],
             [
              0.8888888888888888,
              "#fdca26"
             ],
             [
              1,
              "#f0f921"
             ]
            ],
            "type": "histogram2dcontour"
           }
          ],
          "mesh3d": [
           {
            "colorbar": {
             "outlinewidth": 0,
             "ticks": ""
            },
            "type": "mesh3d"
           }
          ],
          "parcoords": [
           {
            "line": {
             "colorbar": {
              "outlinewidth": 0,
              "ticks": ""
             }
            },
            "type": "parcoords"
           }
          ],
          "pie": [
           {
            "automargin": true,
            "type": "pie"
           }
          ],
          "scatter": [
           {
            "fillpattern": {
             "fillmode": "overlay",
             "size": 10,
             "solidity": 0.2
            },
            "type": "scatter"
           }
          ],
          "scatter3d": [
           {
            "line": {
             "colorbar": {
              "outlinewidth": 0,
              "ticks": ""
             }
            },
            "marker": {
             "colorbar": {
              "outlinewidth": 0,
              "ticks": ""
             }
            },
            "type": "scatter3d"
           }
          ],
          "scattercarpet": [
           {
            "marker": {
             "colorbar": {
              "outlinewidth": 0,
              "ticks": ""
             }
            },
            "type": "scattercarpet"
           }
          ],
          "scattergeo": [
           {
            "marker": {
             "colorbar": {
              "outlinewidth": 0,
              "ticks": ""
             }
            },
            "type": "scattergeo"
           }
          ],
          "scattergl": [
           {
            "marker": {
             "colorbar": {
              "outlinewidth": 0,
              "ticks": ""
             }
            },
            "type": "scattergl"
           }
          ],
          "scattermap": [
           {
            "marker": {
             "colorbar": {
              "outlinewidth": 0,
              "ticks": ""
             }
            },
            "type": "scattermap"
           }
          ],
          "scattermapbox": [
           {
            "marker": {
             "colorbar": {
              "outlinewidth": 0,
              "ticks": ""
             }
            },
            "type": "scattermapbox"
           }
          ],
          "scatterpolar": [
           {
            "marker": {
             "colorbar": {
              "outlinewidth": 0,
              "ticks": ""
             }
            },
            "type": "scatterpolar"
           }
          ],
          "scatterpolargl": [
           {
            "marker": {
             "colorbar": {
              "outlinewidth": 0,
              "ticks": ""
             }
            },
            "type": "scatterpolargl"
           }
          ],
          "scatterternary": [
           {
            "marker": {
             "colorbar": {
              "outlinewidth": 0,
              "ticks": ""
             }
            },
            "type": "scatterternary"
           }
          ],
          "surface": [
           {
            "colorbar": {
             "outlinewidth": 0,
             "ticks": ""
            },
            "colorscale": [
             [
              0,
              "#0d0887"
             ],
             [
              0.1111111111111111,
              "#46039f"
             ],
             [
              0.2222222222222222,
              "#7201a8"
             ],
             [
              0.3333333333333333,
              "#9c179e"
             ],
             [
              0.4444444444444444,
              "#bd3786"
             ],
             [
              0.5555555555555556,
              "#d8576b"
             ],
             [
              0.6666666666666666,
              "#ed7953"
             ],
             [
              0.7777777777777778,
              "#fb9f3a"
             ],
             [
              0.8888888888888888,
              "#fdca26"
             ],
             [
              1,
              "#f0f921"
             ]
            ],
            "type": "surface"
           }
          ],
          "table": [
           {
            "cells": {
             "fill": {
              "color": "#EBF0F8"
             },
             "line": {
              "color": "white"
             }
            },
            "header": {
             "fill": {
              "color": "#C8D4E3"
             },
             "line": {
              "color": "white"
             }
            },
            "type": "table"
           }
          ]
         },
         "layout": {
          "annotationdefaults": {
           "arrowcolor": "#2a3f5f",
           "arrowhead": 0,
           "arrowwidth": 1
          },
          "autotypenumbers": "strict",
          "coloraxis": {
           "colorbar": {
            "outlinewidth": 0,
            "ticks": ""
           }
          },
          "colorscale": {
           "diverging": [
            [
             0,
             "#8e0152"
            ],
            [
             0.1,
             "#c51b7d"
            ],
            [
             0.2,
             "#de77ae"
            ],
            [
             0.3,
             "#f1b6da"
            ],
            [
             0.4,
             "#fde0ef"
            ],
            [
             0.5,
             "#f7f7f7"
            ],
            [
             0.6,
             "#e6f5d0"
            ],
            [
             0.7,
             "#b8e186"
            ],
            [
             0.8,
             "#7fbc41"
            ],
            [
             0.9,
             "#4d9221"
            ],
            [
             1,
             "#276419"
            ]
           ],
           "sequential": [
            [
             0,
             "#0d0887"
            ],
            [
             0.1111111111111111,
             "#46039f"
            ],
            [
             0.2222222222222222,
             "#7201a8"
            ],
            [
             0.3333333333333333,
             "#9c179e"
            ],
            [
             0.4444444444444444,
             "#bd3786"
            ],
            [
             0.5555555555555556,
             "#d8576b"
            ],
            [
             0.6666666666666666,
             "#ed7953"
            ],
            [
             0.7777777777777778,
             "#fb9f3a"
            ],
            [
             0.8888888888888888,
             "#fdca26"
            ],
            [
             1,
             "#f0f921"
            ]
           ],
           "sequentialminus": [
            [
             0,
             "#0d0887"
            ],
            [
             0.1111111111111111,
             "#46039f"
            ],
            [
             0.2222222222222222,
             "#7201a8"
            ],
            [
             0.3333333333333333,
             "#9c179e"
            ],
            [
             0.4444444444444444,
             "#bd3786"
            ],
            [
             0.5555555555555556,
             "#d8576b"
            ],
            [
             0.6666666666666666,
             "#ed7953"
            ],
            [
             0.7777777777777778,
             "#fb9f3a"
            ],
            [
             0.8888888888888888,
             "#fdca26"
            ],
            [
             1,
             "#f0f921"
            ]
           ]
          },
          "colorway": [
           "#636efa",
           "#EF553B",
           "#00cc96",
           "#ab63fa",
           "#FFA15A",
           "#19d3f3",
           "#FF6692",
           "#B6E880",
           "#FF97FF",
           "#FECB52"
          ],
          "font": {
           "color": "#2a3f5f"
          },
          "geo": {
           "bgcolor": "white",
           "lakecolor": "white",
           "landcolor": "#E5ECF6",
           "showlakes": true,
           "showland": true,
           "subunitcolor": "white"
          },
          "hoverlabel": {
           "align": "left"
          },
          "hovermode": "closest",
          "mapbox": {
           "style": "light"
          },
          "paper_bgcolor": "white",
          "plot_bgcolor": "#E5ECF6",
          "polar": {
           "angularaxis": {
            "gridcolor": "white",
            "linecolor": "white",
            "ticks": ""
           },
           "bgcolor": "#E5ECF6",
           "radialaxis": {
            "gridcolor": "white",
            "linecolor": "white",
            "ticks": ""
           }
          },
          "scene": {
           "xaxis": {
            "backgroundcolor": "#E5ECF6",
            "gridcolor": "white",
            "gridwidth": 2,
            "linecolor": "white",
            "showbackground": true,
            "ticks": "",
            "zerolinecolor": "white"
           },
           "yaxis": {
            "backgroundcolor": "#E5ECF6",
            "gridcolor": "white",
            "gridwidth": 2,
            "linecolor": "white",
            "showbackground": true,
            "ticks": "",
            "zerolinecolor": "white"
           },
           "zaxis": {
            "backgroundcolor": "#E5ECF6",
            "gridcolor": "white",
            "gridwidth": 2,
            "linecolor": "white",
            "showbackground": true,
            "ticks": "",
            "zerolinecolor": "white"
           }
          },
          "shapedefaults": {
           "line": {
            "color": "#2a3f5f"
           }
          },
          "ternary": {
           "aaxis": {
            "gridcolor": "white",
            "linecolor": "white",
            "ticks": ""
           },
           "baxis": {
            "gridcolor": "white",
            "linecolor": "white",
            "ticks": ""
           },
           "bgcolor": "#E5ECF6",
           "caxis": {
            "gridcolor": "white",
            "linecolor": "white",
            "ticks": ""
           }
          },
          "title": {
           "x": 0.05
          },
          "xaxis": {
           "automargin": true,
           "gridcolor": "white",
           "linecolor": "white",
           "ticks": "",
           "title": {
            "standoff": 15
           },
           "zerolinecolor": "white",
           "zerolinewidth": 2
          },
          "yaxis": {
           "automargin": true,
           "gridcolor": "white",
           "linecolor": "white",
           "ticks": "",
           "title": {
            "standoff": 15
           },
           "zerolinecolor": "white",
           "zerolinewidth": 2
          }
         }
        },
        "xaxis": {
         "anchor": "y",
         "domain": [
          0,
          0.49
         ],
         "title": {
          "text": "variable"
         }
        },
        "xaxis2": {
         "anchor": "y2",
         "domain": [
          0.51,
          1
         ],
         "matches": "x",
         "title": {
          "text": "variable"
         }
        },
        "yaxis": {
         "anchor": "x",
         "domain": [
          0,
          1
         ],
         "title": {
          "text": "value"
         }
        },
        "yaxis2": {
         "anchor": "x2",
         "domain": [
          0,
          1
         ],
         "matches": "y",
         "showticklabels": false
        }
       }
      },
      "text/html": [
       "<div>            <script src=\"https://cdnjs.cloudflare.com/ajax/libs/mathjax/2.7.5/MathJax.js?config=TeX-AMS-MML_SVG\"></script><script type=\"text/javascript\">if (window.MathJax && window.MathJax.Hub && window.MathJax.Hub.Config) {window.MathJax.Hub.Config({SVG: {font: \"STIX-Web\"}});}</script>                <script type=\"text/javascript\">window.PlotlyConfig = {MathJaxConfig: 'local'};</script>\n",
       "        <script charset=\"utf-8\" src=\"https://cdn.plot.ly/plotly-3.0.1.min.js\"></script>                <div id=\"6ab4b40f-a434-4d43-9c85-0de4d51b9044\" class=\"plotly-graph-div\" style=\"height:525px; width:100%;\"></div>            <script type=\"text/javascript\">                window.PLOTLYENV=window.PLOTLYENV || {};                                if (document.getElementById(\"6ab4b40f-a434-4d43-9c85-0de4d51b9044\")) {                    Plotly.newPlot(                        \"6ab4b40f-a434-4d43-9c85-0de4d51b9044\",                        [{\"hovertemplate\":\"abonement_type=Premium\\u003cbr\\u003evariable=%{x}\\u003cbr\\u003evalue=%{y}\\u003cextra\\u003e\\u003c\\u002fextra\\u003e\",\"legendgroup\":\"\",\"marker\":{\"color\":\"#636efa\",\"pattern\":{\"shape\":\"\"}},\"name\":\"\",\"orientation\":\"v\",\"showlegend\":false,\"textposition\":\"auto\",\"texttemplate\":\"%{y}\",\"x\":[\"Kickboxen\",\"BodyPump\",\"Zumba\",\"XCore\",\"Running\",\"Yoga\",\"LesMiles\",\"Pilates\",\"HIT\",\"Spinning\",\"BodyBalance\"],\"xaxis\":\"x\",\"y\":{\"dtype\":\"i1\",\"bdata\":\"Lz4pJSQoNC0rKyw=\"},\"yaxis\":\"y\",\"type\":\"bar\"},{\"hovertemplate\":\"abonement_type=Standard\\u003cbr\\u003evariable=%{x}\\u003cbr\\u003evalue=%{y}\\u003cextra\\u003e\\u003c\\u002fextra\\u003e\",\"legendgroup\":\"\",\"marker\":{\"color\":\"#636efa\",\"pattern\":{\"shape\":\"\"}},\"name\":\"\",\"orientation\":\"v\",\"showlegend\":false,\"textposition\":\"auto\",\"texttemplate\":\"%{y}\",\"x\":[\"Kickboxen\",\"BodyPump\",\"Zumba\",\"XCore\",\"Running\",\"Yoga\",\"LesMiles\",\"Pilates\",\"HIT\",\"Spinning\",\"BodyBalance\"],\"xaxis\":\"x2\",\"y\":{\"dtype\":\"i1\",\"bdata\":\"JjIoNS4yLzI2Kis=\"},\"yaxis\":\"y2\",\"type\":\"bar\"}],                        {\"template\":{\"data\":{\"histogram2dcontour\":[{\"type\":\"histogram2dcontour\",\"colorbar\":{\"outlinewidth\":0,\"ticks\":\"\"},\"colorscale\":[[0.0,\"#0d0887\"],[0.1111111111111111,\"#46039f\"],[0.2222222222222222,\"#7201a8\"],[0.3333333333333333,\"#9c179e\"],[0.4444444444444444,\"#bd3786\"],[0.5555555555555556,\"#d8576b\"],[0.6666666666666666,\"#ed7953\"],[0.7777777777777778,\"#fb9f3a\"],[0.8888888888888888,\"#fdca26\"],[1.0,\"#f0f921\"]]}],\"choropleth\":[{\"type\":\"choropleth\",\"colorbar\":{\"outlinewidth\":0,\"ticks\":\"\"}}],\"histogram2d\":[{\"type\":\"histogram2d\",\"colorbar\":{\"outlinewidth\":0,\"ticks\":\"\"},\"colorscale\":[[0.0,\"#0d0887\"],[0.1111111111111111,\"#46039f\"],[0.2222222222222222,\"#7201a8\"],[0.3333333333333333,\"#9c179e\"],[0.4444444444444444,\"#bd3786\"],[0.5555555555555556,\"#d8576b\"],[0.6666666666666666,\"#ed7953\"],[0.7777777777777778,\"#fb9f3a\"],[0.8888888888888888,\"#fdca26\"],[1.0,\"#f0f921\"]]}],\"heatmap\":[{\"type\":\"heatmap\",\"colorbar\":{\"outlinewidth\":0,\"ticks\":\"\"},\"colorscale\":[[0.0,\"#0d0887\"],[0.1111111111111111,\"#46039f\"],[0.2222222222222222,\"#7201a8\"],[0.3333333333333333,\"#9c179e\"],[0.4444444444444444,\"#bd3786\"],[0.5555555555555556,\"#d8576b\"],[0.6666666666666666,\"#ed7953\"],[0.7777777777777778,\"#fb9f3a\"],[0.8888888888888888,\"#fdca26\"],[1.0,\"#f0f921\"]]}],\"contourcarpet\":[{\"type\":\"contourcarpet\",\"colorbar\":{\"outlinewidth\":0,\"ticks\":\"\"}}],\"contour\":[{\"type\":\"contour\",\"colorbar\":{\"outlinewidth\":0,\"ticks\":\"\"},\"colorscale\":[[0.0,\"#0d0887\"],[0.1111111111111111,\"#46039f\"],[0.2222222222222222,\"#7201a8\"],[0.3333333333333333,\"#9c179e\"],[0.4444444444444444,\"#bd3786\"],[0.5555555555555556,\"#d8576b\"],[0.6666666666666666,\"#ed7953\"],[0.7777777777777778,\"#fb9f3a\"],[0.8888888888888888,\"#fdca26\"],[1.0,\"#f0f921\"]]}],\"surface\":[{\"type\":\"surface\",\"colorbar\":{\"outlinewidth\":0,\"ticks\":\"\"},\"colorscale\":[[0.0,\"#0d0887\"],[0.1111111111111111,\"#46039f\"],[0.2222222222222222,\"#7201a8\"],[0.3333333333333333,\"#9c179e\"],[0.4444444444444444,\"#bd3786\"],[0.5555555555555556,\"#d8576b\"],[0.6666666666666666,\"#ed7953\"],[0.7777777777777778,\"#fb9f3a\"],[0.8888888888888888,\"#fdca26\"],[1.0,\"#f0f921\"]]}],\"mesh3d\":[{\"type\":\"mesh3d\",\"colorbar\":{\"outlinewidth\":0,\"ticks\":\"\"}}],\"scatter\":[{\"fillpattern\":{\"fillmode\":\"overlay\",\"size\":10,\"solidity\":0.2},\"type\":\"scatter\"}],\"parcoords\":[{\"type\":\"parcoords\",\"line\":{\"colorbar\":{\"outlinewidth\":0,\"ticks\":\"\"}}}],\"scatterpolargl\":[{\"type\":\"scatterpolargl\",\"marker\":{\"colorbar\":{\"outlinewidth\":0,\"ticks\":\"\"}}}],\"bar\":[{\"error_x\":{\"color\":\"#2a3f5f\"},\"error_y\":{\"color\":\"#2a3f5f\"},\"marker\":{\"line\":{\"color\":\"#E5ECF6\",\"width\":0.5},\"pattern\":{\"fillmode\":\"overlay\",\"size\":10,\"solidity\":0.2}},\"type\":\"bar\"}],\"scattergeo\":[{\"type\":\"scattergeo\",\"marker\":{\"colorbar\":{\"outlinewidth\":0,\"ticks\":\"\"}}}],\"scatterpolar\":[{\"type\":\"scatterpolar\",\"marker\":{\"colorbar\":{\"outlinewidth\":0,\"ticks\":\"\"}}}],\"histogram\":[{\"marker\":{\"pattern\":{\"fillmode\":\"overlay\",\"size\":10,\"solidity\":0.2}},\"type\":\"histogram\"}],\"scattergl\":[{\"type\":\"scattergl\",\"marker\":{\"colorbar\":{\"outlinewidth\":0,\"ticks\":\"\"}}}],\"scatter3d\":[{\"type\":\"scatter3d\",\"line\":{\"colorbar\":{\"outlinewidth\":0,\"ticks\":\"\"}},\"marker\":{\"colorbar\":{\"outlinewidth\":0,\"ticks\":\"\"}}}],\"scattermap\":[{\"type\":\"scattermap\",\"marker\":{\"colorbar\":{\"outlinewidth\":0,\"ticks\":\"\"}}}],\"scattermapbox\":[{\"type\":\"scattermapbox\",\"marker\":{\"colorbar\":{\"outlinewidth\":0,\"ticks\":\"\"}}}],\"scatterternary\":[{\"type\":\"scatterternary\",\"marker\":{\"colorbar\":{\"outlinewidth\":0,\"ticks\":\"\"}}}],\"scattercarpet\":[{\"type\":\"scattercarpet\",\"marker\":{\"colorbar\":{\"outlinewidth\":0,\"ticks\":\"\"}}}],\"carpet\":[{\"aaxis\":{\"endlinecolor\":\"#2a3f5f\",\"gridcolor\":\"white\",\"linecolor\":\"white\",\"minorgridcolor\":\"white\",\"startlinecolor\":\"#2a3f5f\"},\"baxis\":{\"endlinecolor\":\"#2a3f5f\",\"gridcolor\":\"white\",\"linecolor\":\"white\",\"minorgridcolor\":\"white\",\"startlinecolor\":\"#2a3f5f\"},\"type\":\"carpet\"}],\"table\":[{\"cells\":{\"fill\":{\"color\":\"#EBF0F8\"},\"line\":{\"color\":\"white\"}},\"header\":{\"fill\":{\"color\":\"#C8D4E3\"},\"line\":{\"color\":\"white\"}},\"type\":\"table\"}],\"barpolar\":[{\"marker\":{\"line\":{\"color\":\"#E5ECF6\",\"width\":0.5},\"pattern\":{\"fillmode\":\"overlay\",\"size\":10,\"solidity\":0.2}},\"type\":\"barpolar\"}],\"pie\":[{\"automargin\":true,\"type\":\"pie\"}]},\"layout\":{\"autotypenumbers\":\"strict\",\"colorway\":[\"#636efa\",\"#EF553B\",\"#00cc96\",\"#ab63fa\",\"#FFA15A\",\"#19d3f3\",\"#FF6692\",\"#B6E880\",\"#FF97FF\",\"#FECB52\"],\"font\":{\"color\":\"#2a3f5f\"},\"hovermode\":\"closest\",\"hoverlabel\":{\"align\":\"left\"},\"paper_bgcolor\":\"white\",\"plot_bgcolor\":\"#E5ECF6\",\"polar\":{\"bgcolor\":\"#E5ECF6\",\"angularaxis\":{\"gridcolor\":\"white\",\"linecolor\":\"white\",\"ticks\":\"\"},\"radialaxis\":{\"gridcolor\":\"white\",\"linecolor\":\"white\",\"ticks\":\"\"}},\"ternary\":{\"bgcolor\":\"#E5ECF6\",\"aaxis\":{\"gridcolor\":\"white\",\"linecolor\":\"white\",\"ticks\":\"\"},\"baxis\":{\"gridcolor\":\"white\",\"linecolor\":\"white\",\"ticks\":\"\"},\"caxis\":{\"gridcolor\":\"white\",\"linecolor\":\"white\",\"ticks\":\"\"}},\"coloraxis\":{\"colorbar\":{\"outlinewidth\":0,\"ticks\":\"\"}},\"colorscale\":{\"sequential\":[[0.0,\"#0d0887\"],[0.1111111111111111,\"#46039f\"],[0.2222222222222222,\"#7201a8\"],[0.3333333333333333,\"#9c179e\"],[0.4444444444444444,\"#bd3786\"],[0.5555555555555556,\"#d8576b\"],[0.6666666666666666,\"#ed7953\"],[0.7777777777777778,\"#fb9f3a\"],[0.8888888888888888,\"#fdca26\"],[1.0,\"#f0f921\"]],\"sequentialminus\":[[0.0,\"#0d0887\"],[0.1111111111111111,\"#46039f\"],[0.2222222222222222,\"#7201a8\"],[0.3333333333333333,\"#9c179e\"],[0.4444444444444444,\"#bd3786\"],[0.5555555555555556,\"#d8576b\"],[0.6666666666666666,\"#ed7953\"],[0.7777777777777778,\"#fb9f3a\"],[0.8888888888888888,\"#fdca26\"],[1.0,\"#f0f921\"]],\"diverging\":[[0,\"#8e0152\"],[0.1,\"#c51b7d\"],[0.2,\"#de77ae\"],[0.3,\"#f1b6da\"],[0.4,\"#fde0ef\"],[0.5,\"#f7f7f7\"],[0.6,\"#e6f5d0\"],[0.7,\"#b8e186\"],[0.8,\"#7fbc41\"],[0.9,\"#4d9221\"],[1,\"#276419\"]]},\"xaxis\":{\"gridcolor\":\"white\",\"linecolor\":\"white\",\"ticks\":\"\",\"title\":{\"standoff\":15},\"zerolinecolor\":\"white\",\"automargin\":true,\"zerolinewidth\":2},\"yaxis\":{\"gridcolor\":\"white\",\"linecolor\":\"white\",\"ticks\":\"\",\"title\":{\"standoff\":15},\"zerolinecolor\":\"white\",\"automargin\":true,\"zerolinewidth\":2},\"scene\":{\"xaxis\":{\"backgroundcolor\":\"#E5ECF6\",\"gridcolor\":\"white\",\"linecolor\":\"white\",\"showbackground\":true,\"ticks\":\"\",\"zerolinecolor\":\"white\",\"gridwidth\":2},\"yaxis\":{\"backgroundcolor\":\"#E5ECF6\",\"gridcolor\":\"white\",\"linecolor\":\"white\",\"showbackground\":true,\"ticks\":\"\",\"zerolinecolor\":\"white\",\"gridwidth\":2},\"zaxis\":{\"backgroundcolor\":\"#E5ECF6\",\"gridcolor\":\"white\",\"linecolor\":\"white\",\"showbackground\":true,\"ticks\":\"\",\"zerolinecolor\":\"white\",\"gridwidth\":2}},\"shapedefaults\":{\"line\":{\"color\":\"#2a3f5f\"}},\"annotationdefaults\":{\"arrowcolor\":\"#2a3f5f\",\"arrowhead\":0,\"arrowwidth\":1},\"geo\":{\"bgcolor\":\"white\",\"landcolor\":\"#E5ECF6\",\"subunitcolor\":\"white\",\"showland\":true,\"showlakes\":true,\"lakecolor\":\"white\"},\"title\":{\"x\":0.05},\"mapbox\":{\"style\":\"light\"}}},\"xaxis\":{\"anchor\":\"y\",\"domain\":[0.0,0.49],\"title\":{\"text\":\"variable\"}},\"yaxis\":{\"anchor\":\"x\",\"domain\":[0.0,1.0],\"title\":{\"text\":\"value\"}},\"xaxis2\":{\"anchor\":\"y2\",\"domain\":[0.51,1.0],\"matches\":\"x\",\"title\":{\"text\":\"variable\"}},\"yaxis2\":{\"anchor\":\"x2\",\"domain\":[0.0,1.0],\"matches\":\"y\",\"showticklabels\":false},\"annotations\":[{\"font\":{},\"showarrow\":false,\"text\":\"abonement_type=Premium\",\"x\":0.245,\"xanchor\":\"center\",\"xref\":\"paper\",\"y\":1.0,\"yanchor\":\"bottom\",\"yref\":\"paper\"},{\"font\":{},\"showarrow\":false,\"text\":\"abonement_type=Standard\",\"x\":0.755,\"xanchor\":\"center\",\"xref\":\"paper\",\"y\":1.0,\"yanchor\":\"bottom\",\"yref\":\"paper\"}],\"legend\":{\"tracegroupgap\":0},\"margin\":{\"t\":60},\"barmode\":\"relative\"},                        {\"responsive\": true}                    ).then(function(){\n",
       "                            \n",
       "var gd = document.getElementById('6ab4b40f-a434-4d43-9c85-0de4d51b9044');\n",
       "var x = new MutationObserver(function (mutations, observer) {{\n",
       "        var display = window.getComputedStyle(gd).display;\n",
       "        if (!display || display === 'none') {{\n",
       "            console.log([gd, 'removed!']);\n",
       "            Plotly.purge(gd);\n",
       "            observer.disconnect();\n",
       "        }}\n",
       "}});\n",
       "\n",
       "// Listen for the removal of the full notebook cells\n",
       "var notebookContainer = gd.closest('#notebook-container');\n",
       "if (notebookContainer) {{\n",
       "    x.observe(notebookContainer, {childList: true});\n",
       "}}\n",
       "\n",
       "// Listen for the clearing of the current output cell\n",
       "var outputEl = gd.closest('.output');\n",
       "if (outputEl) {{\n",
       "    x.observe(outputEl, {childList: true});\n",
       "}}\n",
       "\n",
       "                        })                };            </script>        </div>"
      ]
     },
     "metadata": {},
     "output_type": "display_data"
    }
   ],
   "source": [
    "#группвые/абонемент\n",
    "df_dummies = df['fav_group_lesson'].str.get_dummies(sep=', ')\n",
    "df_extended = pd.concat([df, df_dummies], axis=1)\n",
    "\n",
    "lst = pd.unique(group_lessons).tolist()\n",
    "lst.append('abonement_type')\n",
    "fav_gr_lesson = df_extended[lst].groupby('abonement_type').agg('sum')\n",
    "fav_gr_lesson = fav_gr_lesson.reset_index().melt(id_vars='abonement_type')\n",
    "\n",
    "\n",
    "px.bar(data_frame=fav_gr_lesson[fav_gr_lesson['variable']!='No'],\n",
    "       x='variable',\n",
    "       y='value',\n",
    "       facet_col='abonement_type',\n",
    "       text_auto=True)"
   ]
  },
  {
   "cell_type": "code",
   "execution_count": 21,
   "id": "346e470d",
   "metadata": {},
   "outputs": [
    {
     "data": {
      "application/vnd.plotly.v1+json": {
       "config": {
        "plotlyServerURL": "https://plot.ly"
       },
       "data": [
        {
         "hovertemplate": "variable=count<br>fav_drink=%{x}<br>value=%{y}<extra></extra>",
         "legendgroup": "count",
         "marker": {
          "color": "#636efa",
          "pattern": {
           "shape": ""
          }
         },
         "name": "count",
         "orientation": "v",
         "showlegend": true,
         "textposition": "auto",
         "texttemplate": "%{y}",
         "type": "bar",
         "x": [
          "coconut_pineapple",
          "orange",
          "passion_fruit",
          "lemon",
          "berry_boost",
          "black_currant"
         ],
         "xaxis": "x",
         "y": {
          "bdata": "hgB+AHcAcwByAG8A",
          "dtype": "i2"
         },
         "yaxis": "y"
        }
       ],
       "layout": {
        "barmode": "relative",
        "legend": {
         "title": {
          "text": "variable"
         },
         "tracegroupgap": 0
        },
        "margin": {
         "t": 60
        },
        "template": {
         "data": {
          "bar": [
           {
            "error_x": {
             "color": "#2a3f5f"
            },
            "error_y": {
             "color": "#2a3f5f"
            },
            "marker": {
             "line": {
              "color": "#E5ECF6",
              "width": 0.5
             },
             "pattern": {
              "fillmode": "overlay",
              "size": 10,
              "solidity": 0.2
             }
            },
            "type": "bar"
           }
          ],
          "barpolar": [
           {
            "marker": {
             "line": {
              "color": "#E5ECF6",
              "width": 0.5
             },
             "pattern": {
              "fillmode": "overlay",
              "size": 10,
              "solidity": 0.2
             }
            },
            "type": "barpolar"
           }
          ],
          "carpet": [
           {
            "aaxis": {
             "endlinecolor": "#2a3f5f",
             "gridcolor": "white",
             "linecolor": "white",
             "minorgridcolor": "white",
             "startlinecolor": "#2a3f5f"
            },
            "baxis": {
             "endlinecolor": "#2a3f5f",
             "gridcolor": "white",
             "linecolor": "white",
             "minorgridcolor": "white",
             "startlinecolor": "#2a3f5f"
            },
            "type": "carpet"
           }
          ],
          "choropleth": [
           {
            "colorbar": {
             "outlinewidth": 0,
             "ticks": ""
            },
            "type": "choropleth"
           }
          ],
          "contour": [
           {
            "colorbar": {
             "outlinewidth": 0,
             "ticks": ""
            },
            "colorscale": [
             [
              0,
              "#0d0887"
             ],
             [
              0.1111111111111111,
              "#46039f"
             ],
             [
              0.2222222222222222,
              "#7201a8"
             ],
             [
              0.3333333333333333,
              "#9c179e"
             ],
             [
              0.4444444444444444,
              "#bd3786"
             ],
             [
              0.5555555555555556,
              "#d8576b"
             ],
             [
              0.6666666666666666,
              "#ed7953"
             ],
             [
              0.7777777777777778,
              "#fb9f3a"
             ],
             [
              0.8888888888888888,
              "#fdca26"
             ],
             [
              1,
              "#f0f921"
             ]
            ],
            "type": "contour"
           }
          ],
          "contourcarpet": [
           {
            "colorbar": {
             "outlinewidth": 0,
             "ticks": ""
            },
            "type": "contourcarpet"
           }
          ],
          "heatmap": [
           {
            "colorbar": {
             "outlinewidth": 0,
             "ticks": ""
            },
            "colorscale": [
             [
              0,
              "#0d0887"
             ],
             [
              0.1111111111111111,
              "#46039f"
             ],
             [
              0.2222222222222222,
              "#7201a8"
             ],
             [
              0.3333333333333333,
              "#9c179e"
             ],
             [
              0.4444444444444444,
              "#bd3786"
             ],
             [
              0.5555555555555556,
              "#d8576b"
             ],
             [
              0.6666666666666666,
              "#ed7953"
             ],
             [
              0.7777777777777778,
              "#fb9f3a"
             ],
             [
              0.8888888888888888,
              "#fdca26"
             ],
             [
              1,
              "#f0f921"
             ]
            ],
            "type": "heatmap"
           }
          ],
          "histogram": [
           {
            "marker": {
             "pattern": {
              "fillmode": "overlay",
              "size": 10,
              "solidity": 0.2
             }
            },
            "type": "histogram"
           }
          ],
          "histogram2d": [
           {
            "colorbar": {
             "outlinewidth": 0,
             "ticks": ""
            },
            "colorscale": [
             [
              0,
              "#0d0887"
             ],
             [
              0.1111111111111111,
              "#46039f"
             ],
             [
              0.2222222222222222,
              "#7201a8"
             ],
             [
              0.3333333333333333,
              "#9c179e"
             ],
             [
              0.4444444444444444,
              "#bd3786"
             ],
             [
              0.5555555555555556,
              "#d8576b"
             ],
             [
              0.6666666666666666,
              "#ed7953"
             ],
             [
              0.7777777777777778,
              "#fb9f3a"
             ],
             [
              0.8888888888888888,
              "#fdca26"
             ],
             [
              1,
              "#f0f921"
             ]
            ],
            "type": "histogram2d"
           }
          ],
          "histogram2dcontour": [
           {
            "colorbar": {
             "outlinewidth": 0,
             "ticks": ""
            },
            "colorscale": [
             [
              0,
              "#0d0887"
             ],
             [
              0.1111111111111111,
              "#46039f"
             ],
             [
              0.2222222222222222,
              "#7201a8"
             ],
             [
              0.3333333333333333,
              "#9c179e"
             ],
             [
              0.4444444444444444,
              "#bd3786"
             ],
             [
              0.5555555555555556,
              "#d8576b"
             ],
             [
              0.6666666666666666,
              "#ed7953"
             ],
             [
              0.7777777777777778,
              "#fb9f3a"
             ],
             [
              0.8888888888888888,
              "#fdca26"
             ],
             [
              1,
              "#f0f921"
             ]
            ],
            "type": "histogram2dcontour"
           }
          ],
          "mesh3d": [
           {
            "colorbar": {
             "outlinewidth": 0,
             "ticks": ""
            },
            "type": "mesh3d"
           }
          ],
          "parcoords": [
           {
            "line": {
             "colorbar": {
              "outlinewidth": 0,
              "ticks": ""
             }
            },
            "type": "parcoords"
           }
          ],
          "pie": [
           {
            "automargin": true,
            "type": "pie"
           }
          ],
          "scatter": [
           {
            "fillpattern": {
             "fillmode": "overlay",
             "size": 10,
             "solidity": 0.2
            },
            "type": "scatter"
           }
          ],
          "scatter3d": [
           {
            "line": {
             "colorbar": {
              "outlinewidth": 0,
              "ticks": ""
             }
            },
            "marker": {
             "colorbar": {
              "outlinewidth": 0,
              "ticks": ""
             }
            },
            "type": "scatter3d"
           }
          ],
          "scattercarpet": [
           {
            "marker": {
             "colorbar": {
              "outlinewidth": 0,
              "ticks": ""
             }
            },
            "type": "scattercarpet"
           }
          ],
          "scattergeo": [
           {
            "marker": {
             "colorbar": {
              "outlinewidth": 0,
              "ticks": ""
             }
            },
            "type": "scattergeo"
           }
          ],
          "scattergl": [
           {
            "marker": {
             "colorbar": {
              "outlinewidth": 0,
              "ticks": ""
             }
            },
            "type": "scattergl"
           }
          ],
          "scattermap": [
           {
            "marker": {
             "colorbar": {
              "outlinewidth": 0,
              "ticks": ""
             }
            },
            "type": "scattermap"
           }
          ],
          "scattermapbox": [
           {
            "marker": {
             "colorbar": {
              "outlinewidth": 0,
              "ticks": ""
             }
            },
            "type": "scattermapbox"
           }
          ],
          "scatterpolar": [
           {
            "marker": {
             "colorbar": {
              "outlinewidth": 0,
              "ticks": ""
             }
            },
            "type": "scatterpolar"
           }
          ],
          "scatterpolargl": [
           {
            "marker": {
             "colorbar": {
              "outlinewidth": 0,
              "ticks": ""
             }
            },
            "type": "scatterpolargl"
           }
          ],
          "scatterternary": [
           {
            "marker": {
             "colorbar": {
              "outlinewidth": 0,
              "ticks": ""
             }
            },
            "type": "scatterternary"
           }
          ],
          "surface": [
           {
            "colorbar": {
             "outlinewidth": 0,
             "ticks": ""
            },
            "colorscale": [
             [
              0,
              "#0d0887"
             ],
             [
              0.1111111111111111,
              "#46039f"
             ],
             [
              0.2222222222222222,
              "#7201a8"
             ],
             [
              0.3333333333333333,
              "#9c179e"
             ],
             [
              0.4444444444444444,
              "#bd3786"
             ],
             [
              0.5555555555555556,
              "#d8576b"
             ],
             [
              0.6666666666666666,
              "#ed7953"
             ],
             [
              0.7777777777777778,
              "#fb9f3a"
             ],
             [
              0.8888888888888888,
              "#fdca26"
             ],
             [
              1,
              "#f0f921"
             ]
            ],
            "type": "surface"
           }
          ],
          "table": [
           {
            "cells": {
             "fill": {
              "color": "#EBF0F8"
             },
             "line": {
              "color": "white"
             }
            },
            "header": {
             "fill": {
              "color": "#C8D4E3"
             },
             "line": {
              "color": "white"
             }
            },
            "type": "table"
           }
          ]
         },
         "layout": {
          "annotationdefaults": {
           "arrowcolor": "#2a3f5f",
           "arrowhead": 0,
           "arrowwidth": 1
          },
          "autotypenumbers": "strict",
          "coloraxis": {
           "colorbar": {
            "outlinewidth": 0,
            "ticks": ""
           }
          },
          "colorscale": {
           "diverging": [
            [
             0,
             "#8e0152"
            ],
            [
             0.1,
             "#c51b7d"
            ],
            [
             0.2,
             "#de77ae"
            ],
            [
             0.3,
             "#f1b6da"
            ],
            [
             0.4,
             "#fde0ef"
            ],
            [
             0.5,
             "#f7f7f7"
            ],
            [
             0.6,
             "#e6f5d0"
            ],
            [
             0.7,
             "#b8e186"
            ],
            [
             0.8,
             "#7fbc41"
            ],
            [
             0.9,
             "#4d9221"
            ],
            [
             1,
             "#276419"
            ]
           ],
           "sequential": [
            [
             0,
             "#0d0887"
            ],
            [
             0.1111111111111111,
             "#46039f"
            ],
            [
             0.2222222222222222,
             "#7201a8"
            ],
            [
             0.3333333333333333,
             "#9c179e"
            ],
            [
             0.4444444444444444,
             "#bd3786"
            ],
            [
             0.5555555555555556,
             "#d8576b"
            ],
            [
             0.6666666666666666,
             "#ed7953"
            ],
            [
             0.7777777777777778,
             "#fb9f3a"
            ],
            [
             0.8888888888888888,
             "#fdca26"
            ],
            [
             1,
             "#f0f921"
            ]
           ],
           "sequentialminus": [
            [
             0,
             "#0d0887"
            ],
            [
             0.1111111111111111,
             "#46039f"
            ],
            [
             0.2222222222222222,
             "#7201a8"
            ],
            [
             0.3333333333333333,
             "#9c179e"
            ],
            [
             0.4444444444444444,
             "#bd3786"
            ],
            [
             0.5555555555555556,
             "#d8576b"
            ],
            [
             0.6666666666666666,
             "#ed7953"
            ],
            [
             0.7777777777777778,
             "#fb9f3a"
            ],
            [
             0.8888888888888888,
             "#fdca26"
            ],
            [
             1,
             "#f0f921"
            ]
           ]
          },
          "colorway": [
           "#636efa",
           "#EF553B",
           "#00cc96",
           "#ab63fa",
           "#FFA15A",
           "#19d3f3",
           "#FF6692",
           "#B6E880",
           "#FF97FF",
           "#FECB52"
          ],
          "font": {
           "color": "#2a3f5f"
          },
          "geo": {
           "bgcolor": "white",
           "lakecolor": "white",
           "landcolor": "#E5ECF6",
           "showlakes": true,
           "showland": true,
           "subunitcolor": "white"
          },
          "hoverlabel": {
           "align": "left"
          },
          "hovermode": "closest",
          "mapbox": {
           "style": "light"
          },
          "paper_bgcolor": "white",
          "plot_bgcolor": "#E5ECF6",
          "polar": {
           "angularaxis": {
            "gridcolor": "white",
            "linecolor": "white",
            "ticks": ""
           },
           "bgcolor": "#E5ECF6",
           "radialaxis": {
            "gridcolor": "white",
            "linecolor": "white",
            "ticks": ""
           }
          },
          "scene": {
           "xaxis": {
            "backgroundcolor": "#E5ECF6",
            "gridcolor": "white",
            "gridwidth": 2,
            "linecolor": "white",
            "showbackground": true,
            "ticks": "",
            "zerolinecolor": "white"
           },
           "yaxis": {
            "backgroundcolor": "#E5ECF6",
            "gridcolor": "white",
            "gridwidth": 2,
            "linecolor": "white",
            "showbackground": true,
            "ticks": "",
            "zerolinecolor": "white"
           },
           "zaxis": {
            "backgroundcolor": "#E5ECF6",
            "gridcolor": "white",
            "gridwidth": 2,
            "linecolor": "white",
            "showbackground": true,
            "ticks": "",
            "zerolinecolor": "white"
           }
          },
          "shapedefaults": {
           "line": {
            "color": "#2a3f5f"
           }
          },
          "ternary": {
           "aaxis": {
            "gridcolor": "white",
            "linecolor": "white",
            "ticks": ""
           },
           "baxis": {
            "gridcolor": "white",
            "linecolor": "white",
            "ticks": ""
           },
           "bgcolor": "#E5ECF6",
           "caxis": {
            "gridcolor": "white",
            "linecolor": "white",
            "ticks": ""
           }
          },
          "title": {
           "x": 0.05
          },
          "xaxis": {
           "automargin": true,
           "gridcolor": "white",
           "linecolor": "white",
           "ticks": "",
           "title": {
            "standoff": 15
           },
           "zerolinecolor": "white",
           "zerolinewidth": 2
          },
          "yaxis": {
           "automargin": true,
           "gridcolor": "white",
           "linecolor": "white",
           "ticks": "",
           "title": {
            "standoff": 15
           },
           "zerolinecolor": "white",
           "zerolinewidth": 2
          }
         }
        },
        "title": {
         "text": "Любимые напитки",
         "x": 0.5
        },
        "xaxis": {
         "anchor": "y",
         "domain": [
          0,
          1
         ],
         "title": {
          "text": "fav_drink"
         }
        },
        "yaxis": {
         "anchor": "x",
         "domain": [
          0,
          1
         ],
         "title": {
          "text": "value"
         }
        }
       }
      },
      "text/html": [
       "<div>            <script src=\"https://cdnjs.cloudflare.com/ajax/libs/mathjax/2.7.5/MathJax.js?config=TeX-AMS-MML_SVG\"></script><script type=\"text/javascript\">if (window.MathJax && window.MathJax.Hub && window.MathJax.Hub.Config) {window.MathJax.Hub.Config({SVG: {font: \"STIX-Web\"}});}</script>                <script type=\"text/javascript\">window.PlotlyConfig = {MathJaxConfig: 'local'};</script>\n",
       "        <script charset=\"utf-8\" src=\"https://cdn.plot.ly/plotly-3.0.1.min.js\"></script>                <div id=\"1f473eba-66a8-4922-95db-43a0d431c774\" class=\"plotly-graph-div\" style=\"height:525px; width:100%;\"></div>            <script type=\"text/javascript\">                window.PLOTLYENV=window.PLOTLYENV || {};                                if (document.getElementById(\"1f473eba-66a8-4922-95db-43a0d431c774\")) {                    Plotly.newPlot(                        \"1f473eba-66a8-4922-95db-43a0d431c774\",                        [{\"hovertemplate\":\"variable=count\\u003cbr\\u003efav_drink=%{x}\\u003cbr\\u003evalue=%{y}\\u003cextra\\u003e\\u003c\\u002fextra\\u003e\",\"legendgroup\":\"count\",\"marker\":{\"color\":\"#636efa\",\"pattern\":{\"shape\":\"\"}},\"name\":\"count\",\"orientation\":\"v\",\"showlegend\":true,\"textposition\":\"auto\",\"texttemplate\":\"%{y}\",\"x\":[\"coconut_pineapple\",\"orange\",\"passion_fruit\",\"lemon\",\"berry_boost\",\"black_currant\"],\"xaxis\":\"x\",\"y\":{\"dtype\":\"i2\",\"bdata\":\"hgB+AHcAcwByAG8A\"},\"yaxis\":\"y\",\"type\":\"bar\"}],                        {\"template\":{\"data\":{\"histogram2dcontour\":[{\"type\":\"histogram2dcontour\",\"colorbar\":{\"outlinewidth\":0,\"ticks\":\"\"},\"colorscale\":[[0.0,\"#0d0887\"],[0.1111111111111111,\"#46039f\"],[0.2222222222222222,\"#7201a8\"],[0.3333333333333333,\"#9c179e\"],[0.4444444444444444,\"#bd3786\"],[0.5555555555555556,\"#d8576b\"],[0.6666666666666666,\"#ed7953\"],[0.7777777777777778,\"#fb9f3a\"],[0.8888888888888888,\"#fdca26\"],[1.0,\"#f0f921\"]]}],\"choropleth\":[{\"type\":\"choropleth\",\"colorbar\":{\"outlinewidth\":0,\"ticks\":\"\"}}],\"histogram2d\":[{\"type\":\"histogram2d\",\"colorbar\":{\"outlinewidth\":0,\"ticks\":\"\"},\"colorscale\":[[0.0,\"#0d0887\"],[0.1111111111111111,\"#46039f\"],[0.2222222222222222,\"#7201a8\"],[0.3333333333333333,\"#9c179e\"],[0.4444444444444444,\"#bd3786\"],[0.5555555555555556,\"#d8576b\"],[0.6666666666666666,\"#ed7953\"],[0.7777777777777778,\"#fb9f3a\"],[0.8888888888888888,\"#fdca26\"],[1.0,\"#f0f921\"]]}],\"heatmap\":[{\"type\":\"heatmap\",\"colorbar\":{\"outlinewidth\":0,\"ticks\":\"\"},\"colorscale\":[[0.0,\"#0d0887\"],[0.1111111111111111,\"#46039f\"],[0.2222222222222222,\"#7201a8\"],[0.3333333333333333,\"#9c179e\"],[0.4444444444444444,\"#bd3786\"],[0.5555555555555556,\"#d8576b\"],[0.6666666666666666,\"#ed7953\"],[0.7777777777777778,\"#fb9f3a\"],[0.8888888888888888,\"#fdca26\"],[1.0,\"#f0f921\"]]}],\"contourcarpet\":[{\"type\":\"contourcarpet\",\"colorbar\":{\"outlinewidth\":0,\"ticks\":\"\"}}],\"contour\":[{\"type\":\"contour\",\"colorbar\":{\"outlinewidth\":0,\"ticks\":\"\"},\"colorscale\":[[0.0,\"#0d0887\"],[0.1111111111111111,\"#46039f\"],[0.2222222222222222,\"#7201a8\"],[0.3333333333333333,\"#9c179e\"],[0.4444444444444444,\"#bd3786\"],[0.5555555555555556,\"#d8576b\"],[0.6666666666666666,\"#ed7953\"],[0.7777777777777778,\"#fb9f3a\"],[0.8888888888888888,\"#fdca26\"],[1.0,\"#f0f921\"]]}],\"surface\":[{\"type\":\"surface\",\"colorbar\":{\"outlinewidth\":0,\"ticks\":\"\"},\"colorscale\":[[0.0,\"#0d0887\"],[0.1111111111111111,\"#46039f\"],[0.2222222222222222,\"#7201a8\"],[0.3333333333333333,\"#9c179e\"],[0.4444444444444444,\"#bd3786\"],[0.5555555555555556,\"#d8576b\"],[0.6666666666666666,\"#ed7953\"],[0.7777777777777778,\"#fb9f3a\"],[0.8888888888888888,\"#fdca26\"],[1.0,\"#f0f921\"]]}],\"mesh3d\":[{\"type\":\"mesh3d\",\"colorbar\":{\"outlinewidth\":0,\"ticks\":\"\"}}],\"scatter\":[{\"fillpattern\":{\"fillmode\":\"overlay\",\"size\":10,\"solidity\":0.2},\"type\":\"scatter\"}],\"parcoords\":[{\"type\":\"parcoords\",\"line\":{\"colorbar\":{\"outlinewidth\":0,\"ticks\":\"\"}}}],\"scatterpolargl\":[{\"type\":\"scatterpolargl\",\"marker\":{\"colorbar\":{\"outlinewidth\":0,\"ticks\":\"\"}}}],\"bar\":[{\"error_x\":{\"color\":\"#2a3f5f\"},\"error_y\":{\"color\":\"#2a3f5f\"},\"marker\":{\"line\":{\"color\":\"#E5ECF6\",\"width\":0.5},\"pattern\":{\"fillmode\":\"overlay\",\"size\":10,\"solidity\":0.2}},\"type\":\"bar\"}],\"scattergeo\":[{\"type\":\"scattergeo\",\"marker\":{\"colorbar\":{\"outlinewidth\":0,\"ticks\":\"\"}}}],\"scatterpolar\":[{\"type\":\"scatterpolar\",\"marker\":{\"colorbar\":{\"outlinewidth\":0,\"ticks\":\"\"}}}],\"histogram\":[{\"marker\":{\"pattern\":{\"fillmode\":\"overlay\",\"size\":10,\"solidity\":0.2}},\"type\":\"histogram\"}],\"scattergl\":[{\"type\":\"scattergl\",\"marker\":{\"colorbar\":{\"outlinewidth\":0,\"ticks\":\"\"}}}],\"scatter3d\":[{\"type\":\"scatter3d\",\"line\":{\"colorbar\":{\"outlinewidth\":0,\"ticks\":\"\"}},\"marker\":{\"colorbar\":{\"outlinewidth\":0,\"ticks\":\"\"}}}],\"scattermap\":[{\"type\":\"scattermap\",\"marker\":{\"colorbar\":{\"outlinewidth\":0,\"ticks\":\"\"}}}],\"scattermapbox\":[{\"type\":\"scattermapbox\",\"marker\":{\"colorbar\":{\"outlinewidth\":0,\"ticks\":\"\"}}}],\"scatterternary\":[{\"type\":\"scatterternary\",\"marker\":{\"colorbar\":{\"outlinewidth\":0,\"ticks\":\"\"}}}],\"scattercarpet\":[{\"type\":\"scattercarpet\",\"marker\":{\"colorbar\":{\"outlinewidth\":0,\"ticks\":\"\"}}}],\"carpet\":[{\"aaxis\":{\"endlinecolor\":\"#2a3f5f\",\"gridcolor\":\"white\",\"linecolor\":\"white\",\"minorgridcolor\":\"white\",\"startlinecolor\":\"#2a3f5f\"},\"baxis\":{\"endlinecolor\":\"#2a3f5f\",\"gridcolor\":\"white\",\"linecolor\":\"white\",\"minorgridcolor\":\"white\",\"startlinecolor\":\"#2a3f5f\"},\"type\":\"carpet\"}],\"table\":[{\"cells\":{\"fill\":{\"color\":\"#EBF0F8\"},\"line\":{\"color\":\"white\"}},\"header\":{\"fill\":{\"color\":\"#C8D4E3\"},\"line\":{\"color\":\"white\"}},\"type\":\"table\"}],\"barpolar\":[{\"marker\":{\"line\":{\"color\":\"#E5ECF6\",\"width\":0.5},\"pattern\":{\"fillmode\":\"overlay\",\"size\":10,\"solidity\":0.2}},\"type\":\"barpolar\"}],\"pie\":[{\"automargin\":true,\"type\":\"pie\"}]},\"layout\":{\"autotypenumbers\":\"strict\",\"colorway\":[\"#636efa\",\"#EF553B\",\"#00cc96\",\"#ab63fa\",\"#FFA15A\",\"#19d3f3\",\"#FF6692\",\"#B6E880\",\"#FF97FF\",\"#FECB52\"],\"font\":{\"color\":\"#2a3f5f\"},\"hovermode\":\"closest\",\"hoverlabel\":{\"align\":\"left\"},\"paper_bgcolor\":\"white\",\"plot_bgcolor\":\"#E5ECF6\",\"polar\":{\"bgcolor\":\"#E5ECF6\",\"angularaxis\":{\"gridcolor\":\"white\",\"linecolor\":\"white\",\"ticks\":\"\"},\"radialaxis\":{\"gridcolor\":\"white\",\"linecolor\":\"white\",\"ticks\":\"\"}},\"ternary\":{\"bgcolor\":\"#E5ECF6\",\"aaxis\":{\"gridcolor\":\"white\",\"linecolor\":\"white\",\"ticks\":\"\"},\"baxis\":{\"gridcolor\":\"white\",\"linecolor\":\"white\",\"ticks\":\"\"},\"caxis\":{\"gridcolor\":\"white\",\"linecolor\":\"white\",\"ticks\":\"\"}},\"coloraxis\":{\"colorbar\":{\"outlinewidth\":0,\"ticks\":\"\"}},\"colorscale\":{\"sequential\":[[0.0,\"#0d0887\"],[0.1111111111111111,\"#46039f\"],[0.2222222222222222,\"#7201a8\"],[0.3333333333333333,\"#9c179e\"],[0.4444444444444444,\"#bd3786\"],[0.5555555555555556,\"#d8576b\"],[0.6666666666666666,\"#ed7953\"],[0.7777777777777778,\"#fb9f3a\"],[0.8888888888888888,\"#fdca26\"],[1.0,\"#f0f921\"]],\"sequentialminus\":[[0.0,\"#0d0887\"],[0.1111111111111111,\"#46039f\"],[0.2222222222222222,\"#7201a8\"],[0.3333333333333333,\"#9c179e\"],[0.4444444444444444,\"#bd3786\"],[0.5555555555555556,\"#d8576b\"],[0.6666666666666666,\"#ed7953\"],[0.7777777777777778,\"#fb9f3a\"],[0.8888888888888888,\"#fdca26\"],[1.0,\"#f0f921\"]],\"diverging\":[[0,\"#8e0152\"],[0.1,\"#c51b7d\"],[0.2,\"#de77ae\"],[0.3,\"#f1b6da\"],[0.4,\"#fde0ef\"],[0.5,\"#f7f7f7\"],[0.6,\"#e6f5d0\"],[0.7,\"#b8e186\"],[0.8,\"#7fbc41\"],[0.9,\"#4d9221\"],[1,\"#276419\"]]},\"xaxis\":{\"gridcolor\":\"white\",\"linecolor\":\"white\",\"ticks\":\"\",\"title\":{\"standoff\":15},\"zerolinecolor\":\"white\",\"automargin\":true,\"zerolinewidth\":2},\"yaxis\":{\"gridcolor\":\"white\",\"linecolor\":\"white\",\"ticks\":\"\",\"title\":{\"standoff\":15},\"zerolinecolor\":\"white\",\"automargin\":true,\"zerolinewidth\":2},\"scene\":{\"xaxis\":{\"backgroundcolor\":\"#E5ECF6\",\"gridcolor\":\"white\",\"linecolor\":\"white\",\"showbackground\":true,\"ticks\":\"\",\"zerolinecolor\":\"white\",\"gridwidth\":2},\"yaxis\":{\"backgroundcolor\":\"#E5ECF6\",\"gridcolor\":\"white\",\"linecolor\":\"white\",\"showbackground\":true,\"ticks\":\"\",\"zerolinecolor\":\"white\",\"gridwidth\":2},\"zaxis\":{\"backgroundcolor\":\"#E5ECF6\",\"gridcolor\":\"white\",\"linecolor\":\"white\",\"showbackground\":true,\"ticks\":\"\",\"zerolinecolor\":\"white\",\"gridwidth\":2}},\"shapedefaults\":{\"line\":{\"color\":\"#2a3f5f\"}},\"annotationdefaults\":{\"arrowcolor\":\"#2a3f5f\",\"arrowhead\":0,\"arrowwidth\":1},\"geo\":{\"bgcolor\":\"white\",\"landcolor\":\"#E5ECF6\",\"subunitcolor\":\"white\",\"showland\":true,\"showlakes\":true,\"lakecolor\":\"white\"},\"title\":{\"x\":0.05},\"mapbox\":{\"style\":\"light\"}}},\"xaxis\":{\"anchor\":\"y\",\"domain\":[0.0,1.0],\"title\":{\"text\":\"fav_drink\"}},\"yaxis\":{\"anchor\":\"x\",\"domain\":[0.0,1.0],\"title\":{\"text\":\"value\"}},\"legend\":{\"title\":{\"text\":\"variable\"},\"tracegroupgap\":0},\"margin\":{\"t\":60},\"barmode\":\"relative\",\"title\":{\"text\":\"\\u041b\\u044e\\u0431\\u0438\\u043c\\u044b\\u0435 \\u043d\\u0430\\u043f\\u0438\\u0442\\u043a\\u0438\",\"x\":0.5}},                        {\"responsive\": true}                    ).then(function(){\n",
       "                            \n",
       "var gd = document.getElementById('1f473eba-66a8-4922-95db-43a0d431c774');\n",
       "var x = new MutationObserver(function (mutations, observer) {{\n",
       "        var display = window.getComputedStyle(gd).display;\n",
       "        if (!display || display === 'none') {{\n",
       "            console.log([gd, 'removed!']);\n",
       "            Plotly.purge(gd);\n",
       "            observer.disconnect();\n",
       "        }}\n",
       "}});\n",
       "\n",
       "// Listen for the removal of the full notebook cells\n",
       "var notebookContainer = gd.closest('#notebook-container');\n",
       "if (notebookContainer) {{\n",
       "    x.observe(notebookContainer, {childList: true});\n",
       "}}\n",
       "\n",
       "// Listen for the clearing of the current output cell\n",
       "var outputEl = gd.closest('.output');\n",
       "if (outputEl) {{\n",
       "    x.observe(outputEl, {childList: true});\n",
       "}}\n",
       "\n",
       "                        })                };            </script>        </div>"
      ]
     },
     "metadata": {},
     "output_type": "display_data"
    }
   ],
   "source": [
    "drinks = df['fav_drink'].str.split(', ').explode()\n",
    "drinks.value_counts()\n",
    "\n",
    "fig = px.bar(data_frame=drinks.value_counts()[1:], text_auto = True) #исключаем без абонемента на напитки\n",
    "fig.update_layout(title='Любимые напитки', title_x= 0.5)"
   ]
  },
  {
   "cell_type": "code",
   "execution_count": 22,
   "id": "01adfaa2",
   "metadata": {},
   "outputs": [
    {
     "data": {
      "text/plain": [
       "fav_drink\n",
       "coconut_pineapple    18.6\n",
       "orange               17.5\n",
       "passion_fruit        16.6\n",
       "lemon                16.0\n",
       "berry_boost          15.9\n",
       "black_currant        15.4\n",
       "Name: count, dtype: float64"
      ]
     },
     "execution_count": 22,
     "metadata": {},
     "output_type": "execute_result"
    }
   ],
   "source": [
    "(drinks.value_counts()[1:]/(drinks.value_counts()[1:].values.sum()/100)).round(1)"
   ]
  },
  {
   "cell_type": "code",
   "execution_count": 23,
   "id": "a847ed55",
   "metadata": {},
   "outputs": [
    {
     "data": {
      "application/vnd.plotly.v1+json": {
       "config": {
        "plotlyServerURL": "https://plot.ly"
       },
       "data": [
        {
         "alignmentgroup": "True",
         "bingroup": "x",
         "histfunc": "sum",
         "hovertemplate": "abonement_type=Premium<br>drink=%{x}<br>sum of count=%{y}<extra></extra>",
         "legendgroup": "Premium",
         "marker": {
          "color": "#636efa",
          "pattern": {
           "shape": ""
          }
         },
         "name": "Premium",
         "offsetgroup": "Premium",
         "orientation": "v",
         "showlegend": true,
         "type": "histogram",
         "x": [
          "berry_boost",
          "black_currant",
          "coconut_pineapple",
          "lemon",
          "orange",
          "passion_fruit"
         ],
         "xaxis": "x",
         "y": {
          "bdata": "OzxFOEM5",
          "dtype": "i1"
         },
         "yaxis": "y"
        },
        {
         "alignmentgroup": "True",
         "bingroup": "x",
         "histfunc": "sum",
         "hovertemplate": "abonement_type=Standard<br>drink=%{x}<br>sum of count=%{y}<extra></extra>",
         "legendgroup": "Standard",
         "marker": {
          "color": "#EF553B",
          "pattern": {
           "shape": ""
          }
         },
         "name": "Standard",
         "offsetgroup": "Standard",
         "orientation": "v",
         "showlegend": true,
         "type": "histogram",
         "x": [
          "berry_boost",
          "black_currant",
          "coconut_pineapple",
          "lemon",
          "orange",
          "passion_fruit"
         ],
         "xaxis": "x",
         "y": {
          "bdata": "NzNBOzs+",
          "dtype": "i1"
         },
         "yaxis": "y"
        }
       ],
       "layout": {
        "barmode": "group",
        "legend": {
         "title": {
          "text": "abonement_type"
         },
         "tracegroupgap": 0
        },
        "margin": {
         "t": 60
        },
        "template": {
         "data": {
          "bar": [
           {
            "error_x": {
             "color": "#2a3f5f"
            },
            "error_y": {
             "color": "#2a3f5f"
            },
            "marker": {
             "line": {
              "color": "#E5ECF6",
              "width": 0.5
             },
             "pattern": {
              "fillmode": "overlay",
              "size": 10,
              "solidity": 0.2
             }
            },
            "type": "bar"
           }
          ],
          "barpolar": [
           {
            "marker": {
             "line": {
              "color": "#E5ECF6",
              "width": 0.5
             },
             "pattern": {
              "fillmode": "overlay",
              "size": 10,
              "solidity": 0.2
             }
            },
            "type": "barpolar"
           }
          ],
          "carpet": [
           {
            "aaxis": {
             "endlinecolor": "#2a3f5f",
             "gridcolor": "white",
             "linecolor": "white",
             "minorgridcolor": "white",
             "startlinecolor": "#2a3f5f"
            },
            "baxis": {
             "endlinecolor": "#2a3f5f",
             "gridcolor": "white",
             "linecolor": "white",
             "minorgridcolor": "white",
             "startlinecolor": "#2a3f5f"
            },
            "type": "carpet"
           }
          ],
          "choropleth": [
           {
            "colorbar": {
             "outlinewidth": 0,
             "ticks": ""
            },
            "type": "choropleth"
           }
          ],
          "contour": [
           {
            "colorbar": {
             "outlinewidth": 0,
             "ticks": ""
            },
            "colorscale": [
             [
              0,
              "#0d0887"
             ],
             [
              0.1111111111111111,
              "#46039f"
             ],
             [
              0.2222222222222222,
              "#7201a8"
             ],
             [
              0.3333333333333333,
              "#9c179e"
             ],
             [
              0.4444444444444444,
              "#bd3786"
             ],
             [
              0.5555555555555556,
              "#d8576b"
             ],
             [
              0.6666666666666666,
              "#ed7953"
             ],
             [
              0.7777777777777778,
              "#fb9f3a"
             ],
             [
              0.8888888888888888,
              "#fdca26"
             ],
             [
              1,
              "#f0f921"
             ]
            ],
            "type": "contour"
           }
          ],
          "contourcarpet": [
           {
            "colorbar": {
             "outlinewidth": 0,
             "ticks": ""
            },
            "type": "contourcarpet"
           }
          ],
          "heatmap": [
           {
            "colorbar": {
             "outlinewidth": 0,
             "ticks": ""
            },
            "colorscale": [
             [
              0,
              "#0d0887"
             ],
             [
              0.1111111111111111,
              "#46039f"
             ],
             [
              0.2222222222222222,
              "#7201a8"
             ],
             [
              0.3333333333333333,
              "#9c179e"
             ],
             [
              0.4444444444444444,
              "#bd3786"
             ],
             [
              0.5555555555555556,
              "#d8576b"
             ],
             [
              0.6666666666666666,
              "#ed7953"
             ],
             [
              0.7777777777777778,
              "#fb9f3a"
             ],
             [
              0.8888888888888888,
              "#fdca26"
             ],
             [
              1,
              "#f0f921"
             ]
            ],
            "type": "heatmap"
           }
          ],
          "histogram": [
           {
            "marker": {
             "pattern": {
              "fillmode": "overlay",
              "size": 10,
              "solidity": 0.2
             }
            },
            "type": "histogram"
           }
          ],
          "histogram2d": [
           {
            "colorbar": {
             "outlinewidth": 0,
             "ticks": ""
            },
            "colorscale": [
             [
              0,
              "#0d0887"
             ],
             [
              0.1111111111111111,
              "#46039f"
             ],
             [
              0.2222222222222222,
              "#7201a8"
             ],
             [
              0.3333333333333333,
              "#9c179e"
             ],
             [
              0.4444444444444444,
              "#bd3786"
             ],
             [
              0.5555555555555556,
              "#d8576b"
             ],
             [
              0.6666666666666666,
              "#ed7953"
             ],
             [
              0.7777777777777778,
              "#fb9f3a"
             ],
             [
              0.8888888888888888,
              "#fdca26"
             ],
             [
              1,
              "#f0f921"
             ]
            ],
            "type": "histogram2d"
           }
          ],
          "histogram2dcontour": [
           {
            "colorbar": {
             "outlinewidth": 0,
             "ticks": ""
            },
            "colorscale": [
             [
              0,
              "#0d0887"
             ],
             [
              0.1111111111111111,
              "#46039f"
             ],
             [
              0.2222222222222222,
              "#7201a8"
             ],
             [
              0.3333333333333333,
              "#9c179e"
             ],
             [
              0.4444444444444444,
              "#bd3786"
             ],
             [
              0.5555555555555556,
              "#d8576b"
             ],
             [
              0.6666666666666666,
              "#ed7953"
             ],
             [
              0.7777777777777778,
              "#fb9f3a"
             ],
             [
              0.8888888888888888,
              "#fdca26"
             ],
             [
              1,
              "#f0f921"
             ]
            ],
            "type": "histogram2dcontour"
           }
          ],
          "mesh3d": [
           {
            "colorbar": {
             "outlinewidth": 0,
             "ticks": ""
            },
            "type": "mesh3d"
           }
          ],
          "parcoords": [
           {
            "line": {
             "colorbar": {
              "outlinewidth": 0,
              "ticks": ""
             }
            },
            "type": "parcoords"
           }
          ],
          "pie": [
           {
            "automargin": true,
            "type": "pie"
           }
          ],
          "scatter": [
           {
            "fillpattern": {
             "fillmode": "overlay",
             "size": 10,
             "solidity": 0.2
            },
            "type": "scatter"
           }
          ],
          "scatter3d": [
           {
            "line": {
             "colorbar": {
              "outlinewidth": 0,
              "ticks": ""
             }
            },
            "marker": {
             "colorbar": {
              "outlinewidth": 0,
              "ticks": ""
             }
            },
            "type": "scatter3d"
           }
          ],
          "scattercarpet": [
           {
            "marker": {
             "colorbar": {
              "outlinewidth": 0,
              "ticks": ""
             }
            },
            "type": "scattercarpet"
           }
          ],
          "scattergeo": [
           {
            "marker": {
             "colorbar": {
              "outlinewidth": 0,
              "ticks": ""
             }
            },
            "type": "scattergeo"
           }
          ],
          "scattergl": [
           {
            "marker": {
             "colorbar": {
              "outlinewidth": 0,
              "ticks": ""
             }
            },
            "type": "scattergl"
           }
          ],
          "scattermap": [
           {
            "marker": {
             "colorbar": {
              "outlinewidth": 0,
              "ticks": ""
             }
            },
            "type": "scattermap"
           }
          ],
          "scattermapbox": [
           {
            "marker": {
             "colorbar": {
              "outlinewidth": 0,
              "ticks": ""
             }
            },
            "type": "scattermapbox"
           }
          ],
          "scatterpolar": [
           {
            "marker": {
             "colorbar": {
              "outlinewidth": 0,
              "ticks": ""
             }
            },
            "type": "scatterpolar"
           }
          ],
          "scatterpolargl": [
           {
            "marker": {
             "colorbar": {
              "outlinewidth": 0,
              "ticks": ""
             }
            },
            "type": "scatterpolargl"
           }
          ],
          "scatterternary": [
           {
            "marker": {
             "colorbar": {
              "outlinewidth": 0,
              "ticks": ""
             }
            },
            "type": "scatterternary"
           }
          ],
          "surface": [
           {
            "colorbar": {
             "outlinewidth": 0,
             "ticks": ""
            },
            "colorscale": [
             [
              0,
              "#0d0887"
             ],
             [
              0.1111111111111111,
              "#46039f"
             ],
             [
              0.2222222222222222,
              "#7201a8"
             ],
             [
              0.3333333333333333,
              "#9c179e"
             ],
             [
              0.4444444444444444,
              "#bd3786"
             ],
             [
              0.5555555555555556,
              "#d8576b"
             ],
             [
              0.6666666666666666,
              "#ed7953"
             ],
             [
              0.7777777777777778,
              "#fb9f3a"
             ],
             [
              0.8888888888888888,
              "#fdca26"
             ],
             [
              1,
              "#f0f921"
             ]
            ],
            "type": "surface"
           }
          ],
          "table": [
           {
            "cells": {
             "fill": {
              "color": "#EBF0F8"
             },
             "line": {
              "color": "white"
             }
            },
            "header": {
             "fill": {
              "color": "#C8D4E3"
             },
             "line": {
              "color": "white"
             }
            },
            "type": "table"
           }
          ]
         },
         "layout": {
          "annotationdefaults": {
           "arrowcolor": "#2a3f5f",
           "arrowhead": 0,
           "arrowwidth": 1
          },
          "autotypenumbers": "strict",
          "coloraxis": {
           "colorbar": {
            "outlinewidth": 0,
            "ticks": ""
           }
          },
          "colorscale": {
           "diverging": [
            [
             0,
             "#8e0152"
            ],
            [
             0.1,
             "#c51b7d"
            ],
            [
             0.2,
             "#de77ae"
            ],
            [
             0.3,
             "#f1b6da"
            ],
            [
             0.4,
             "#fde0ef"
            ],
            [
             0.5,
             "#f7f7f7"
            ],
            [
             0.6,
             "#e6f5d0"
            ],
            [
             0.7,
             "#b8e186"
            ],
            [
             0.8,
             "#7fbc41"
            ],
            [
             0.9,
             "#4d9221"
            ],
            [
             1,
             "#276419"
            ]
           ],
           "sequential": [
            [
             0,
             "#0d0887"
            ],
            [
             0.1111111111111111,
             "#46039f"
            ],
            [
             0.2222222222222222,
             "#7201a8"
            ],
            [
             0.3333333333333333,
             "#9c179e"
            ],
            [
             0.4444444444444444,
             "#bd3786"
            ],
            [
             0.5555555555555556,
             "#d8576b"
            ],
            [
             0.6666666666666666,
             "#ed7953"
            ],
            [
             0.7777777777777778,
             "#fb9f3a"
            ],
            [
             0.8888888888888888,
             "#fdca26"
            ],
            [
             1,
             "#f0f921"
            ]
           ],
           "sequentialminus": [
            [
             0,
             "#0d0887"
            ],
            [
             0.1111111111111111,
             "#46039f"
            ],
            [
             0.2222222222222222,
             "#7201a8"
            ],
            [
             0.3333333333333333,
             "#9c179e"
            ],
            [
             0.4444444444444444,
             "#bd3786"
            ],
            [
             0.5555555555555556,
             "#d8576b"
            ],
            [
             0.6666666666666666,
             "#ed7953"
            ],
            [
             0.7777777777777778,
             "#fb9f3a"
            ],
            [
             0.8888888888888888,
             "#fdca26"
            ],
            [
             1,
             "#f0f921"
            ]
           ]
          },
          "colorway": [
           "#636efa",
           "#EF553B",
           "#00cc96",
           "#ab63fa",
           "#FFA15A",
           "#19d3f3",
           "#FF6692",
           "#B6E880",
           "#FF97FF",
           "#FECB52"
          ],
          "font": {
           "color": "#2a3f5f"
          },
          "geo": {
           "bgcolor": "white",
           "lakecolor": "white",
           "landcolor": "#E5ECF6",
           "showlakes": true,
           "showland": true,
           "subunitcolor": "white"
          },
          "hoverlabel": {
           "align": "left"
          },
          "hovermode": "closest",
          "mapbox": {
           "style": "light"
          },
          "paper_bgcolor": "white",
          "plot_bgcolor": "#E5ECF6",
          "polar": {
           "angularaxis": {
            "gridcolor": "white",
            "linecolor": "white",
            "ticks": ""
           },
           "bgcolor": "#E5ECF6",
           "radialaxis": {
            "gridcolor": "white",
            "linecolor": "white",
            "ticks": ""
           }
          },
          "scene": {
           "xaxis": {
            "backgroundcolor": "#E5ECF6",
            "gridcolor": "white",
            "gridwidth": 2,
            "linecolor": "white",
            "showbackground": true,
            "ticks": "",
            "zerolinecolor": "white"
           },
           "yaxis": {
            "backgroundcolor": "#E5ECF6",
            "gridcolor": "white",
            "gridwidth": 2,
            "linecolor": "white",
            "showbackground": true,
            "ticks": "",
            "zerolinecolor": "white"
           },
           "zaxis": {
            "backgroundcolor": "#E5ECF6",
            "gridcolor": "white",
            "gridwidth": 2,
            "linecolor": "white",
            "showbackground": true,
            "ticks": "",
            "zerolinecolor": "white"
           }
          },
          "shapedefaults": {
           "line": {
            "color": "#2a3f5f"
           }
          },
          "ternary": {
           "aaxis": {
            "gridcolor": "white",
            "linecolor": "white",
            "ticks": ""
           },
           "baxis": {
            "gridcolor": "white",
            "linecolor": "white",
            "ticks": ""
           },
           "bgcolor": "#E5ECF6",
           "caxis": {
            "gridcolor": "white",
            "linecolor": "white",
            "ticks": ""
           }
          },
          "title": {
           "x": 0.05
          },
          "xaxis": {
           "automargin": true,
           "gridcolor": "white",
           "linecolor": "white",
           "ticks": "",
           "title": {
            "standoff": 15
           },
           "zerolinecolor": "white",
           "zerolinewidth": 2
          },
          "yaxis": {
           "automargin": true,
           "gridcolor": "white",
           "linecolor": "white",
           "ticks": "",
           "title": {
            "standoff": 15
           },
           "zerolinecolor": "white",
           "zerolinewidth": 2
          }
         }
        },
        "title": {
         "text": "Любимые напитки в разрезе абонементов",
         "x": 0.5
        },
        "xaxis": {
         "anchor": "y",
         "domain": [
          0,
          1
         ],
         "title": {
          "text": "drink"
         }
        },
        "yaxis": {
         "anchor": "x",
         "domain": [
          0,
          1
         ],
         "title": {
          "text": "sum of count"
         }
        }
       }
      },
      "text/html": [
       "<div>            <script src=\"https://cdnjs.cloudflare.com/ajax/libs/mathjax/2.7.5/MathJax.js?config=TeX-AMS-MML_SVG\"></script><script type=\"text/javascript\">if (window.MathJax && window.MathJax.Hub && window.MathJax.Hub.Config) {window.MathJax.Hub.Config({SVG: {font: \"STIX-Web\"}});}</script>                <script type=\"text/javascript\">window.PlotlyConfig = {MathJaxConfig: 'local'};</script>\n",
       "        <script charset=\"utf-8\" src=\"https://cdn.plot.ly/plotly-3.0.1.min.js\"></script>                <div id=\"16e77e3d-3a2d-4d34-a836-be22fa7cb01a\" class=\"plotly-graph-div\" style=\"height:525px; width:100%;\"></div>            <script type=\"text/javascript\">                window.PLOTLYENV=window.PLOTLYENV || {};                                if (document.getElementById(\"16e77e3d-3a2d-4d34-a836-be22fa7cb01a\")) {                    Plotly.newPlot(                        \"16e77e3d-3a2d-4d34-a836-be22fa7cb01a\",                        [{\"alignmentgroup\":\"True\",\"bingroup\":\"x\",\"histfunc\":\"sum\",\"hovertemplate\":\"abonement_type=Premium\\u003cbr\\u003edrink=%{x}\\u003cbr\\u003esum of count=%{y}\\u003cextra\\u003e\\u003c\\u002fextra\\u003e\",\"legendgroup\":\"Premium\",\"marker\":{\"color\":\"#636efa\",\"pattern\":{\"shape\":\"\"}},\"name\":\"Premium\",\"offsetgroup\":\"Premium\",\"orientation\":\"v\",\"showlegend\":true,\"x\":[\"berry_boost\",\"black_currant\",\"coconut_pineapple\",\"lemon\",\"orange\",\"passion_fruit\"],\"xaxis\":\"x\",\"y\":{\"dtype\":\"i1\",\"bdata\":\"OzxFOEM5\"},\"yaxis\":\"y\",\"type\":\"histogram\"},{\"alignmentgroup\":\"True\",\"bingroup\":\"x\",\"histfunc\":\"sum\",\"hovertemplate\":\"abonement_type=Standard\\u003cbr\\u003edrink=%{x}\\u003cbr\\u003esum of count=%{y}\\u003cextra\\u003e\\u003c\\u002fextra\\u003e\",\"legendgroup\":\"Standard\",\"marker\":{\"color\":\"#EF553B\",\"pattern\":{\"shape\":\"\"}},\"name\":\"Standard\",\"offsetgroup\":\"Standard\",\"orientation\":\"v\",\"showlegend\":true,\"x\":[\"berry_boost\",\"black_currant\",\"coconut_pineapple\",\"lemon\",\"orange\",\"passion_fruit\"],\"xaxis\":\"x\",\"y\":{\"dtype\":\"i1\",\"bdata\":\"NzNBOzs+\"},\"yaxis\":\"y\",\"type\":\"histogram\"}],                        {\"template\":{\"data\":{\"histogram2dcontour\":[{\"type\":\"histogram2dcontour\",\"colorbar\":{\"outlinewidth\":0,\"ticks\":\"\"},\"colorscale\":[[0.0,\"#0d0887\"],[0.1111111111111111,\"#46039f\"],[0.2222222222222222,\"#7201a8\"],[0.3333333333333333,\"#9c179e\"],[0.4444444444444444,\"#bd3786\"],[0.5555555555555556,\"#d8576b\"],[0.6666666666666666,\"#ed7953\"],[0.7777777777777778,\"#fb9f3a\"],[0.8888888888888888,\"#fdca26\"],[1.0,\"#f0f921\"]]}],\"choropleth\":[{\"type\":\"choropleth\",\"colorbar\":{\"outlinewidth\":0,\"ticks\":\"\"}}],\"histogram2d\":[{\"type\":\"histogram2d\",\"colorbar\":{\"outlinewidth\":0,\"ticks\":\"\"},\"colorscale\":[[0.0,\"#0d0887\"],[0.1111111111111111,\"#46039f\"],[0.2222222222222222,\"#7201a8\"],[0.3333333333333333,\"#9c179e\"],[0.4444444444444444,\"#bd3786\"],[0.5555555555555556,\"#d8576b\"],[0.6666666666666666,\"#ed7953\"],[0.7777777777777778,\"#fb9f3a\"],[0.8888888888888888,\"#fdca26\"],[1.0,\"#f0f921\"]]}],\"heatmap\":[{\"type\":\"heatmap\",\"colorbar\":{\"outlinewidth\":0,\"ticks\":\"\"},\"colorscale\":[[0.0,\"#0d0887\"],[0.1111111111111111,\"#46039f\"],[0.2222222222222222,\"#7201a8\"],[0.3333333333333333,\"#9c179e\"],[0.4444444444444444,\"#bd3786\"],[0.5555555555555556,\"#d8576b\"],[0.6666666666666666,\"#ed7953\"],[0.7777777777777778,\"#fb9f3a\"],[0.8888888888888888,\"#fdca26\"],[1.0,\"#f0f921\"]]}],\"contourcarpet\":[{\"type\":\"contourcarpet\",\"colorbar\":{\"outlinewidth\":0,\"ticks\":\"\"}}],\"contour\":[{\"type\":\"contour\",\"colorbar\":{\"outlinewidth\":0,\"ticks\":\"\"},\"colorscale\":[[0.0,\"#0d0887\"],[0.1111111111111111,\"#46039f\"],[0.2222222222222222,\"#7201a8\"],[0.3333333333333333,\"#9c179e\"],[0.4444444444444444,\"#bd3786\"],[0.5555555555555556,\"#d8576b\"],[0.6666666666666666,\"#ed7953\"],[0.7777777777777778,\"#fb9f3a\"],[0.8888888888888888,\"#fdca26\"],[1.0,\"#f0f921\"]]}],\"surface\":[{\"type\":\"surface\",\"colorbar\":{\"outlinewidth\":0,\"ticks\":\"\"},\"colorscale\":[[0.0,\"#0d0887\"],[0.1111111111111111,\"#46039f\"],[0.2222222222222222,\"#7201a8\"],[0.3333333333333333,\"#9c179e\"],[0.4444444444444444,\"#bd3786\"],[0.5555555555555556,\"#d8576b\"],[0.6666666666666666,\"#ed7953\"],[0.7777777777777778,\"#fb9f3a\"],[0.8888888888888888,\"#fdca26\"],[1.0,\"#f0f921\"]]}],\"mesh3d\":[{\"type\":\"mesh3d\",\"colorbar\":{\"outlinewidth\":0,\"ticks\":\"\"}}],\"scatter\":[{\"fillpattern\":{\"fillmode\":\"overlay\",\"size\":10,\"solidity\":0.2},\"type\":\"scatter\"}],\"parcoords\":[{\"type\":\"parcoords\",\"line\":{\"colorbar\":{\"outlinewidth\":0,\"ticks\":\"\"}}}],\"scatterpolargl\":[{\"type\":\"scatterpolargl\",\"marker\":{\"colorbar\":{\"outlinewidth\":0,\"ticks\":\"\"}}}],\"bar\":[{\"error_x\":{\"color\":\"#2a3f5f\"},\"error_y\":{\"color\":\"#2a3f5f\"},\"marker\":{\"line\":{\"color\":\"#E5ECF6\",\"width\":0.5},\"pattern\":{\"fillmode\":\"overlay\",\"size\":10,\"solidity\":0.2}},\"type\":\"bar\"}],\"scattergeo\":[{\"type\":\"scattergeo\",\"marker\":{\"colorbar\":{\"outlinewidth\":0,\"ticks\":\"\"}}}],\"scatterpolar\":[{\"type\":\"scatterpolar\",\"marker\":{\"colorbar\":{\"outlinewidth\":0,\"ticks\":\"\"}}}],\"histogram\":[{\"marker\":{\"pattern\":{\"fillmode\":\"overlay\",\"size\":10,\"solidity\":0.2}},\"type\":\"histogram\"}],\"scattergl\":[{\"type\":\"scattergl\",\"marker\":{\"colorbar\":{\"outlinewidth\":0,\"ticks\":\"\"}}}],\"scatter3d\":[{\"type\":\"scatter3d\",\"line\":{\"colorbar\":{\"outlinewidth\":0,\"ticks\":\"\"}},\"marker\":{\"colorbar\":{\"outlinewidth\":0,\"ticks\":\"\"}}}],\"scattermap\":[{\"type\":\"scattermap\",\"marker\":{\"colorbar\":{\"outlinewidth\":0,\"ticks\":\"\"}}}],\"scattermapbox\":[{\"type\":\"scattermapbox\",\"marker\":{\"colorbar\":{\"outlinewidth\":0,\"ticks\":\"\"}}}],\"scatterternary\":[{\"type\":\"scatterternary\",\"marker\":{\"colorbar\":{\"outlinewidth\":0,\"ticks\":\"\"}}}],\"scattercarpet\":[{\"type\":\"scattercarpet\",\"marker\":{\"colorbar\":{\"outlinewidth\":0,\"ticks\":\"\"}}}],\"carpet\":[{\"aaxis\":{\"endlinecolor\":\"#2a3f5f\",\"gridcolor\":\"white\",\"linecolor\":\"white\",\"minorgridcolor\":\"white\",\"startlinecolor\":\"#2a3f5f\"},\"baxis\":{\"endlinecolor\":\"#2a3f5f\",\"gridcolor\":\"white\",\"linecolor\":\"white\",\"minorgridcolor\":\"white\",\"startlinecolor\":\"#2a3f5f\"},\"type\":\"carpet\"}],\"table\":[{\"cells\":{\"fill\":{\"color\":\"#EBF0F8\"},\"line\":{\"color\":\"white\"}},\"header\":{\"fill\":{\"color\":\"#C8D4E3\"},\"line\":{\"color\":\"white\"}},\"type\":\"table\"}],\"barpolar\":[{\"marker\":{\"line\":{\"color\":\"#E5ECF6\",\"width\":0.5},\"pattern\":{\"fillmode\":\"overlay\",\"size\":10,\"solidity\":0.2}},\"type\":\"barpolar\"}],\"pie\":[{\"automargin\":true,\"type\":\"pie\"}]},\"layout\":{\"autotypenumbers\":\"strict\",\"colorway\":[\"#636efa\",\"#EF553B\",\"#00cc96\",\"#ab63fa\",\"#FFA15A\",\"#19d3f3\",\"#FF6692\",\"#B6E880\",\"#FF97FF\",\"#FECB52\"],\"font\":{\"color\":\"#2a3f5f\"},\"hovermode\":\"closest\",\"hoverlabel\":{\"align\":\"left\"},\"paper_bgcolor\":\"white\",\"plot_bgcolor\":\"#E5ECF6\",\"polar\":{\"bgcolor\":\"#E5ECF6\",\"angularaxis\":{\"gridcolor\":\"white\",\"linecolor\":\"white\",\"ticks\":\"\"},\"radialaxis\":{\"gridcolor\":\"white\",\"linecolor\":\"white\",\"ticks\":\"\"}},\"ternary\":{\"bgcolor\":\"#E5ECF6\",\"aaxis\":{\"gridcolor\":\"white\",\"linecolor\":\"white\",\"ticks\":\"\"},\"baxis\":{\"gridcolor\":\"white\",\"linecolor\":\"white\",\"ticks\":\"\"},\"caxis\":{\"gridcolor\":\"white\",\"linecolor\":\"white\",\"ticks\":\"\"}},\"coloraxis\":{\"colorbar\":{\"outlinewidth\":0,\"ticks\":\"\"}},\"colorscale\":{\"sequential\":[[0.0,\"#0d0887\"],[0.1111111111111111,\"#46039f\"],[0.2222222222222222,\"#7201a8\"],[0.3333333333333333,\"#9c179e\"],[0.4444444444444444,\"#bd3786\"],[0.5555555555555556,\"#d8576b\"],[0.6666666666666666,\"#ed7953\"],[0.7777777777777778,\"#fb9f3a\"],[0.8888888888888888,\"#fdca26\"],[1.0,\"#f0f921\"]],\"sequentialminus\":[[0.0,\"#0d0887\"],[0.1111111111111111,\"#46039f\"],[0.2222222222222222,\"#7201a8\"],[0.3333333333333333,\"#9c179e\"],[0.4444444444444444,\"#bd3786\"],[0.5555555555555556,\"#d8576b\"],[0.6666666666666666,\"#ed7953\"],[0.7777777777777778,\"#fb9f3a\"],[0.8888888888888888,\"#fdca26\"],[1.0,\"#f0f921\"]],\"diverging\":[[0,\"#8e0152\"],[0.1,\"#c51b7d\"],[0.2,\"#de77ae\"],[0.3,\"#f1b6da\"],[0.4,\"#fde0ef\"],[0.5,\"#f7f7f7\"],[0.6,\"#e6f5d0\"],[0.7,\"#b8e186\"],[0.8,\"#7fbc41\"],[0.9,\"#4d9221\"],[1,\"#276419\"]]},\"xaxis\":{\"gridcolor\":\"white\",\"linecolor\":\"white\",\"ticks\":\"\",\"title\":{\"standoff\":15},\"zerolinecolor\":\"white\",\"automargin\":true,\"zerolinewidth\":2},\"yaxis\":{\"gridcolor\":\"white\",\"linecolor\":\"white\",\"ticks\":\"\",\"title\":{\"standoff\":15},\"zerolinecolor\":\"white\",\"automargin\":true,\"zerolinewidth\":2},\"scene\":{\"xaxis\":{\"backgroundcolor\":\"#E5ECF6\",\"gridcolor\":\"white\",\"linecolor\":\"white\",\"showbackground\":true,\"ticks\":\"\",\"zerolinecolor\":\"white\",\"gridwidth\":2},\"yaxis\":{\"backgroundcolor\":\"#E5ECF6\",\"gridcolor\":\"white\",\"linecolor\":\"white\",\"showbackground\":true,\"ticks\":\"\",\"zerolinecolor\":\"white\",\"gridwidth\":2},\"zaxis\":{\"backgroundcolor\":\"#E5ECF6\",\"gridcolor\":\"white\",\"linecolor\":\"white\",\"showbackground\":true,\"ticks\":\"\",\"zerolinecolor\":\"white\",\"gridwidth\":2}},\"shapedefaults\":{\"line\":{\"color\":\"#2a3f5f\"}},\"annotationdefaults\":{\"arrowcolor\":\"#2a3f5f\",\"arrowhead\":0,\"arrowwidth\":1},\"geo\":{\"bgcolor\":\"white\",\"landcolor\":\"#E5ECF6\",\"subunitcolor\":\"white\",\"showland\":true,\"showlakes\":true,\"lakecolor\":\"white\"},\"title\":{\"x\":0.05},\"mapbox\":{\"style\":\"light\"}}},\"xaxis\":{\"anchor\":\"y\",\"domain\":[0.0,1.0],\"title\":{\"text\":\"drink\"}},\"yaxis\":{\"anchor\":\"x\",\"domain\":[0.0,1.0],\"title\":{\"text\":\"sum of count\"}},\"legend\":{\"title\":{\"text\":\"abonement_type\"},\"tracegroupgap\":0},\"margin\":{\"t\":60},\"barmode\":\"group\",\"title\":{\"text\":\"\\u041b\\u044e\\u0431\\u0438\\u043c\\u044b\\u0435 \\u043d\\u0430\\u043f\\u0438\\u0442\\u043a\\u0438 \\u0432 \\u0440\\u0430\\u0437\\u0440\\u0435\\u0437\\u0435 \\u0430\\u0431\\u043e\\u043d\\u0435\\u043c\\u0435\\u043d\\u0442\\u043e\\u0432\",\"x\":0.5}},                        {\"responsive\": true}                    ).then(function(){\n",
       "                            \n",
       "var gd = document.getElementById('16e77e3d-3a2d-4d34-a836-be22fa7cb01a');\n",
       "var x = new MutationObserver(function (mutations, observer) {{\n",
       "        var display = window.getComputedStyle(gd).display;\n",
       "        if (!display || display === 'none') {{\n",
       "            console.log([gd, 'removed!']);\n",
       "            Plotly.purge(gd);\n",
       "            observer.disconnect();\n",
       "        }}\n",
       "}});\n",
       "\n",
       "// Listen for the removal of the full notebook cells\n",
       "var notebookContainer = gd.closest('#notebook-container');\n",
       "if (notebookContainer) {{\n",
       "    x.observe(notebookContainer, {childList: true});\n",
       "}}\n",
       "\n",
       "// Listen for the clearing of the current output cell\n",
       "var outputEl = gd.closest('.output');\n",
       "if (outputEl) {{\n",
       "    x.observe(outputEl, {childList: true});\n",
       "}}\n",
       "\n",
       "                        })                };            </script>        </div>"
      ]
     },
     "metadata": {},
     "output_type": "display_data"
    }
   ],
   "source": [
    "df_dummies = df['fav_drink'].str.get_dummies(sep=', ')\n",
    "df_extended = pd.concat([df, df_dummies], axis=1)\n",
    "lst = df_extended.iloc[:,-7:].columns\n",
    "fav_drinks = df_extended.groupby('abonement_type').agg(\n",
    "    No = pd.NamedAgg(column=lst[0], aggfunc='sum'),\n",
    "    berry_boost =pd.NamedAgg(column=lst[1], aggfunc='sum'),\n",
    "    black_currant =pd.NamedAgg(column=lst[2], aggfunc='sum'),\n",
    "    coconut_pineapple =pd.NamedAgg(column=lst[3], aggfunc='sum'),\n",
    "    lemon =pd.NamedAgg(column=lst[4], aggfunc='sum'),\n",
    "    orange =pd.NamedAgg(column=lst[5], aggfunc='sum'),\n",
    "    passion_fruit =pd.NamedAgg(column=lst[6], aggfunc='sum')\n",
    ")\n",
    "\n",
    "fav_drinks_mlt = fav_drinks.drop(columns='No').reset_index().melt(id_vars = 'abonement_type', var_name= 'drink', value_name='count')\n",
    "fig = px.histogram(data_frame=fav_drinks_mlt, x='drink', y='count', color='abonement_type', barmode= 'group')\n",
    "fig.update_layout(title = 'Любимые напитки в разрезе абонементов', title_x=0.5)"
   ]
  },
  {
   "cell_type": "code",
   "execution_count": 24,
   "id": "1d713be0",
   "metadata": {},
   "outputs": [],
   "source": [
    "df_dummies = df['fav_drink'].str.get_dummies(sep=', ')\n",
    "df_drinks = pd.concat([df, df_dummies], axis=1)"
   ]
  },
  {
   "cell_type": "code",
   "execution_count": 25,
   "id": "4d9e7822",
   "metadata": {},
   "outputs": [
    {
     "data": {
      "text/html": [
       "<div>\n",
       "<style scoped>\n",
       "    .dataframe tbody tr th:only-of-type {\n",
       "        vertical-align: middle;\n",
       "    }\n",
       "\n",
       "    .dataframe tbody tr th {\n",
       "        vertical-align: top;\n",
       "    }\n",
       "\n",
       "    .dataframe thead th {\n",
       "        text-align: right;\n",
       "    }\n",
       "</style>\n",
       "<table border=\"1\" class=\"dataframe\">\n",
       "  <thead>\n",
       "    <tr style=\"text-align: right;\">\n",
       "      <th></th>\n",
       "      <th>age</th>\n",
       "      <th>age_group</th>\n",
       "    </tr>\n",
       "  </thead>\n",
       "  <tbody>\n",
       "    <tr>\n",
       "      <th>639</th>\n",
       "      <td>17</td>\n",
       "      <td>14-17</td>\n",
       "    </tr>\n",
       "    <tr>\n",
       "      <th>83</th>\n",
       "      <td>18</td>\n",
       "      <td>18-20</td>\n",
       "    </tr>\n",
       "    <tr>\n",
       "      <th>906</th>\n",
       "      <td>48</td>\n",
       "      <td>старше 45</td>\n",
       "    </tr>\n",
       "  </tbody>\n",
       "</table>\n",
       "</div>"
      ],
      "text/plain": [
       "     age  age_group\n",
       "639   17      14-17\n",
       "83    18      18-20\n",
       "906   48  старше 45"
      ]
     },
     "execution_count": 25,
     "metadata": {},
     "output_type": "execute_result"
    }
   ],
   "source": [
    "age_grs_lst = ['младше 14','14-17', '18-20', '21-25', '26-30', '31-35', '36-40', '41-45', 'старше 45']\n",
    "age_cond= [(df['age']<14),\n",
    "           (df['age']>13) & (df['age']<18),\n",
    "           (df['age']>17) & (df['age']<21),\n",
    "           (df['age']>20) & (df['age']<26),\n",
    "           (df['age']>25) & (df['age']<31),\n",
    "           (df['age']>30) & (df['age']<36),\n",
    "           (df['age']>35) & (df['age']<41),\n",
    "           (df['age']>40) & (df['age']<46),\n",
    "           (df['age']>45)]\n",
    "df['age_group'] = np.select(age_cond, age_grs_lst, default='Unknown')\n",
    "df[['age','age_group']].sample(3)\n"
   ]
  },
  {
   "cell_type": "code",
   "execution_count": 26,
   "id": "fe4de163",
   "metadata": {},
   "outputs": [
    {
     "data": {
      "text/html": [
       "<div>\n",
       "<style scoped>\n",
       "    .dataframe tbody tr th:only-of-type {\n",
       "        vertical-align: middle;\n",
       "    }\n",
       "\n",
       "    .dataframe tbody tr th {\n",
       "        vertical-align: top;\n",
       "    }\n",
       "\n",
       "    .dataframe thead th {\n",
       "        text-align: right;\n",
       "    }\n",
       "</style>\n",
       "<table border=\"1\" class=\"dataframe\">\n",
       "  <thead>\n",
       "    <tr style=\"text-align: right;\">\n",
       "      <th></th>\n",
       "      <th>age</th>\n",
       "      <th>age_group</th>\n",
       "    </tr>\n",
       "  </thead>\n",
       "  <tbody>\n",
       "    <tr>\n",
       "      <th>875</th>\n",
       "      <td>12</td>\n",
       "      <td>младше 18</td>\n",
       "    </tr>\n",
       "    <tr>\n",
       "      <th>951</th>\n",
       "      <td>42</td>\n",
       "      <td>36-45</td>\n",
       "    </tr>\n",
       "    <tr>\n",
       "      <th>481</th>\n",
       "      <td>19</td>\n",
       "      <td>18-25</td>\n",
       "    </tr>\n",
       "  </tbody>\n",
       "</table>\n",
       "</div>"
      ],
      "text/plain": [
       "     age  age_group\n",
       "875   12  младше 18\n",
       "951   42      36-45\n",
       "481   19      18-25"
      ]
     },
     "execution_count": 26,
     "metadata": {},
     "output_type": "execute_result"
    }
   ],
   "source": [
    "##разбиение количественной age на категориальную переменную\n",
    "age_grs_lst= ['младше 18', '18-25', '26-35', '36-45', '46-55', '56-65', 'старше 65']\n",
    "age_cond= [(df['age']<18),\n",
    "           (df['age']>17) & (df['age']<26),\n",
    "           (df['age']>25) & (df['age']<36),\n",
    "           (df['age']>35) & (df['age']<46),\n",
    "           (df['age']>45) & (df['age']<56),\n",
    "           (df['age']>55) & (df['age']<66),\n",
    "           (df['age']>65)]\n",
    "df['age_group'] = np.select(age_cond, age_grs_lst, default='Unknown')\n",
    "df[['age','age_group']].sample(3)"
   ]
  },
  {
   "cell_type": "code",
   "execution_count": 27,
   "id": "607ac41d",
   "metadata": {},
   "outputs": [
    {
     "data": {
      "application/vnd.plotly.v1+json": {
       "config": {
        "plotlyServerURL": "https://plot.ly"
       },
       "data": [
        {
         "hovertemplate": "gender=Female<br>abonement_type=Premium<br>avg_time_check_in=%{x}<br>avg_time_in_gym=%{y}<extra></extra>",
         "legendgroup": "",
         "marker": {
          "color": "#636efa",
          "symbol": "circle"
         },
         "mode": "markers",
         "name": "",
         "orientation": "v",
         "showlegend": false,
         "type": "scatter",
         "x": [
          70260000000000,
          47100000000000,
          71400000000000,
          72720000000000,
          29940000000000,
          31320000000000,
          41100000000000,
          72900000000000,
          37380000000000,
          52920000000000,
          31140000000000,
          37560000000000,
          57840000000000,
          37500000000000,
          42960000000000,
          32040000000000,
          33960000000000,
          66600000000000,
          38460000000000,
          47160000000000,
          29880000000000,
          40260000000000,
          57240000000000,
          68820000000000,
          41340000000000,
          47040000000000,
          34500000000000,
          30840000000000,
          47940000000000,
          35460000000000,
          50520000000000,
          64320000000000,
          58980000000000,
          49860000000000,
          52560000000000,
          69540000000000,
          72540000000000,
          52800000000000,
          51780000000000,
          34260000000000,
          37920000000000,
          62460000000000,
          36660000000000,
          68040000000000,
          55020000000000,
          35700000000000,
          48720000000000,
          35760000000000,
          30060000000000,
          50220000000000,
          60840000000000,
          35700000000000,
          66720000000000,
          64860000000000,
          74220000000000,
          37920000000000,
          72900000000000,
          39780000000000,
          50280000000000,
          49800000000000,
          33120000000000,
          53940000000000,
          64800000000000,
          37020000000000,
          63420000000000,
          36120000000000,
          31140000000000,
          53700000000000,
          31980000000000,
          35340000000000,
          59460000000000,
          47640000000000,
          69420000000000,
          45060000000000,
          47160000000000,
          42840000000000,
          59760000000000,
          73320000000000,
          49320000000000,
          35580000000000,
          44220000000000,
          49020000000000,
          61980000000000,
          42660000000000,
          67200000000000,
          47280000000000,
          40680000000000,
          31920000000000,
          63780000000000,
          72960000000000,
          30540000000000,
          63300000000000,
          45900000000000,
          64620000000000,
          34200000000000,
          47280000000000,
          38220000000000,
          64320000000000,
          61080000000000,
          54900000000000,
          39720000000000,
          60840000000000,
          70620000000000,
          37980000000000,
          67680000000000,
          44820000000000,
          72240000000000,
          53460000000000,
          43920000000000,
          62520000000000,
          52020000000000,
          65640000000000,
          58860000000000,
          33720000000000,
          75240000000000,
          64020000000000,
          35760000000000,
          34980000000000,
          67260000000000,
          29160000000000,
          29100000000000,
          74580000000000,
          66480000000000,
          54540000000000,
          51420000000000,
          53040000000000,
          73980000000000,
          64740000000000,
          66120000000000,
          40500000000000,
          71940000000000,
          68280000000000,
          42900000000000,
          35340000000000,
          55560000000000,
          64860000000000,
          65700000000000,
          64440000000000,
          48000000000000,
          67140000000000,
          68940000000000,
          38460000000000,
          36660000000000,
          70200000000000,
          59340000000000,
          52860000000000,
          74700000000000,
          58800000000000,
          53340000000000,
          55800000000000,
          30300000000000,
          70080000000000,
          72000000000000,
          52920000000000,
          60660000000000,
          33180000000000,
          71100000000000,
          33900000000000,
          36000000000000,
          31020000000000,
          46440000000000,
          38520000000000,
          33420000000000,
          38940000000000,
          32760000000000,
          33060000000000,
          36960000000000,
          58860000000000,
          59700000000000,
          39240000000000,
          69480000000000,
          75420000000000,
          33000000000000,
          48600000000000,
          55680000000000,
          40560000000000,
          38520000000000,
          36660000000000,
          56340000000000,
          53040000000000,
          72000000000000,
          34500000000000,
          53880000000000,
          48000000000000,
          50580000000000,
          70320000000000,
          61680000000000,
          42240000000000,
          33660000000000,
          28800000000000,
          29700000000000,
          58380000000000,
          70500000000000,
          59520000000000,
          48300000000000,
          51120000000000,
          48000000000000,
          57180000000000,
          31260000000000,
          56220000000000,
          69000000000000,
          59820000000000,
          73200000000000,
          57300000000000,
          37200000000000,
          66780000000000,
          51720000000000,
          42360000000000,
          44460000000000,
          52920000000000,
          50640000000000,
          38340000000000,
          39720000000000,
          55860000000000,
          61320000000000,
          36300000000000,
          34740000000000,
          39900000000000,
          63000000000000,
          68820000000000,
          36540000000000,
          50940000000000,
          45540000000000,
          49620000000000,
          63180000000000,
          50220000000000,
          68760000000000,
          49980000000000,
          46200000000000,
          73500000000000,
          41940000000000,
          41760000000000,
          51480000000000,
          63780000000000,
          33720000000000,
          37440000000000,
          59820000000000,
          40200000000000,
          59940000000000,
          55020000000000,
          68640000000000,
          60060000000000
         ],
         "xaxis": "x3",
         "y": {
          "bdata": "dACQAD0AkQCSAHAAWwBRAGIAVgB2AGsAawBjAIkAoQBFAGsAOQAwAKoApQA0AK0AXgBNAJEAVgBbACoAVwCpAGgAjgAjAF0AbABJAFUAXwAlAFUAaQArAC8AQACnAFQAIgBJAK8ASACOACMARwBbALMAlwAlACcAfQCKAHQAqAA+AIcAOwAhAIoArgBMAIwASQBkAFkAVwBCAGEAMwCwAKwASQA+AH4AoQBXAKgAhwA1AKgAfgA4AHUAbQCuADAAmQA5AKIAHwAkAFEAcgA7AIcAYAAnAKcAnACCAGYAaQCKAF8AawArAGcANgCLAJsAgQAoAHAARQBVAIkAjwCoACoAgQA6AGkAPABlADEAIwBzAFMAUQBXAKYAtABNAFIAJgByAD8APABnADgAMwCqAG4ARwBkAJYAswBHAHMAhwCIAKcAIABvAEkAjgBbAE0APACPAI0AngCpAC8AlgBSAFoAhwBzAIYAbQCCAKAAXgClAC4ARABfAG4AZgBqAJgAXQCCAKwALwBSADEArACWAI4ARACqADcAogBzAFEAeQB6AIYAngB2AFAAqwBeADIAWQBTAEYAiQBCAJ0AIgBNAJAAlQCDAIQAlgCrAGkApwA3ADMAWgBUAEcApgBvAGcAZACLAA==",
          "dtype": "i2"
         },
         "yaxis": "y3"
        },
        {
         "hovertemplate": "gender=Female<br>abonement_type=Standard<br>avg_time_check_in=%{x}<br>avg_time_in_gym=%{y}<extra></extra>",
         "legendgroup": "",
         "marker": {
          "color": "#636efa",
          "symbol": "circle"
         },
         "mode": "markers",
         "name": "",
         "orientation": "v",
         "showlegend": false,
         "type": "scatter",
         "x": [
          70260000000000,
          62340000000000,
          61440000000000,
          62880000000000,
          60840000000000,
          36060000000000,
          75360000000000,
          32520000000000,
          34680000000000,
          42540000000000,
          67260000000000,
          74160000000000,
          30960000000000,
          70680000000000,
          37680000000000,
          50100000000000,
          35820000000000,
          45840000000000,
          65940000000000,
          73740000000000,
          38040000000000,
          40380000000000,
          35700000000000,
          60180000000000,
          36600000000000,
          63720000000000,
          72780000000000,
          71520000000000,
          63780000000000,
          53700000000000,
          35160000000000,
          39480000000000,
          47100000000000,
          60660000000000,
          70080000000000,
          37980000000000,
          29580000000000,
          73380000000000,
          42660000000000,
          64620000000000,
          56460000000000,
          59940000000000,
          29700000000000,
          62820000000000,
          32460000000000,
          63720000000000,
          61620000000000,
          33000000000000,
          30840000000000,
          29820000000000,
          74460000000000,
          30840000000000,
          73560000000000,
          42540000000000,
          56700000000000,
          30000000000000,
          29820000000000,
          71520000000000,
          65220000000000,
          41580000000000,
          70200000000000,
          38280000000000,
          38580000000000,
          46320000000000,
          57120000000000,
          37020000000000,
          48720000000000,
          63000000000000,
          63660000000000,
          34560000000000,
          69360000000000,
          66240000000000,
          50460000000000,
          49920000000000,
          42180000000000,
          38400000000000,
          56400000000000,
          50520000000000,
          46200000000000,
          60660000000000,
          46380000000000,
          58800000000000,
          34920000000000,
          75300000000000,
          65160000000000,
          55260000000000,
          61440000000000,
          72240000000000,
          38820000000000,
          73320000000000,
          73560000000000,
          32340000000000,
          48840000000000,
          30300000000000,
          36540000000000,
          71940000000000,
          31620000000000,
          46980000000000,
          62940000000000,
          65220000000000,
          42780000000000,
          44760000000000,
          53580000000000,
          53640000000000,
          45960000000000,
          50760000000000,
          54720000000000,
          65640000000000,
          53040000000000,
          60060000000000,
          50880000000000,
          50340000000000,
          50760000000000,
          67380000000000,
          58860000000000,
          66960000000000,
          72120000000000,
          41820000000000,
          65700000000000,
          52380000000000,
          38520000000000,
          42960000000000,
          74400000000000,
          56640000000000,
          35700000000000,
          54840000000000,
          42600000000000,
          54600000000000,
          45180000000000,
          45780000000000,
          30540000000000,
          70200000000000,
          73500000000000,
          51600000000000,
          30420000000000,
          37320000000000,
          53100000000000,
          32100000000000,
          59760000000000,
          56280000000000,
          57300000000000,
          37920000000000,
          38160000000000,
          56160000000000,
          46320000000000,
          61140000000000,
          35760000000000,
          61440000000000,
          37560000000000,
          59640000000000,
          37020000000000,
          71460000000000,
          33660000000000,
          43800000000000,
          67320000000000,
          31560000000000,
          63180000000000,
          50580000000000,
          49320000000000,
          37560000000000,
          31800000000000,
          48240000000000,
          45720000000000,
          45840000000000,
          49800000000000,
          64920000000000,
          50460000000000,
          37200000000000,
          42300000000000,
          54000000000000,
          68640000000000,
          42720000000000,
          29820000000000,
          50220000000000,
          64260000000000,
          35220000000000,
          63240000000000,
          60000000000000,
          45000000000000,
          42180000000000,
          40740000000000,
          39900000000000,
          35820000000000,
          39000000000000,
          65700000000000,
          33840000000000,
          40860000000000,
          49020000000000,
          37680000000000,
          47460000000000,
          29100000000000,
          54780000000000,
          67140000000000,
          54960000000000,
          43980000000000,
          48300000000000,
          75120000000000,
          31020000000000,
          34680000000000,
          66540000000000,
          41700000000000,
          60540000000000,
          62220000000000,
          33660000000000,
          33060000000000,
          69540000000000,
          33960000000000,
          56040000000000,
          61560000000000,
          30180000000000,
          52380000000000,
          59580000000000,
          64740000000000,
          64680000000000,
          63840000000000,
          35160000000000,
          32040000000000,
          73560000000000,
          39600000000000,
          35220000000000,
          29160000000000,
          56580000000000,
          61500000000000,
          57900000000000,
          66360000000000,
          43740000000000,
          66720000000000,
          56340000000000,
          52380000000000,
          56820000000000,
          54360000000000,
          69180000000000,
          57780000000000,
          37500000000000,
          75180000000000,
          70320000000000,
          68400000000000,
          40980000000000,
          37380000000000,
          37680000000000,
          54240000000000,
          59580000000000,
          45300000000000,
          34860000000000,
          62040000000000,
          34920000000000,
          56640000000000,
          67620000000000,
          50340000000000,
          36840000000000,
          48480000000000,
          42120000000000,
          48960000000000,
          53520000000000,
          71940000000000,
          33240000000000,
          30120000000000,
          34920000000000,
          36960000000000,
          75360000000000,
          33240000000000
         ],
         "xaxis": "x4",
         "y": {
          "bdata": "MAC0AJ4APQB3AKcAoABPADoAjgCvAKEAogB6AEQAkwCRALQAZwBCADUAfgAwAHsAoACMAF8ANgAoAI8AlwBUAGQArgAqAJAAXQBDAJYAbQBNAJIAIwBpALAATgAwAJIANQCNAGwAhwBPAJwAsgCQADMAVQByAEMAmgByAEUARwCFAHwAVACkACIAmQA7ADEAjgAzAKMALABlAJIAWQBpAHkAPQCjAFMAcQBBAKIAkQBMAJoAOwBXAGkAaQAwACkAQQCcAGEApAA3AE8AgQBwAEUAgQAtAKoAeABDALQAWgB4AI8ASQB1AJsAUACkAEsASwAnAJoAmQA8AJEAcQA4AIAAHgBUAJUAHgChAIQASgB2AFgAOAB2ACYAdABQAIwAlwCUALAAKQBzAJQAZwBcAKsAIACzAH8AZwB/AIQAIACWAJUANwA4AGsAawCIACUANQCVADoAPQBCAGgAigCVACAAOQAmACwARQAlAGkAjQAnALQAjQAgADMApQA9AF0AhwB8AHMArgBsAF8AQwCVAHMAsQCoAIIAYQBbAEUAkABAALMAhwAmAK8AeACKAFQAVQCMAEgAaQApALIAmgCdAK8ApgA4AIwAJQCGAF4AMQBqAHEAKAAyADEAoABDAHAAeQBaAFsAkACrAEAAUQCoAKIAswCIAHUAIACgACwAngCKAKEAqwBqAIYA",
          "dtype": "i2"
         },
         "yaxis": "y4"
        },
        {
         "hovertemplate": "gender=Male<br>abonement_type=Premium<br>avg_time_check_in=%{x}<br>avg_time_in_gym=%{y}<extra></extra>",
         "legendgroup": "",
         "marker": {
          "color": "#636efa",
          "symbol": "circle"
         },
         "mode": "markers",
         "name": "",
         "orientation": "v",
         "showlegend": false,
         "type": "scatter",
         "x": [
          30540000000000,
          35640000000000,
          71160000000000,
          35100000000000,
          36720000000000,
          33900000000000,
          50100000000000,
          54360000000000,
          52440000000000,
          54060000000000,
          36060000000000,
          65700000000000,
          74580000000000,
          35820000000000,
          59340000000000,
          75480000000000,
          44340000000000,
          38400000000000,
          32640000000000,
          47040000000000,
          37800000000000,
          61560000000000,
          55980000000000,
          58560000000000,
          30780000000000,
          46260000000000,
          51360000000000,
          61020000000000,
          71820000000000,
          68880000000000,
          48600000000000,
          44640000000000,
          70800000000000,
          65460000000000,
          41700000000000,
          71940000000000,
          73800000000000,
          32880000000000,
          58200000000000,
          72900000000000,
          74640000000000,
          60060000000000,
          31320000000000,
          74040000000000,
          40860000000000,
          39720000000000,
          30780000000000,
          39000000000000,
          47160000000000,
          41280000000000,
          49680000000000,
          40980000000000,
          72060000000000,
          46800000000000,
          30060000000000,
          61980000000000,
          35820000000000,
          41280000000000,
          68820000000000,
          63840000000000,
          62460000000000,
          46680000000000,
          45420000000000,
          75420000000000,
          43980000000000,
          72060000000000,
          68700000000000,
          74340000000000,
          64380000000000,
          56940000000000,
          63480000000000,
          52380000000000,
          52440000000000,
          65280000000000,
          35940000000000,
          48000000000000,
          47940000000000,
          56400000000000,
          48780000000000,
          72960000000000,
          70740000000000,
          63000000000000,
          53580000000000,
          63660000000000,
          31080000000000,
          39960000000000,
          41820000000000,
          38280000000000,
          51060000000000,
          61860000000000,
          33300000000000,
          40680000000000,
          66120000000000,
          36360000000000,
          67860000000000,
          74460000000000,
          62520000000000,
          72600000000000,
          60840000000000,
          52560000000000,
          67920000000000,
          64860000000000,
          51600000000000,
          47160000000000,
          68880000000000,
          31080000000000,
          59700000000000,
          41460000000000,
          40800000000000,
          31080000000000,
          70620000000000,
          41220000000000,
          58860000000000,
          57900000000000,
          57660000000000,
          59340000000000,
          62280000000000,
          47400000000000,
          33240000000000,
          68880000000000,
          68820000000000,
          39300000000000,
          30300000000000,
          49140000000000,
          45900000000000,
          44580000000000,
          42360000000000,
          46200000000000,
          64320000000000,
          45720000000000,
          56040000000000,
          38280000000000,
          69720000000000,
          58200000000000,
          52200000000000,
          31800000000000,
          53460000000000,
          57840000000000,
          63960000000000,
          57900000000000,
          29400000000000,
          61680000000000,
          61140000000000,
          59220000000000,
          69720000000000,
          73680000000000,
          65760000000000,
          45600000000000,
          74100000000000,
          71400000000000,
          55500000000000,
          57420000000000,
          30120000000000,
          74760000000000,
          67920000000000,
          70800000000000,
          34620000000000,
          65220000000000,
          74100000000000,
          52140000000000,
          31140000000000,
          44160000000000,
          73860000000000,
          62580000000000,
          62160000000000,
          53640000000000,
          74160000000000,
          39960000000000,
          52680000000000,
          53880000000000,
          35880000000000,
          42060000000000,
          42360000000000,
          45360000000000,
          33000000000000,
          39240000000000,
          73500000000000,
          47400000000000,
          37020000000000,
          65160000000000,
          57660000000000,
          72840000000000,
          48660000000000,
          64860000000000,
          43320000000000,
          40200000000000,
          31080000000000,
          66120000000000,
          68760000000000,
          39240000000000,
          42660000000000,
          55680000000000,
          33180000000000,
          75240000000000,
          31380000000000,
          38520000000000,
          36540000000000,
          70980000000000,
          69780000000000,
          40980000000000,
          34140000000000,
          29400000000000,
          47220000000000,
          62520000000000,
          45120000000000,
          67440000000000,
          73020000000000,
          59520000000000,
          32340000000000,
          51540000000000,
          40680000000000,
          52200000000000,
          71040000000000,
          39180000000000,
          34800000000000,
          43500000000000,
          69060000000000,
          49200000000000,
          44160000000000,
          43800000000000,
          53100000000000,
          40080000000000,
          57660000000000,
          49500000000000,
          68640000000000,
          42060000000000,
          73080000000000,
          41160000000000,
          73980000000000,
          60780000000000,
          48900000000000,
          40140000000000,
          63660000000000,
          70980000000000,
          64620000000000,
          34680000000000,
          38880000000000,
          55860000000000,
          39300000000000,
          37260000000000,
          49740000000000,
          55620000000000,
          33780000000000,
          60540000000000,
          30120000000000,
          53040000000000,
          48600000000000,
          69720000000000,
          38880000000000,
          42600000000000,
          37440000000000
         ],
         "xaxis": "x",
         "y": {
          "bdata": "ewBjAD4AXAAhAKEAlQCaAHcAdgCCAJ8AhwCeAIgAUgAeAFYAKwA2ALEAXQBYAGsAVABqAKwAdQBbALIAQwAyAKwAoAB3AEEANgCDAEYAbgBJAFEAqQBCAFUAKgBkAKgAUwCmAK4AigBDAKMAHwCFAK0AZgA7ACQAOACoACYATgCaAJkAqgA4AI0AUQAgAEMAHgCVACoAQgBdAEMAIwBgADwApQA+AG4AawAmAKYAkwA8ADMAMQCrAHQAXACSAIsAUABqAFYAUAAyACoAtABTAIMApgCNACoAqABaAD0AhACJALQAggCfAGMArABNAJAArwCwAGcANwBUAI0AsQB+ALQAiwBDAD8APwAeACEAUwCtAJUAowCGAGsAigBPADoAdABUAI0ASABzAJoAoABlADQAUwBPAKkAgQCsAI8AKQBDAFUAJQA7AJwAdgBoAIsAowBoAJkAIQBbAGcAUABzAIsAfQBaAJwAYwCIAIAAWQB9ACIAjACyACUAJgAfAD4AkACvAGIAlwA4ACkAQACeAJwAigBuAFgAHgA/ADYAZgBoAHcAdQCzACoAnAAmAIEARACmACEAXAA/AIQAhwChADQAVwB6AFkATwBMAD4ATABNAE4AbAA9AJMAJABTAIkAQgCEAJ8AjQCWAEwAMgCrAGkAQACQAA==",
          "dtype": "i2"
         },
         "yaxis": "y"
        },
        {
         "hovertemplate": "gender=Male<br>abonement_type=Standard<br>avg_time_check_in=%{x}<br>avg_time_in_gym=%{y}<extra></extra>",
         "legendgroup": "",
         "marker": {
          "color": "#636efa",
          "symbol": "circle"
         },
         "mode": "markers",
         "name": "",
         "orientation": "v",
         "showlegend": false,
         "type": "scatter",
         "x": [
          30540000000000,
          63900000000000,
          49800000000000,
          47520000000000,
          70860000000000,
          75180000000000,
          49140000000000,
          54120000000000,
          34980000000000,
          56940000000000,
          61980000000000,
          62520000000000,
          47040000000000,
          73020000000000,
          45300000000000,
          68100000000000,
          33300000000000,
          52620000000000,
          37680000000000,
          36660000000000,
          37740000000000,
          59580000000000,
          64920000000000,
          30180000000000,
          50940000000000,
          31200000000000,
          56460000000000,
          75300000000000,
          65940000000000,
          64620000000000,
          40680000000000,
          52860000000000,
          51120000000000,
          61200000000000,
          63660000000000,
          53100000000000,
          44820000000000,
          43920000000000,
          60900000000000,
          50460000000000,
          34440000000000,
          64680000000000,
          33600000000000,
          71340000000000,
          53220000000000,
          49980000000000,
          56820000000000,
          48660000000000,
          65160000000000,
          42420000000000,
          45720000000000,
          53940000000000,
          73380000000000,
          72480000000000,
          54060000000000,
          59460000000000,
          54960000000000,
          63000000000000,
          43860000000000,
          67440000000000,
          48360000000000,
          29100000000000,
          61920000000000,
          29520000000000,
          71340000000000,
          43260000000000,
          56520000000000,
          55140000000000,
          36480000000000,
          40980000000000,
          34680000000000,
          40860000000000,
          37740000000000,
          44700000000000,
          61140000000000,
          55680000000000,
          62940000000000,
          46080000000000,
          49980000000000,
          31680000000000,
          42420000000000,
          54300000000000,
          69480000000000,
          70140000000000,
          69600000000000,
          75120000000000,
          73080000000000,
          38040000000000,
          62940000000000,
          64620000000000,
          52200000000000,
          46740000000000,
          70020000000000,
          60300000000000,
          67440000000000,
          44220000000000,
          37860000000000,
          70680000000000,
          73380000000000,
          46920000000000,
          68520000000000,
          64620000000000,
          39360000000000,
          41280000000000,
          50280000000000,
          67200000000000,
          53700000000000,
          66480000000000,
          34260000000000,
          35160000000000,
          61140000000000,
          42960000000000,
          63420000000000,
          51120000000000,
          65220000000000,
          61800000000000,
          42180000000000,
          31260000000000,
          52440000000000,
          58740000000000,
          69780000000000,
          46560000000000,
          42960000000000,
          68520000000000,
          31440000000000,
          30240000000000,
          38040000000000,
          49380000000000,
          53580000000000,
          32280000000000,
          58740000000000,
          66180000000000,
          55920000000000,
          46320000000000,
          66600000000000,
          58200000000000,
          38880000000000,
          29580000000000,
          50760000000000,
          35460000000000,
          46200000000000,
          28860000000000,
          61560000000000,
          30900000000000,
          56460000000000,
          55440000000000,
          63720000000000,
          74340000000000,
          63120000000000,
          41400000000000,
          55680000000000,
          39120000000000,
          61020000000000,
          60780000000000,
          39720000000000,
          52140000000000,
          36060000000000,
          68280000000000,
          47460000000000,
          33600000000000,
          61980000000000,
          69780000000000,
          61320000000000,
          29580000000000,
          72960000000000,
          59580000000000,
          73380000000000,
          66900000000000,
          33180000000000,
          37860000000000,
          53520000000000,
          37320000000000,
          62940000000000,
          64680000000000,
          47520000000000,
          38220000000000,
          73920000000000,
          30780000000000,
          70920000000000,
          41340000000000,
          70680000000000,
          65700000000000,
          72420000000000,
          64920000000000,
          73680000000000,
          47400000000000,
          47940000000000,
          49260000000000,
          51660000000000,
          51360000000000,
          66300000000000,
          44160000000000,
          71040000000000,
          48120000000000,
          57960000000000,
          46740000000000,
          34860000000000,
          74640000000000,
          50820000000000,
          44280000000000,
          42660000000000,
          52380000000000,
          34500000000000,
          69360000000000,
          74400000000000,
          61740000000000,
          57540000000000,
          74580000000000,
          43200000000000,
          53760000000000,
          62340000000000,
          40740000000000,
          46740000000000,
          35160000000000,
          73620000000000,
          33120000000000,
          38760000000000,
          58680000000000,
          44520000000000,
          46740000000000,
          33720000000000,
          54720000000000,
          53220000000000,
          54300000000000,
          70140000000000,
          33360000000000,
          36180000000000,
          35820000000000,
          38820000000000,
          43080000000000,
          61260000000000,
          69660000000000,
          45960000000000,
          67020000000000,
          42960000000000,
          55980000000000,
          60060000000000,
          40020000000000,
          38160000000000,
          68400000000000,
          64020000000000,
          57840000000000,
          50700000000000,
          71400000000000,
          62460000000000,
          37380000000000
         ],
         "xaxis": "x2",
         "y": {
          "bdata": "MgBfACQAZgByAKAAoQBXAF0AogBHACMAIQCmAKMAfQAxADAAsQBPADEAnAAqADgAkQBfAFMAbQBYAIMAggAoAJcAXQChALAAbQA4AIoAcwAlAH4AIACSACIAhQApAIgAowCFACcAeABZAJwAogCAAHcAawChAIQAqQBOAEMAdQAsAH4ArQCIADYAYQAhALEAgABLAGYAlQA4AJwAKABrAI8ASgAjAKwAngBGACUAJwAiAEQAaAAxAJwAhQAsALEAdQBOAFYAQgAtAFUApABgAHYAfgBCAEgARwCBAFwAagCMAEoAXwA1AEUANgA8AK4AVwCwAD4AfwCTAF0AhwAfAHgArwBTAH0ANQBWAEoANgBRADUAbABJAIAAlQB7AI0AfACKAK4AWgAsACgAQgBdAJsASwBSAFwAkwAqAEYAnQBrAFUAHgB9AIkAZwAtAKEAhgBNACEAXQBOAJsAYQB7AGwAdABLALEAXABoAFwAaAA6AEsAVQCcALAAoQBpAC8AQwBLADgAPwCxAGIAOABLAJ8APgCNALEALAA5AKcASgCAAD0AjQA5AGcARgBaAJYAhQBNAJ8AQwA1AH0AegCKAF0ArACLAIQAlACZAIAAlAA/AGIAZQCTAGwAYABGAIsAZQCEAF0ArQCYAH4A",
          "dtype": "i2"
         },
         "yaxis": "y2"
        }
       ],
       "layout": {
        "annotations": [
         {
          "font": {},
          "showarrow": false,
          "text": "abonement_type=Premium",
          "x": 0.24,
          "xanchor": "center",
          "xref": "paper",
          "y": 1,
          "yanchor": "bottom",
          "yref": "paper"
         },
         {
          "font": {},
          "showarrow": false,
          "text": "abonement_type=Standard",
          "x": 0.74,
          "xanchor": "center",
          "xref": "paper",
          "y": 1,
          "yanchor": "bottom",
          "yref": "paper"
         },
         {
          "font": {},
          "showarrow": false,
          "text": "gender=Male",
          "textangle": 90,
          "x": 0.98,
          "xanchor": "left",
          "xref": "paper",
          "y": 0.2425,
          "yanchor": "middle",
          "yref": "paper"
         },
         {
          "font": {},
          "showarrow": false,
          "text": "gender=Female",
          "textangle": 90,
          "x": 0.98,
          "xanchor": "left",
          "xref": "paper",
          "y": 0.7575000000000001,
          "yanchor": "middle",
          "yref": "paper"
         }
        ],
        "legend": {
         "tracegroupgap": 0
        },
        "margin": {
         "t": 60
        },
        "template": {
         "data": {
          "bar": [
           {
            "error_x": {
             "color": "#2a3f5f"
            },
            "error_y": {
             "color": "#2a3f5f"
            },
            "marker": {
             "line": {
              "color": "#E5ECF6",
              "width": 0.5
             },
             "pattern": {
              "fillmode": "overlay",
              "size": 10,
              "solidity": 0.2
             }
            },
            "type": "bar"
           }
          ],
          "barpolar": [
           {
            "marker": {
             "line": {
              "color": "#E5ECF6",
              "width": 0.5
             },
             "pattern": {
              "fillmode": "overlay",
              "size": 10,
              "solidity": 0.2
             }
            },
            "type": "barpolar"
           }
          ],
          "carpet": [
           {
            "aaxis": {
             "endlinecolor": "#2a3f5f",
             "gridcolor": "white",
             "linecolor": "white",
             "minorgridcolor": "white",
             "startlinecolor": "#2a3f5f"
            },
            "baxis": {
             "endlinecolor": "#2a3f5f",
             "gridcolor": "white",
             "linecolor": "white",
             "minorgridcolor": "white",
             "startlinecolor": "#2a3f5f"
            },
            "type": "carpet"
           }
          ],
          "choropleth": [
           {
            "colorbar": {
             "outlinewidth": 0,
             "ticks": ""
            },
            "type": "choropleth"
           }
          ],
          "contour": [
           {
            "colorbar": {
             "outlinewidth": 0,
             "ticks": ""
            },
            "colorscale": [
             [
              0,
              "#0d0887"
             ],
             [
              0.1111111111111111,
              "#46039f"
             ],
             [
              0.2222222222222222,
              "#7201a8"
             ],
             [
              0.3333333333333333,
              "#9c179e"
             ],
             [
              0.4444444444444444,
              "#bd3786"
             ],
             [
              0.5555555555555556,
              "#d8576b"
             ],
             [
              0.6666666666666666,
              "#ed7953"
             ],
             [
              0.7777777777777778,
              "#fb9f3a"
             ],
             [
              0.8888888888888888,
              "#fdca26"
             ],
             [
              1,
              "#f0f921"
             ]
            ],
            "type": "contour"
           }
          ],
          "contourcarpet": [
           {
            "colorbar": {
             "outlinewidth": 0,
             "ticks": ""
            },
            "type": "contourcarpet"
           }
          ],
          "heatmap": [
           {
            "colorbar": {
             "outlinewidth": 0,
             "ticks": ""
            },
            "colorscale": [
             [
              0,
              "#0d0887"
             ],
             [
              0.1111111111111111,
              "#46039f"
             ],
             [
              0.2222222222222222,
              "#7201a8"
             ],
             [
              0.3333333333333333,
              "#9c179e"
             ],
             [
              0.4444444444444444,
              "#bd3786"
             ],
             [
              0.5555555555555556,
              "#d8576b"
             ],
             [
              0.6666666666666666,
              "#ed7953"
             ],
             [
              0.7777777777777778,
              "#fb9f3a"
             ],
             [
              0.8888888888888888,
              "#fdca26"
             ],
             [
              1,
              "#f0f921"
             ]
            ],
            "type": "heatmap"
           }
          ],
          "histogram": [
           {
            "marker": {
             "pattern": {
              "fillmode": "overlay",
              "size": 10,
              "solidity": 0.2
             }
            },
            "type": "histogram"
           }
          ],
          "histogram2d": [
           {
            "colorbar": {
             "outlinewidth": 0,
             "ticks": ""
            },
            "colorscale": [
             [
              0,
              "#0d0887"
             ],
             [
              0.1111111111111111,
              "#46039f"
             ],
             [
              0.2222222222222222,
              "#7201a8"
             ],
             [
              0.3333333333333333,
              "#9c179e"
             ],
             [
              0.4444444444444444,
              "#bd3786"
             ],
             [
              0.5555555555555556,
              "#d8576b"
             ],
             [
              0.6666666666666666,
              "#ed7953"
             ],
             [
              0.7777777777777778,
              "#fb9f3a"
             ],
             [
              0.8888888888888888,
              "#fdca26"
             ],
             [
              1,
              "#f0f921"
             ]
            ],
            "type": "histogram2d"
           }
          ],
          "histogram2dcontour": [
           {
            "colorbar": {
             "outlinewidth": 0,
             "ticks": ""
            },
            "colorscale": [
             [
              0,
              "#0d0887"
             ],
             [
              0.1111111111111111,
              "#46039f"
             ],
             [
              0.2222222222222222,
              "#7201a8"
             ],
             [
              0.3333333333333333,
              "#9c179e"
             ],
             [
              0.4444444444444444,
              "#bd3786"
             ],
             [
              0.5555555555555556,
              "#d8576b"
             ],
             [
              0.6666666666666666,
              "#ed7953"
             ],
             [
              0.7777777777777778,
              "#fb9f3a"
             ],
             [
              0.8888888888888888,
              "#fdca26"
             ],
             [
              1,
              "#f0f921"
             ]
            ],
            "type": "histogram2dcontour"
           }
          ],
          "mesh3d": [
           {
            "colorbar": {
             "outlinewidth": 0,
             "ticks": ""
            },
            "type": "mesh3d"
           }
          ],
          "parcoords": [
           {
            "line": {
             "colorbar": {
              "outlinewidth": 0,
              "ticks": ""
             }
            },
            "type": "parcoords"
           }
          ],
          "pie": [
           {
            "automargin": true,
            "type": "pie"
           }
          ],
          "scatter": [
           {
            "fillpattern": {
             "fillmode": "overlay",
             "size": 10,
             "solidity": 0.2
            },
            "type": "scatter"
           }
          ],
          "scatter3d": [
           {
            "line": {
             "colorbar": {
              "outlinewidth": 0,
              "ticks": ""
             }
            },
            "marker": {
             "colorbar": {
              "outlinewidth": 0,
              "ticks": ""
             }
            },
            "type": "scatter3d"
           }
          ],
          "scattercarpet": [
           {
            "marker": {
             "colorbar": {
              "outlinewidth": 0,
              "ticks": ""
             }
            },
            "type": "scattercarpet"
           }
          ],
          "scattergeo": [
           {
            "marker": {
             "colorbar": {
              "outlinewidth": 0,
              "ticks": ""
             }
            },
            "type": "scattergeo"
           }
          ],
          "scattergl": [
           {
            "marker": {
             "colorbar": {
              "outlinewidth": 0,
              "ticks": ""
             }
            },
            "type": "scattergl"
           }
          ],
          "scattermap": [
           {
            "marker": {
             "colorbar": {
              "outlinewidth": 0,
              "ticks": ""
             }
            },
            "type": "scattermap"
           }
          ],
          "scattermapbox": [
           {
            "marker": {
             "colorbar": {
              "outlinewidth": 0,
              "ticks": ""
             }
            },
            "type": "scattermapbox"
           }
          ],
          "scatterpolar": [
           {
            "marker": {
             "colorbar": {
              "outlinewidth": 0,
              "ticks": ""
             }
            },
            "type": "scatterpolar"
           }
          ],
          "scatterpolargl": [
           {
            "marker": {
             "colorbar": {
              "outlinewidth": 0,
              "ticks": ""
             }
            },
            "type": "scatterpolargl"
           }
          ],
          "scatterternary": [
           {
            "marker": {
             "colorbar": {
              "outlinewidth": 0,
              "ticks": ""
             }
            },
            "type": "scatterternary"
           }
          ],
          "surface": [
           {
            "colorbar": {
             "outlinewidth": 0,
             "ticks": ""
            },
            "colorscale": [
             [
              0,
              "#0d0887"
             ],
             [
              0.1111111111111111,
              "#46039f"
             ],
             [
              0.2222222222222222,
              "#7201a8"
             ],
             [
              0.3333333333333333,
              "#9c179e"
             ],
             [
              0.4444444444444444,
              "#bd3786"
             ],
             [
              0.5555555555555556,
              "#d8576b"
             ],
             [
              0.6666666666666666,
              "#ed7953"
             ],
             [
              0.7777777777777778,
              "#fb9f3a"
             ],
             [
              0.8888888888888888,
              "#fdca26"
             ],
             [
              1,
              "#f0f921"
             ]
            ],
            "type": "surface"
           }
          ],
          "table": [
           {
            "cells": {
             "fill": {
              "color": "#EBF0F8"
             },
             "line": {
              "color": "white"
             }
            },
            "header": {
             "fill": {
              "color": "#C8D4E3"
             },
             "line": {
              "color": "white"
             }
            },
            "type": "table"
           }
          ]
         },
         "layout": {
          "annotationdefaults": {
           "arrowcolor": "#2a3f5f",
           "arrowhead": 0,
           "arrowwidth": 1
          },
          "autotypenumbers": "strict",
          "coloraxis": {
           "colorbar": {
            "outlinewidth": 0,
            "ticks": ""
           }
          },
          "colorscale": {
           "diverging": [
            [
             0,
             "#8e0152"
            ],
            [
             0.1,
             "#c51b7d"
            ],
            [
             0.2,
             "#de77ae"
            ],
            [
             0.3,
             "#f1b6da"
            ],
            [
             0.4,
             "#fde0ef"
            ],
            [
             0.5,
             "#f7f7f7"
            ],
            [
             0.6,
             "#e6f5d0"
            ],
            [
             0.7,
             "#b8e186"
            ],
            [
             0.8,
             "#7fbc41"
            ],
            [
             0.9,
             "#4d9221"
            ],
            [
             1,
             "#276419"
            ]
           ],
           "sequential": [
            [
             0,
             "#0d0887"
            ],
            [
             0.1111111111111111,
             "#46039f"
            ],
            [
             0.2222222222222222,
             "#7201a8"
            ],
            [
             0.3333333333333333,
             "#9c179e"
            ],
            [
             0.4444444444444444,
             "#bd3786"
            ],
            [
             0.5555555555555556,
             "#d8576b"
            ],
            [
             0.6666666666666666,
             "#ed7953"
            ],
            [
             0.7777777777777778,
             "#fb9f3a"
            ],
            [
             0.8888888888888888,
             "#fdca26"
            ],
            [
             1,
             "#f0f921"
            ]
           ],
           "sequentialminus": [
            [
             0,
             "#0d0887"
            ],
            [
             0.1111111111111111,
             "#46039f"
            ],
            [
             0.2222222222222222,
             "#7201a8"
            ],
            [
             0.3333333333333333,
             "#9c179e"
            ],
            [
             0.4444444444444444,
             "#bd3786"
            ],
            [
             0.5555555555555556,
             "#d8576b"
            ],
            [
             0.6666666666666666,
             "#ed7953"
            ],
            [
             0.7777777777777778,
             "#fb9f3a"
            ],
            [
             0.8888888888888888,
             "#fdca26"
            ],
            [
             1,
             "#f0f921"
            ]
           ]
          },
          "colorway": [
           "#636efa",
           "#EF553B",
           "#00cc96",
           "#ab63fa",
           "#FFA15A",
           "#19d3f3",
           "#FF6692",
           "#B6E880",
           "#FF97FF",
           "#FECB52"
          ],
          "font": {
           "color": "#2a3f5f"
          },
          "geo": {
           "bgcolor": "white",
           "lakecolor": "white",
           "landcolor": "#E5ECF6",
           "showlakes": true,
           "showland": true,
           "subunitcolor": "white"
          },
          "hoverlabel": {
           "align": "left"
          },
          "hovermode": "closest",
          "mapbox": {
           "style": "light"
          },
          "paper_bgcolor": "white",
          "plot_bgcolor": "#E5ECF6",
          "polar": {
           "angularaxis": {
            "gridcolor": "white",
            "linecolor": "white",
            "ticks": ""
           },
           "bgcolor": "#E5ECF6",
           "radialaxis": {
            "gridcolor": "white",
            "linecolor": "white",
            "ticks": ""
           }
          },
          "scene": {
           "xaxis": {
            "backgroundcolor": "#E5ECF6",
            "gridcolor": "white",
            "gridwidth": 2,
            "linecolor": "white",
            "showbackground": true,
            "ticks": "",
            "zerolinecolor": "white"
           },
           "yaxis": {
            "backgroundcolor": "#E5ECF6",
            "gridcolor": "white",
            "gridwidth": 2,
            "linecolor": "white",
            "showbackground": true,
            "ticks": "",
            "zerolinecolor": "white"
           },
           "zaxis": {
            "backgroundcolor": "#E5ECF6",
            "gridcolor": "white",
            "gridwidth": 2,
            "linecolor": "white",
            "showbackground": true,
            "ticks": "",
            "zerolinecolor": "white"
           }
          },
          "shapedefaults": {
           "line": {
            "color": "#2a3f5f"
           }
          },
          "ternary": {
           "aaxis": {
            "gridcolor": "white",
            "linecolor": "white",
            "ticks": ""
           },
           "baxis": {
            "gridcolor": "white",
            "linecolor": "white",
            "ticks": ""
           },
           "bgcolor": "#E5ECF6",
           "caxis": {
            "gridcolor": "white",
            "linecolor": "white",
            "ticks": ""
           }
          },
          "title": {
           "x": 0.05
          },
          "xaxis": {
           "automargin": true,
           "gridcolor": "white",
           "linecolor": "white",
           "ticks": "",
           "title": {
            "standoff": 15
           },
           "zerolinecolor": "white",
           "zerolinewidth": 2
          },
          "yaxis": {
           "automargin": true,
           "gridcolor": "white",
           "linecolor": "white",
           "ticks": "",
           "title": {
            "standoff": 15
           },
           "zerolinecolor": "white",
           "zerolinewidth": 2
          }
         }
        },
        "xaxis": {
         "anchor": "y",
         "domain": [
          0,
          0.48
         ],
         "title": {
          "text": "avg_time_check_in"
         }
        },
        "xaxis2": {
         "anchor": "y2",
         "domain": [
          0.5,
          0.98
         ],
         "matches": "x",
         "title": {
          "text": "avg_time_check_in"
         }
        },
        "xaxis3": {
         "anchor": "y3",
         "domain": [
          0,
          0.48
         ],
         "matches": "x",
         "showticklabels": false
        },
        "xaxis4": {
         "anchor": "y4",
         "domain": [
          0.5,
          0.98
         ],
         "matches": "x",
         "showticklabels": false
        },
        "yaxis": {
         "anchor": "x",
         "domain": [
          0,
          0.485
         ],
         "title": {
          "text": "avg_time_in_gym"
         }
        },
        "yaxis2": {
         "anchor": "x2",
         "domain": [
          0,
          0.485
         ],
         "matches": "y",
         "showticklabels": false
        },
        "yaxis3": {
         "anchor": "x3",
         "domain": [
          0.515,
          1
         ],
         "matches": "y",
         "title": {
          "text": "avg_time_in_gym"
         }
        },
        "yaxis4": {
         "anchor": "x4",
         "domain": [
          0.515,
          1
         ],
         "matches": "y",
         "showticklabels": false
        }
       }
      },
      "text/html": [
       "<div>            <script src=\"https://cdnjs.cloudflare.com/ajax/libs/mathjax/2.7.5/MathJax.js?config=TeX-AMS-MML_SVG\"></script><script type=\"text/javascript\">if (window.MathJax && window.MathJax.Hub && window.MathJax.Hub.Config) {window.MathJax.Hub.Config({SVG: {font: \"STIX-Web\"}});}</script>                <script type=\"text/javascript\">window.PlotlyConfig = {MathJaxConfig: 'local'};</script>\n",
       "        <script charset=\"utf-8\" src=\"https://cdn.plot.ly/plotly-3.0.1.min.js\"></script>                <div id=\"92303c93-a282-496d-95ae-9529c44e51d5\" class=\"plotly-graph-div\" style=\"height:525px; width:100%;\"></div>            <script type=\"text/javascript\">                window.PLOTLYENV=window.PLOTLYENV || {};                                if (document.getElementById(\"92303c93-a282-496d-95ae-9529c44e51d5\")) {                    Plotly.newPlot(                        \"92303c93-a282-496d-95ae-9529c44e51d5\",                        [{\"hovertemplate\":\"gender=Female\\u003cbr\\u003eabonement_type=Premium\\u003cbr\\u003eavg_time_check_in=%{x}\\u003cbr\\u003eavg_time_in_gym=%{y}\\u003cextra\\u003e\\u003c\\u002fextra\\u003e\",\"legendgroup\":\"\",\"marker\":{\"color\":\"#636efa\",\"symbol\":\"circle\"},\"mode\":\"markers\",\"name\":\"\",\"orientation\":\"v\",\"showlegend\":false,\"x\":[70260000000000,47100000000000,71400000000000,72720000000000,29940000000000,31320000000000,41100000000000,72900000000000,37380000000000,52920000000000,31140000000000,37560000000000,57840000000000,37500000000000,42960000000000,32040000000000,33960000000000,66600000000000,38460000000000,47160000000000,29880000000000,40260000000000,57240000000000,68820000000000,41340000000000,47040000000000,34500000000000,30840000000000,47940000000000,35460000000000,50520000000000,64320000000000,58980000000000,49860000000000,52560000000000,69540000000000,72540000000000,52800000000000,51780000000000,34260000000000,37920000000000,62460000000000,36660000000000,68040000000000,55020000000000,35700000000000,48720000000000,35760000000000,30060000000000,50220000000000,60840000000000,35700000000000,66720000000000,64860000000000,74220000000000,37920000000000,72900000000000,39780000000000,50280000000000,49800000000000,33120000000000,53940000000000,64800000000000,37020000000000,63420000000000,36120000000000,31140000000000,53700000000000,31980000000000,35340000000000,59460000000000,47640000000000,69420000000000,45060000000000,47160000000000,42840000000000,59760000000000,73320000000000,49320000000000,35580000000000,44220000000000,49020000000000,61980000000000,42660000000000,67200000000000,47280000000000,40680000000000,31920000000000,63780000000000,72960000000000,30540000000000,63300000000000,45900000000000,64620000000000,34200000000000,47280000000000,38220000000000,64320000000000,61080000000000,54900000000000,39720000000000,60840000000000,70620000000000,37980000000000,67680000000000,44820000000000,72240000000000,53460000000000,43920000000000,62520000000000,52020000000000,65640000000000,58860000000000,33720000000000,75240000000000,64020000000000,35760000000000,34980000000000,67260000000000,29160000000000,29100000000000,74580000000000,66480000000000,54540000000000,51420000000000,53040000000000,73980000000000,64740000000000,66120000000000,40500000000000,71940000000000,68280000000000,42900000000000,35340000000000,55560000000000,64860000000000,65700000000000,64440000000000,48000000000000,67140000000000,68940000000000,38460000000000,36660000000000,70200000000000,59340000000000,52860000000000,74700000000000,58800000000000,53340000000000,55800000000000,30300000000000,70080000000000,72000000000000,52920000000000,60660000000000,33180000000000,71100000000000,33900000000000,36000000000000,31020000000000,46440000000000,38520000000000,33420000000000,38940000000000,32760000000000,33060000000000,36960000000000,58860000000000,59700000000000,39240000000000,69480000000000,75420000000000,33000000000000,48600000000000,55680000000000,40560000000000,38520000000000,36660000000000,56340000000000,53040000000000,72000000000000,34500000000000,53880000000000,48000000000000,50580000000000,70320000000000,61680000000000,42240000000000,33660000000000,28800000000000,29700000000000,58380000000000,70500000000000,59520000000000,48300000000000,51120000000000,48000000000000,57180000000000,31260000000000,56220000000000,69000000000000,59820000000000,73200000000000,57300000000000,37200000000000,66780000000000,51720000000000,42360000000000,44460000000000,52920000000000,50640000000000,38340000000000,39720000000000,55860000000000,61320000000000,36300000000000,34740000000000,39900000000000,63000000000000,68820000000000,36540000000000,50940000000000,45540000000000,49620000000000,63180000000000,50220000000000,68760000000000,49980000000000,46200000000000,73500000000000,41940000000000,41760000000000,51480000000000,63780000000000,33720000000000,37440000000000,59820000000000,40200000000000,59940000000000,55020000000000,68640000000000,60060000000000],\"xaxis\":\"x3\",\"y\":{\"dtype\":\"i2\",\"bdata\":\"dACQAD0AkQCSAHAAWwBRAGIAVgB2AGsAawBjAIkAoQBFAGsAOQAwAKoApQA0AK0AXgBNAJEAVgBbACoAVwCpAGgAjgAjAF0AbABJAFUAXwAlAFUAaQArAC8AQACnAFQAIgBJAK8ASACOACMARwBbALMAlwAlACcAfQCKAHQAqAA+AIcAOwAhAIoArgBMAIwASQBkAFkAVwBCAGEAMwCwAKwASQA+AH4AoQBXAKgAhwA1AKgAfgA4AHUAbQCuADAAmQA5AKIAHwAkAFEAcgA7AIcAYAAnAKcAnACCAGYAaQCKAF8AawArAGcANgCLAJsAgQAoAHAARQBVAIkAjwCoACoAgQA6AGkAPABlADEAIwBzAFMAUQBXAKYAtABNAFIAJgByAD8APABnADgAMwCqAG4ARwBkAJYAswBHAHMAhwCIAKcAIABvAEkAjgBbAE0APACPAI0AngCpAC8AlgBSAFoAhwBzAIYAbQCCAKAAXgClAC4ARABfAG4AZgBqAJgAXQCCAKwALwBSADEArACWAI4ARACqADcAogBzAFEAeQB6AIYAngB2AFAAqwBeADIAWQBTAEYAiQBCAJ0AIgBNAJAAlQCDAIQAlgCrAGkApwA3ADMAWgBUAEcApgBvAGcAZACLAA==\"},\"yaxis\":\"y3\",\"type\":\"scatter\"},{\"hovertemplate\":\"gender=Female\\u003cbr\\u003eabonement_type=Standard\\u003cbr\\u003eavg_time_check_in=%{x}\\u003cbr\\u003eavg_time_in_gym=%{y}\\u003cextra\\u003e\\u003c\\u002fextra\\u003e\",\"legendgroup\":\"\",\"marker\":{\"color\":\"#636efa\",\"symbol\":\"circle\"},\"mode\":\"markers\",\"name\":\"\",\"orientation\":\"v\",\"showlegend\":false,\"x\":[70260000000000,62340000000000,61440000000000,62880000000000,60840000000000,36060000000000,75360000000000,32520000000000,34680000000000,42540000000000,67260000000000,74160000000000,30960000000000,70680000000000,37680000000000,50100000000000,35820000000000,45840000000000,65940000000000,73740000000000,38040000000000,40380000000000,35700000000000,60180000000000,36600000000000,63720000000000,72780000000000,71520000000000,63780000000000,53700000000000,35160000000000,39480000000000,47100000000000,60660000000000,70080000000000,37980000000000,29580000000000,73380000000000,42660000000000,64620000000000,56460000000000,59940000000000,29700000000000,62820000000000,32460000000000,63720000000000,61620000000000,33000000000000,30840000000000,29820000000000,74460000000000,30840000000000,73560000000000,42540000000000,56700000000000,30000000000000,29820000000000,71520000000000,65220000000000,41580000000000,70200000000000,38280000000000,38580000000000,46320000000000,57120000000000,37020000000000,48720000000000,63000000000000,63660000000000,34560000000000,69360000000000,66240000000000,50460000000000,49920000000000,42180000000000,38400000000000,56400000000000,50520000000000,46200000000000,60660000000000,46380000000000,58800000000000,34920000000000,75300000000000,65160000000000,55260000000000,61440000000000,72240000000000,38820000000000,73320000000000,73560000000000,32340000000000,48840000000000,30300000000000,36540000000000,71940000000000,31620000000000,46980000000000,62940000000000,65220000000000,42780000000000,44760000000000,53580000000000,53640000000000,45960000000000,50760000000000,54720000000000,65640000000000,53040000000000,60060000000000,50880000000000,50340000000000,50760000000000,67380000000000,58860000000000,66960000000000,72120000000000,41820000000000,65700000000000,52380000000000,38520000000000,42960000000000,74400000000000,56640000000000,35700000000000,54840000000000,42600000000000,54600000000000,45180000000000,45780000000000,30540000000000,70200000000000,73500000000000,51600000000000,30420000000000,37320000000000,53100000000000,32100000000000,59760000000000,56280000000000,57300000000000,37920000000000,38160000000000,56160000000000,46320000000000,61140000000000,35760000000000,61440000000000,37560000000000,59640000000000,37020000000000,71460000000000,33660000000000,43800000000000,67320000000000,31560000000000,63180000000000,50580000000000,49320000000000,37560000000000,31800000000000,48240000000000,45720000000000,45840000000000,49800000000000,64920000000000,50460000000000,37200000000000,42300000000000,54000000000000,68640000000000,42720000000000,29820000000000,50220000000000,64260000000000,35220000000000,63240000000000,60000000000000,45000000000000,42180000000000,40740000000000,39900000000000,35820000000000,39000000000000,65700000000000,33840000000000,40860000000000,49020000000000,37680000000000,47460000000000,29100000000000,54780000000000,67140000000000,54960000000000,43980000000000,48300000000000,75120000000000,31020000000000,34680000000000,66540000000000,41700000000000,60540000000000,62220000000000,33660000000000,33060000000000,69540000000000,33960000000000,56040000000000,61560000000000,30180000000000,52380000000000,59580000000000,64740000000000,64680000000000,63840000000000,35160000000000,32040000000000,73560000000000,39600000000000,35220000000000,29160000000000,56580000000000,61500000000000,57900000000000,66360000000000,43740000000000,66720000000000,56340000000000,52380000000000,56820000000000,54360000000000,69180000000000,57780000000000,37500000000000,75180000000000,70320000000000,68400000000000,40980000000000,37380000000000,37680000000000,54240000000000,59580000000000,45300000000000,34860000000000,62040000000000,34920000000000,56640000000000,67620000000000,50340000000000,36840000000000,48480000000000,42120000000000,48960000000000,53520000000000,71940000000000,33240000000000,30120000000000,34920000000000,36960000000000,75360000000000,33240000000000],\"xaxis\":\"x4\",\"y\":{\"dtype\":\"i2\",\"bdata\":\"MAC0AJ4APQB3AKcAoABPADoAjgCvAKEAogB6AEQAkwCRALQAZwBCADUAfgAwAHsAoACMAF8ANgAoAI8AlwBUAGQArgAqAJAAXQBDAJYAbQBNAJIAIwBpALAATgAwAJIANQCNAGwAhwBPAJwAsgCQADMAVQByAEMAmgByAEUARwCFAHwAVACkACIAmQA7ADEAjgAzAKMALABlAJIAWQBpAHkAPQCjAFMAcQBBAKIAkQBMAJoAOwBXAGkAaQAwACkAQQCcAGEApAA3AE8AgQBwAEUAgQAtAKoAeABDALQAWgB4AI8ASQB1AJsAUACkAEsASwAnAJoAmQA8AJEAcQA4AIAAHgBUAJUAHgChAIQASgB2AFgAOAB2ACYAdABQAIwAlwCUALAAKQBzAJQAZwBcAKsAIACzAH8AZwB\\u002fAIQAIACWAJUANwA4AGsAawCIACUANQCVADoAPQBCAGgAigCVACAAOQAmACwARQAlAGkAjQAnALQAjQAgADMApQA9AF0AhwB8AHMArgBsAF8AQwCVAHMAsQCoAIIAYQBbAEUAkABAALMAhwAmAK8AeACKAFQAVQCMAEgAaQApALIAmgCdAK8ApgA4AIwAJQCGAF4AMQBqAHEAKAAyADEAoABDAHAAeQBaAFsAkACrAEAAUQCoAKIAswCIAHUAIACgACwAngCKAKEAqwBqAIYA\"},\"yaxis\":\"y4\",\"type\":\"scatter\"},{\"hovertemplate\":\"gender=Male\\u003cbr\\u003eabonement_type=Premium\\u003cbr\\u003eavg_time_check_in=%{x}\\u003cbr\\u003eavg_time_in_gym=%{y}\\u003cextra\\u003e\\u003c\\u002fextra\\u003e\",\"legendgroup\":\"\",\"marker\":{\"color\":\"#636efa\",\"symbol\":\"circle\"},\"mode\":\"markers\",\"name\":\"\",\"orientation\":\"v\",\"showlegend\":false,\"x\":[30540000000000,35640000000000,71160000000000,35100000000000,36720000000000,33900000000000,50100000000000,54360000000000,52440000000000,54060000000000,36060000000000,65700000000000,74580000000000,35820000000000,59340000000000,75480000000000,44340000000000,38400000000000,32640000000000,47040000000000,37800000000000,61560000000000,55980000000000,58560000000000,30780000000000,46260000000000,51360000000000,61020000000000,71820000000000,68880000000000,48600000000000,44640000000000,70800000000000,65460000000000,41700000000000,71940000000000,73800000000000,32880000000000,58200000000000,72900000000000,74640000000000,60060000000000,31320000000000,74040000000000,40860000000000,39720000000000,30780000000000,39000000000000,47160000000000,41280000000000,49680000000000,40980000000000,72060000000000,46800000000000,30060000000000,61980000000000,35820000000000,41280000000000,68820000000000,63840000000000,62460000000000,46680000000000,45420000000000,75420000000000,43980000000000,72060000000000,68700000000000,74340000000000,64380000000000,56940000000000,63480000000000,52380000000000,52440000000000,65280000000000,35940000000000,48000000000000,47940000000000,56400000000000,48780000000000,72960000000000,70740000000000,63000000000000,53580000000000,63660000000000,31080000000000,39960000000000,41820000000000,38280000000000,51060000000000,61860000000000,33300000000000,40680000000000,66120000000000,36360000000000,67860000000000,74460000000000,62520000000000,72600000000000,60840000000000,52560000000000,67920000000000,64860000000000,51600000000000,47160000000000,68880000000000,31080000000000,59700000000000,41460000000000,40800000000000,31080000000000,70620000000000,41220000000000,58860000000000,57900000000000,57660000000000,59340000000000,62280000000000,47400000000000,33240000000000,68880000000000,68820000000000,39300000000000,30300000000000,49140000000000,45900000000000,44580000000000,42360000000000,46200000000000,64320000000000,45720000000000,56040000000000,38280000000000,69720000000000,58200000000000,52200000000000,31800000000000,53460000000000,57840000000000,63960000000000,57900000000000,29400000000000,61680000000000,61140000000000,59220000000000,69720000000000,73680000000000,65760000000000,45600000000000,74100000000000,71400000000000,55500000000000,57420000000000,30120000000000,74760000000000,67920000000000,70800000000000,34620000000000,65220000000000,74100000000000,52140000000000,31140000000000,44160000000000,73860000000000,62580000000000,62160000000000,53640000000000,74160000000000,39960000000000,52680000000000,53880000000000,35880000000000,42060000000000,42360000000000,45360000000000,33000000000000,39240000000000,73500000000000,47400000000000,37020000000000,65160000000000,57660000000000,72840000000000,48660000000000,64860000000000,43320000000000,40200000000000,31080000000000,66120000000000,68760000000000,39240000000000,42660000000000,55680000000000,33180000000000,75240000000000,31380000000000,38520000000000,36540000000000,70980000000000,69780000000000,40980000000000,34140000000000,29400000000000,47220000000000,62520000000000,45120000000000,67440000000000,73020000000000,59520000000000,32340000000000,51540000000000,40680000000000,52200000000000,71040000000000,39180000000000,34800000000000,43500000000000,69060000000000,49200000000000,44160000000000,43800000000000,53100000000000,40080000000000,57660000000000,49500000000000,68640000000000,42060000000000,73080000000000,41160000000000,73980000000000,60780000000000,48900000000000,40140000000000,63660000000000,70980000000000,64620000000000,34680000000000,38880000000000,55860000000000,39300000000000,37260000000000,49740000000000,55620000000000,33780000000000,60540000000000,30120000000000,53040000000000,48600000000000,69720000000000,38880000000000,42600000000000,37440000000000],\"xaxis\":\"x\",\"y\":{\"dtype\":\"i2\",\"bdata\":\"ewBjAD4AXAAhAKEAlQCaAHcAdgCCAJ8AhwCeAIgAUgAeAFYAKwA2ALEAXQBYAGsAVABqAKwAdQBbALIAQwAyAKwAoAB3AEEANgCDAEYAbgBJAFEAqQBCAFUAKgBkAKgAUwCmAK4AigBDAKMAHwCFAK0AZgA7ACQAOACoACYATgCaAJkAqgA4AI0AUQAgAEMAHgCVACoAQgBdAEMAIwBgADwApQA+AG4AawAmAKYAkwA8ADMAMQCrAHQAXACSAIsAUABqAFYAUAAyACoAtABTAIMApgCNACoAqABaAD0AhACJALQAggCfAGMArABNAJAArwCwAGcANwBUAI0AsQB+ALQAiwBDAD8APwAeACEAUwCtAJUAowCGAGsAigBPADoAdABUAI0ASABzAJoAoABlADQAUwBPAKkAgQCsAI8AKQBDAFUAJQA7AJwAdgBoAIsAowBoAJkAIQBbAGcAUABzAIsAfQBaAJwAYwCIAIAAWQB9ACIAjACyACUAJgAfAD4AkACvAGIAlwA4ACkAQACeAJwAigBuAFgAHgA\\u002fADYAZgBoAHcAdQCzACoAnAAmAIEARACmACEAXAA\\u002fAIQAhwChADQAVwB6AFkATwBMAD4ATABNAE4AbAA9AJMAJABTAIkAQgCEAJ8AjQCWAEwAMgCrAGkAQACQAA==\"},\"yaxis\":\"y\",\"type\":\"scatter\"},{\"hovertemplate\":\"gender=Male\\u003cbr\\u003eabonement_type=Standard\\u003cbr\\u003eavg_time_check_in=%{x}\\u003cbr\\u003eavg_time_in_gym=%{y}\\u003cextra\\u003e\\u003c\\u002fextra\\u003e\",\"legendgroup\":\"\",\"marker\":{\"color\":\"#636efa\",\"symbol\":\"circle\"},\"mode\":\"markers\",\"name\":\"\",\"orientation\":\"v\",\"showlegend\":false,\"x\":[30540000000000,63900000000000,49800000000000,47520000000000,70860000000000,75180000000000,49140000000000,54120000000000,34980000000000,56940000000000,61980000000000,62520000000000,47040000000000,73020000000000,45300000000000,68100000000000,33300000000000,52620000000000,37680000000000,36660000000000,37740000000000,59580000000000,64920000000000,30180000000000,50940000000000,31200000000000,56460000000000,75300000000000,65940000000000,64620000000000,40680000000000,52860000000000,51120000000000,61200000000000,63660000000000,53100000000000,44820000000000,43920000000000,60900000000000,50460000000000,34440000000000,64680000000000,33600000000000,71340000000000,53220000000000,49980000000000,56820000000000,48660000000000,65160000000000,42420000000000,45720000000000,53940000000000,73380000000000,72480000000000,54060000000000,59460000000000,54960000000000,63000000000000,43860000000000,67440000000000,48360000000000,29100000000000,61920000000000,29520000000000,71340000000000,43260000000000,56520000000000,55140000000000,36480000000000,40980000000000,34680000000000,40860000000000,37740000000000,44700000000000,61140000000000,55680000000000,62940000000000,46080000000000,49980000000000,31680000000000,42420000000000,54300000000000,69480000000000,70140000000000,69600000000000,75120000000000,73080000000000,38040000000000,62940000000000,64620000000000,52200000000000,46740000000000,70020000000000,60300000000000,67440000000000,44220000000000,37860000000000,70680000000000,73380000000000,46920000000000,68520000000000,64620000000000,39360000000000,41280000000000,50280000000000,67200000000000,53700000000000,66480000000000,34260000000000,35160000000000,61140000000000,42960000000000,63420000000000,51120000000000,65220000000000,61800000000000,42180000000000,31260000000000,52440000000000,58740000000000,69780000000000,46560000000000,42960000000000,68520000000000,31440000000000,30240000000000,38040000000000,49380000000000,53580000000000,32280000000000,58740000000000,66180000000000,55920000000000,46320000000000,66600000000000,58200000000000,38880000000000,29580000000000,50760000000000,35460000000000,46200000000000,28860000000000,61560000000000,30900000000000,56460000000000,55440000000000,63720000000000,74340000000000,63120000000000,41400000000000,55680000000000,39120000000000,61020000000000,60780000000000,39720000000000,52140000000000,36060000000000,68280000000000,47460000000000,33600000000000,61980000000000,69780000000000,61320000000000,29580000000000,72960000000000,59580000000000,73380000000000,66900000000000,33180000000000,37860000000000,53520000000000,37320000000000,62940000000000,64680000000000,47520000000000,38220000000000,73920000000000,30780000000000,70920000000000,41340000000000,70680000000000,65700000000000,72420000000000,64920000000000,73680000000000,47400000000000,47940000000000,49260000000000,51660000000000,51360000000000,66300000000000,44160000000000,71040000000000,48120000000000,57960000000000,46740000000000,34860000000000,74640000000000,50820000000000,44280000000000,42660000000000,52380000000000,34500000000000,69360000000000,74400000000000,61740000000000,57540000000000,74580000000000,43200000000000,53760000000000,62340000000000,40740000000000,46740000000000,35160000000000,73620000000000,33120000000000,38760000000000,58680000000000,44520000000000,46740000000000,33720000000000,54720000000000,53220000000000,54300000000000,70140000000000,33360000000000,36180000000000,35820000000000,38820000000000,43080000000000,61260000000000,69660000000000,45960000000000,67020000000000,42960000000000,55980000000000,60060000000000,40020000000000,38160000000000,68400000000000,64020000000000,57840000000000,50700000000000,71400000000000,62460000000000,37380000000000],\"xaxis\":\"x2\",\"y\":{\"dtype\":\"i2\",\"bdata\":\"MgBfACQAZgByAKAAoQBXAF0AogBHACMAIQCmAKMAfQAxADAAsQBPADEAnAAqADgAkQBfAFMAbQBYAIMAggAoAJcAXQChALAAbQA4AIoAcwAlAH4AIACSACIAhQApAIgAowCFACcAeABZAJwAogCAAHcAawChAIQAqQBOAEMAdQAsAH4ArQCIADYAYQAhALEAgABLAGYAlQA4AJwAKABrAI8ASgAjAKwAngBGACUAJwAiAEQAaAAxAJwAhQAsALEAdQBOAFYAQgAtAFUApABgAHYAfgBCAEgARwCBAFwAagCMAEoAXwA1AEUANgA8AK4AVwCwAD4AfwCTAF0AhwAfAHgArwBTAH0ANQBWAEoANgBRADUAbABJAIAAlQB7AI0AfACKAK4AWgAsACgAQgBdAJsASwBSAFwAkwAqAEYAnQBrAFUAHgB9AIkAZwAtAKEAhgBNACEAXQBOAJsAYQB7AGwAdABLALEAXABoAFwAaAA6AEsAVQCcALAAoQBpAC8AQwBLADgAPwCxAGIAOABLAJ8APgCNALEALAA5AKcASgCAAD0AjQA5AGcARgBaAJYAhQBNAJ8AQwA1AH0AegCKAF0ArACLAIQAlACZAIAAlAA\\u002fAGIAZQCTAGwAYABGAIsAZQCEAF0ArQCYAH4A\"},\"yaxis\":\"y2\",\"type\":\"scatter\"}],                        {\"template\":{\"data\":{\"histogram2dcontour\":[{\"type\":\"histogram2dcontour\",\"colorbar\":{\"outlinewidth\":0,\"ticks\":\"\"},\"colorscale\":[[0.0,\"#0d0887\"],[0.1111111111111111,\"#46039f\"],[0.2222222222222222,\"#7201a8\"],[0.3333333333333333,\"#9c179e\"],[0.4444444444444444,\"#bd3786\"],[0.5555555555555556,\"#d8576b\"],[0.6666666666666666,\"#ed7953\"],[0.7777777777777778,\"#fb9f3a\"],[0.8888888888888888,\"#fdca26\"],[1.0,\"#f0f921\"]]}],\"choropleth\":[{\"type\":\"choropleth\",\"colorbar\":{\"outlinewidth\":0,\"ticks\":\"\"}}],\"histogram2d\":[{\"type\":\"histogram2d\",\"colorbar\":{\"outlinewidth\":0,\"ticks\":\"\"},\"colorscale\":[[0.0,\"#0d0887\"],[0.1111111111111111,\"#46039f\"],[0.2222222222222222,\"#7201a8\"],[0.3333333333333333,\"#9c179e\"],[0.4444444444444444,\"#bd3786\"],[0.5555555555555556,\"#d8576b\"],[0.6666666666666666,\"#ed7953\"],[0.7777777777777778,\"#fb9f3a\"],[0.8888888888888888,\"#fdca26\"],[1.0,\"#f0f921\"]]}],\"heatmap\":[{\"type\":\"heatmap\",\"colorbar\":{\"outlinewidth\":0,\"ticks\":\"\"},\"colorscale\":[[0.0,\"#0d0887\"],[0.1111111111111111,\"#46039f\"],[0.2222222222222222,\"#7201a8\"],[0.3333333333333333,\"#9c179e\"],[0.4444444444444444,\"#bd3786\"],[0.5555555555555556,\"#d8576b\"],[0.6666666666666666,\"#ed7953\"],[0.7777777777777778,\"#fb9f3a\"],[0.8888888888888888,\"#fdca26\"],[1.0,\"#f0f921\"]]}],\"contourcarpet\":[{\"type\":\"contourcarpet\",\"colorbar\":{\"outlinewidth\":0,\"ticks\":\"\"}}],\"contour\":[{\"type\":\"contour\",\"colorbar\":{\"outlinewidth\":0,\"ticks\":\"\"},\"colorscale\":[[0.0,\"#0d0887\"],[0.1111111111111111,\"#46039f\"],[0.2222222222222222,\"#7201a8\"],[0.3333333333333333,\"#9c179e\"],[0.4444444444444444,\"#bd3786\"],[0.5555555555555556,\"#d8576b\"],[0.6666666666666666,\"#ed7953\"],[0.7777777777777778,\"#fb9f3a\"],[0.8888888888888888,\"#fdca26\"],[1.0,\"#f0f921\"]]}],\"surface\":[{\"type\":\"surface\",\"colorbar\":{\"outlinewidth\":0,\"ticks\":\"\"},\"colorscale\":[[0.0,\"#0d0887\"],[0.1111111111111111,\"#46039f\"],[0.2222222222222222,\"#7201a8\"],[0.3333333333333333,\"#9c179e\"],[0.4444444444444444,\"#bd3786\"],[0.5555555555555556,\"#d8576b\"],[0.6666666666666666,\"#ed7953\"],[0.7777777777777778,\"#fb9f3a\"],[0.8888888888888888,\"#fdca26\"],[1.0,\"#f0f921\"]]}],\"mesh3d\":[{\"type\":\"mesh3d\",\"colorbar\":{\"outlinewidth\":0,\"ticks\":\"\"}}],\"scatter\":[{\"fillpattern\":{\"fillmode\":\"overlay\",\"size\":10,\"solidity\":0.2},\"type\":\"scatter\"}],\"parcoords\":[{\"type\":\"parcoords\",\"line\":{\"colorbar\":{\"outlinewidth\":0,\"ticks\":\"\"}}}],\"scatterpolargl\":[{\"type\":\"scatterpolargl\",\"marker\":{\"colorbar\":{\"outlinewidth\":0,\"ticks\":\"\"}}}],\"bar\":[{\"error_x\":{\"color\":\"#2a3f5f\"},\"error_y\":{\"color\":\"#2a3f5f\"},\"marker\":{\"line\":{\"color\":\"#E5ECF6\",\"width\":0.5},\"pattern\":{\"fillmode\":\"overlay\",\"size\":10,\"solidity\":0.2}},\"type\":\"bar\"}],\"scattergeo\":[{\"type\":\"scattergeo\",\"marker\":{\"colorbar\":{\"outlinewidth\":0,\"ticks\":\"\"}}}],\"scatterpolar\":[{\"type\":\"scatterpolar\",\"marker\":{\"colorbar\":{\"outlinewidth\":0,\"ticks\":\"\"}}}],\"histogram\":[{\"marker\":{\"pattern\":{\"fillmode\":\"overlay\",\"size\":10,\"solidity\":0.2}},\"type\":\"histogram\"}],\"scattergl\":[{\"type\":\"scattergl\",\"marker\":{\"colorbar\":{\"outlinewidth\":0,\"ticks\":\"\"}}}],\"scatter3d\":[{\"type\":\"scatter3d\",\"line\":{\"colorbar\":{\"outlinewidth\":0,\"ticks\":\"\"}},\"marker\":{\"colorbar\":{\"outlinewidth\":0,\"ticks\":\"\"}}}],\"scattermap\":[{\"type\":\"scattermap\",\"marker\":{\"colorbar\":{\"outlinewidth\":0,\"ticks\":\"\"}}}],\"scattermapbox\":[{\"type\":\"scattermapbox\",\"marker\":{\"colorbar\":{\"outlinewidth\":0,\"ticks\":\"\"}}}],\"scatterternary\":[{\"type\":\"scatterternary\",\"marker\":{\"colorbar\":{\"outlinewidth\":0,\"ticks\":\"\"}}}],\"scattercarpet\":[{\"type\":\"scattercarpet\",\"marker\":{\"colorbar\":{\"outlinewidth\":0,\"ticks\":\"\"}}}],\"carpet\":[{\"aaxis\":{\"endlinecolor\":\"#2a3f5f\",\"gridcolor\":\"white\",\"linecolor\":\"white\",\"minorgridcolor\":\"white\",\"startlinecolor\":\"#2a3f5f\"},\"baxis\":{\"endlinecolor\":\"#2a3f5f\",\"gridcolor\":\"white\",\"linecolor\":\"white\",\"minorgridcolor\":\"white\",\"startlinecolor\":\"#2a3f5f\"},\"type\":\"carpet\"}],\"table\":[{\"cells\":{\"fill\":{\"color\":\"#EBF0F8\"},\"line\":{\"color\":\"white\"}},\"header\":{\"fill\":{\"color\":\"#C8D4E3\"},\"line\":{\"color\":\"white\"}},\"type\":\"table\"}],\"barpolar\":[{\"marker\":{\"line\":{\"color\":\"#E5ECF6\",\"width\":0.5},\"pattern\":{\"fillmode\":\"overlay\",\"size\":10,\"solidity\":0.2}},\"type\":\"barpolar\"}],\"pie\":[{\"automargin\":true,\"type\":\"pie\"}]},\"layout\":{\"autotypenumbers\":\"strict\",\"colorway\":[\"#636efa\",\"#EF553B\",\"#00cc96\",\"#ab63fa\",\"#FFA15A\",\"#19d3f3\",\"#FF6692\",\"#B6E880\",\"#FF97FF\",\"#FECB52\"],\"font\":{\"color\":\"#2a3f5f\"},\"hovermode\":\"closest\",\"hoverlabel\":{\"align\":\"left\"},\"paper_bgcolor\":\"white\",\"plot_bgcolor\":\"#E5ECF6\",\"polar\":{\"bgcolor\":\"#E5ECF6\",\"angularaxis\":{\"gridcolor\":\"white\",\"linecolor\":\"white\",\"ticks\":\"\"},\"radialaxis\":{\"gridcolor\":\"white\",\"linecolor\":\"white\",\"ticks\":\"\"}},\"ternary\":{\"bgcolor\":\"#E5ECF6\",\"aaxis\":{\"gridcolor\":\"white\",\"linecolor\":\"white\",\"ticks\":\"\"},\"baxis\":{\"gridcolor\":\"white\",\"linecolor\":\"white\",\"ticks\":\"\"},\"caxis\":{\"gridcolor\":\"white\",\"linecolor\":\"white\",\"ticks\":\"\"}},\"coloraxis\":{\"colorbar\":{\"outlinewidth\":0,\"ticks\":\"\"}},\"colorscale\":{\"sequential\":[[0.0,\"#0d0887\"],[0.1111111111111111,\"#46039f\"],[0.2222222222222222,\"#7201a8\"],[0.3333333333333333,\"#9c179e\"],[0.4444444444444444,\"#bd3786\"],[0.5555555555555556,\"#d8576b\"],[0.6666666666666666,\"#ed7953\"],[0.7777777777777778,\"#fb9f3a\"],[0.8888888888888888,\"#fdca26\"],[1.0,\"#f0f921\"]],\"sequentialminus\":[[0.0,\"#0d0887\"],[0.1111111111111111,\"#46039f\"],[0.2222222222222222,\"#7201a8\"],[0.3333333333333333,\"#9c179e\"],[0.4444444444444444,\"#bd3786\"],[0.5555555555555556,\"#d8576b\"],[0.6666666666666666,\"#ed7953\"],[0.7777777777777778,\"#fb9f3a\"],[0.8888888888888888,\"#fdca26\"],[1.0,\"#f0f921\"]],\"diverging\":[[0,\"#8e0152\"],[0.1,\"#c51b7d\"],[0.2,\"#de77ae\"],[0.3,\"#f1b6da\"],[0.4,\"#fde0ef\"],[0.5,\"#f7f7f7\"],[0.6,\"#e6f5d0\"],[0.7,\"#b8e186\"],[0.8,\"#7fbc41\"],[0.9,\"#4d9221\"],[1,\"#276419\"]]},\"xaxis\":{\"gridcolor\":\"white\",\"linecolor\":\"white\",\"ticks\":\"\",\"title\":{\"standoff\":15},\"zerolinecolor\":\"white\",\"automargin\":true,\"zerolinewidth\":2},\"yaxis\":{\"gridcolor\":\"white\",\"linecolor\":\"white\",\"ticks\":\"\",\"title\":{\"standoff\":15},\"zerolinecolor\":\"white\",\"automargin\":true,\"zerolinewidth\":2},\"scene\":{\"xaxis\":{\"backgroundcolor\":\"#E5ECF6\",\"gridcolor\":\"white\",\"linecolor\":\"white\",\"showbackground\":true,\"ticks\":\"\",\"zerolinecolor\":\"white\",\"gridwidth\":2},\"yaxis\":{\"backgroundcolor\":\"#E5ECF6\",\"gridcolor\":\"white\",\"linecolor\":\"white\",\"showbackground\":true,\"ticks\":\"\",\"zerolinecolor\":\"white\",\"gridwidth\":2},\"zaxis\":{\"backgroundcolor\":\"#E5ECF6\",\"gridcolor\":\"white\",\"linecolor\":\"white\",\"showbackground\":true,\"ticks\":\"\",\"zerolinecolor\":\"white\",\"gridwidth\":2}},\"shapedefaults\":{\"line\":{\"color\":\"#2a3f5f\"}},\"annotationdefaults\":{\"arrowcolor\":\"#2a3f5f\",\"arrowhead\":0,\"arrowwidth\":1},\"geo\":{\"bgcolor\":\"white\",\"landcolor\":\"#E5ECF6\",\"subunitcolor\":\"white\",\"showland\":true,\"showlakes\":true,\"lakecolor\":\"white\"},\"title\":{\"x\":0.05},\"mapbox\":{\"style\":\"light\"}}},\"xaxis\":{\"anchor\":\"y\",\"domain\":[0.0,0.48],\"title\":{\"text\":\"avg_time_check_in\"}},\"yaxis\":{\"anchor\":\"x\",\"domain\":[0.0,0.485],\"title\":{\"text\":\"avg_time_in_gym\"}},\"xaxis2\":{\"anchor\":\"y2\",\"domain\":[0.5,0.98],\"matches\":\"x\",\"title\":{\"text\":\"avg_time_check_in\"}},\"yaxis2\":{\"anchor\":\"x2\",\"domain\":[0.0,0.485],\"matches\":\"y\",\"showticklabels\":false},\"xaxis3\":{\"anchor\":\"y3\",\"domain\":[0.0,0.48],\"matches\":\"x\",\"showticklabels\":false},\"yaxis3\":{\"anchor\":\"x3\",\"domain\":[0.515,1.0],\"matches\":\"y\",\"title\":{\"text\":\"avg_time_in_gym\"}},\"xaxis4\":{\"anchor\":\"y4\",\"domain\":[0.5,0.98],\"matches\":\"x\",\"showticklabels\":false},\"yaxis4\":{\"anchor\":\"x4\",\"domain\":[0.515,1.0],\"matches\":\"y\",\"showticklabels\":false},\"annotations\":[{\"font\":{},\"showarrow\":false,\"text\":\"abonement_type=Premium\",\"x\":0.24,\"xanchor\":\"center\",\"xref\":\"paper\",\"y\":1.0,\"yanchor\":\"bottom\",\"yref\":\"paper\"},{\"font\":{},\"showarrow\":false,\"text\":\"abonement_type=Standard\",\"x\":0.74,\"xanchor\":\"center\",\"xref\":\"paper\",\"y\":1.0,\"yanchor\":\"bottom\",\"yref\":\"paper\"},{\"font\":{},\"showarrow\":false,\"text\":\"gender=Male\",\"textangle\":90,\"x\":0.98,\"xanchor\":\"left\",\"xref\":\"paper\",\"y\":0.2425,\"yanchor\":\"middle\",\"yref\":\"paper\"},{\"font\":{},\"showarrow\":false,\"text\":\"gender=Female\",\"textangle\":90,\"x\":0.98,\"xanchor\":\"left\",\"xref\":\"paper\",\"y\":0.7575000000000001,\"yanchor\":\"middle\",\"yref\":\"paper\"}],\"legend\":{\"tracegroupgap\":0},\"margin\":{\"t\":60}},                        {\"responsive\": true}                    ).then(function(){\n",
       "                            \n",
       "var gd = document.getElementById('92303c93-a282-496d-95ae-9529c44e51d5');\n",
       "var x = new MutationObserver(function (mutations, observer) {{\n",
       "        var display = window.getComputedStyle(gd).display;\n",
       "        if (!display || display === 'none') {{\n",
       "            console.log([gd, 'removed!']);\n",
       "            Plotly.purge(gd);\n",
       "            observer.disconnect();\n",
       "        }}\n",
       "}});\n",
       "\n",
       "// Listen for the removal of the full notebook cells\n",
       "var notebookContainer = gd.closest('#notebook-container');\n",
       "if (notebookContainer) {{\n",
       "    x.observe(notebookContainer, {childList: true});\n",
       "}}\n",
       "\n",
       "// Listen for the clearing of the current output cell\n",
       "var outputEl = gd.closest('.output');\n",
       "if (outputEl) {{\n",
       "    x.observe(outputEl, {childList: true});\n",
       "}}\n",
       "\n",
       "                        })                };            </script>        </div>"
      ]
     },
     "metadata": {},
     "output_type": "display_data"
    }
   ],
   "source": [
    "fig = px.scatter(data_frame=df, \n",
    "                x='avg_time_check_in',\n",
    "                y='avg_time_in_gym',\n",
    "                facet_col='abonement_type',\n",
    "                facet_row='gender')\n",
    "fig.show()"
   ]
  },
  {
   "cell_type": "code",
   "execution_count": 28,
   "id": "b44ac96d",
   "metadata": {},
   "outputs": [
    {
     "data": {
      "text/html": [
       "<div>\n",
       "<style scoped>\n",
       "    .dataframe tbody tr th:only-of-type {\n",
       "        vertical-align: middle;\n",
       "    }\n",
       "\n",
       "    .dataframe tbody tr th {\n",
       "        vertical-align: top;\n",
       "    }\n",
       "\n",
       "    .dataframe thead tr th {\n",
       "        text-align: left;\n",
       "    }\n",
       "\n",
       "    .dataframe thead tr:last-of-type th {\n",
       "        text-align: right;\n",
       "    }\n",
       "</style>\n",
       "<table border=\"1\" class=\"dataframe\">\n",
       "  <thead>\n",
       "    <tr>\n",
       "      <th></th>\n",
       "      <th colspan=\"2\" halign=\"left\">age</th>\n",
       "    </tr>\n",
       "    <tr>\n",
       "      <th></th>\n",
       "      <th>median</th>\n",
       "      <th>mean</th>\n",
       "    </tr>\n",
       "    <tr>\n",
       "      <th>gender</th>\n",
       "      <th></th>\n",
       "      <th></th>\n",
       "    </tr>\n",
       "  </thead>\n",
       "  <tbody>\n",
       "    <tr>\n",
       "      <th>Female</th>\n",
       "      <td>29.0</td>\n",
       "      <td>29.825050</td>\n",
       "    </tr>\n",
       "    <tr>\n",
       "      <th>Male</th>\n",
       "      <td>32.0</td>\n",
       "      <td>31.392354</td>\n",
       "    </tr>\n",
       "  </tbody>\n",
       "</table>\n",
       "</div>"
      ],
      "text/plain": [
       "          age           \n",
       "       median       mean\n",
       "gender                  \n",
       "Female   29.0  29.825050\n",
       "Male     32.0  31.392354"
      ]
     },
     "execution_count": 28,
     "metadata": {},
     "output_type": "execute_result"
    }
   ],
   "source": [
    "df.groupby(by='gender').agg({'age':['median','mean']})"
   ]
  },
  {
   "cell_type": "code",
   "execution_count": 29,
   "id": "44dc2d2d",
   "metadata": {},
   "outputs": [
    {
     "data": {
      "image/png": "[encoded data removed]",
      "text/plain": [
       "<Figure size 500x500 with 1 Axes>"
      ]
     },
     "metadata": {},
     "output_type": "display_data"
    }
   ],
   "source": [
    "plt.figure(figsize=(5,5))\n",
    "plt.pie(\n",
    "        x=df['age_group'].value_counts(),\n",
    "        autopct='%1.1f%%',\n",
    "        explode= [0.02, 0.07, 0.07, 0.02, 0.02],\n",
    "        startangle=190\n",
    "        )\n",
    "plt.legend(df['age_group'].value_counts().index, bbox_to_anchor=(0.9,0.4))\n",
    "plt.title('Распределение по возрастным группам',fontsize=15,x=0.6)\n",
    "plt.show()"
   ]
  },
  {
   "cell_type": "code",
   "execution_count": 30,
   "id": "fca71639",
   "metadata": {},
   "outputs": [
    {
     "data": {
      "application/vnd.plotly.v1+json": {
       "config": {
        "plotlyServerURL": "https://plot.ly"
       },
       "data": [
        {
         "hovertemplate": "age_group=%{x}<br>freq=%{y}<extra></extra>",
         "legendgroup": "",
         "marker": {
          "color": "#636efa",
          "pattern": {
           "shape": ""
          }
         },
         "name": "",
         "orientation": "v",
         "showlegend": false,
         "textposition": "auto",
         "texttemplate": "%{y}",
         "type": "bar",
         "x": [
          "14-17",
          "18-20",
          "21-25",
          "26-30",
          "31-35",
          "36-40",
          "41-45",
          "младше 14",
          "старше 45"
         ],
         "xaxis": "x",
         "y": {
          "bdata": "aABTAIQAkwB5AI4AgAApAGYA",
          "dtype": "i2"
         },
         "yaxis": "y"
        }
       ],
       "layout": {
        "barmode": "relative",
        "legend": {
         "tracegroupgap": 0
        },
        "margin": {
         "t": 60
        },
        "template": {
         "data": {
          "bar": [
           {
            "error_x": {
             "color": "#2a3f5f"
            },
            "error_y": {
             "color": "#2a3f5f"
            },
            "marker": {
             "line": {
              "color": "#E5ECF6",
              "width": 0.5
             },
             "pattern": {
              "fillmode": "overlay",
              "size": 10,
              "solidity": 0.2
             }
            },
            "type": "bar"
           }
          ],
          "barpolar": [
           {
            "marker": {
             "line": {
              "color": "#E5ECF6",
              "width": 0.5
             },
             "pattern": {
              "fillmode": "overlay",
              "size": 10,
              "solidity": 0.2
             }
            },
            "type": "barpolar"
           }
          ],
          "carpet": [
           {
            "aaxis": {
             "endlinecolor": "#2a3f5f",
             "gridcolor": "white",
             "linecolor": "white",
             "minorgridcolor": "white",
             "startlinecolor": "#2a3f5f"
            },
            "baxis": {
             "endlinecolor": "#2a3f5f",
             "gridcolor": "white",
             "linecolor": "white",
             "minorgridcolor": "white",
             "startlinecolor": "#2a3f5f"
            },
            "type": "carpet"
           }
          ],
          "choropleth": [
           {
            "colorbar": {
             "outlinewidth": 0,
             "ticks": ""
            },
            "type": "choropleth"
           }
          ],
          "contour": [
           {
            "colorbar": {
             "outlinewidth": 0,
             "ticks": ""
            },
            "colorscale": [
             [
              0,
              "#0d0887"
             ],
             [
              0.1111111111111111,
              "#46039f"
             ],
             [
              0.2222222222222222,
              "#7201a8"
             ],
             [
              0.3333333333333333,
              "#9c179e"
             ],
             [
              0.4444444444444444,
              "#bd3786"
             ],
             [
              0.5555555555555556,
              "#d8576b"
             ],
             [
              0.6666666666666666,
              "#ed7953"
             ],
             [
              0.7777777777777778,
              "#fb9f3a"
             ],
             [
              0.8888888888888888,
              "#fdca26"
             ],
             [
              1,
              "#f0f921"
             ]
            ],
            "type": "contour"
           }
          ],
          "contourcarpet": [
           {
            "colorbar": {
             "outlinewidth": 0,
             "ticks": ""
            },
            "type": "contourcarpet"
           }
          ],
          "heatmap": [
           {
            "colorbar": {
             "outlinewidth": 0,
             "ticks": ""
            },
            "colorscale": [
             [
              0,
              "#0d0887"
             ],
             [
              0.1111111111111111,
              "#46039f"
             ],
             [
              0.2222222222222222,
              "#7201a8"
             ],
             [
              0.3333333333333333,
              "#9c179e"
             ],
             [
              0.4444444444444444,
              "#bd3786"
             ],
             [
              0.5555555555555556,
              "#d8576b"
             ],
             [
              0.6666666666666666,
              "#ed7953"
             ],
             [
              0.7777777777777778,
              "#fb9f3a"
             ],
             [
              0.8888888888888888,
              "#fdca26"
             ],
             [
              1,
              "#f0f921"
             ]
            ],
            "type": "heatmap"
           }
          ],
          "histogram": [
           {
            "marker": {
             "pattern": {
              "fillmode": "overlay",
              "size": 10,
              "solidity": 0.2
             }
            },
            "type": "histogram"
           }
          ],
          "histogram2d": [
           {
            "colorbar": {
             "outlinewidth": 0,
             "ticks": ""
            },
            "colorscale": [
             [
              0,
              "#0d0887"
             ],
             [
              0.1111111111111111,
              "#46039f"
             ],
             [
              0.2222222222222222,
              "#7201a8"
             ],
             [
              0.3333333333333333,
              "#9c179e"
             ],
             [
              0.4444444444444444,
              "#bd3786"
             ],
             [
              0.5555555555555556,
              "#d8576b"
             ],
             [
              0.6666666666666666,
              "#ed7953"
             ],
             [
              0.7777777777777778,
              "#fb9f3a"
             ],
             [
              0.8888888888888888,
              "#fdca26"
             ],
             [
              1,
              "#f0f921"
             ]
            ],
            "type": "histogram2d"
           }
          ],
          "histogram2dcontour": [
           {
            "colorbar": {
             "outlinewidth": 0,
             "ticks": ""
            },
            "colorscale": [
             [
              0,
              "#0d0887"
             ],
             [
              0.1111111111111111,
              "#46039f"
             ],
             [
              0.2222222222222222,
              "#7201a8"
             ],
             [
              0.3333333333333333,
              "#9c179e"
             ],
             [
              0.4444444444444444,
              "#bd3786"
             ],
             [
              0.5555555555555556,
              "#d8576b"
             ],
             [
              0.6666666666666666,
              "#ed7953"
             ],
             [
              0.7777777777777778,
              "#fb9f3a"
             ],
             [
              0.8888888888888888,
              "#fdca26"
             ],
             [
              1,
              "#f0f921"
             ]
            ],
            "type": "histogram2dcontour"
           }
          ],
          "mesh3d": [
           {
            "colorbar": {
             "outlinewidth": 0,
             "ticks": ""
            },
            "type": "mesh3d"
           }
          ],
          "parcoords": [
           {
            "line": {
             "colorbar": {
              "outlinewidth": 0,
              "ticks": ""
             }
            },
            "type": "parcoords"
           }
          ],
          "pie": [
           {
            "automargin": true,
            "type": "pie"
           }
          ],
          "scatter": [
           {
            "fillpattern": {
             "fillmode": "overlay",
             "size": 10,
             "solidity": 0.2
            },
            "type": "scatter"
           }
          ],
          "scatter3d": [
           {
            "line": {
             "colorbar": {
              "outlinewidth": 0,
              "ticks": ""
             }
            },
            "marker": {
             "colorbar": {
              "outlinewidth": 0,
              "ticks": ""
             }
            },
            "type": "scatter3d"
           }
          ],
          "scattercarpet": [
           {
            "marker": {
             "colorbar": {
              "outlinewidth": 0,
              "ticks": ""
             }
            },
            "type": "scattercarpet"
           }
          ],
          "scattergeo": [
           {
            "marker": {
             "colorbar": {
              "outlinewidth": 0,
              "ticks": ""
             }
            },
            "type": "scattergeo"
           }
          ],
          "scattergl": [
           {
            "marker": {
             "colorbar": {
              "outlinewidth": 0,
              "ticks": ""
             }
            },
            "type": "scattergl"
           }
          ],
          "scattermap": [
           {
            "marker": {
             "colorbar": {
              "outlinewidth": 0,
              "ticks": ""
             }
            },
            "type": "scattermap"
           }
          ],
          "scattermapbox": [
           {
            "marker": {
             "colorbar": {
              "outlinewidth": 0,
              "ticks": ""
             }
            },
            "type": "scattermapbox"
           }
          ],
          "scatterpolar": [
           {
            "marker": {
             "colorbar": {
              "outlinewidth": 0,
              "ticks": ""
             }
            },
            "type": "scatterpolar"
           }
          ],
          "scatterpolargl": [
           {
            "marker": {
             "colorbar": {
              "outlinewidth": 0,
              "ticks": ""
             }
            },
            "type": "scatterpolargl"
           }
          ],
          "scatterternary": [
           {
            "marker": {
             "colorbar": {
              "outlinewidth": 0,
              "ticks": ""
             }
            },
            "type": "scatterternary"
           }
          ],
          "surface": [
           {
            "colorbar": {
             "outlinewidth": 0,
             "ticks": ""
            },
            "colorscale": [
             [
              0,
              "#0d0887"
             ],
             [
              0.1111111111111111,
              "#46039f"
             ],
             [
              0.2222222222222222,
              "#7201a8"
             ],
             [
              0.3333333333333333,
              "#9c179e"
             ],
             [
              0.4444444444444444,
              "#bd3786"
             ],
             [
              0.5555555555555556,
              "#d8576b"
             ],
             [
              0.6666666666666666,
              "#ed7953"
             ],
             [
              0.7777777777777778,
              "#fb9f3a"
             ],
             [
              0.8888888888888888,
              "#fdca26"
             ],
             [
              1,
              "#f0f921"
             ]
            ],
            "type": "surface"
           }
          ],
          "table": [
           {
            "cells": {
             "fill": {
              "color": "#EBF0F8"
             },
             "line": {
              "color": "white"
             }
            },
            "header": {
             "fill": {
              "color": "#C8D4E3"
             },
             "line": {
              "color": "white"
             }
            },
            "type": "table"
           }
          ]
         },
         "layout": {
          "annotationdefaults": {
           "arrowcolor": "#2a3f5f",
           "arrowhead": 0,
           "arrowwidth": 1
          },
          "autotypenumbers": "strict",
          "coloraxis": {
           "colorbar": {
            "outlinewidth": 0,
            "ticks": ""
           }
          },
          "colorscale": {
           "diverging": [
            [
             0,
             "#8e0152"
            ],
            [
             0.1,
             "#c51b7d"
            ],
            [
             0.2,
             "#de77ae"
            ],
            [
             0.3,
             "#f1b6da"
            ],
            [
             0.4,
             "#fde0ef"
            ],
            [
             0.5,
             "#f7f7f7"
            ],
            [
             0.6,
             "#e6f5d0"
            ],
            [
             0.7,
             "#b8e186"
            ],
            [
             0.8,
             "#7fbc41"
            ],
            [
             0.9,
             "#4d9221"
            ],
            [
             1,
             "#276419"
            ]
           ],
           "sequential": [
            [
             0,
             "#0d0887"
            ],
            [
             0.1111111111111111,
             "#46039f"
            ],
            [
             0.2222222222222222,
             "#7201a8"
            ],
            [
             0.3333333333333333,
             "#9c179e"
            ],
            [
             0.4444444444444444,
             "#bd3786"
            ],
            [
             0.5555555555555556,
             "#d8576b"
            ],
            [
             0.6666666666666666,
             "#ed7953"
            ],
            [
             0.7777777777777778,
             "#fb9f3a"
            ],
            [
             0.8888888888888888,
             "#fdca26"
            ],
            [
             1,
             "#f0f921"
            ]
           ],
           "sequentialminus": [
            [
             0,
             "#0d0887"
            ],
            [
             0.1111111111111111,
             "#46039f"
            ],
            [
             0.2222222222222222,
             "#7201a8"
            ],
            [
             0.3333333333333333,
             "#9c179e"
            ],
            [
             0.4444444444444444,
             "#bd3786"
            ],
            [
             0.5555555555555556,
             "#d8576b"
            ],
            [
             0.6666666666666666,
             "#ed7953"
            ],
            [
             0.7777777777777778,
             "#fb9f3a"
            ],
            [
             0.8888888888888888,
             "#fdca26"
            ],
            [
             1,
             "#f0f921"
            ]
           ]
          },
          "colorway": [
           "#636efa",
           "#EF553B",
           "#00cc96",
           "#ab63fa",
           "#FFA15A",
           "#19d3f3",
           "#FF6692",
           "#B6E880",
           "#FF97FF",
           "#FECB52"
          ],
          "font": {
           "color": "#2a3f5f"
          },
          "geo": {
           "bgcolor": "white",
           "lakecolor": "white",
           "landcolor": "#E5ECF6",
           "showlakes": true,
           "showland": true,
           "subunitcolor": "white"
          },
          "hoverlabel": {
           "align": "left"
          },
          "hovermode": "closest",
          "mapbox": {
           "style": "light"
          },
          "paper_bgcolor": "white",
          "plot_bgcolor": "#E5ECF6",
          "polar": {
           "angularaxis": {
            "gridcolor": "white",
            "linecolor": "white",
            "ticks": ""
           },
           "bgcolor": "#E5ECF6",
           "radialaxis": {
            "gridcolor": "white",
            "linecolor": "white",
            "ticks": ""
           }
          },
          "scene": {
           "xaxis": {
            "backgroundcolor": "#E5ECF6",
            "gridcolor": "white",
            "gridwidth": 2,
            "linecolor": "white",
            "showbackground": true,
            "ticks": "",
            "zerolinecolor": "white"
           },
           "yaxis": {
            "backgroundcolor": "#E5ECF6",
            "gridcolor": "white",
            "gridwidth": 2,
            "linecolor": "white",
            "showbackground": true,
            "ticks": "",
            "zerolinecolor": "white"
           },
           "zaxis": {
            "backgroundcolor": "#E5ECF6",
            "gridcolor": "white",
            "gridwidth": 2,
            "linecolor": "white",
            "showbackground": true,
            "ticks": "",
            "zerolinecolor": "white"
           }
          },
          "shapedefaults": {
           "line": {
            "color": "#2a3f5f"
           }
          },
          "ternary": {
           "aaxis": {
            "gridcolor": "white",
            "linecolor": "white",
            "ticks": ""
           },
           "baxis": {
            "gridcolor": "white",
            "linecolor": "white",
            "ticks": ""
           },
           "bgcolor": "#E5ECF6",
           "caxis": {
            "gridcolor": "white",
            "linecolor": "white",
            "ticks": ""
           }
          },
          "title": {
           "x": 0.05
          },
          "xaxis": {
           "automargin": true,
           "gridcolor": "white",
           "linecolor": "white",
           "ticks": "",
           "title": {
            "standoff": 15
           },
           "zerolinecolor": "white",
           "zerolinewidth": 2
          },
          "yaxis": {
           "automargin": true,
           "gridcolor": "white",
           "linecolor": "white",
           "ticks": "",
           "title": {
            "standoff": 15
           },
           "zerolinecolor": "white",
           "zerolinewidth": 2
          }
         }
        },
        "xaxis": {
         "anchor": "y",
         "categoryarray": [
          "младше 14",
          "14-17",
          "18-20",
          "21-25",
          "26-30",
          "31-35",
          "36-40",
          "41-45",
          "старше 45"
         ],
         "categoryorder": "array",
         "domain": [
          0,
          1
         ],
         "title": {
          "text": "age_group"
         }
        },
        "yaxis": {
         "anchor": "x",
         "domain": [
          0,
          1
         ],
         "title": {
          "text": "freq"
         }
        }
       }
      },
      "text/html": [
       "<div>            <script src=\"https://cdnjs.cloudflare.com/ajax/libs/mathjax/2.7.5/MathJax.js?config=TeX-AMS-MML_SVG\"></script><script type=\"text/javascript\">if (window.MathJax && window.MathJax.Hub && window.MathJax.Hub.Config) {window.MathJax.Hub.Config({SVG: {font: \"STIX-Web\"}});}</script>                <script type=\"text/javascript\">window.PlotlyConfig = {MathJaxConfig: 'local'};</script>\n",
       "        <script charset=\"utf-8\" src=\"https://cdn.plot.ly/plotly-3.0.1.min.js\"></script>                <div id=\"02849fc0-7dd5-4a73-8dc6-aef5e9db4a72\" class=\"plotly-graph-div\" style=\"height:525px; width:100%;\"></div>            <script type=\"text/javascript\">                window.PLOTLYENV=window.PLOTLYENV || {};                                if (document.getElementById(\"02849fc0-7dd5-4a73-8dc6-aef5e9db4a72\")) {                    Plotly.newPlot(                        \"02849fc0-7dd5-4a73-8dc6-aef5e9db4a72\",                        [{\"hovertemplate\":\"age_group=%{x}\\u003cbr\\u003efreq=%{y}\\u003cextra\\u003e\\u003c\\u002fextra\\u003e\",\"legendgroup\":\"\",\"marker\":{\"color\":\"#636efa\",\"pattern\":{\"shape\":\"\"}},\"name\":\"\",\"orientation\":\"v\",\"showlegend\":false,\"textposition\":\"auto\",\"texttemplate\":\"%{y}\",\"x\":[\"14-17\",\"18-20\",\"21-25\",\"26-30\",\"31-35\",\"36-40\",\"41-45\",\"\\u043c\\u043b\\u0430\\u0434\\u0448\\u0435 14\",\"\\u0441\\u0442\\u0430\\u0440\\u0448\\u0435 45\"],\"xaxis\":\"x\",\"y\":{\"dtype\":\"i2\",\"bdata\":\"aABTAIQAkwB5AI4AgAApAGYA\"},\"yaxis\":\"y\",\"type\":\"bar\"}],                        {\"template\":{\"data\":{\"histogram2dcontour\":[{\"type\":\"histogram2dcontour\",\"colorbar\":{\"outlinewidth\":0,\"ticks\":\"\"},\"colorscale\":[[0.0,\"#0d0887\"],[0.1111111111111111,\"#46039f\"],[0.2222222222222222,\"#7201a8\"],[0.3333333333333333,\"#9c179e\"],[0.4444444444444444,\"#bd3786\"],[0.5555555555555556,\"#d8576b\"],[0.6666666666666666,\"#ed7953\"],[0.7777777777777778,\"#fb9f3a\"],[0.8888888888888888,\"#fdca26\"],[1.0,\"#f0f921\"]]}],\"choropleth\":[{\"type\":\"choropleth\",\"colorbar\":{\"outlinewidth\":0,\"ticks\":\"\"}}],\"histogram2d\":[{\"type\":\"histogram2d\",\"colorbar\":{\"outlinewidth\":0,\"ticks\":\"\"},\"colorscale\":[[0.0,\"#0d0887\"],[0.1111111111111111,\"#46039f\"],[0.2222222222222222,\"#7201a8\"],[0.3333333333333333,\"#9c179e\"],[0.4444444444444444,\"#bd3786\"],[0.5555555555555556,\"#d8576b\"],[0.6666666666666666,\"#ed7953\"],[0.7777777777777778,\"#fb9f3a\"],[0.8888888888888888,\"#fdca26\"],[1.0,\"#f0f921\"]]}],\"heatmap\":[{\"type\":\"heatmap\",\"colorbar\":{\"outlinewidth\":0,\"ticks\":\"\"},\"colorscale\":[[0.0,\"#0d0887\"],[0.1111111111111111,\"#46039f\"],[0.2222222222222222,\"#7201a8\"],[0.3333333333333333,\"#9c179e\"],[0.4444444444444444,\"#bd3786\"],[0.5555555555555556,\"#d8576b\"],[0.6666666666666666,\"#ed7953\"],[0.7777777777777778,\"#fb9f3a\"],[0.8888888888888888,\"#fdca26\"],[1.0,\"#f0f921\"]]}],\"contourcarpet\":[{\"type\":\"contourcarpet\",\"colorbar\":{\"outlinewidth\":0,\"ticks\":\"\"}}],\"contour\":[{\"type\":\"contour\",\"colorbar\":{\"outlinewidth\":0,\"ticks\":\"\"},\"colorscale\":[[0.0,\"#0d0887\"],[0.1111111111111111,\"#46039f\"],[0.2222222222222222,\"#7201a8\"],[0.3333333333333333,\"#9c179e\"],[0.4444444444444444,\"#bd3786\"],[0.5555555555555556,\"#d8576b\"],[0.6666666666666666,\"#ed7953\"],[0.7777777777777778,\"#fb9f3a\"],[0.8888888888888888,\"#fdca26\"],[1.0,\"#f0f921\"]]}],\"surface\":[{\"type\":\"surface\",\"colorbar\":{\"outlinewidth\":0,\"ticks\":\"\"},\"colorscale\":[[0.0,\"#0d0887\"],[0.1111111111111111,\"#46039f\"],[0.2222222222222222,\"#7201a8\"],[0.3333333333333333,\"#9c179e\"],[0.4444444444444444,\"#bd3786\"],[0.5555555555555556,\"#d8576b\"],[0.6666666666666666,\"#ed7953\"],[0.7777777777777778,\"#fb9f3a\"],[0.8888888888888888,\"#fdca26\"],[1.0,\"#f0f921\"]]}],\"mesh3d\":[{\"type\":\"mesh3d\",\"colorbar\":{\"outlinewidth\":0,\"ticks\":\"\"}}],\"scatter\":[{\"fillpattern\":{\"fillmode\":\"overlay\",\"size\":10,\"solidity\":0.2},\"type\":\"scatter\"}],\"parcoords\":[{\"type\":\"parcoords\",\"line\":{\"colorbar\":{\"outlinewidth\":0,\"ticks\":\"\"}}}],\"scatterpolargl\":[{\"type\":\"scatterpolargl\",\"marker\":{\"colorbar\":{\"outlinewidth\":0,\"ticks\":\"\"}}}],\"bar\":[{\"error_x\":{\"color\":\"#2a3f5f\"},\"error_y\":{\"color\":\"#2a3f5f\"},\"marker\":{\"line\":{\"color\":\"#E5ECF6\",\"width\":0.5},\"pattern\":{\"fillmode\":\"overlay\",\"size\":10,\"solidity\":0.2}},\"type\":\"bar\"}],\"scattergeo\":[{\"type\":\"scattergeo\",\"marker\":{\"colorbar\":{\"outlinewidth\":0,\"ticks\":\"\"}}}],\"scatterpolar\":[{\"type\":\"scatterpolar\",\"marker\":{\"colorbar\":{\"outlinewidth\":0,\"ticks\":\"\"}}}],\"histogram\":[{\"marker\":{\"pattern\":{\"fillmode\":\"overlay\",\"size\":10,\"solidity\":0.2}},\"type\":\"histogram\"}],\"scattergl\":[{\"type\":\"scattergl\",\"marker\":{\"colorbar\":{\"outlinewidth\":0,\"ticks\":\"\"}}}],\"scatter3d\":[{\"type\":\"scatter3d\",\"line\":{\"colorbar\":{\"outlinewidth\":0,\"ticks\":\"\"}},\"marker\":{\"colorbar\":{\"outlinewidth\":0,\"ticks\":\"\"}}}],\"scattermap\":[{\"type\":\"scattermap\",\"marker\":{\"colorbar\":{\"outlinewidth\":0,\"ticks\":\"\"}}}],\"scattermapbox\":[{\"type\":\"scattermapbox\",\"marker\":{\"colorbar\":{\"outlinewidth\":0,\"ticks\":\"\"}}}],\"scatterternary\":[{\"type\":\"scatterternary\",\"marker\":{\"colorbar\":{\"outlinewidth\":0,\"ticks\":\"\"}}}],\"scattercarpet\":[{\"type\":\"scattercarpet\",\"marker\":{\"colorbar\":{\"outlinewidth\":0,\"ticks\":\"\"}}}],\"carpet\":[{\"aaxis\":{\"endlinecolor\":\"#2a3f5f\",\"gridcolor\":\"white\",\"linecolor\":\"white\",\"minorgridcolor\":\"white\",\"startlinecolor\":\"#2a3f5f\"},\"baxis\":{\"endlinecolor\":\"#2a3f5f\",\"gridcolor\":\"white\",\"linecolor\":\"white\",\"minorgridcolor\":\"white\",\"startlinecolor\":\"#2a3f5f\"},\"type\":\"carpet\"}],\"table\":[{\"cells\":{\"fill\":{\"color\":\"#EBF0F8\"},\"line\":{\"color\":\"white\"}},\"header\":{\"fill\":{\"color\":\"#C8D4E3\"},\"line\":{\"color\":\"white\"}},\"type\":\"table\"}],\"barpolar\":[{\"marker\":{\"line\":{\"color\":\"#E5ECF6\",\"width\":0.5},\"pattern\":{\"fillmode\":\"overlay\",\"size\":10,\"solidity\":0.2}},\"type\":\"barpolar\"}],\"pie\":[{\"automargin\":true,\"type\":\"pie\"}]},\"layout\":{\"autotypenumbers\":\"strict\",\"colorway\":[\"#636efa\",\"#EF553B\",\"#00cc96\",\"#ab63fa\",\"#FFA15A\",\"#19d3f3\",\"#FF6692\",\"#B6E880\",\"#FF97FF\",\"#FECB52\"],\"font\":{\"color\":\"#2a3f5f\"},\"hovermode\":\"closest\",\"hoverlabel\":{\"align\":\"left\"},\"paper_bgcolor\":\"white\",\"plot_bgcolor\":\"#E5ECF6\",\"polar\":{\"bgcolor\":\"#E5ECF6\",\"angularaxis\":{\"gridcolor\":\"white\",\"linecolor\":\"white\",\"ticks\":\"\"},\"radialaxis\":{\"gridcolor\":\"white\",\"linecolor\":\"white\",\"ticks\":\"\"}},\"ternary\":{\"bgcolor\":\"#E5ECF6\",\"aaxis\":{\"gridcolor\":\"white\",\"linecolor\":\"white\",\"ticks\":\"\"},\"baxis\":{\"gridcolor\":\"white\",\"linecolor\":\"white\",\"ticks\":\"\"},\"caxis\":{\"gridcolor\":\"white\",\"linecolor\":\"white\",\"ticks\":\"\"}},\"coloraxis\":{\"colorbar\":{\"outlinewidth\":0,\"ticks\":\"\"}},\"colorscale\":{\"sequential\":[[0.0,\"#0d0887\"],[0.1111111111111111,\"#46039f\"],[0.2222222222222222,\"#7201a8\"],[0.3333333333333333,\"#9c179e\"],[0.4444444444444444,\"#bd3786\"],[0.5555555555555556,\"#d8576b\"],[0.6666666666666666,\"#ed7953\"],[0.7777777777777778,\"#fb9f3a\"],[0.8888888888888888,\"#fdca26\"],[1.0,\"#f0f921\"]],\"sequentialminus\":[[0.0,\"#0d0887\"],[0.1111111111111111,\"#46039f\"],[0.2222222222222222,\"#7201a8\"],[0.3333333333333333,\"#9c179e\"],[0.4444444444444444,\"#bd3786\"],[0.5555555555555556,\"#d8576b\"],[0.6666666666666666,\"#ed7953\"],[0.7777777777777778,\"#fb9f3a\"],[0.8888888888888888,\"#fdca26\"],[1.0,\"#f0f921\"]],\"diverging\":[[0,\"#8e0152\"],[0.1,\"#c51b7d\"],[0.2,\"#de77ae\"],[0.3,\"#f1b6da\"],[0.4,\"#fde0ef\"],[0.5,\"#f7f7f7\"],[0.6,\"#e6f5d0\"],[0.7,\"#b8e186\"],[0.8,\"#7fbc41\"],[0.9,\"#4d9221\"],[1,\"#276419\"]]},\"xaxis\":{\"gridcolor\":\"white\",\"linecolor\":\"white\",\"ticks\":\"\",\"title\":{\"standoff\":15},\"zerolinecolor\":\"white\",\"automargin\":true,\"zerolinewidth\":2},\"yaxis\":{\"gridcolor\":\"white\",\"linecolor\":\"white\",\"ticks\":\"\",\"title\":{\"standoff\":15},\"zerolinecolor\":\"white\",\"automargin\":true,\"zerolinewidth\":2},\"scene\":{\"xaxis\":{\"backgroundcolor\":\"#E5ECF6\",\"gridcolor\":\"white\",\"linecolor\":\"white\",\"showbackground\":true,\"ticks\":\"\",\"zerolinecolor\":\"white\",\"gridwidth\":2},\"yaxis\":{\"backgroundcolor\":\"#E5ECF6\",\"gridcolor\":\"white\",\"linecolor\":\"white\",\"showbackground\":true,\"ticks\":\"\",\"zerolinecolor\":\"white\",\"gridwidth\":2},\"zaxis\":{\"backgroundcolor\":\"#E5ECF6\",\"gridcolor\":\"white\",\"linecolor\":\"white\",\"showbackground\":true,\"ticks\":\"\",\"zerolinecolor\":\"white\",\"gridwidth\":2}},\"shapedefaults\":{\"line\":{\"color\":\"#2a3f5f\"}},\"annotationdefaults\":{\"arrowcolor\":\"#2a3f5f\",\"arrowhead\":0,\"arrowwidth\":1},\"geo\":{\"bgcolor\":\"white\",\"landcolor\":\"#E5ECF6\",\"subunitcolor\":\"white\",\"showland\":true,\"showlakes\":true,\"lakecolor\":\"white\"},\"title\":{\"x\":0.05},\"mapbox\":{\"style\":\"light\"}}},\"xaxis\":{\"anchor\":\"y\",\"domain\":[0.0,1.0],\"title\":{\"text\":\"age_group\"},\"categoryorder\":\"array\",\"categoryarray\":[\"\\u043c\\u043b\\u0430\\u0434\\u0448\\u0435 14\",\"14-17\",\"18-20\",\"21-25\",\"26-30\",\"31-35\",\"36-40\",\"41-45\",\"\\u0441\\u0442\\u0430\\u0440\\u0448\\u0435 45\"]},\"yaxis\":{\"anchor\":\"x\",\"domain\":[0.0,1.0],\"title\":{\"text\":\"freq\"}},\"legend\":{\"tracegroupgap\":0},\"margin\":{\"t\":60},\"barmode\":\"relative\"},                        {\"responsive\": true}                    ).then(function(){\n",
       "                            \n",
       "var gd = document.getElementById('02849fc0-7dd5-4a73-8dc6-aef5e9db4a72');\n",
       "var x = new MutationObserver(function (mutations, observer) {{\n",
       "        var display = window.getComputedStyle(gd).display;\n",
       "        if (!display || display === 'none') {{\n",
       "            console.log([gd, 'removed!']);\n",
       "            Plotly.purge(gd);\n",
       "            observer.disconnect();\n",
       "        }}\n",
       "}});\n",
       "\n",
       "// Listen for the removal of the full notebook cells\n",
       "var notebookContainer = gd.closest('#notebook-container');\n",
       "if (notebookContainer) {{\n",
       "    x.observe(notebookContainer, {childList: true});\n",
       "}}\n",
       "\n",
       "// Listen for the clearing of the current output cell\n",
       "var outputEl = gd.closest('.output');\n",
       "if (outputEl) {{\n",
       "    x.observe(outputEl, {childList: true});\n",
       "}}\n",
       "\n",
       "                        })                };            </script>        </div>"
      ]
     },
     "metadata": {},
     "output_type": "display_data"
    }
   ],
   "source": [
    "age_grs_lst= ['младше 14','14-17', '18-20', '21-25', '26-30', '31-35', '36-40', '41-45', 'старше 45']\n",
    "age_cond= [(df['age']<14),\n",
    "           (df['age']>13) & (df['age']<18),\n",
    "           (df['age']>17) & (df['age']<21),\n",
    "           (df['age']>20) & (df['age']<26),\n",
    "           (df['age']>25) & (df['age']<31),\n",
    "           (df['age']>30) & (df['age']<36),\n",
    "           (df['age']>35) & (df['age']<41),\n",
    "           (df['age']>40) & (df['age']<46),\n",
    "           (df['age']>45)]\n",
    "df['age_group'] = np.select(age_cond, age_grs_lst, default='Unknown')\n",
    "df[['age','age_group']].sample(3)\n",
    "\n",
    "age_freq= df.groupby(by='age_group', as_index=False).agg(\n",
    "    freq= pd.NamedAgg(column='age_group',aggfunc='count')\n",
    ")\n",
    "\n",
    "px.bar(data_frame=age_freq,\n",
    "       x='age_group',\n",
    "       y='freq',\n",
    "       category_orders={'age_group':age_grs_lst},\n",
    "       text_auto=True)"
   ]
  },
  {
   "cell_type": "code",
   "execution_count": 31,
   "id": "fb1d00d9",
   "metadata": {},
   "outputs": [
    {
     "data": {
      "text/html": [
       "<div>\n",
       "<style scoped>\n",
       "    .dataframe tbody tr th:only-of-type {\n",
       "        vertical-align: middle;\n",
       "    }\n",
       "\n",
       "    .dataframe tbody tr th {\n",
       "        vertical-align: top;\n",
       "    }\n",
       "\n",
       "    .dataframe thead th {\n",
       "        text-align: right;\n",
       "    }\n",
       "</style>\n",
       "<table border=\"1\" class=\"dataframe\">\n",
       "  <thead>\n",
       "    <tr style=\"text-align: right;\">\n",
       "      <th></th>\n",
       "      <th>freq</th>\n",
       "    </tr>\n",
       "    <tr>\n",
       "      <th>age_group</th>\n",
       "      <th></th>\n",
       "    </tr>\n",
       "  </thead>\n",
       "  <tbody>\n",
       "    <tr>\n",
       "      <th>младше 14</th>\n",
       "      <td>4.1</td>\n",
       "    </tr>\n",
       "    <tr>\n",
       "      <th>14-17</th>\n",
       "      <td>14.5</td>\n",
       "    </tr>\n",
       "    <tr>\n",
       "      <th>18-20</th>\n",
       "      <td>22.8</td>\n",
       "    </tr>\n",
       "    <tr>\n",
       "      <th>21-25</th>\n",
       "      <td>36.0</td>\n",
       "    </tr>\n",
       "    <tr>\n",
       "      <th>26-30</th>\n",
       "      <td>50.7</td>\n",
       "    </tr>\n",
       "    <tr>\n",
       "      <th>31-35</th>\n",
       "      <td>62.8</td>\n",
       "    </tr>\n",
       "    <tr>\n",
       "      <th>36-40</th>\n",
       "      <td>77.0</td>\n",
       "    </tr>\n",
       "    <tr>\n",
       "      <th>41-45</th>\n",
       "      <td>89.8</td>\n",
       "    </tr>\n",
       "    <tr>\n",
       "      <th>старше 45</th>\n",
       "      <td>100.0</td>\n",
       "    </tr>\n",
       "  </tbody>\n",
       "</table>\n",
       "</div>"
      ],
      "text/plain": [
       "            freq\n",
       "age_group       \n",
       "младше 14    4.1\n",
       "14-17       14.5\n",
       "18-20       22.8\n",
       "21-25       36.0\n",
       "26-30       50.7\n",
       "31-35       62.8\n",
       "36-40       77.0\n",
       "41-45       89.8\n",
       "старше 45  100.0"
      ]
     },
     "execution_count": 31,
     "metadata": {},
     "output_type": "execute_result"
    }
   ],
   "source": [
    "age_perc = age_freq.groupby('age_group').agg({'freq':'sum'}).loc[age_grs_lst]/10\n",
    "age_perc.cumsum()"
   ]
  },
  {
   "cell_type": "code",
   "execution_count": 32,
   "id": "8736bf4c",
   "metadata": {},
   "outputs": [
    {
     "name": "stdout",
     "output_type": "stream",
     "text": [
      "67.0% посетителей зала имеют возраст от 21 до 45 лет\n"
     ]
    }
   ],
   "source": [
    "print(f'{(100-(100-89.8))-22.8}% посетителей зала имеют возраст от 21 до 45 лет')"
   ]
  },
  {
   "cell_type": "code",
   "execution_count": 33,
   "id": "ad78abff",
   "metadata": {},
   "outputs": [
    {
     "data": {
      "application/vnd.plotly.v1+json": {
       "config": {
        "plotlyServerURL": "https://plot.ly"
       },
       "data": [
        {
         "customdata": [
          [
           "Female"
          ],
          [
           "Female"
          ],
          [
           "Female"
          ],
          [
           "Female"
          ],
          [
           "Female"
          ],
          [
           "Female"
          ],
          [
           "Female"
          ],
          [
           "Female"
          ],
          [
           "Female"
          ]
         ],
         "hovertemplate": "gender=%{customdata[0]}<br>age_group=%{x}<br>freq=%{y}<extra></extra>",
         "legendgroup": "",
         "marker": {
          "color": "#636efa",
          "pattern": {
           "shape": ""
          }
         },
         "name": "",
         "orientation": "v",
         "showlegend": false,
         "textposition": "auto",
         "texttemplate": "%{y}",
         "type": "bar",
         "x": [
          "14-17",
          "18-20",
          "21-25",
          "26-30",
          "31-35",
          "36-40",
          "41-45",
          "младше 14",
          "старше 45"
         ],
         "xaxis": "x",
         "y": {
          "bdata": "NidLTTxGQBkn",
          "dtype": "i1"
         },
         "yaxis": "y"
        },
        {
         "customdata": [
          [
           "Male"
          ],
          [
           "Male"
          ],
          [
           "Male"
          ],
          [
           "Male"
          ],
          [
           "Male"
          ],
          [
           "Male"
          ],
          [
           "Male"
          ],
          [
           "Male"
          ],
          [
           "Male"
          ]
         ],
         "hovertemplate": "gender=%{customdata[0]}<br>age_group=%{x}<br>freq=%{y}<extra></extra>",
         "legendgroup": "",
         "marker": {
          "color": "#636efa",
          "pattern": {
           "shape": ""
          }
         },
         "name": "",
         "orientation": "v",
         "showlegend": false,
         "textposition": "auto",
         "texttemplate": "%{y}",
         "type": "bar",
         "x": [
          "14-17",
          "18-20",
          "21-25",
          "26-30",
          "31-35",
          "36-40",
          "41-45",
          "младше 14",
          "старше 45"
         ],
         "xaxis": "x2",
         "y": {
          "bdata": "Miw5Rj1IQBA/",
          "dtype": "i1"
         },
         "yaxis": "y2"
        }
       ],
       "layout": {
        "annotations": [
         {
          "font": {},
          "showarrow": false,
          "text": "gender=Female",
          "x": 0.245,
          "xanchor": "center",
          "xref": "paper",
          "y": 1,
          "yanchor": "bottom",
          "yref": "paper"
         },
         {
          "font": {},
          "showarrow": false,
          "text": "gender=Male",
          "x": 0.755,
          "xanchor": "center",
          "xref": "paper",
          "y": 1,
          "yanchor": "bottom",
          "yref": "paper"
         }
        ],
        "barmode": "relative",
        "legend": {
         "tracegroupgap": 0
        },
        "margin": {
         "t": 60
        },
        "template": {
         "data": {
          "bar": [
           {
            "error_x": {
             "color": "#2a3f5f"
            },
            "error_y": {
             "color": "#2a3f5f"
            },
            "marker": {
             "line": {
              "color": "#E5ECF6",
              "width": 0.5
             },
             "pattern": {
              "fillmode": "overlay",
              "size": 10,
              "solidity": 0.2
             }
            },
            "type": "bar"
           }
          ],
          "barpolar": [
           {
            "marker": {
             "line": {
              "color": "#E5ECF6",
              "width": 0.5
             },
             "pattern": {
              "fillmode": "overlay",
              "size": 10,
              "solidity": 0.2
             }
            },
            "type": "barpolar"
           }
          ],
          "carpet": [
           {
            "aaxis": {
             "endlinecolor": "#2a3f5f",
             "gridcolor": "white",
             "linecolor": "white",
             "minorgridcolor": "white",
             "startlinecolor": "#2a3f5f"
            },
            "baxis": {
             "endlinecolor": "#2a3f5f",
             "gridcolor": "white",
             "linecolor": "white",
             "minorgridcolor": "white",
             "startlinecolor": "#2a3f5f"
            },
            "type": "carpet"
           }
          ],
          "choropleth": [
           {
            "colorbar": {
             "outlinewidth": 0,
             "ticks": ""
            },
            "type": "choropleth"
           }
          ],
          "contour": [
           {
            "colorbar": {
             "outlinewidth": 0,
             "ticks": ""
            },
            "colorscale": [
             [
              0,
              "#0d0887"
             ],
             [
              0.1111111111111111,
              "#46039f"
             ],
             [
              0.2222222222222222,
              "#7201a8"
             ],
             [
              0.3333333333333333,
              "#9c179e"
             ],
             [
              0.4444444444444444,
              "#bd3786"
             ],
             [
              0.5555555555555556,
              "#d8576b"
             ],
             [
              0.6666666666666666,
              "#ed7953"
             ],
             [
              0.7777777777777778,
              "#fb9f3a"
             ],
             [
              0.8888888888888888,
              "#fdca26"
             ],
             [
              1,
              "#f0f921"
             ]
            ],
            "type": "contour"
           }
          ],
          "contourcarpet": [
           {
            "colorbar": {
             "outlinewidth": 0,
             "ticks": ""
            },
            "type": "contourcarpet"
           }
          ],
          "heatmap": [
           {
            "colorbar": {
             "outlinewidth": 0,
             "ticks": ""
            },
            "colorscale": [
             [
              0,
              "#0d0887"
             ],
             [
              0.1111111111111111,
              "#46039f"
             ],
             [
              0.2222222222222222,
              "#7201a8"
             ],
             [
              0.3333333333333333,
              "#9c179e"
             ],
             [
              0.4444444444444444,
              "#bd3786"
             ],
             [
              0.5555555555555556,
              "#d8576b"
             ],
             [
              0.6666666666666666,
              "#ed7953"
             ],
             [
              0.7777777777777778,
              "#fb9f3a"
             ],
             [
              0.8888888888888888,
              "#fdca26"
             ],
             [
              1,
              "#f0f921"
             ]
            ],
            "type": "heatmap"
           }
          ],
          "histogram": [
           {
            "marker": {
             "pattern": {
              "fillmode": "overlay",
              "size": 10,
              "solidity": 0.2
             }
            },
            "type": "histogram"
           }
          ],
          "histogram2d": [
           {
            "colorbar": {
             "outlinewidth": 0,
             "ticks": ""
            },
            "colorscale": [
             [
              0,
              "#0d0887"
             ],
             [
              0.1111111111111111,
              "#46039f"
             ],
             [
              0.2222222222222222,
              "#7201a8"
             ],
             [
              0.3333333333333333,
              "#9c179e"
             ],
             [
              0.4444444444444444,
              "#bd3786"
             ],
             [
              0.5555555555555556,
              "#d8576b"
             ],
             [
              0.6666666666666666,
              "#ed7953"
             ],
             [
              0.7777777777777778,
              "#fb9f3a"
             ],
             [
              0.8888888888888888,
              "#fdca26"
             ],
             [
              1,
              "#f0f921"
             ]
            ],
            "type": "histogram2d"
           }
          ],
          "histogram2dcontour": [
           {
            "colorbar": {
             "outlinewidth": 0,
             "ticks": ""
            },
            "colorscale": [
             [
              0,
              "#0d0887"
             ],
             [
              0.1111111111111111,
              "#46039f"
             ],
             [
              0.2222222222222222,
              "#7201a8"
             ],
             [
              0.3333333333333333,
              "#9c179e"
             ],
             [
              0.4444444444444444,
              "#bd3786"
             ],
             [
              0.5555555555555556,
              "#d8576b"
             ],
             [
              0.6666666666666666,
              "#ed7953"
             ],
             [
              0.7777777777777778,
              "#fb9f3a"
             ],
             [
              0.8888888888888888,
              "#fdca26"
             ],
             [
              1,
              "#f0f921"
             ]
            ],
            "type": "histogram2dcontour"
           }
          ],
          "mesh3d": [
           {
            "colorbar": {
             "outlinewidth": 0,
             "ticks": ""
            },
            "type": "mesh3d"
           }
          ],
          "parcoords": [
           {
            "line": {
             "colorbar": {
              "outlinewidth": 0,
              "ticks": ""
             }
            },
            "type": "parcoords"
           }
          ],
          "pie": [
           {
            "automargin": true,
            "type": "pie"
           }
          ],
          "scatter": [
           {
            "fillpattern": {
             "fillmode": "overlay",
             "size": 10,
             "solidity": 0.2
            },
            "type": "scatter"
           }
          ],
          "scatter3d": [
           {
            "line": {
             "colorbar": {
              "outlinewidth": 0,
              "ticks": ""
             }
            },
            "marker": {
             "colorbar": {
              "outlinewidth": 0,
              "ticks": ""
             }
            },
            "type": "scatter3d"
           }
          ],
          "scattercarpet": [
           {
            "marker": {
             "colorbar": {
              "outlinewidth": 0,
              "ticks": ""
             }
            },
            "type": "scattercarpet"
           }
          ],
          "scattergeo": [
           {
            "marker": {
             "colorbar": {
              "outlinewidth": 0,
              "ticks": ""
             }
            },
            "type": "scattergeo"
           }
          ],
          "scattergl": [
           {
            "marker": {
             "colorbar": {
              "outlinewidth": 0,
              "ticks": ""
             }
            },
            "type": "scattergl"
           }
          ],
          "scattermap": [
           {
            "marker": {
             "colorbar": {
              "outlinewidth": 0,
              "ticks": ""
             }
            },
            "type": "scattermap"
           }
          ],
          "scattermapbox": [
           {
            "marker": {
             "colorbar": {
              "outlinewidth": 0,
              "ticks": ""
             }
            },
            "type": "scattermapbox"
           }
          ],
          "scatterpolar": [
           {
            "marker": {
             "colorbar": {
              "outlinewidth": 0,
              "ticks": ""
             }
            },
            "type": "scatterpolar"
           }
          ],
          "scatterpolargl": [
           {
            "marker": {
             "colorbar": {
              "outlinewidth": 0,
              "ticks": ""
             }
            },
            "type": "scatterpolargl"
           }
          ],
          "scatterternary": [
           {
            "marker": {
             "colorbar": {
              "outlinewidth": 0,
              "ticks": ""
             }
            },
            "type": "scatterternary"
           }
          ],
          "surface": [
           {
            "colorbar": {
             "outlinewidth": 0,
             "ticks": ""
            },
            "colorscale": [
             [
              0,
              "#0d0887"
             ],
             [
              0.1111111111111111,
              "#46039f"
             ],
             [
              0.2222222222222222,
              "#7201a8"
             ],
             [
              0.3333333333333333,
              "#9c179e"
             ],
             [
              0.4444444444444444,
              "#bd3786"
             ],
             [
              0.5555555555555556,
              "#d8576b"
             ],
             [
              0.6666666666666666,
              "#ed7953"
             ],
             [
              0.7777777777777778,
              "#fb9f3a"
             ],
             [
              0.8888888888888888,
              "#fdca26"
             ],
             [
              1,
              "#f0f921"
             ]
            ],
            "type": "surface"
           }
          ],
          "table": [
           {
            "cells": {
             "fill": {
              "color": "#EBF0F8"
             },
             "line": {
              "color": "white"
             }
            },
            "header": {
             "fill": {
              "color": "#C8D4E3"
             },
             "line": {
              "color": "white"
             }
            },
            "type": "table"
           }
          ]
         },
         "layout": {
          "annotationdefaults": {
           "arrowcolor": "#2a3f5f",
           "arrowhead": 0,
           "arrowwidth": 1
          },
          "autotypenumbers": "strict",
          "coloraxis": {
           "colorbar": {
            "outlinewidth": 0,
            "ticks": ""
           }
          },
          "colorscale": {
           "diverging": [
            [
             0,
             "#8e0152"
            ],
            [
             0.1,
             "#c51b7d"
            ],
            [
             0.2,
             "#de77ae"
            ],
            [
             0.3,
             "#f1b6da"
            ],
            [
             0.4,
             "#fde0ef"
            ],
            [
             0.5,
             "#f7f7f7"
            ],
            [
             0.6,
             "#e6f5d0"
            ],
            [
             0.7,
             "#b8e186"
            ],
            [
             0.8,
             "#7fbc41"
            ],
            [
             0.9,
             "#4d9221"
            ],
            [
             1,
             "#276419"
            ]
           ],
           "sequential": [
            [
             0,
             "#0d0887"
            ],
            [
             0.1111111111111111,
             "#46039f"
            ],
            [
             0.2222222222222222,
             "#7201a8"
            ],
            [
             0.3333333333333333,
             "#9c179e"
            ],
            [
             0.4444444444444444,
             "#bd3786"
            ],
            [
             0.5555555555555556,
             "#d8576b"
            ],
            [
             0.6666666666666666,
             "#ed7953"
            ],
            [
             0.7777777777777778,
             "#fb9f3a"
            ],
            [
             0.8888888888888888,
             "#fdca26"
            ],
            [
             1,
             "#f0f921"
            ]
           ],
           "sequentialminus": [
            [
             0,
             "#0d0887"
            ],
            [
             0.1111111111111111,
             "#46039f"
            ],
            [
             0.2222222222222222,
             "#7201a8"
            ],
            [
             0.3333333333333333,
             "#9c179e"
            ],
            [
             0.4444444444444444,
             "#bd3786"
            ],
            [
             0.5555555555555556,
             "#d8576b"
            ],
            [
             0.6666666666666666,
             "#ed7953"
            ],
            [
             0.7777777777777778,
             "#fb9f3a"
            ],
            [
             0.8888888888888888,
             "#fdca26"
            ],
            [
             1,
             "#f0f921"
            ]
           ]
          },
          "colorway": [
           "#636efa",
           "#EF553B",
           "#00cc96",
           "#ab63fa",
           "#FFA15A",
           "#19d3f3",
           "#FF6692",
           "#B6E880",
           "#FF97FF",
           "#FECB52"
          ],
          "font": {
           "color": "#2a3f5f"
          },
          "geo": {
           "bgcolor": "white",
           "lakecolor": "white",
           "landcolor": "#E5ECF6",
           "showlakes": true,
           "showland": true,
           "subunitcolor": "white"
          },
          "hoverlabel": {
           "align": "left"
          },
          "hovermode": "closest",
          "mapbox": {
           "style": "light"
          },
          "paper_bgcolor": "white",
          "plot_bgcolor": "#E5ECF6",
          "polar": {
           "angularaxis": {
            "gridcolor": "white",
            "linecolor": "white",
            "ticks": ""
           },
           "bgcolor": "#E5ECF6",
           "radialaxis": {
            "gridcolor": "white",
            "linecolor": "white",
            "ticks": ""
           }
          },
          "scene": {
           "xaxis": {
            "backgroundcolor": "#E5ECF6",
            "gridcolor": "white",
            "gridwidth": 2,
            "linecolor": "white",
            "showbackground": true,
            "ticks": "",
            "zerolinecolor": "white"
           },
           "yaxis": {
            "backgroundcolor": "#E5ECF6",
            "gridcolor": "white",
            "gridwidth": 2,
            "linecolor": "white",
            "showbackground": true,
            "ticks": "",
            "zerolinecolor": "white"
           },
           "zaxis": {
            "backgroundcolor": "#E5ECF6",
            "gridcolor": "white",
            "gridwidth": 2,
            "linecolor": "white",
            "showbackground": true,
            "ticks": "",
            "zerolinecolor": "white"
           }
          },
          "shapedefaults": {
           "line": {
            "color": "#2a3f5f"
           }
          },
          "ternary": {
           "aaxis": {
            "gridcolor": "white",
            "linecolor": "white",
            "ticks": ""
           },
           "baxis": {
            "gridcolor": "white",
            "linecolor": "white",
            "ticks": ""
           },
           "bgcolor": "#E5ECF6",
           "caxis": {
            "gridcolor": "white",
            "linecolor": "white",
            "ticks": ""
           }
          },
          "title": {
           "x": 0.05
          },
          "xaxis": {
           "automargin": true,
           "gridcolor": "white",
           "linecolor": "white",
           "ticks": "",
           "title": {
            "standoff": 15
           },
           "zerolinecolor": "white",
           "zerolinewidth": 2
          },
          "yaxis": {
           "automargin": true,
           "gridcolor": "white",
           "linecolor": "white",
           "ticks": "",
           "title": {
            "standoff": 15
           },
           "zerolinecolor": "white",
           "zerolinewidth": 2
          }
         }
        },
        "xaxis": {
         "anchor": "y",
         "categoryarray": [
          "младше 14",
          "14-17",
          "18-20",
          "21-25",
          "26-30",
          "31-35",
          "36-40",
          "41-45",
          "старше 45"
         ],
         "categoryorder": "array",
         "domain": [
          0,
          0.49
         ],
         "title": {
          "text": "age_group"
         }
        },
        "xaxis2": {
         "anchor": "y2",
         "categoryarray": [
          "младше 14",
          "14-17",
          "18-20",
          "21-25",
          "26-30",
          "31-35",
          "36-40",
          "41-45",
          "старше 45"
         ],
         "categoryorder": "array",
         "domain": [
          0.51,
          1
         ],
         "matches": "x",
         "title": {
          "text": "age_group"
         }
        },
        "yaxis": {
         "anchor": "x",
         "domain": [
          0,
          1
         ],
         "title": {
          "text": "freq"
         }
        },
        "yaxis2": {
         "anchor": "x2",
         "domain": [
          0,
          1
         ],
         "matches": "y",
         "showticklabels": false
        }
       }
      },
      "text/html": [
       "<div>            <script src=\"https://cdnjs.cloudflare.com/ajax/libs/mathjax/2.7.5/MathJax.js?config=TeX-AMS-MML_SVG\"></script><script type=\"text/javascript\">if (window.MathJax && window.MathJax.Hub && window.MathJax.Hub.Config) {window.MathJax.Hub.Config({SVG: {font: \"STIX-Web\"}});}</script>                <script type=\"text/javascript\">window.PlotlyConfig = {MathJaxConfig: 'local'};</script>\n",
       "        <script charset=\"utf-8\" src=\"https://cdn.plot.ly/plotly-3.0.1.min.js\"></script>                <div id=\"432d21b6-c357-4477-a87b-112e5a25f52b\" class=\"plotly-graph-div\" style=\"height:525px; width:100%;\"></div>            <script type=\"text/javascript\">                window.PLOTLYENV=window.PLOTLYENV || {};                                if (document.getElementById(\"432d21b6-c357-4477-a87b-112e5a25f52b\")) {                    Plotly.newPlot(                        \"432d21b6-c357-4477-a87b-112e5a25f52b\",                        [{\"customdata\":[[\"Female\"],[\"Female\"],[\"Female\"],[\"Female\"],[\"Female\"],[\"Female\"],[\"Female\"],[\"Female\"],[\"Female\"]],\"hovertemplate\":\"gender=%{customdata[0]}\\u003cbr\\u003eage_group=%{x}\\u003cbr\\u003efreq=%{y}\\u003cextra\\u003e\\u003c\\u002fextra\\u003e\",\"legendgroup\":\"\",\"marker\":{\"color\":\"#636efa\",\"pattern\":{\"shape\":\"\"}},\"name\":\"\",\"orientation\":\"v\",\"showlegend\":false,\"textposition\":\"auto\",\"texttemplate\":\"%{y}\",\"x\":[\"14-17\",\"18-20\",\"21-25\",\"26-30\",\"31-35\",\"36-40\",\"41-45\",\"\\u043c\\u043b\\u0430\\u0434\\u0448\\u0435 14\",\"\\u0441\\u0442\\u0430\\u0440\\u0448\\u0435 45\"],\"xaxis\":\"x\",\"y\":{\"dtype\":\"i1\",\"bdata\":\"NidLTTxGQBkn\"},\"yaxis\":\"y\",\"type\":\"bar\"},{\"customdata\":[[\"Male\"],[\"Male\"],[\"Male\"],[\"Male\"],[\"Male\"],[\"Male\"],[\"Male\"],[\"Male\"],[\"Male\"]],\"hovertemplate\":\"gender=%{customdata[0]}\\u003cbr\\u003eage_group=%{x}\\u003cbr\\u003efreq=%{y}\\u003cextra\\u003e\\u003c\\u002fextra\\u003e\",\"legendgroup\":\"\",\"marker\":{\"color\":\"#636efa\",\"pattern\":{\"shape\":\"\"}},\"name\":\"\",\"orientation\":\"v\",\"showlegend\":false,\"textposition\":\"auto\",\"texttemplate\":\"%{y}\",\"x\":[\"14-17\",\"18-20\",\"21-25\",\"26-30\",\"31-35\",\"36-40\",\"41-45\",\"\\u043c\\u043b\\u0430\\u0434\\u0448\\u0435 14\",\"\\u0441\\u0442\\u0430\\u0440\\u0448\\u0435 45\"],\"xaxis\":\"x2\",\"y\":{\"dtype\":\"i1\",\"bdata\":\"Miw5Rj1IQBA\\u002f\"},\"yaxis\":\"y2\",\"type\":\"bar\"}],                        {\"template\":{\"data\":{\"histogram2dcontour\":[{\"type\":\"histogram2dcontour\",\"colorbar\":{\"outlinewidth\":0,\"ticks\":\"\"},\"colorscale\":[[0.0,\"#0d0887\"],[0.1111111111111111,\"#46039f\"],[0.2222222222222222,\"#7201a8\"],[0.3333333333333333,\"#9c179e\"],[0.4444444444444444,\"#bd3786\"],[0.5555555555555556,\"#d8576b\"],[0.6666666666666666,\"#ed7953\"],[0.7777777777777778,\"#fb9f3a\"],[0.8888888888888888,\"#fdca26\"],[1.0,\"#f0f921\"]]}],\"choropleth\":[{\"type\":\"choropleth\",\"colorbar\":{\"outlinewidth\":0,\"ticks\":\"\"}}],\"histogram2d\":[{\"type\":\"histogram2d\",\"colorbar\":{\"outlinewidth\":0,\"ticks\":\"\"},\"colorscale\":[[0.0,\"#0d0887\"],[0.1111111111111111,\"#46039f\"],[0.2222222222222222,\"#7201a8\"],[0.3333333333333333,\"#9c179e\"],[0.4444444444444444,\"#bd3786\"],[0.5555555555555556,\"#d8576b\"],[0.6666666666666666,\"#ed7953\"],[0.7777777777777778,\"#fb9f3a\"],[0.8888888888888888,\"#fdca26\"],[1.0,\"#f0f921\"]]}],\"heatmap\":[{\"type\":\"heatmap\",\"colorbar\":{\"outlinewidth\":0,\"ticks\":\"\"},\"colorscale\":[[0.0,\"#0d0887\"],[0.1111111111111111,\"#46039f\"],[0.2222222222222222,\"#7201a8\"],[0.3333333333333333,\"#9c179e\"],[0.4444444444444444,\"#bd3786\"],[0.5555555555555556,\"#d8576b\"],[0.6666666666666666,\"#ed7953\"],[0.7777777777777778,\"#fb9f3a\"],[0.8888888888888888,\"#fdca26\"],[1.0,\"#f0f921\"]]}],\"contourcarpet\":[{\"type\":\"contourcarpet\",\"colorbar\":{\"outlinewidth\":0,\"ticks\":\"\"}}],\"contour\":[{\"type\":\"contour\",\"colorbar\":{\"outlinewidth\":0,\"ticks\":\"\"},\"colorscale\":[[0.0,\"#0d0887\"],[0.1111111111111111,\"#46039f\"],[0.2222222222222222,\"#7201a8\"],[0.3333333333333333,\"#9c179e\"],[0.4444444444444444,\"#bd3786\"],[0.5555555555555556,\"#d8576b\"],[0.6666666666666666,\"#ed7953\"],[0.7777777777777778,\"#fb9f3a\"],[0.8888888888888888,\"#fdca26\"],[1.0,\"#f0f921\"]]}],\"surface\":[{\"type\":\"surface\",\"colorbar\":{\"outlinewidth\":0,\"ticks\":\"\"},\"colorscale\":[[0.0,\"#0d0887\"],[0.1111111111111111,\"#46039f\"],[0.2222222222222222,\"#7201a8\"],[0.3333333333333333,\"#9c179e\"],[0.4444444444444444,\"#bd3786\"],[0.5555555555555556,\"#d8576b\"],[0.6666666666666666,\"#ed7953\"],[0.7777777777777778,\"#fb9f3a\"],[0.8888888888888888,\"#fdca26\"],[1.0,\"#f0f921\"]]}],\"mesh3d\":[{\"type\":\"mesh3d\",\"colorbar\":{\"outlinewidth\":0,\"ticks\":\"\"}}],\"scatter\":[{\"fillpattern\":{\"fillmode\":\"overlay\",\"size\":10,\"solidity\":0.2},\"type\":\"scatter\"}],\"parcoords\":[{\"type\":\"parcoords\",\"line\":{\"colorbar\":{\"outlinewidth\":0,\"ticks\":\"\"}}}],\"scatterpolargl\":[{\"type\":\"scatterpolargl\",\"marker\":{\"colorbar\":{\"outlinewidth\":0,\"ticks\":\"\"}}}],\"bar\":[{\"error_x\":{\"color\":\"#2a3f5f\"},\"error_y\":{\"color\":\"#2a3f5f\"},\"marker\":{\"line\":{\"color\":\"#E5ECF6\",\"width\":0.5},\"pattern\":{\"fillmode\":\"overlay\",\"size\":10,\"solidity\":0.2}},\"type\":\"bar\"}],\"scattergeo\":[{\"type\":\"scattergeo\",\"marker\":{\"colorbar\":{\"outlinewidth\":0,\"ticks\":\"\"}}}],\"scatterpolar\":[{\"type\":\"scatterpolar\",\"marker\":{\"colorbar\":{\"outlinewidth\":0,\"ticks\":\"\"}}}],\"histogram\":[{\"marker\":{\"pattern\":{\"fillmode\":\"overlay\",\"size\":10,\"solidity\":0.2}},\"type\":\"histogram\"}],\"scattergl\":[{\"type\":\"scattergl\",\"marker\":{\"colorbar\":{\"outlinewidth\":0,\"ticks\":\"\"}}}],\"scatter3d\":[{\"type\":\"scatter3d\",\"line\":{\"colorbar\":{\"outlinewidth\":0,\"ticks\":\"\"}},\"marker\":{\"colorbar\":{\"outlinewidth\":0,\"ticks\":\"\"}}}],\"scattermap\":[{\"type\":\"scattermap\",\"marker\":{\"colorbar\":{\"outlinewidth\":0,\"ticks\":\"\"}}}],\"scattermapbox\":[{\"type\":\"scattermapbox\",\"marker\":{\"colorbar\":{\"outlinewidth\":0,\"ticks\":\"\"}}}],\"scatterternary\":[{\"type\":\"scatterternary\",\"marker\":{\"colorbar\":{\"outlinewidth\":0,\"ticks\":\"\"}}}],\"scattercarpet\":[{\"type\":\"scattercarpet\",\"marker\":{\"colorbar\":{\"outlinewidth\":0,\"ticks\":\"\"}}}],\"carpet\":[{\"aaxis\":{\"endlinecolor\":\"#2a3f5f\",\"gridcolor\":\"white\",\"linecolor\":\"white\",\"minorgridcolor\":\"white\",\"startlinecolor\":\"#2a3f5f\"},\"baxis\":{\"endlinecolor\":\"#2a3f5f\",\"gridcolor\":\"white\",\"linecolor\":\"white\",\"minorgridcolor\":\"white\",\"startlinecolor\":\"#2a3f5f\"},\"type\":\"carpet\"}],\"table\":[{\"cells\":{\"fill\":{\"color\":\"#EBF0F8\"},\"line\":{\"color\":\"white\"}},\"header\":{\"fill\":{\"color\":\"#C8D4E3\"},\"line\":{\"color\":\"white\"}},\"type\":\"table\"}],\"barpolar\":[{\"marker\":{\"line\":{\"color\":\"#E5ECF6\",\"width\":0.5},\"pattern\":{\"fillmode\":\"overlay\",\"size\":10,\"solidity\":0.2}},\"type\":\"barpolar\"}],\"pie\":[{\"automargin\":true,\"type\":\"pie\"}]},\"layout\":{\"autotypenumbers\":\"strict\",\"colorway\":[\"#636efa\",\"#EF553B\",\"#00cc96\",\"#ab63fa\",\"#FFA15A\",\"#19d3f3\",\"#FF6692\",\"#B6E880\",\"#FF97FF\",\"#FECB52\"],\"font\":{\"color\":\"#2a3f5f\"},\"hovermode\":\"closest\",\"hoverlabel\":{\"align\":\"left\"},\"paper_bgcolor\":\"white\",\"plot_bgcolor\":\"#E5ECF6\",\"polar\":{\"bgcolor\":\"#E5ECF6\",\"angularaxis\":{\"gridcolor\":\"white\",\"linecolor\":\"white\",\"ticks\":\"\"},\"radialaxis\":{\"gridcolor\":\"white\",\"linecolor\":\"white\",\"ticks\":\"\"}},\"ternary\":{\"bgcolor\":\"#E5ECF6\",\"aaxis\":{\"gridcolor\":\"white\",\"linecolor\":\"white\",\"ticks\":\"\"},\"baxis\":{\"gridcolor\":\"white\",\"linecolor\":\"white\",\"ticks\":\"\"},\"caxis\":{\"gridcolor\":\"white\",\"linecolor\":\"white\",\"ticks\":\"\"}},\"coloraxis\":{\"colorbar\":{\"outlinewidth\":0,\"ticks\":\"\"}},\"colorscale\":{\"sequential\":[[0.0,\"#0d0887\"],[0.1111111111111111,\"#46039f\"],[0.2222222222222222,\"#7201a8\"],[0.3333333333333333,\"#9c179e\"],[0.4444444444444444,\"#bd3786\"],[0.5555555555555556,\"#d8576b\"],[0.6666666666666666,\"#ed7953\"],[0.7777777777777778,\"#fb9f3a\"],[0.8888888888888888,\"#fdca26\"],[1.0,\"#f0f921\"]],\"sequentialminus\":[[0.0,\"#0d0887\"],[0.1111111111111111,\"#46039f\"],[0.2222222222222222,\"#7201a8\"],[0.3333333333333333,\"#9c179e\"],[0.4444444444444444,\"#bd3786\"],[0.5555555555555556,\"#d8576b\"],[0.6666666666666666,\"#ed7953\"],[0.7777777777777778,\"#fb9f3a\"],[0.8888888888888888,\"#fdca26\"],[1.0,\"#f0f921\"]],\"diverging\":[[0,\"#8e0152\"],[0.1,\"#c51b7d\"],[0.2,\"#de77ae\"],[0.3,\"#f1b6da\"],[0.4,\"#fde0ef\"],[0.5,\"#f7f7f7\"],[0.6,\"#e6f5d0\"],[0.7,\"#b8e186\"],[0.8,\"#7fbc41\"],[0.9,\"#4d9221\"],[1,\"#276419\"]]},\"xaxis\":{\"gridcolor\":\"white\",\"linecolor\":\"white\",\"ticks\":\"\",\"title\":{\"standoff\":15},\"zerolinecolor\":\"white\",\"automargin\":true,\"zerolinewidth\":2},\"yaxis\":{\"gridcolor\":\"white\",\"linecolor\":\"white\",\"ticks\":\"\",\"title\":{\"standoff\":15},\"zerolinecolor\":\"white\",\"automargin\":true,\"zerolinewidth\":2},\"scene\":{\"xaxis\":{\"backgroundcolor\":\"#E5ECF6\",\"gridcolor\":\"white\",\"linecolor\":\"white\",\"showbackground\":true,\"ticks\":\"\",\"zerolinecolor\":\"white\",\"gridwidth\":2},\"yaxis\":{\"backgroundcolor\":\"#E5ECF6\",\"gridcolor\":\"white\",\"linecolor\":\"white\",\"showbackground\":true,\"ticks\":\"\",\"zerolinecolor\":\"white\",\"gridwidth\":2},\"zaxis\":{\"backgroundcolor\":\"#E5ECF6\",\"gridcolor\":\"white\",\"linecolor\":\"white\",\"showbackground\":true,\"ticks\":\"\",\"zerolinecolor\":\"white\",\"gridwidth\":2}},\"shapedefaults\":{\"line\":{\"color\":\"#2a3f5f\"}},\"annotationdefaults\":{\"arrowcolor\":\"#2a3f5f\",\"arrowhead\":0,\"arrowwidth\":1},\"geo\":{\"bgcolor\":\"white\",\"landcolor\":\"#E5ECF6\",\"subunitcolor\":\"white\",\"showland\":true,\"showlakes\":true,\"lakecolor\":\"white\"},\"title\":{\"x\":0.05},\"mapbox\":{\"style\":\"light\"}}},\"xaxis\":{\"anchor\":\"y\",\"domain\":[0.0,0.49],\"title\":{\"text\":\"age_group\"},\"categoryorder\":\"array\",\"categoryarray\":[\"\\u043c\\u043b\\u0430\\u0434\\u0448\\u0435 14\",\"14-17\",\"18-20\",\"21-25\",\"26-30\",\"31-35\",\"36-40\",\"41-45\",\"\\u0441\\u0442\\u0430\\u0440\\u0448\\u0435 45\"]},\"yaxis\":{\"anchor\":\"x\",\"domain\":[0.0,1.0],\"title\":{\"text\":\"freq\"}},\"xaxis2\":{\"anchor\":\"y2\",\"domain\":[0.51,1.0],\"matches\":\"x\",\"title\":{\"text\":\"age_group\"},\"categoryorder\":\"array\",\"categoryarray\":[\"\\u043c\\u043b\\u0430\\u0434\\u0448\\u0435 14\",\"14-17\",\"18-20\",\"21-25\",\"26-30\",\"31-35\",\"36-40\",\"41-45\",\"\\u0441\\u0442\\u0430\\u0440\\u0448\\u0435 45\"]},\"yaxis2\":{\"anchor\":\"x2\",\"domain\":[0.0,1.0],\"matches\":\"y\",\"showticklabels\":false},\"annotations\":[{\"font\":{},\"showarrow\":false,\"text\":\"gender=Female\",\"x\":0.245,\"xanchor\":\"center\",\"xref\":\"paper\",\"y\":1.0,\"yanchor\":\"bottom\",\"yref\":\"paper\"},{\"font\":{},\"showarrow\":false,\"text\":\"gender=Male\",\"x\":0.755,\"xanchor\":\"center\",\"xref\":\"paper\",\"y\":1.0,\"yanchor\":\"bottom\",\"yref\":\"paper\"}],\"legend\":{\"tracegroupgap\":0},\"margin\":{\"t\":60},\"barmode\":\"relative\"},                        {\"responsive\": true}                    ).then(function(){\n",
       "                            \n",
       "var gd = document.getElementById('432d21b6-c357-4477-a87b-112e5a25f52b');\n",
       "var x = new MutationObserver(function (mutations, observer) {{\n",
       "        var display = window.getComputedStyle(gd).display;\n",
       "        if (!display || display === 'none') {{\n",
       "            console.log([gd, 'removed!']);\n",
       "            Plotly.purge(gd);\n",
       "            observer.disconnect();\n",
       "        }}\n",
       "}});\n",
       "\n",
       "// Listen for the removal of the full notebook cells\n",
       "var notebookContainer = gd.closest('#notebook-container');\n",
       "if (notebookContainer) {{\n",
       "    x.observe(notebookContainer, {childList: true});\n",
       "}}\n",
       "\n",
       "// Listen for the clearing of the current output cell\n",
       "var outputEl = gd.closest('.output');\n",
       "if (outputEl) {{\n",
       "    x.observe(outputEl, {childList: true});\n",
       "}}\n",
       "\n",
       "                        })                };            </script>        </div>"
      ]
     },
     "metadata": {},
     "output_type": "display_data"
    }
   ],
   "source": [
    "age_freq= df.groupby(by=['gender','age_group'], as_index=False).agg(\n",
    "    freq= pd.NamedAgg(column='age_group',aggfunc='count'))\n",
    "\n",
    "px.bar(data_frame=age_freq,\n",
    "       x='age_group',\n",
    "       y='freq',\n",
    "       category_orders={'age_group':age_grs_lst},\n",
    "       hover_data='gender',\n",
    "       text_auto=True,\n",
    "       facet_col='gender')"
   ]
  },
  {
   "cell_type": "code",
   "execution_count": 34,
   "id": "9bd87365",
   "metadata": {},
   "outputs": [
    {
     "data": {
      "text/plain": [
       "23.52941176470588"
      ]
     },
     "execution_count": 34,
     "metadata": {},
     "output_type": "execute_result"
    }
   ],
   "source": [
    "24/((63+39)/100)"
   ]
  },
  {
   "cell_type": "code",
   "execution_count": 35,
   "id": "1ae91c18",
   "metadata": {},
   "outputs": [
    {
     "data": {
      "text/plain": [
       "13.636363636363635"
      ]
     },
     "execution_count": 35,
     "metadata": {},
     "output_type": "execute_result"
    }
   ],
   "source": [
    "18/((75+57)/100)"
   ]
  },
  {
   "cell_type": "markdown",
   "id": "beebd50b",
   "metadata": {},
   "source": [
    "Основная аудитория для этого зала: взрослые люди старше 20 лет \n",
    "\n",
    "Заметный перекос по полу в следующих возрастных группах:\n",
    "* 21-25 лет: женщин на 18 (13.6%) больше\n",
    "* старше 45: мужчин на 24 (23.5%) больше"
   ]
  },
  {
   "cell_type": "code",
   "execution_count": 36,
   "id": "7cb56eb6",
   "metadata": {},
   "outputs": [],
   "source": [
    "##45+ мужчины\n",
    "##24/(39+63)"
   ]
  },
  {
   "cell_type": "code",
   "execution_count": 37,
   "id": "202c28ad",
   "metadata": {},
   "outputs": [],
   "source": [
    "df_extended = pd.DataFrame()\n",
    "\n",
    "df_extended['abonement_type']=df['abonement_type']\n",
    "df_extended['gender']=df['gender']\n",
    "df_extended['check_in']=df['avg_time_check_in']\n",
    "df_extended['check_out']=df['avg_time_check_out']\n",
    "df_extended['avg_time']=df['avg_time_in_gym']\n",
    "df_extended['age_group']=df['age_group']\n",
    "df_extended['visit_per_week']=df['visit_per_week']"
   ]
  },
  {
   "cell_type": "code",
   "execution_count": 38,
   "id": "480a0164",
   "metadata": {},
   "outputs": [
    {
     "data": {
      "application/vnd.plotly.v1+json": {
       "config": {
        "plotlyServerURL": "https://plot.ly"
       },
       "data": [
        {
         "alignmentgroup": "True",
         "boxmean": true,
         "hovertemplate": "gender=Female<br>age_group=%{x}<br>avg_time_in_gym=%{y}<extra></extra>",
         "legendgroup": "Female",
         "marker": {
          "color": "#636efa"
         },
         "name": "Female",
         "notched": false,
         "offsetgroup": "Female",
         "orientation": "v",
         "showlegend": true,
         "type": "box",
         "x": [
          "26-30",
          "старше 45",
          "14-17",
          "21-25",
          "26-30",
          "31-35",
          "31-35",
          "36-40",
          "младше 14",
          "36-40",
          "26-30",
          "младше 14",
          "14-17",
          "26-30",
          "21-25",
          "41-45",
          "старше 45",
          "41-45",
          "36-40",
          "18-20",
          "14-17",
          "31-35",
          "26-30",
          "26-30",
          "41-45",
          "старше 45",
          "41-45",
          "18-20",
          "41-45",
          "21-25",
          "36-40",
          "старше 45",
          "26-30",
          "21-25",
          "41-45",
          "41-45",
          "21-25",
          "36-40",
          "26-30",
          "14-17",
          "41-45",
          "36-40",
          "31-35",
          "26-30",
          "14-17",
          "36-40",
          "старше 45",
          "21-25",
          "36-40",
          "41-45",
          "младше 14",
          "31-35",
          "21-25",
          "21-25",
          "старше 45",
          "36-40",
          "21-25",
          "21-25",
          "31-35",
          "18-20",
          "26-30",
          "старше 45",
          "26-30",
          "14-17",
          "36-40",
          "21-25",
          "41-45",
          "31-35",
          "14-17",
          "18-20",
          "31-35",
          "31-35",
          "21-25",
          "14-17",
          "18-20",
          "31-35",
          "14-17",
          "21-25",
          "14-17",
          "14-17",
          "14-17",
          "18-20",
          "18-20",
          "21-25",
          "21-25",
          "14-17",
          "41-45",
          "31-35",
          "36-40",
          "старше 45",
          "21-25",
          "младше 14",
          "14-17",
          "старше 45",
          "36-40",
          "36-40",
          "младше 14",
          "21-25",
          "14-17",
          "41-45",
          "26-30",
          "31-35",
          "36-40",
          "старше 45",
          "21-25",
          "старше 45",
          "14-17",
          "18-20",
          "26-30",
          "31-35",
          "18-20",
          "21-25",
          "41-45",
          "старше 45",
          "14-17",
          "21-25",
          "21-25",
          "26-30",
          "31-35",
          "36-40",
          "14-17",
          "31-35",
          "старше 45",
          "41-45",
          "31-35",
          "36-40",
          "36-40",
          "41-45",
          "21-25",
          "26-30",
          "21-25",
          "младше 14",
          "18-20",
          "26-30",
          "41-45",
          "26-30",
          "41-45",
          "21-25",
          "31-35",
          "41-45",
          "21-25",
          "41-45",
          "31-35",
          "31-35",
          "41-45",
          "младше 14",
          "26-30",
          "старше 45",
          "младше 14",
          "21-25",
          "26-30",
          "31-35",
          "21-25",
          "21-25",
          "старше 45",
          "41-45",
          "36-40",
          "18-20",
          "36-40",
          "41-45",
          "36-40",
          "36-40",
          "31-35",
          "31-35",
          "14-17",
          "41-45",
          "14-17",
          "36-40",
          "21-25",
          "31-35",
          "41-45",
          "36-40",
          "31-35",
          "21-25",
          "26-30",
          "26-30",
          "старше 45",
          "31-35",
          "36-40",
          "26-30",
          "14-17",
          "26-30",
          "26-30",
          "14-17",
          "31-35",
          "младше 14",
          "26-30",
          "36-40",
          "41-45",
          "14-17",
          "26-30",
          "36-40",
          "31-35",
          "41-45",
          "18-20",
          "14-17",
          "14-17",
          "14-17",
          "26-30",
          "21-25",
          "18-20",
          "41-45",
          "26-30",
          "26-30",
          "14-17",
          "старше 45",
          "18-20",
          "26-30",
          "31-35",
          "36-40",
          "21-25",
          "36-40",
          "14-17",
          "21-25",
          "старше 45",
          "26-30",
          "41-45",
          "36-40",
          "26-30",
          "21-25",
          "31-35",
          "41-45",
          "26-30",
          "18-20",
          "26-30",
          "36-40",
          "26-30",
          "21-25",
          "14-17",
          "41-45",
          "36-40",
          "26-30",
          "18-20",
          "36-40",
          "21-25",
          "41-45",
          "41-45",
          "старше 45",
          "21-25",
          "41-45",
          "41-45",
          "26-30",
          "26-30",
          "26-30",
          "старше 45",
          "36-40",
          "младше 14",
          "младше 14",
          "26-30",
          "14-17",
          "21-25",
          "26-30",
          "старше 45",
          "26-30",
          "21-25",
          "21-25",
          "старше 45",
          "31-35",
          "31-35",
          "21-25",
          "26-30",
          "14-17",
          "26-30",
          "31-35",
          "26-30",
          "41-45",
          "36-40",
          "26-30",
          "младше 14",
          "26-30",
          "младше 14",
          "36-40",
          "18-20",
          "младше 14",
          "18-20",
          "36-40",
          "36-40",
          "старше 45",
          "36-40",
          "36-40",
          "старше 45",
          "41-45",
          "41-45",
          "36-40",
          "14-17",
          "14-17",
          "31-35",
          "41-45",
          "31-35",
          "старше 45",
          "14-17",
          "старше 45",
          "31-35",
          "21-25",
          "41-45",
          "26-30",
          "26-30",
          "41-45",
          "26-30",
          "14-17",
          "36-40",
          "31-35",
          "41-45",
          "18-20",
          "36-40",
          "31-35",
          "36-40",
          "41-45",
          "21-25",
          "старше 45",
          "младше 14",
          "21-25",
          "26-30",
          "26-30",
          "26-30",
          "21-25",
          "18-20",
          "26-30",
          "18-20",
          "21-25",
          "14-17",
          "21-25",
          "старше 45",
          "14-17",
          "26-30",
          "21-25",
          "14-17",
          "31-35",
          "младше 14",
          "41-45",
          "18-20",
          "31-35",
          "36-40",
          "21-25",
          "14-17",
          "41-45",
          "41-45",
          "21-25",
          "36-40",
          "36-40",
          "18-20",
          "26-30",
          "младше 14",
          "14-17",
          "36-40",
          "18-20",
          "26-30",
          "21-25",
          "31-35",
          "21-25",
          "36-40",
          "18-20",
          "41-45",
          "41-45",
          "26-30",
          "41-45",
          "21-25",
          "14-17",
          "31-35",
          "31-35",
          "старше 45",
          "18-20",
          "18-20",
          "младше 14",
          "младше 14",
          "старше 45",
          "31-35",
          "26-30",
          "26-30",
          "31-35",
          "14-17",
          "26-30",
          "21-25",
          "41-45",
          "старше 45",
          "26-30",
          "36-40",
          "26-30",
          "младше 14",
          "41-45",
          "36-40",
          "21-25",
          "18-20",
          "26-30",
          "36-40",
          "41-45",
          "18-20",
          "41-45",
          "старше 45",
          "41-45",
          "21-25",
          "26-30",
          "26-30",
          "31-35",
          "старше 45",
          "26-30",
          "41-45",
          "старше 45",
          "21-25",
          "36-40",
          "26-30",
          "31-35",
          "26-30",
          "36-40",
          "36-40",
          "18-20",
          "14-17",
          "36-40",
          "26-30",
          "36-40",
          "31-35",
          "18-20",
          "14-17",
          "21-25",
          "18-20",
          "41-45",
          "41-45",
          "старше 45",
          "26-30",
          "31-35",
          "26-30",
          "36-40",
          "14-17",
          "31-35",
          "21-25",
          "36-40",
          "21-25",
          "36-40",
          "21-25",
          "31-35",
          "21-25",
          "36-40",
          "41-45",
          "14-17",
          "31-35",
          "21-25",
          "младше 14",
          "18-20",
          "21-25",
          "26-30",
          "26-30",
          "14-17",
          "36-40",
          "18-20",
          "31-35",
          "18-20",
          "41-45",
          "36-40",
          "36-40",
          "21-25",
          "36-40",
          "36-40",
          "36-40",
          "14-17",
          "31-35",
          "младше 14",
          "21-25",
          "старше 45",
          "21-25",
          "18-20",
          "41-45",
          "младше 14",
          "31-35",
          "41-45",
          "младше 14",
          "36-40",
          "21-25",
          "21-25",
          "14-17",
          "41-45",
          "14-17",
          "41-45",
          "31-35",
          "31-35",
          "старше 45",
          "18-20",
          "21-25",
          "21-25",
          "21-25",
          "старше 45",
          "14-17",
          "18-20",
          "14-17",
          "21-25",
          "31-35",
          "31-35",
          "26-30",
          "26-30",
          "младше 14",
          "21-25",
          "26-30",
          "14-17",
          "31-35",
          "21-25",
          "старше 45",
          "41-45",
          "31-35",
          "41-45",
          "36-40",
          "36-40",
          "36-40",
          "14-17",
          "18-20"
         ],
         "x0": " ",
         "xaxis": "x",
         "y": {
          "bdata": "dAAwALQAkACeAD0AkQA9AHcApwCSAKAAcABbAFEAYgBWAE8AdgBrAGsAOgBjAI4ArwCJAKEARQChAKIAegBrAEQAOQCTADAAqgClAJEANAC0AGcArQBCAF4ANQB+AE0AMAB7AKAAkQBWAIwAWwAqAF8ANgBXAKkAKABoAI4AIwCPAF0AbACXAEkAVABVAF8AZACuACUAKgCQAF0AVQBpAEMAKwCWAG0ALwBNAEAApwCSACMAVABpALAATgAiADAASQCvAEgAjgCSADUAjQAjAGwARwCHAE8AnACyAFsAswCXACUAJwB9AIoAdACoAD4AhwCQADsAMwBVAHIAQwCaAHIARQAhAEcAigCFAK4ATACMAHwASQBkAFkAVACkAFcAIgCZADsAMQCOADMAowBCAGEAMwAsAGUAkgCwAFkArABpAHkAPQCjAEkAPgBTAHEAQQCiAJEAfgBMAKEAmgBXAKgAhwA1AKgAfgA7ADgAdQBtAFcAaQBpADAArgApADAAQQCZADkAogAfACQAnABhAKQANwBPAFEAgQByADsAcABFAIcAYAAnAIEALQCnAKoAeABDALQAWgCcAHgAggCPAGYASQB1AGkAmwCKAFAAXwCkAGsASwArAGcASwA2ACcAmgCLAJkAPACbAJEAcQCBACgAOACAAHAARQBVAB4AVACJAJUAjwAeAKgAoQAqAIEAhAA6AGkASgA8AHYAZQAxAFgAOAAjAHYAJgBzAHQAUABTAIwAUQCXAFcAlACwAKYAtABNACkAUgAmAHMAcgCUAD8AZwBcAKsAIACzADwAfwBnAH8AZwCEACAAOAAzAKoAbgCWAEcAZACWAJUAswBHAHMAhwA3AIgAOABrAGsAiAAlADUApwCVADoAIABvAD0AQgBJAGgAjgCKAFsAlQBNACAAOQAmACwAPABFACUAjwBpAI0AJwCNAJ4AqQAvALQAjQCWAFIAIABaADMApQA9AIcAXQCHAHwAcwBzAIYArgBtAGwAggCgAF8AXgClAEMAlQAuAHMARACxAF8AqACCAGEAbgBbAGYARQBqAJgAXQCCAKwAkAAvAEAAswCHAFIAJgCvAHgAMQCsAIoAlgBUAFUAjABIAGkAjgBEACkAsgCqAJoANwCiAHMAUQB5AJ0ArwCmAHoAhgA4AJ4AdgBQAIwAqwAlAIYAXgBeADIAWQBTADEARgBqAIkAQgCdAHEAKAAyADEAoABDACIAcAB5AE0AkACVAFoAgwCEAFsAlgCrAJAAqwBAAGkAUQCnAKgANwAzAKIAWgCzAFQAiAB1ACAARwCmAG8AoAAsAGcAZACeAIoAoQCrAGoAhgCLAA==",
          "dtype": "i2"
         },
         "y0": " ",
         "yaxis": "y"
        },
        {
         "alignmentgroup": "True",
         "boxmean": true,
         "hovertemplate": "gender=Male<br>age_group=%{x}<br>avg_time_in_gym=%{y}<extra></extra>",
         "legendgroup": "Male",
         "marker": {
          "color": "#EF553B"
         },
         "name": "Male",
         "notched": false,
         "offsetgroup": "Male",
         "orientation": "v",
         "showlegend": true,
         "type": "box",
         "x": [
          "41-45",
          "41-45",
          "41-45",
          "26-30",
          "18-20",
          "старше 45",
          "41-45",
          "26-30",
          "36-40",
          "31-35",
          "26-30",
          "14-17",
          "31-35",
          "18-20",
          "31-35",
          "36-40",
          "21-25",
          "18-20",
          "31-35",
          "41-45",
          "старше 45",
          "31-35",
          "26-30",
          "41-45",
          "26-30",
          "21-25",
          "21-25",
          "старше 45",
          "14-17",
          "26-30",
          "18-20",
          "31-35",
          "26-30",
          "14-17",
          "31-35",
          "26-30",
          "18-20",
          "31-35",
          "41-45",
          "41-45",
          "26-30",
          "18-20",
          "старше 45",
          "31-35",
          "36-40",
          "26-30",
          "18-20",
          "41-45",
          "31-35",
          "младше 14",
          "14-17",
          "31-35",
          "старше 45",
          "36-40",
          "старше 45",
          "14-17",
          "14-17",
          "старше 45",
          "41-45",
          "31-35",
          "21-25",
          "26-30",
          "36-40",
          "36-40",
          "старше 45",
          "36-40",
          "36-40",
          "26-30",
          "18-20",
          "26-30",
          "26-30",
          "старше 45",
          "36-40",
          "старше 45",
          "21-25",
          "26-30",
          "36-40",
          "18-20",
          "26-30",
          "31-35",
          "14-17",
          "41-45",
          "старше 45",
          "старше 45",
          "18-20",
          "старше 45",
          "21-25",
          "старше 45",
          "26-30",
          "14-17",
          "14-17",
          "36-40",
          "младше 14",
          "36-40",
          "младше 14",
          "31-35",
          "41-45",
          "36-40",
          "14-17",
          "26-30",
          "младше 14",
          "старше 45",
          "старше 45",
          "18-20",
          "41-45",
          "старше 45",
          "18-20",
          "41-45",
          "18-20",
          "14-17",
          "21-25",
          "21-25",
          "старше 45",
          "31-35",
          "41-45",
          "36-40",
          "41-45",
          "старше 45",
          "18-20",
          "21-25",
          "31-35",
          "14-17",
          "31-35",
          "21-25",
          "36-40",
          "36-40",
          "18-20",
          "18-20",
          "18-20",
          "26-30",
          "36-40",
          "18-20",
          "18-20",
          "36-40",
          "18-20",
          "21-25",
          "41-45",
          "21-25",
          "41-45",
          "старше 45",
          "21-25",
          "36-40",
          "36-40",
          "старше 45",
          "старше 45",
          "26-30",
          "младше 14",
          "14-17",
          "31-35",
          "41-45",
          "21-25",
          "21-25",
          "старше 45",
          "18-20",
          "36-40",
          "41-45",
          "14-17",
          "36-40",
          "26-30",
          "младше 14",
          "41-45",
          "31-35",
          "26-30",
          "18-20",
          "26-30",
          "31-35",
          "21-25",
          "старше 45",
          "36-40",
          "14-17",
          "14-17",
          "36-40",
          "36-40",
          "31-35",
          "26-30",
          "21-25",
          "26-30",
          "26-30",
          "31-35",
          "36-40",
          "14-17",
          "41-45",
          "26-30",
          "21-25",
          "26-30",
          "36-40",
          "21-25",
          "31-35",
          "36-40",
          "31-35",
          "14-17",
          "41-45",
          "21-25",
          "26-30",
          "21-25",
          "21-25",
          "31-35",
          "36-40",
          "41-45",
          "26-30",
          "41-45",
          "старше 45",
          "26-30",
          "18-20",
          "14-17",
          "26-30",
          "26-30",
          "21-25",
          "41-45",
          "36-40",
          "26-30",
          "36-40",
          "старше 45",
          "41-45",
          "14-17",
          "31-35",
          "31-35",
          "26-30",
          "21-25",
          "26-30",
          "31-35",
          "младше 14",
          "36-40",
          "старше 45",
          "31-35",
          "18-20",
          "26-30",
          "старше 45",
          "14-17",
          "21-25",
          "14-17",
          "31-35",
          "26-30",
          "41-45",
          "18-20",
          "31-35",
          "21-25",
          "21-25",
          "14-17",
          "21-25",
          "18-20",
          "26-30",
          "41-45",
          "старше 45",
          "41-45",
          "31-35",
          "14-17",
          "36-40",
          "41-45",
          "41-45",
          "18-20",
          "18-20",
          "младше 14",
          "31-35",
          "41-45",
          "18-20",
          "36-40",
          "21-25",
          "21-25",
          "26-30",
          "14-17",
          "младше 14",
          "14-17",
          "18-20",
          "31-35",
          "старше 45",
          "26-30",
          "18-20",
          "36-40",
          "41-45",
          "младше 14",
          "21-25",
          "старше 45",
          "21-25",
          "31-35",
          "36-40",
          "36-40",
          "старше 45",
          "41-45",
          "31-35",
          "36-40",
          "26-30",
          "14-17",
          "41-45",
          "31-35",
          "18-20",
          "старше 45",
          "26-30",
          "31-35",
          "26-30",
          "18-20",
          "14-17",
          "31-35",
          "36-40",
          "14-17",
          "31-35",
          "старше 45",
          "старше 45",
          "36-40",
          "41-45",
          "старше 45",
          "14-17",
          "41-45",
          "26-30",
          "41-45",
          "14-17",
          "36-40",
          "36-40",
          "21-25",
          "36-40",
          "старше 45",
          "41-45",
          "41-45",
          "21-25",
          "36-40",
          "14-17",
          "21-25",
          "36-40",
          "21-25",
          "21-25",
          "14-17",
          "старше 45",
          "21-25",
          "младше 14",
          "14-17",
          "18-20",
          "26-30",
          "старше 45",
          "26-30",
          "младше 14",
          "36-40",
          "21-25",
          "старше 45",
          "14-17",
          "36-40",
          "старше 45",
          "36-40",
          "старше 45",
          "14-17",
          "36-40",
          "21-25",
          "31-35",
          "старше 45",
          "41-45",
          "26-30",
          "младше 14",
          "41-45",
          "26-30",
          "21-25",
          "старше 45",
          "14-17",
          "41-45",
          "36-40",
          "31-35",
          "31-35",
          "26-30",
          "21-25",
          "36-40",
          "21-25",
          "36-40",
          "41-45",
          "41-45",
          "26-30",
          "31-35",
          "18-20",
          "26-30",
          "18-20",
          "26-30",
          "старше 45",
          "31-35",
          "36-40",
          "36-40",
          "36-40",
          "старше 45",
          "21-25",
          "41-45",
          "36-40",
          "14-17",
          "26-30",
          "31-35",
          "18-20",
          "14-17",
          "41-45",
          "41-45",
          "41-45",
          "18-20",
          "18-20",
          "41-45",
          "41-45",
          "14-17",
          "26-30",
          "31-35",
          "18-20",
          "26-30",
          "36-40",
          "36-40",
          "31-35",
          "старше 45",
          "старше 45",
          "31-35",
          "старше 45",
          "21-25",
          "31-35",
          "26-30",
          "старше 45",
          "36-40",
          "18-20",
          "26-30",
          "26-30",
          "18-20",
          "старше 45",
          "старше 45",
          "14-17",
          "старше 45",
          "старше 45",
          "18-20",
          "36-40",
          "41-45",
          "26-30",
          "14-17",
          "21-25",
          "старше 45",
          "41-45",
          "26-30",
          "41-45",
          "26-30",
          "21-25",
          "31-35",
          "36-40",
          "14-17",
          "21-25",
          "31-35",
          "31-35",
          "старше 45",
          "41-45",
          "31-35",
          "14-17",
          "36-40",
          "14-17",
          "14-17",
          "21-25",
          "старше 45",
          "21-25",
          "18-20",
          "26-30",
          "старше 45",
          "26-30",
          "36-40",
          "36-40",
          "14-17",
          "41-45",
          "старше 45",
          "36-40",
          "26-30",
          "31-35",
          "26-30",
          "21-25",
          "младше 14",
          "41-45",
          "36-40",
          "21-25",
          "21-25",
          "26-30",
          "26-30",
          "младше 14",
          "старше 45",
          "31-35",
          "41-45",
          "41-45",
          "36-40",
          "21-25",
          "31-35",
          "41-45",
          "41-45",
          "36-40",
          "младше 14",
          "41-45",
          "14-17",
          "36-40",
          "21-25",
          "старше 45",
          "26-30",
          "31-35",
          "старше 45",
          "31-35",
          "21-25",
          "14-17",
          "31-35",
          "36-40",
          "36-40",
          "41-45",
          "старше 45",
          "26-30",
          "31-35",
          "14-17",
          "36-40",
          "21-25"
         ],
         "x0": " ",
         "xaxis": "x",
         "y": {
          "bdata": "ewBjADIAPgBfAFwAJAAhAKEAlQCaAHcAZgB2AHIAggCgAJ8AoQCHAJ4AVwCIAF0AUgCiAEcAHgBWACMAIQArADYAsQBdAKYAWABrAKMAfQBUADEAagAwALEArAB1AE8AMQBbAJwAsgAqADgAQwCRAF8AMgCsAFMAoAB3AG0AQQA2AFgAgwCDAEYAbgBJAFEAggAoAJcAXQCpAKEAsABCAG0AOACKAFUAcwAlACoAZACoAFMAfgAgAJIApgAiAK4AigBDAIUAowApAIgAHwCFAK0AowCFAGYAOwAkADgAqAAmACcAeABOAJoAmQBZAJwAogCqADgAgACNAHcAawBRACAAoQCEAKkATgBDAEMAHgB1ACwAfgCtAJUAKgCIADYAQgBhACEAsQBdAIAAQwBLACMAYAA8AKUAZgCVADgAPgCcACgAawCPAEoAIwBuAKwAngBrAEYAJgCmAJMAPAAlADMAJwAxAKsAIgB0AFwAkgBEAGgAMQCcAIUALACxAHUAiwBQAGoAVgBQADIATgAqALQAUwCDAFYApgBCAI0AKgCoAC0AWgA9AIQAiQC0AFUAggCkAGAAnwBjAHYArAB+AE0AkABCAEgArwCwAGcANwBUAEcAgQBcAGoAjACNALEAfgBKAF8ANQC0AIsARQA2AEMAPwA8AD8AHgCuAFcAsAA+AH8AIQCTAF0AhwAfAFMArQCVAHgAowCGAGsAigCvAE8AUwA6AH0AdAA1AFYAVABKAI0ASABzAJoANgCgAFEANQBlADQAbABJAIAAlQB7AFMATwCNAKkAfACKAK4AWgAsAIEArAAoAEIAjwApAF0AQwCbAEsAUgBcAFUAkwAlADsAnAAqAHYAaACLAEYAowCdAGsAaABVAJkAHgAhAFsAZwB9AIkAUABnAHMALQChAIYAiwB9AFoATQAhAJwAXQBjAIgATgCAAFkAmwBhAHsAfQAiAGwAdABLAIwAsQCyACUAJgAfAFwAPgBoAJAArwBiAFwAaAA6AJcAOABLACkAQACeAFUAnACcAIoAsABuAKEAWABpAB4APwA2AGYALwBDAEsAOAA/ALEAYgBoAHcAdQCzADgASwCfACoAnAA+ACYAgQCNALEARAAsAKYAOQCnAEoAgAA9ACEAXAA/AI0AhACHADkAZwBGAFoAoQCWAIUATQA0AFcAegBZAJ8ATwBMAEMANQB9AD4ATAB6AE0AigBdAE4AbACsAIsAPQCTACQAUwCEAIkAlACZAEIAgACUAIQAPwCfAGIAZQCNAJMAlgBMAGwAYABGAIsAMgBlAKsAhABdAGkAQACQAK0AmAB+AA==",
          "dtype": "i2"
         },
         "y0": " ",
         "yaxis": "y"
        }
       ],
       "layout": {
        "boxmode": "group",
        "legend": {
         "title": {
          "text": "gender"
         },
         "tracegroupgap": 0
        },
        "margin": {
         "t": 60
        },
        "template": {
         "data": {
          "bar": [
           {
            "error_x": {
             "color": "#2a3f5f"
            },
            "error_y": {
             "color": "#2a3f5f"
            },
            "marker": {
             "line": {
              "color": "#E5ECF6",
              "width": 0.5
             },
             "pattern": {
              "fillmode": "overlay",
              "size": 10,
              "solidity": 0.2
             }
            },
            "type": "bar"
           }
          ],
          "barpolar": [
           {
            "marker": {
             "line": {
              "color": "#E5ECF6",
              "width": 0.5
             },
             "pattern": {
              "fillmode": "overlay",
              "size": 10,
              "solidity": 0.2
             }
            },
            "type": "barpolar"
           }
          ],
          "carpet": [
           {
            "aaxis": {
             "endlinecolor": "#2a3f5f",
             "gridcolor": "white",
             "linecolor": "white",
             "minorgridcolor": "white",
             "startlinecolor": "#2a3f5f"
            },
            "baxis": {
             "endlinecolor": "#2a3f5f",
             "gridcolor": "white",
             "linecolor": "white",
             "minorgridcolor": "white",
             "startlinecolor": "#2a3f5f"
            },
            "type": "carpet"
           }
          ],
          "choropleth": [
           {
            "colorbar": {
             "outlinewidth": 0,
             "ticks": ""
            },
            "type": "choropleth"
           }
          ],
          "contour": [
           {
            "colorbar": {
             "outlinewidth": 0,
             "ticks": ""
            },
            "colorscale": [
             [
              0,
              "#0d0887"
             ],
             [
              0.1111111111111111,
              "#46039f"
             ],
             [
              0.2222222222222222,
              "#7201a8"
             ],
             [
              0.3333333333333333,
              "#9c179e"
             ],
             [
              0.4444444444444444,
              "#bd3786"
             ],
             [
              0.5555555555555556,
              "#d8576b"
             ],
             [
              0.6666666666666666,
              "#ed7953"
             ],
             [
              0.7777777777777778,
              "#fb9f3a"
             ],
             [
              0.8888888888888888,
              "#fdca26"
             ],
             [
              1,
              "#f0f921"
             ]
            ],
            "type": "contour"
           }
          ],
          "contourcarpet": [
           {
            "colorbar": {
             "outlinewidth": 0,
             "ticks": ""
            },
            "type": "contourcarpet"
           }
          ],
          "heatmap": [
           {
            "colorbar": {
             "outlinewidth": 0,
             "ticks": ""
            },
            "colorscale": [
             [
              0,
              "#0d0887"
             ],
             [
              0.1111111111111111,
              "#46039f"
             ],
             [
              0.2222222222222222,
              "#7201a8"
             ],
             [
              0.3333333333333333,
              "#9c179e"
             ],
             [
              0.4444444444444444,
              "#bd3786"
             ],
             [
              0.5555555555555556,
              "#d8576b"
             ],
             [
              0.6666666666666666,
              "#ed7953"
             ],
             [
              0.7777777777777778,
              "#fb9f3a"
             ],
             [
              0.8888888888888888,
              "#fdca26"
             ],
             [
              1,
              "#f0f921"
             ]
            ],
            "type": "heatmap"
           }
          ],
          "histogram": [
           {
            "marker": {
             "pattern": {
              "fillmode": "overlay",
              "size": 10,
              "solidity": 0.2
             }
            },
            "type": "histogram"
           }
          ],
          "histogram2d": [
           {
            "colorbar": {
             "outlinewidth": 0,
             "ticks": ""
            },
            "colorscale": [
             [
              0,
              "#0d0887"
             ],
             [
              0.1111111111111111,
              "#46039f"
             ],
             [
              0.2222222222222222,
              "#7201a8"
             ],
             [
              0.3333333333333333,
              "#9c179e"
             ],
             [
              0.4444444444444444,
              "#bd3786"
             ],
             [
              0.5555555555555556,
              "#d8576b"
             ],
             [
              0.6666666666666666,
              "#ed7953"
             ],
             [
              0.7777777777777778,
              "#fb9f3a"
             ],
             [
              0.8888888888888888,
              "#fdca26"
             ],
             [
              1,
              "#f0f921"
             ]
            ],
            "type": "histogram2d"
           }
          ],
          "histogram2dcontour": [
           {
            "colorbar": {
             "outlinewidth": 0,
             "ticks": ""
            },
            "colorscale": [
             [
              0,
              "#0d0887"
             ],
             [
              0.1111111111111111,
              "#46039f"
             ],
             [
              0.2222222222222222,
              "#7201a8"
             ],
             [
              0.3333333333333333,
              "#9c179e"
             ],
             [
              0.4444444444444444,
              "#bd3786"
             ],
             [
              0.5555555555555556,
              "#d8576b"
             ],
             [
              0.6666666666666666,
              "#ed7953"
             ],
             [
              0.7777777777777778,
              "#fb9f3a"
             ],
             [
              0.8888888888888888,
              "#fdca26"
             ],
             [
              1,
              "#f0f921"
             ]
            ],
            "type": "histogram2dcontour"
           }
          ],
          "mesh3d": [
           {
            "colorbar": {
             "outlinewidth": 0,
             "ticks": ""
            },
            "type": "mesh3d"
           }
          ],
          "parcoords": [
           {
            "line": {
             "colorbar": {
              "outlinewidth": 0,
              "ticks": ""
             }
            },
            "type": "parcoords"
           }
          ],
          "pie": [
           {
            "automargin": true,
            "type": "pie"
           }
          ],
          "scatter": [
           {
            "fillpattern": {
             "fillmode": "overlay",
             "size": 10,
             "solidity": 0.2
            },
            "type": "scatter"
           }
          ],
          "scatter3d": [
           {
            "line": {
             "colorbar": {
              "outlinewidth": 0,
              "ticks": ""
             }
            },
            "marker": {
             "colorbar": {
              "outlinewidth": 0,
              "ticks": ""
             }
            },
            "type": "scatter3d"
           }
          ],
          "scattercarpet": [
           {
            "marker": {
             "colorbar": {
              "outlinewidth": 0,
              "ticks": ""
             }
            },
            "type": "scattercarpet"
           }
          ],
          "scattergeo": [
           {
            "marker": {
             "colorbar": {
              "outlinewidth": 0,
              "ticks": ""
             }
            },
            "type": "scattergeo"
           }
          ],
          "scattergl": [
           {
            "marker": {
             "colorbar": {
              "outlinewidth": 0,
              "ticks": ""
             }
            },
            "type": "scattergl"
           }
          ],
          "scattermap": [
           {
            "marker": {
             "colorbar": {
              "outlinewidth": 0,
              "ticks": ""
             }
            },
            "type": "scattermap"
           }
          ],
          "scattermapbox": [
           {
            "marker": {
             "colorbar": {
              "outlinewidth": 0,
              "ticks": ""
             }
            },
            "type": "scattermapbox"
           }
          ],
          "scatterpolar": [
           {
            "marker": {
             "colorbar": {
              "outlinewidth": 0,
              "ticks": ""
             }
            },
            "type": "scatterpolar"
           }
          ],
          "scatterpolargl": [
           {
            "marker": {
             "colorbar": {
              "outlinewidth": 0,
              "ticks": ""
             }
            },
            "type": "scatterpolargl"
           }
          ],
          "scatterternary": [
           {
            "marker": {
             "colorbar": {
              "outlinewidth": 0,
              "ticks": ""
             }
            },
            "type": "scatterternary"
           }
          ],
          "surface": [
           {
            "colorbar": {
             "outlinewidth": 0,
             "ticks": ""
            },
            "colorscale": [
             [
              0,
              "#0d0887"
             ],
             [
              0.1111111111111111,
              "#46039f"
             ],
             [
              0.2222222222222222,
              "#7201a8"
             ],
             [
              0.3333333333333333,
              "#9c179e"
             ],
             [
              0.4444444444444444,
              "#bd3786"
             ],
             [
              0.5555555555555556,
              "#d8576b"
             ],
             [
              0.6666666666666666,
              "#ed7953"
             ],
             [
              0.7777777777777778,
              "#fb9f3a"
             ],
             [
              0.8888888888888888,
              "#fdca26"
             ],
             [
              1,
              "#f0f921"
             ]
            ],
            "type": "surface"
           }
          ],
          "table": [
           {
            "cells": {
             "fill": {
              "color": "#EBF0F8"
             },
             "line": {
              "color": "white"
             }
            },
            "header": {
             "fill": {
              "color": "#C8D4E3"
             },
             "line": {
              "color": "white"
             }
            },
            "type": "table"
           }
          ]
         },
         "layout": {
          "annotationdefaults": {
           "arrowcolor": "#2a3f5f",
           "arrowhead": 0,
           "arrowwidth": 1
          },
          "autotypenumbers": "strict",
          "coloraxis": {
           "colorbar": {
            "outlinewidth": 0,
            "ticks": ""
           }
          },
          "colorscale": {
           "diverging": [
            [
             0,
             "#8e0152"
            ],
            [
             0.1,
             "#c51b7d"
            ],
            [
             0.2,
             "#de77ae"
            ],
            [
             0.3,
             "#f1b6da"
            ],
            [
             0.4,
             "#fde0ef"
            ],
            [
             0.5,
             "#f7f7f7"
            ],
            [
             0.6,
             "#e6f5d0"
            ],
            [
             0.7,
             "#b8e186"
            ],
            [
             0.8,
             "#7fbc41"
            ],
            [
             0.9,
             "#4d9221"
            ],
            [
             1,
             "#276419"
            ]
           ],
           "sequential": [
            [
             0,
             "#0d0887"
            ],
            [
             0.1111111111111111,
             "#46039f"
            ],
            [
             0.2222222222222222,
             "#7201a8"
            ],
            [
             0.3333333333333333,
             "#9c179e"
            ],
            [
             0.4444444444444444,
             "#bd3786"
            ],
            [
             0.5555555555555556,
             "#d8576b"
            ],
            [
             0.6666666666666666,
             "#ed7953"
            ],
            [
             0.7777777777777778,
             "#fb9f3a"
            ],
            [
             0.8888888888888888,
             "#fdca26"
            ],
            [
             1,
             "#f0f921"
            ]
           ],
           "sequentialminus": [
            [
             0,
             "#0d0887"
            ],
            [
             0.1111111111111111,
             "#46039f"
            ],
            [
             0.2222222222222222,
             "#7201a8"
            ],
            [
             0.3333333333333333,
             "#9c179e"
            ],
            [
             0.4444444444444444,
             "#bd3786"
            ],
            [
             0.5555555555555556,
             "#d8576b"
            ],
            [
             0.6666666666666666,
             "#ed7953"
            ],
            [
             0.7777777777777778,
             "#fb9f3a"
            ],
            [
             0.8888888888888888,
             "#fdca26"
            ],
            [
             1,
             "#f0f921"
            ]
           ]
          },
          "colorway": [
           "#636efa",
           "#EF553B",
           "#00cc96",
           "#ab63fa",
           "#FFA15A",
           "#19d3f3",
           "#FF6692",
           "#B6E880",
           "#FF97FF",
           "#FECB52"
          ],
          "font": {
           "color": "#2a3f5f"
          },
          "geo": {
           "bgcolor": "white",
           "lakecolor": "white",
           "landcolor": "#E5ECF6",
           "showlakes": true,
           "showland": true,
           "subunitcolor": "white"
          },
          "hoverlabel": {
           "align": "left"
          },
          "hovermode": "closest",
          "mapbox": {
           "style": "light"
          },
          "paper_bgcolor": "white",
          "plot_bgcolor": "#E5ECF6",
          "polar": {
           "angularaxis": {
            "gridcolor": "white",
            "linecolor": "white",
            "ticks": ""
           },
           "bgcolor": "#E5ECF6",
           "radialaxis": {
            "gridcolor": "white",
            "linecolor": "white",
            "ticks": ""
           }
          },
          "scene": {
           "xaxis": {
            "backgroundcolor": "#E5ECF6",
            "gridcolor": "white",
            "gridwidth": 2,
            "linecolor": "white",
            "showbackground": true,
            "ticks": "",
            "zerolinecolor": "white"
           },
           "yaxis": {
            "backgroundcolor": "#E5ECF6",
            "gridcolor": "white",
            "gridwidth": 2,
            "linecolor": "white",
            "showbackground": true,
            "ticks": "",
            "zerolinecolor": "white"
           },
           "zaxis": {
            "backgroundcolor": "#E5ECF6",
            "gridcolor": "white",
            "gridwidth": 2,
            "linecolor": "white",
            "showbackground": true,
            "ticks": "",
            "zerolinecolor": "white"
           }
          },
          "shapedefaults": {
           "line": {
            "color": "#2a3f5f"
           }
          },
          "ternary": {
           "aaxis": {
            "gridcolor": "white",
            "linecolor": "white",
            "ticks": ""
           },
           "baxis": {
            "gridcolor": "white",
            "linecolor": "white",
            "ticks": ""
           },
           "bgcolor": "#E5ECF6",
           "caxis": {
            "gridcolor": "white",
            "linecolor": "white",
            "ticks": ""
           }
          },
          "title": {
           "x": 0.05
          },
          "xaxis": {
           "automargin": true,
           "gridcolor": "white",
           "linecolor": "white",
           "ticks": "",
           "title": {
            "standoff": 15
           },
           "zerolinecolor": "white",
           "zerolinewidth": 2
          },
          "yaxis": {
           "automargin": true,
           "gridcolor": "white",
           "linecolor": "white",
           "ticks": "",
           "title": {
            "standoff": 15
           },
           "zerolinecolor": "white",
           "zerolinewidth": 2
          }
         }
        },
        "xaxis": {
         "anchor": "y",
         "domain": [
          0,
          1
         ],
         "title": {
          "text": "age_group"
         }
        },
        "yaxis": {
         "anchor": "x",
         "domain": [
          0,
          1
         ],
         "title": {
          "text": "avg_time_in_gym"
         }
        }
       }
      },
      "text/html": [
       "<div>            <script src=\"https://cdnjs.cloudflare.com/ajax/libs/mathjax/2.7.5/MathJax.js?config=TeX-AMS-MML_SVG\"></script><script type=\"text/javascript\">if (window.MathJax && window.MathJax.Hub && window.MathJax.Hub.Config) {window.MathJax.Hub.Config({SVG: {font: \"STIX-Web\"}});}</script>                <script type=\"text/javascript\">window.PlotlyConfig = {MathJaxConfig: 'local'};</script>\n",
       "        <script charset=\"utf-8\" src=\"https://cdn.plot.ly/plotly-3.0.1.min.js\"></script>                <div id=\"5f643300-0f28-4abb-9491-abb402f5f301\" class=\"plotly-graph-div\" style=\"height:525px; width:100%;\"></div>            <script type=\"text/javascript\">                window.PLOTLYENV=window.PLOTLYENV || {};                                if (document.getElementById(\"5f643300-0f28-4abb-9491-abb402f5f301\")) {                    Plotly.newPlot(                        \"5f643300-0f28-4abb-9491-abb402f5f301\",                        [{\"alignmentgroup\":\"True\",\"hovertemplate\":\"gender=Female\\u003cbr\\u003eage_group=%{x}\\u003cbr\\u003eavg_time_in_gym=%{y}\\u003cextra\\u003e\\u003c\\u002fextra\\u003e\",\"legendgroup\":\"Female\",\"marker\":{\"color\":\"#636efa\"},\"name\":\"Female\",\"notched\":false,\"offsetgroup\":\"Female\",\"orientation\":\"v\",\"showlegend\":true,\"x\":[\"26-30\",\"\\u0441\\u0442\\u0430\\u0440\\u0448\\u0435 45\",\"14-17\",\"21-25\",\"26-30\",\"31-35\",\"31-35\",\"36-40\",\"\\u043c\\u043b\\u0430\\u0434\\u0448\\u0435 14\",\"36-40\",\"26-30\",\"\\u043c\\u043b\\u0430\\u0434\\u0448\\u0435 14\",\"14-17\",\"26-30\",\"21-25\",\"41-45\",\"\\u0441\\u0442\\u0430\\u0440\\u0448\\u0435 45\",\"41-45\",\"36-40\",\"18-20\",\"14-17\",\"31-35\",\"26-30\",\"26-30\",\"41-45\",\"\\u0441\\u0442\\u0430\\u0440\\u0448\\u0435 45\",\"41-45\",\"18-20\",\"41-45\",\"21-25\",\"36-40\",\"\\u0441\\u0442\\u0430\\u0440\\u0448\\u0435 45\",\"26-30\",\"21-25\",\"41-45\",\"41-45\",\"21-25\",\"36-40\",\"26-30\",\"14-17\",\"41-45\",\"36-40\",\"31-35\",\"26-30\",\"14-17\",\"36-40\",\"\\u0441\\u0442\\u0430\\u0440\\u0448\\u0435 45\",\"21-25\",\"36-40\",\"41-45\",\"\\u043c\\u043b\\u0430\\u0434\\u0448\\u0435 14\",\"31-35\",\"21-25\",\"21-25\",\"\\u0441\\u0442\\u0430\\u0440\\u0448\\u0435 45\",\"36-40\",\"21-25\",\"21-25\",\"31-35\",\"18-20\",\"26-30\",\"\\u0441\\u0442\\u0430\\u0440\\u0448\\u0435 45\",\"26-30\",\"14-17\",\"36-40\",\"21-25\",\"41-45\",\"31-35\",\"14-17\",\"18-20\",\"31-35\",\"31-35\",\"21-25\",\"14-17\",\"18-20\",\"31-35\",\"14-17\",\"21-25\",\"14-17\",\"14-17\",\"14-17\",\"18-20\",\"18-20\",\"21-25\",\"21-25\",\"14-17\",\"41-45\",\"31-35\",\"36-40\",\"\\u0441\\u0442\\u0430\\u0440\\u0448\\u0435 45\",\"21-25\",\"\\u043c\\u043b\\u0430\\u0434\\u0448\\u0435 14\",\"14-17\",\"\\u0441\\u0442\\u0430\\u0440\\u0448\\u0435 45\",\"36-40\",\"36-40\",\"\\u043c\\u043b\\u0430\\u0434\\u0448\\u0435 14\",\"21-25\",\"14-17\",\"41-45\",\"26-30\",\"31-35\",\"36-40\",\"\\u0441\\u0442\\u0430\\u0440\\u0448\\u0435 45\",\"21-25\",\"\\u0441\\u0442\\u0430\\u0440\\u0448\\u0435 45\",\"14-17\",\"18-20\",\"26-30\",\"31-35\",\"18-20\",\"21-25\",\"41-45\",\"\\u0441\\u0442\\u0430\\u0440\\u0448\\u0435 45\",\"14-17\",\"21-25\",\"21-25\",\"26-30\",\"31-35\",\"36-40\",\"14-17\",\"31-35\",\"\\u0441\\u0442\\u0430\\u0440\\u0448\\u0435 45\",\"41-45\",\"31-35\",\"36-40\",\"36-40\",\"41-45\",\"21-25\",\"26-30\",\"21-25\",\"\\u043c\\u043b\\u0430\\u0434\\u0448\\u0435 14\",\"18-20\",\"26-30\",\"41-45\",\"26-30\",\"41-45\",\"21-25\",\"31-35\",\"41-45\",\"21-25\",\"41-45\",\"31-35\",\"31-35\",\"41-45\",\"\\u043c\\u043b\\u0430\\u0434\\u0448\\u0435 14\",\"26-30\",\"\\u0441\\u0442\\u0430\\u0440\\u0448\\u0435 45\",\"\\u043c\\u043b\\u0430\\u0434\\u0448\\u0435 14\",\"21-25\",\"26-30\",\"31-35\",\"21-25\",\"21-25\",\"\\u0441\\u0442\\u0430\\u0440\\u0448\\u0435 45\",\"41-45\",\"36-40\",\"18-20\",\"36-40\",\"41-45\",\"36-40\",\"36-40\",\"31-35\",\"31-35\",\"14-17\",\"41-45\",\"14-17\",\"36-40\",\"21-25\",\"31-35\",\"41-45\",\"36-40\",\"31-35\",\"21-25\",\"26-30\",\"26-30\",\"\\u0441\\u0442\\u0430\\u0440\\u0448\\u0435 45\",\"31-35\",\"36-40\",\"26-30\",\"14-17\",\"26-30\",\"26-30\",\"14-17\",\"31-35\",\"\\u043c\\u043b\\u0430\\u0434\\u0448\\u0435 14\",\"26-30\",\"36-40\",\"41-45\",\"14-17\",\"26-30\",\"36-40\",\"31-35\",\"41-45\",\"18-20\",\"14-17\",\"14-17\",\"14-17\",\"26-30\",\"21-25\",\"18-20\",\"41-45\",\"26-30\",\"26-30\",\"14-17\",\"\\u0441\\u0442\\u0430\\u0440\\u0448\\u0435 45\",\"18-20\",\"26-30\",\"31-35\",\"36-40\",\"21-25\",\"36-40\",\"14-17\",\"21-25\",\"\\u0441\\u0442\\u0430\\u0440\\u0448\\u0435 45\",\"26-30\",\"41-45\",\"36-40\",\"26-30\",\"21-25\",\"31-35\",\"41-45\",\"26-30\",\"18-20\",\"26-30\",\"36-40\",\"26-30\",\"21-25\",\"14-17\",\"41-45\",\"36-40\",\"26-30\",\"18-20\",\"36-40\",\"21-25\",\"41-45\",\"41-45\",\"\\u0441\\u0442\\u0430\\u0440\\u0448\\u0435 45\",\"21-25\",\"41-45\",\"41-45\",\"26-30\",\"26-30\",\"26-30\",\"\\u0441\\u0442\\u0430\\u0440\\u0448\\u0435 45\",\"36-40\",\"\\u043c\\u043b\\u0430\\u0434\\u0448\\u0435 14\",\"\\u043c\\u043b\\u0430\\u0434\\u0448\\u0435 14\",\"26-30\",\"14-17\",\"21-25\",\"26-30\",\"\\u0441\\u0442\\u0430\\u0440\\u0448\\u0435 45\",\"26-30\",\"21-25\",\"21-25\",\"\\u0441\\u0442\\u0430\\u0440\\u0448\\u0435 45\",\"31-35\",\"31-35\",\"21-25\",\"26-30\",\"14-17\",\"26-30\",\"31-35\",\"26-30\",\"41-45\",\"36-40\",\"26-30\",\"\\u043c\\u043b\\u0430\\u0434\\u0448\\u0435 14\",\"26-30\",\"\\u043c\\u043b\\u0430\\u0434\\u0448\\u0435 14\",\"36-40\",\"18-20\",\"\\u043c\\u043b\\u0430\\u0434\\u0448\\u0435 14\",\"18-20\",\"36-40\",\"36-40\",\"\\u0441\\u0442\\u0430\\u0440\\u0448\\u0435 45\",\"36-40\",\"36-40\",\"\\u0441\\u0442\\u0430\\u0440\\u0448\\u0435 45\",\"41-45\",\"41-45\",\"36-40\",\"14-17\",\"14-17\",\"31-35\",\"41-45\",\"31-35\",\"\\u0441\\u0442\\u0430\\u0440\\u0448\\u0435 45\",\"14-17\",\"\\u0441\\u0442\\u0430\\u0440\\u0448\\u0435 45\",\"31-35\",\"21-25\",\"41-45\",\"26-30\",\"26-30\",\"41-45\",\"26-30\",\"14-17\",\"36-40\",\"31-35\",\"41-45\",\"18-20\",\"36-40\",\"31-35\",\"36-40\",\"41-45\",\"21-25\",\"\\u0441\\u0442\\u0430\\u0440\\u0448\\u0435 45\",\"\\u043c\\u043b\\u0430\\u0434\\u0448\\u0435 14\",\"21-25\",\"26-30\",\"26-30\",\"26-30\",\"21-25\",\"18-20\",\"26-30\",\"18-20\",\"21-25\",\"14-17\",\"21-25\",\"\\u0441\\u0442\\u0430\\u0440\\u0448\\u0435 45\",\"14-17\",\"26-30\",\"21-25\",\"14-17\",\"31-35\",\"\\u043c\\u043b\\u0430\\u0434\\u0448\\u0435 14\",\"41-45\",\"18-20\",\"31-35\",\"36-40\",\"21-25\",\"14-17\",\"41-45\",\"41-45\",\"21-25\",\"36-40\",\"36-40\",\"18-20\",\"26-30\",\"\\u043c\\u043b\\u0430\\u0434\\u0448\\u0435 14\",\"14-17\",\"36-40\",\"18-20\",\"26-30\",\"21-25\",\"31-35\",\"21-25\",\"36-40\",\"18-20\",\"41-45\",\"41-45\",\"26-30\",\"41-45\",\"21-25\",\"14-17\",\"31-35\",\"31-35\",\"\\u0441\\u0442\\u0430\\u0440\\u0448\\u0435 45\",\"18-20\",\"18-20\",\"\\u043c\\u043b\\u0430\\u0434\\u0448\\u0435 14\",\"\\u043c\\u043b\\u0430\\u0434\\u0448\\u0435 14\",\"\\u0441\\u0442\\u0430\\u0440\\u0448\\u0435 45\",\"31-35\",\"26-30\",\"26-30\",\"31-35\",\"14-17\",\"26-30\",\"21-25\",\"41-45\",\"\\u0441\\u0442\\u0430\\u0440\\u0448\\u0435 45\",\"26-30\",\"36-40\",\"26-30\",\"\\u043c\\u043b\\u0430\\u0434\\u0448\\u0435 14\",\"41-45\",\"36-40\",\"21-25\",\"18-20\",\"26-30\",\"36-40\",\"41-45\",\"18-20\",\"41-45\",\"\\u0441\\u0442\\u0430\\u0440\\u0448\\u0435 45\",\"41-45\",\"21-25\",\"26-30\",\"26-30\",\"31-35\",\"\\u0441\\u0442\\u0430\\u0440\\u0448\\u0435 45\",\"26-30\",\"41-45\",\"\\u0441\\u0442\\u0430\\u0440\\u0448\\u0435 45\",\"21-25\",\"36-40\",\"26-30\",\"31-35\",\"26-30\",\"36-40\",\"36-40\",\"18-20\",\"14-17\",\"36-40\",\"26-30\",\"36-40\",\"31-35\",\"18-20\",\"14-17\",\"21-25\",\"18-20\",\"41-45\",\"41-45\",\"\\u0441\\u0442\\u0430\\u0440\\u0448\\u0435 45\",\"26-30\",\"31-35\",\"26-30\",\"36-40\",\"14-17\",\"31-35\",\"21-25\",\"36-40\",\"21-25\",\"36-40\",\"21-25\",\"31-35\",\"21-25\",\"36-40\",\"41-45\",\"14-17\",\"31-35\",\"21-25\",\"\\u043c\\u043b\\u0430\\u0434\\u0448\\u0435 14\",\"18-20\",\"21-25\",\"26-30\",\"26-30\",\"14-17\",\"36-40\",\"18-20\",\"31-35\",\"18-20\",\"41-45\",\"36-40\",\"36-40\",\"21-25\",\"36-40\",\"36-40\",\"36-40\",\"14-17\",\"31-35\",\"\\u043c\\u043b\\u0430\\u0434\\u0448\\u0435 14\",\"21-25\",\"\\u0441\\u0442\\u0430\\u0440\\u0448\\u0435 45\",\"21-25\",\"18-20\",\"41-45\",\"\\u043c\\u043b\\u0430\\u0434\\u0448\\u0435 14\",\"31-35\",\"41-45\",\"\\u043c\\u043b\\u0430\\u0434\\u0448\\u0435 14\",\"36-40\",\"21-25\",\"21-25\",\"14-17\",\"41-45\",\"14-17\",\"41-45\",\"31-35\",\"31-35\",\"\\u0441\\u0442\\u0430\\u0440\\u0448\\u0435 45\",\"18-20\",\"21-25\",\"21-25\",\"21-25\",\"\\u0441\\u0442\\u0430\\u0440\\u0448\\u0435 45\",\"14-17\",\"18-20\",\"14-17\",\"21-25\",\"31-35\",\"31-35\",\"26-30\",\"26-30\",\"\\u043c\\u043b\\u0430\\u0434\\u0448\\u0435 14\",\"21-25\",\"26-30\",\"14-17\",\"31-35\",\"21-25\",\"\\u0441\\u0442\\u0430\\u0440\\u0448\\u0435 45\",\"41-45\",\"31-35\",\"41-45\",\"36-40\",\"36-40\",\"36-40\",\"14-17\",\"18-20\"],\"x0\":\" \",\"xaxis\":\"x\",\"y\":{\"dtype\":\"i2\",\"bdata\":\"dAAwALQAkACeAD0AkQA9AHcApwCSAKAAcABbAFEAYgBWAE8AdgBrAGsAOgBjAI4ArwCJAKEARQChAKIAegBrAEQAOQCTADAAqgClAJEANAC0AGcArQBCAF4ANQB+AE0AMAB7AKAAkQBWAIwAWwAqAF8ANgBXAKkAKABoAI4AIwCPAF0AbACXAEkAVABVAF8AZACuACUAKgCQAF0AVQBpAEMAKwCWAG0ALwBNAEAApwCSACMAVABpALAATgAiADAASQCvAEgAjgCSADUAjQAjAGwARwCHAE8AnACyAFsAswCXACUAJwB9AIoAdACoAD4AhwCQADsAMwBVAHIAQwCaAHIARQAhAEcAigCFAK4ATACMAHwASQBkAFkAVACkAFcAIgCZADsAMQCOADMAowBCAGEAMwAsAGUAkgCwAFkArABpAHkAPQCjAEkAPgBTAHEAQQCiAJEAfgBMAKEAmgBXAKgAhwA1AKgAfgA7ADgAdQBtAFcAaQBpADAArgApADAAQQCZADkAogAfACQAnABhAKQANwBPAFEAgQByADsAcABFAIcAYAAnAIEALQCnAKoAeABDALQAWgCcAHgAggCPAGYASQB1AGkAmwCKAFAAXwCkAGsASwArAGcASwA2ACcAmgCLAJkAPACbAJEAcQCBACgAOACAAHAARQBVAB4AVACJAJUAjwAeAKgAoQAqAIEAhAA6AGkASgA8AHYAZQAxAFgAOAAjAHYAJgBzAHQAUABTAIwAUQCXAFcAlACwAKYAtABNACkAUgAmAHMAcgCUAD8AZwBcAKsAIACzADwAfwBnAH8AZwCEACAAOAAzAKoAbgCWAEcAZACWAJUAswBHAHMAhwA3AIgAOABrAGsAiAAlADUApwCVADoAIABvAD0AQgBJAGgAjgCKAFsAlQBNACAAOQAmACwAPABFACUAjwBpAI0AJwCNAJ4AqQAvALQAjQCWAFIAIABaADMApQA9AIcAXQCHAHwAcwBzAIYArgBtAGwAggCgAF8AXgClAEMAlQAuAHMARACxAF8AqACCAGEAbgBbAGYARQBqAJgAXQCCAKwAkAAvAEAAswCHAFIAJgCvAHgAMQCsAIoAlgBUAFUAjABIAGkAjgBEACkAsgCqAJoANwCiAHMAUQB5AJ0ArwCmAHoAhgA4AJ4AdgBQAIwAqwAlAIYAXgBeADIAWQBTADEARgBqAIkAQgCdAHEAKAAyADEAoABDACIAcAB5AE0AkACVAFoAgwCEAFsAlgCrAJAAqwBAAGkAUQCnAKgANwAzAKIAWgCzAFQAiAB1ACAARwCmAG8AoAAsAGcAZACeAIoAoQCrAGoAhgCLAA==\"},\"y0\":\" \",\"yaxis\":\"y\",\"type\":\"box\",\"boxmean\":true},{\"alignmentgroup\":\"True\",\"hovertemplate\":\"gender=Male\\u003cbr\\u003eage_group=%{x}\\u003cbr\\u003eavg_time_in_gym=%{y}\\u003cextra\\u003e\\u003c\\u002fextra\\u003e\",\"legendgroup\":\"Male\",\"marker\":{\"color\":\"#EF553B\"},\"name\":\"Male\",\"notched\":false,\"offsetgroup\":\"Male\",\"orientation\":\"v\",\"showlegend\":true,\"x\":[\"41-45\",\"41-45\",\"41-45\",\"26-30\",\"18-20\",\"\\u0441\\u0442\\u0430\\u0440\\u0448\\u0435 45\",\"41-45\",\"26-30\",\"36-40\",\"31-35\",\"26-30\",\"14-17\",\"31-35\",\"18-20\",\"31-35\",\"36-40\",\"21-25\",\"18-20\",\"31-35\",\"41-45\",\"\\u0441\\u0442\\u0430\\u0440\\u0448\\u0435 45\",\"31-35\",\"26-30\",\"41-45\",\"26-30\",\"21-25\",\"21-25\",\"\\u0441\\u0442\\u0430\\u0440\\u0448\\u0435 45\",\"14-17\",\"26-30\",\"18-20\",\"31-35\",\"26-30\",\"14-17\",\"31-35\",\"26-30\",\"18-20\",\"31-35\",\"41-45\",\"41-45\",\"26-30\",\"18-20\",\"\\u0441\\u0442\\u0430\\u0440\\u0448\\u0435 45\",\"31-35\",\"36-40\",\"26-30\",\"18-20\",\"41-45\",\"31-35\",\"\\u043c\\u043b\\u0430\\u0434\\u0448\\u0435 14\",\"14-17\",\"31-35\",\"\\u0441\\u0442\\u0430\\u0440\\u0448\\u0435 45\",\"36-40\",\"\\u0441\\u0442\\u0430\\u0440\\u0448\\u0435 45\",\"14-17\",\"14-17\",\"\\u0441\\u0442\\u0430\\u0440\\u0448\\u0435 45\",\"41-45\",\"31-35\",\"21-25\",\"26-30\",\"36-40\",\"36-40\",\"\\u0441\\u0442\\u0430\\u0440\\u0448\\u0435 45\",\"36-40\",\"36-40\",\"26-30\",\"18-20\",\"26-30\",\"26-30\",\"\\u0441\\u0442\\u0430\\u0440\\u0448\\u0435 45\",\"36-40\",\"\\u0441\\u0442\\u0430\\u0440\\u0448\\u0435 45\",\"21-25\",\"26-30\",\"36-40\",\"18-20\",\"26-30\",\"31-35\",\"14-17\",\"41-45\",\"\\u0441\\u0442\\u0430\\u0440\\u0448\\u0435 45\",\"\\u0441\\u0442\\u0430\\u0440\\u0448\\u0435 45\",\"18-20\",\"\\u0441\\u0442\\u0430\\u0440\\u0448\\u0435 45\",\"21-25\",\"\\u0441\\u0442\\u0430\\u0440\\u0448\\u0435 45\",\"26-30\",\"14-17\",\"14-17\",\"36-40\",\"\\u043c\\u043b\\u0430\\u0434\\u0448\\u0435 14\",\"36-40\",\"\\u043c\\u043b\\u0430\\u0434\\u0448\\u0435 14\",\"31-35\",\"41-45\",\"36-40\",\"14-17\",\"26-30\",\"\\u043c\\u043b\\u0430\\u0434\\u0448\\u0435 14\",\"\\u0441\\u0442\\u0430\\u0440\\u0448\\u0435 45\",\"\\u0441\\u0442\\u0430\\u0440\\u0448\\u0435 45\",\"18-20\",\"41-45\",\"\\u0441\\u0442\\u0430\\u0440\\u0448\\u0435 45\",\"18-20\",\"41-45\",\"18-20\",\"14-17\",\"21-25\",\"21-25\",\"\\u0441\\u0442\\u0430\\u0440\\u0448\\u0435 45\",\"31-35\",\"41-45\",\"36-40\",\"41-45\",\"\\u0441\\u0442\\u0430\\u0440\\u0448\\u0435 45\",\"18-20\",\"21-25\",\"31-35\",\"14-17\",\"31-35\",\"21-25\",\"36-40\",\"36-40\",\"18-20\",\"18-20\",\"18-20\",\"26-30\",\"36-40\",\"18-20\",\"18-20\",\"36-40\",\"18-20\",\"21-25\",\"41-45\",\"21-25\",\"41-45\",\"\\u0441\\u0442\\u0430\\u0440\\u0448\\u0435 45\",\"21-25\",\"36-40\",\"36-40\",\"\\u0441\\u0442\\u0430\\u0440\\u0448\\u0435 45\",\"\\u0441\\u0442\\u0430\\u0440\\u0448\\u0435 45\",\"26-30\",\"\\u043c\\u043b\\u0430\\u0434\\u0448\\u0435 14\",\"14-17\",\"31-35\",\"41-45\",\"21-25\",\"21-25\",\"\\u0441\\u0442\\u0430\\u0440\\u0448\\u0435 45\",\"18-20\",\"36-40\",\"41-45\",\"14-17\",\"36-40\",\"26-30\",\"\\u043c\\u043b\\u0430\\u0434\\u0448\\u0435 14\",\"41-45\",\"31-35\",\"26-30\",\"18-20\",\"26-30\",\"31-35\",\"21-25\",\"\\u0441\\u0442\\u0430\\u0440\\u0448\\u0435 45\",\"36-40\",\"14-17\",\"14-17\",\"36-40\",\"36-40\",\"31-35\",\"26-30\",\"21-25\",\"26-30\",\"26-30\",\"31-35\",\"36-40\",\"14-17\",\"41-45\",\"26-30\",\"21-25\",\"26-30\",\"36-40\",\"21-25\",\"31-35\",\"36-40\",\"31-35\",\"14-17\",\"41-45\",\"21-25\",\"26-30\",\"21-25\",\"21-25\",\"31-35\",\"36-40\",\"41-45\",\"26-30\",\"41-45\",\"\\u0441\\u0442\\u0430\\u0440\\u0448\\u0435 45\",\"26-30\",\"18-20\",\"14-17\",\"26-30\",\"26-30\",\"21-25\",\"41-45\",\"36-40\",\"26-30\",\"36-40\",\"\\u0441\\u0442\\u0430\\u0440\\u0448\\u0435 45\",\"41-45\",\"14-17\",\"31-35\",\"31-35\",\"26-30\",\"21-25\",\"26-30\",\"31-35\",\"\\u043c\\u043b\\u0430\\u0434\\u0448\\u0435 14\",\"36-40\",\"\\u0441\\u0442\\u0430\\u0440\\u0448\\u0435 45\",\"31-35\",\"18-20\",\"26-30\",\"\\u0441\\u0442\\u0430\\u0440\\u0448\\u0435 45\",\"14-17\",\"21-25\",\"14-17\",\"31-35\",\"26-30\",\"41-45\",\"18-20\",\"31-35\",\"21-25\",\"21-25\",\"14-17\",\"21-25\",\"18-20\",\"26-30\",\"41-45\",\"\\u0441\\u0442\\u0430\\u0440\\u0448\\u0435 45\",\"41-45\",\"31-35\",\"14-17\",\"36-40\",\"41-45\",\"41-45\",\"18-20\",\"18-20\",\"\\u043c\\u043b\\u0430\\u0434\\u0448\\u0435 14\",\"31-35\",\"41-45\",\"18-20\",\"36-40\",\"21-25\",\"21-25\",\"26-30\",\"14-17\",\"\\u043c\\u043b\\u0430\\u0434\\u0448\\u0435 14\",\"14-17\",\"18-20\",\"31-35\",\"\\u0441\\u0442\\u0430\\u0440\\u0448\\u0435 45\",\"26-30\",\"18-20\",\"36-40\",\"41-45\",\"\\u043c\\u043b\\u0430\\u0434\\u0448\\u0435 14\",\"21-25\",\"\\u0441\\u0442\\u0430\\u0440\\u0448\\u0435 45\",\"21-25\",\"31-35\",\"36-40\",\"36-40\",\"\\u0441\\u0442\\u0430\\u0440\\u0448\\u0435 45\",\"41-45\",\"31-35\",\"36-40\",\"26-30\",\"14-17\",\"41-45\",\"31-35\",\"18-20\",\"\\u0441\\u0442\\u0430\\u0440\\u0448\\u0435 45\",\"26-30\",\"31-35\",\"26-30\",\"18-20\",\"14-17\",\"31-35\",\"36-40\",\"14-17\",\"31-35\",\"\\u0441\\u0442\\u0430\\u0440\\u0448\\u0435 45\",\"\\u0441\\u0442\\u0430\\u0440\\u0448\\u0435 45\",\"36-40\",\"41-45\",\"\\u0441\\u0442\\u0430\\u0440\\u0448\\u0435 45\",\"14-17\",\"41-45\",\"26-30\",\"41-45\",\"14-17\",\"36-40\",\"36-40\",\"21-25\",\"36-40\",\"\\u0441\\u0442\\u0430\\u0440\\u0448\\u0435 45\",\"41-45\",\"41-45\",\"21-25\",\"36-40\",\"14-17\",\"21-25\",\"36-40\",\"21-25\",\"21-25\",\"14-17\",\"\\u0441\\u0442\\u0430\\u0440\\u0448\\u0435 45\",\"21-25\",\"\\u043c\\u043b\\u0430\\u0434\\u0448\\u0435 14\",\"14-17\",\"18-20\",\"26-30\",\"\\u0441\\u0442\\u0430\\u0440\\u0448\\u0435 45\",\"26-30\",\"\\u043c\\u043b\\u0430\\u0434\\u0448\\u0435 14\",\"36-40\",\"21-25\",\"\\u0441\\u0442\\u0430\\u0440\\u0448\\u0435 45\",\"14-17\",\"36-40\",\"\\u0441\\u0442\\u0430\\u0440\\u0448\\u0435 45\",\"36-40\",\"\\u0441\\u0442\\u0430\\u0440\\u0448\\u0435 45\",\"14-17\",\"36-40\",\"21-25\",\"31-35\",\"\\u0441\\u0442\\u0430\\u0440\\u0448\\u0435 45\",\"41-45\",\"26-30\",\"\\u043c\\u043b\\u0430\\u0434\\u0448\\u0435 14\",\"41-45\",\"26-30\",\"21-25\",\"\\u0441\\u0442\\u0430\\u0440\\u0448\\u0435 45\",\"14-17\",\"41-45\",\"36-40\",\"31-35\",\"31-35\",\"26-30\",\"21-25\",\"36-40\",\"21-25\",\"36-40\",\"41-45\",\"41-45\",\"26-30\",\"31-35\",\"18-20\",\"26-30\",\"18-20\",\"26-30\",\"\\u0441\\u0442\\u0430\\u0440\\u0448\\u0435 45\",\"31-35\",\"36-40\",\"36-40\",\"36-40\",\"\\u0441\\u0442\\u0430\\u0440\\u0448\\u0435 45\",\"21-25\",\"41-45\",\"36-40\",\"14-17\",\"26-30\",\"31-35\",\"18-20\",\"14-17\",\"41-45\",\"41-45\",\"41-45\",\"18-20\",\"18-20\",\"41-45\",\"41-45\",\"14-17\",\"26-30\",\"31-35\",\"18-20\",\"26-30\",\"36-40\",\"36-40\",\"31-35\",\"\\u0441\\u0442\\u0430\\u0440\\u0448\\u0435 45\",\"\\u0441\\u0442\\u0430\\u0440\\u0448\\u0435 45\",\"31-35\",\"\\u0441\\u0442\\u0430\\u0440\\u0448\\u0435 45\",\"21-25\",\"31-35\",\"26-30\",\"\\u0441\\u0442\\u0430\\u0440\\u0448\\u0435 45\",\"36-40\",\"18-20\",\"26-30\",\"26-30\",\"18-20\",\"\\u0441\\u0442\\u0430\\u0440\\u0448\\u0435 45\",\"\\u0441\\u0442\\u0430\\u0440\\u0448\\u0435 45\",\"14-17\",\"\\u0441\\u0442\\u0430\\u0440\\u0448\\u0435 45\",\"\\u0441\\u0442\\u0430\\u0440\\u0448\\u0435 45\",\"18-20\",\"36-40\",\"41-45\",\"26-30\",\"14-17\",\"21-25\",\"\\u0441\\u0442\\u0430\\u0440\\u0448\\u0435 45\",\"41-45\",\"26-30\",\"41-45\",\"26-30\",\"21-25\",\"31-35\",\"36-40\",\"14-17\",\"21-25\",\"31-35\",\"31-35\",\"\\u0441\\u0442\\u0430\\u0440\\u0448\\u0435 45\",\"41-45\",\"31-35\",\"14-17\",\"36-40\",\"14-17\",\"14-17\",\"21-25\",\"\\u0441\\u0442\\u0430\\u0440\\u0448\\u0435 45\",\"21-25\",\"18-20\",\"26-30\",\"\\u0441\\u0442\\u0430\\u0440\\u0448\\u0435 45\",\"26-30\",\"36-40\",\"36-40\",\"14-17\",\"41-45\",\"\\u0441\\u0442\\u0430\\u0440\\u0448\\u0435 45\",\"36-40\",\"26-30\",\"31-35\",\"26-30\",\"21-25\",\"\\u043c\\u043b\\u0430\\u0434\\u0448\\u0435 14\",\"41-45\",\"36-40\",\"21-25\",\"21-25\",\"26-30\",\"26-30\",\"\\u043c\\u043b\\u0430\\u0434\\u0448\\u0435 14\",\"\\u0441\\u0442\\u0430\\u0440\\u0448\\u0435 45\",\"31-35\",\"41-45\",\"41-45\",\"36-40\",\"21-25\",\"31-35\",\"41-45\",\"41-45\",\"36-40\",\"\\u043c\\u043b\\u0430\\u0434\\u0448\\u0435 14\",\"41-45\",\"14-17\",\"36-40\",\"21-25\",\"\\u0441\\u0442\\u0430\\u0440\\u0448\\u0435 45\",\"26-30\",\"31-35\",\"\\u0441\\u0442\\u0430\\u0440\\u0448\\u0435 45\",\"31-35\",\"21-25\",\"14-17\",\"31-35\",\"36-40\",\"36-40\",\"41-45\",\"\\u0441\\u0442\\u0430\\u0440\\u0448\\u0435 45\",\"26-30\",\"31-35\",\"14-17\",\"36-40\",\"21-25\"],\"x0\":\" \",\"xaxis\":\"x\",\"y\":{\"dtype\":\"i2\",\"bdata\":\"ewBjADIAPgBfAFwAJAAhAKEAlQCaAHcAZgB2AHIAggCgAJ8AoQCHAJ4AVwCIAF0AUgCiAEcAHgBWACMAIQArADYAsQBdAKYAWABrAKMAfQBUADEAagAwALEArAB1AE8AMQBbAJwAsgAqADgAQwCRAF8AMgCsAFMAoAB3AG0AQQA2AFgAgwCDAEYAbgBJAFEAggAoAJcAXQCpAKEAsABCAG0AOACKAFUAcwAlACoAZACoAFMAfgAgAJIApgAiAK4AigBDAIUAowApAIgAHwCFAK0AowCFAGYAOwAkADgAqAAmACcAeABOAJoAmQBZAJwAogCqADgAgACNAHcAawBRACAAoQCEAKkATgBDAEMAHgB1ACwAfgCtAJUAKgCIADYAQgBhACEAsQBdAIAAQwBLACMAYAA8AKUAZgCVADgAPgCcACgAawCPAEoAIwBuAKwAngBrAEYAJgCmAJMAPAAlADMAJwAxAKsAIgB0AFwAkgBEAGgAMQCcAIUALACxAHUAiwBQAGoAVgBQADIATgAqALQAUwCDAFYApgBCAI0AKgCoAC0AWgA9AIQAiQC0AFUAggCkAGAAnwBjAHYArAB+AE0AkABCAEgArwCwAGcANwBUAEcAgQBcAGoAjACNALEAfgBKAF8ANQC0AIsARQA2AEMAPwA8AD8AHgCuAFcAsAA+AH8AIQCTAF0AhwAfAFMArQCVAHgAowCGAGsAigCvAE8AUwA6AH0AdAA1AFYAVABKAI0ASABzAJoANgCgAFEANQBlADQAbABJAIAAlQB7AFMATwCNAKkAfACKAK4AWgAsAIEArAAoAEIAjwApAF0AQwCbAEsAUgBcAFUAkwAlADsAnAAqAHYAaACLAEYAowCdAGsAaABVAJkAHgAhAFsAZwB9AIkAUABnAHMALQChAIYAiwB9AFoATQAhAJwAXQBjAIgATgCAAFkAmwBhAHsAfQAiAGwAdABLAIwAsQCyACUAJgAfAFwAPgBoAJAArwBiAFwAaAA6AJcAOABLACkAQACeAFUAnACcAIoAsABuAKEAWABpAB4APwA2AGYALwBDAEsAOAA\\u002fALEAYgBoAHcAdQCzADgASwCfACoAnAA+ACYAgQCNALEARAAsAKYAOQCnAEoAgAA9ACEAXAA\\u002fAI0AhACHADkAZwBGAFoAoQCWAIUATQA0AFcAegBZAJ8ATwBMAEMANQB9AD4ATAB6AE0AigBdAE4AbACsAIsAPQCTACQAUwCEAIkAlACZAEIAgACUAIQAPwCfAGIAZQCNAJMAlgBMAGwAYABGAIsAMgBlAKsAhABdAGkAQACQAK0AmAB+AA==\"},\"y0\":\" \",\"yaxis\":\"y\",\"type\":\"box\",\"boxmean\":true}],                        {\"template\":{\"data\":{\"histogram2dcontour\":[{\"type\":\"histogram2dcontour\",\"colorbar\":{\"outlinewidth\":0,\"ticks\":\"\"},\"colorscale\":[[0.0,\"#0d0887\"],[0.1111111111111111,\"#46039f\"],[0.2222222222222222,\"#7201a8\"],[0.3333333333333333,\"#9c179e\"],[0.4444444444444444,\"#bd3786\"],[0.5555555555555556,\"#d8576b\"],[0.6666666666666666,\"#ed7953\"],[0.7777777777777778,\"#fb9f3a\"],[0.8888888888888888,\"#fdca26\"],[1.0,\"#f0f921\"]]}],\"choropleth\":[{\"type\":\"choropleth\",\"colorbar\":{\"outlinewidth\":0,\"ticks\":\"\"}}],\"histogram2d\":[{\"type\":\"histogram2d\",\"colorbar\":{\"outlinewidth\":0,\"ticks\":\"\"},\"colorscale\":[[0.0,\"#0d0887\"],[0.1111111111111111,\"#46039f\"],[0.2222222222222222,\"#7201a8\"],[0.3333333333333333,\"#9c179e\"],[0.4444444444444444,\"#bd3786\"],[0.5555555555555556,\"#d8576b\"],[0.6666666666666666,\"#ed7953\"],[0.7777777777777778,\"#fb9f3a\"],[0.8888888888888888,\"#fdca26\"],[1.0,\"#f0f921\"]]}],\"heatmap\":[{\"type\":\"heatmap\",\"colorbar\":{\"outlinewidth\":0,\"ticks\":\"\"},\"colorscale\":[[0.0,\"#0d0887\"],[0.1111111111111111,\"#46039f\"],[0.2222222222222222,\"#7201a8\"],[0.3333333333333333,\"#9c179e\"],[0.4444444444444444,\"#bd3786\"],[0.5555555555555556,\"#d8576b\"],[0.6666666666666666,\"#ed7953\"],[0.7777777777777778,\"#fb9f3a\"],[0.8888888888888888,\"#fdca26\"],[1.0,\"#f0f921\"]]}],\"contourcarpet\":[{\"type\":\"contourcarpet\",\"colorbar\":{\"outlinewidth\":0,\"ticks\":\"\"}}],\"contour\":[{\"type\":\"contour\",\"colorbar\":{\"outlinewidth\":0,\"ticks\":\"\"},\"colorscale\":[[0.0,\"#0d0887\"],[0.1111111111111111,\"#46039f\"],[0.2222222222222222,\"#7201a8\"],[0.3333333333333333,\"#9c179e\"],[0.4444444444444444,\"#bd3786\"],[0.5555555555555556,\"#d8576b\"],[0.6666666666666666,\"#ed7953\"],[0.7777777777777778,\"#fb9f3a\"],[0.8888888888888888,\"#fdca26\"],[1.0,\"#f0f921\"]]}],\"surface\":[{\"type\":\"surface\",\"colorbar\":{\"outlinewidth\":0,\"ticks\":\"\"},\"colorscale\":[[0.0,\"#0d0887\"],[0.1111111111111111,\"#46039f\"],[0.2222222222222222,\"#7201a8\"],[0.3333333333333333,\"#9c179e\"],[0.4444444444444444,\"#bd3786\"],[0.5555555555555556,\"#d8576b\"],[0.6666666666666666,\"#ed7953\"],[0.7777777777777778,\"#fb9f3a\"],[0.8888888888888888,\"#fdca26\"],[1.0,\"#f0f921\"]]}],\"mesh3d\":[{\"type\":\"mesh3d\",\"colorbar\":{\"outlinewidth\":0,\"ticks\":\"\"}}],\"scatter\":[{\"fillpattern\":{\"fillmode\":\"overlay\",\"size\":10,\"solidity\":0.2},\"type\":\"scatter\"}],\"parcoords\":[{\"type\":\"parcoords\",\"line\":{\"colorbar\":{\"outlinewidth\":0,\"ticks\":\"\"}}}],\"scatterpolargl\":[{\"type\":\"scatterpolargl\",\"marker\":{\"colorbar\":{\"outlinewidth\":0,\"ticks\":\"\"}}}],\"bar\":[{\"error_x\":{\"color\":\"#2a3f5f\"},\"error_y\":{\"color\":\"#2a3f5f\"},\"marker\":{\"line\":{\"color\":\"#E5ECF6\",\"width\":0.5},\"pattern\":{\"fillmode\":\"overlay\",\"size\":10,\"solidity\":0.2}},\"type\":\"bar\"}],\"scattergeo\":[{\"type\":\"scattergeo\",\"marker\":{\"colorbar\":{\"outlinewidth\":0,\"ticks\":\"\"}}}],\"scatterpolar\":[{\"type\":\"scatterpolar\",\"marker\":{\"colorbar\":{\"outlinewidth\":0,\"ticks\":\"\"}}}],\"histogram\":[{\"marker\":{\"pattern\":{\"fillmode\":\"overlay\",\"size\":10,\"solidity\":0.2}},\"type\":\"histogram\"}],\"scattergl\":[{\"type\":\"scattergl\",\"marker\":{\"colorbar\":{\"outlinewidth\":0,\"ticks\":\"\"}}}],\"scatter3d\":[{\"type\":\"scatter3d\",\"line\":{\"colorbar\":{\"outlinewidth\":0,\"ticks\":\"\"}},\"marker\":{\"colorbar\":{\"outlinewidth\":0,\"ticks\":\"\"}}}],\"scattermap\":[{\"type\":\"scattermap\",\"marker\":{\"colorbar\":{\"outlinewidth\":0,\"ticks\":\"\"}}}],\"scattermapbox\":[{\"type\":\"scattermapbox\",\"marker\":{\"colorbar\":{\"outlinewidth\":0,\"ticks\":\"\"}}}],\"scatterternary\":[{\"type\":\"scatterternary\",\"marker\":{\"colorbar\":{\"outlinewidth\":0,\"ticks\":\"\"}}}],\"scattercarpet\":[{\"type\":\"scattercarpet\",\"marker\":{\"colorbar\":{\"outlinewidth\":0,\"ticks\":\"\"}}}],\"carpet\":[{\"aaxis\":{\"endlinecolor\":\"#2a3f5f\",\"gridcolor\":\"white\",\"linecolor\":\"white\",\"minorgridcolor\":\"white\",\"startlinecolor\":\"#2a3f5f\"},\"baxis\":{\"endlinecolor\":\"#2a3f5f\",\"gridcolor\":\"white\",\"linecolor\":\"white\",\"minorgridcolor\":\"white\",\"startlinecolor\":\"#2a3f5f\"},\"type\":\"carpet\"}],\"table\":[{\"cells\":{\"fill\":{\"color\":\"#EBF0F8\"},\"line\":{\"color\":\"white\"}},\"header\":{\"fill\":{\"color\":\"#C8D4E3\"},\"line\":{\"color\":\"white\"}},\"type\":\"table\"}],\"barpolar\":[{\"marker\":{\"line\":{\"color\":\"#E5ECF6\",\"width\":0.5},\"pattern\":{\"fillmode\":\"overlay\",\"size\":10,\"solidity\":0.2}},\"type\":\"barpolar\"}],\"pie\":[{\"automargin\":true,\"type\":\"pie\"}]},\"layout\":{\"autotypenumbers\":\"strict\",\"colorway\":[\"#636efa\",\"#EF553B\",\"#00cc96\",\"#ab63fa\",\"#FFA15A\",\"#19d3f3\",\"#FF6692\",\"#B6E880\",\"#FF97FF\",\"#FECB52\"],\"font\":{\"color\":\"#2a3f5f\"},\"hovermode\":\"closest\",\"hoverlabel\":{\"align\":\"left\"},\"paper_bgcolor\":\"white\",\"plot_bgcolor\":\"#E5ECF6\",\"polar\":{\"bgcolor\":\"#E5ECF6\",\"angularaxis\":{\"gridcolor\":\"white\",\"linecolor\":\"white\",\"ticks\":\"\"},\"radialaxis\":{\"gridcolor\":\"white\",\"linecolor\":\"white\",\"ticks\":\"\"}},\"ternary\":{\"bgcolor\":\"#E5ECF6\",\"aaxis\":{\"gridcolor\":\"white\",\"linecolor\":\"white\",\"ticks\":\"\"},\"baxis\":{\"gridcolor\":\"white\",\"linecolor\":\"white\",\"ticks\":\"\"},\"caxis\":{\"gridcolor\":\"white\",\"linecolor\":\"white\",\"ticks\":\"\"}},\"coloraxis\":{\"colorbar\":{\"outlinewidth\":0,\"ticks\":\"\"}},\"colorscale\":{\"sequential\":[[0.0,\"#0d0887\"],[0.1111111111111111,\"#46039f\"],[0.2222222222222222,\"#7201a8\"],[0.3333333333333333,\"#9c179e\"],[0.4444444444444444,\"#bd3786\"],[0.5555555555555556,\"#d8576b\"],[0.6666666666666666,\"#ed7953\"],[0.7777777777777778,\"#fb9f3a\"],[0.8888888888888888,\"#fdca26\"],[1.0,\"#f0f921\"]],\"sequentialminus\":[[0.0,\"#0d0887\"],[0.1111111111111111,\"#46039f\"],[0.2222222222222222,\"#7201a8\"],[0.3333333333333333,\"#9c179e\"],[0.4444444444444444,\"#bd3786\"],[0.5555555555555556,\"#d8576b\"],[0.6666666666666666,\"#ed7953\"],[0.7777777777777778,\"#fb9f3a\"],[0.8888888888888888,\"#fdca26\"],[1.0,\"#f0f921\"]],\"diverging\":[[0,\"#8e0152\"],[0.1,\"#c51b7d\"],[0.2,\"#de77ae\"],[0.3,\"#f1b6da\"],[0.4,\"#fde0ef\"],[0.5,\"#f7f7f7\"],[0.6,\"#e6f5d0\"],[0.7,\"#b8e186\"],[0.8,\"#7fbc41\"],[0.9,\"#4d9221\"],[1,\"#276419\"]]},\"xaxis\":{\"gridcolor\":\"white\",\"linecolor\":\"white\",\"ticks\":\"\",\"title\":{\"standoff\":15},\"zerolinecolor\":\"white\",\"automargin\":true,\"zerolinewidth\":2},\"yaxis\":{\"gridcolor\":\"white\",\"linecolor\":\"white\",\"ticks\":\"\",\"title\":{\"standoff\":15},\"zerolinecolor\":\"white\",\"automargin\":true,\"zerolinewidth\":2},\"scene\":{\"xaxis\":{\"backgroundcolor\":\"#E5ECF6\",\"gridcolor\":\"white\",\"linecolor\":\"white\",\"showbackground\":true,\"ticks\":\"\",\"zerolinecolor\":\"white\",\"gridwidth\":2},\"yaxis\":{\"backgroundcolor\":\"#E5ECF6\",\"gridcolor\":\"white\",\"linecolor\":\"white\",\"showbackground\":true,\"ticks\":\"\",\"zerolinecolor\":\"white\",\"gridwidth\":2},\"zaxis\":{\"backgroundcolor\":\"#E5ECF6\",\"gridcolor\":\"white\",\"linecolor\":\"white\",\"showbackground\":true,\"ticks\":\"\",\"zerolinecolor\":\"white\",\"gridwidth\":2}},\"shapedefaults\":{\"line\":{\"color\":\"#2a3f5f\"}},\"annotationdefaults\":{\"arrowcolor\":\"#2a3f5f\",\"arrowhead\":0,\"arrowwidth\":1},\"geo\":{\"bgcolor\":\"white\",\"landcolor\":\"#E5ECF6\",\"subunitcolor\":\"white\",\"showland\":true,\"showlakes\":true,\"lakecolor\":\"white\"},\"title\":{\"x\":0.05},\"mapbox\":{\"style\":\"light\"}}},\"xaxis\":{\"anchor\":\"y\",\"domain\":[0.0,1.0],\"title\":{\"text\":\"age_group\"}},\"yaxis\":{\"anchor\":\"x\",\"domain\":[0.0,1.0],\"title\":{\"text\":\"avg_time_in_gym\"}},\"legend\":{\"title\":{\"text\":\"gender\"},\"tracegroupgap\":0},\"margin\":{\"t\":60},\"boxmode\":\"group\"},                        {\"responsive\": true}                    ).then(function(){\n",
       "                            \n",
       "var gd = document.getElementById('5f643300-0f28-4abb-9491-abb402f5f301');\n",
       "var x = new MutationObserver(function (mutations, observer) {{\n",
       "        var display = window.getComputedStyle(gd).display;\n",
       "        if (!display || display === 'none') {{\n",
       "            console.log([gd, 'removed!']);\n",
       "            Plotly.purge(gd);\n",
       "            observer.disconnect();\n",
       "        }}\n",
       "}});\n",
       "\n",
       "// Listen for the removal of the full notebook cells\n",
       "var notebookContainer = gd.closest('#notebook-container');\n",
       "if (notebookContainer) {{\n",
       "    x.observe(notebookContainer, {childList: true});\n",
       "}}\n",
       "\n",
       "// Listen for the clearing of the current output cell\n",
       "var outputEl = gd.closest('.output');\n",
       "if (outputEl) {{\n",
       "    x.observe(outputEl, {childList: true});\n",
       "}}\n",
       "\n",
       "                        })                };            </script>        </div>"
      ]
     },
     "metadata": {},
     "output_type": "display_data"
    }
   ],
   "source": [
    "fig = px.box(data_frame=df,\n",
    "             x='age_group',\n",
    "             y='avg_time_in_gym',\n",
    "             color= 'gender')\n",
    "fig.update_traces(boxmean=True)\n"
   ]
  },
  {
   "cell_type": "code",
   "execution_count": 39,
   "id": "bd422a48",
   "metadata": {},
   "outputs": [
    {
     "data": {
      "text/html": [
       "<div>\n",
       "<style scoped>\n",
       "    .dataframe tbody tr th:only-of-type {\n",
       "        vertical-align: middle;\n",
       "    }\n",
       "\n",
       "    .dataframe tbody tr th {\n",
       "        vertical-align: top;\n",
       "    }\n",
       "\n",
       "    .dataframe thead th {\n",
       "        text-align: right;\n",
       "    }\n",
       "</style>\n",
       "<table border=\"1\" class=\"dataframe\">\n",
       "  <thead>\n",
       "    <tr style=\"text-align: right;\">\n",
       "      <th></th>\n",
       "      <th></th>\n",
       "      <th>abo_count</th>\n",
       "      <th>avg_time</th>\n",
       "      <th>week_mean_visits</th>\n",
       "    </tr>\n",
       "    <tr>\n",
       "      <th>gender</th>\n",
       "      <th>abonement_type</th>\n",
       "      <th></th>\n",
       "      <th></th>\n",
       "      <th></th>\n",
       "    </tr>\n",
       "  </thead>\n",
       "  <tbody>\n",
       "    <tr>\n",
       "      <th rowspan=\"2\" valign=\"top\">Female</th>\n",
       "      <th>Premium</th>\n",
       "      <td>242</td>\n",
       "      <td>104.871901</td>\n",
       "      <td>2.677686</td>\n",
       "    </tr>\n",
       "    <tr>\n",
       "      <th>Standard</th>\n",
       "      <td>261</td>\n",
       "      <td>107.597701</td>\n",
       "      <td>2.754789</td>\n",
       "    </tr>\n",
       "    <tr>\n",
       "      <th rowspan=\"2\" valign=\"top\">Male</th>\n",
       "      <th>Premium</th>\n",
       "      <td>251</td>\n",
       "      <td>104.944223</td>\n",
       "      <td>2.689243</td>\n",
       "    </tr>\n",
       "    <tr>\n",
       "      <th>Standard</th>\n",
       "      <td>246</td>\n",
       "      <td>103.483740</td>\n",
       "      <td>2.601626</td>\n",
       "    </tr>\n",
       "  </tbody>\n",
       "</table>\n",
       "</div>"
      ],
      "text/plain": [
       "                       abo_count    avg_time  week_mean_visits\n",
       "gender abonement_type                                         \n",
       "Female Premium               242  104.871901          2.677686\n",
       "       Standard              261  107.597701          2.754789\n",
       "Male   Premium               251  104.944223          2.689243\n",
       "       Standard              246  103.483740          2.601626"
      ]
     },
     "execution_count": 39,
     "metadata": {},
     "output_type": "execute_result"
    }
   ],
   "source": [
    "df.groupby(by=['gender','abonement_type']).agg(\n",
    "    abo_count = pd.NamedAgg(column='abonement_type', aggfunc='count'),\n",
    "    avg_time = pd.NamedAgg(column='avg_time_in_gym',aggfunc='mean'),\n",
    "    week_mean_visits = pd.NamedAgg(column='visit_per_week', aggfunc='mean')\n",
    "    )"
   ]
  },
  {
   "cell_type": "code",
   "execution_count": 40,
   "id": "fb1eccf2",
   "metadata": {},
   "outputs": [
    {
     "name": "stdout",
     "output_type": "stream",
     "text": [
      "Данные распределены не нормально\n",
      "\n",
      "U-критерий: 128515.5, p-value = 0.44086317913127515\n",
      "Связи между полом и avg_time нет\n"
     ]
    }
   ],
   "source": [
    "def t_test_fm(data, variable):\n",
    "#функция проверяет связь значения выбранной переменной и пола\n",
    "    group_f = data[data['gender']=='Female'][variable]\n",
    "    group_m = data[data['gender']=='Male'][variable]\n",
    "\n",
    "    groups = group_f, group_m\n",
    "    \n",
    "    result = {}\n",
    "    i=0\n",
    "    for group in groups: #проверка на нормальность\n",
    "        i+=1\n",
    "        shap, p_val = stats.shapiro(group)\n",
    "        result[f'group_{i}'] = [shap, p_val]\n",
    "        \n",
    "    \n",
    "    if (result['group_1'][1] > 0.05) & (result['group_1'][1] > 0.05):\n",
    "        print('Данные распределены нормально')\n",
    "        lev, p_lev = stats.levene(groups[0],groups[1])\n",
    "        if p_lev > 0.05: # проверка равенства дисперсий\n",
    "            print('Дисперсии в группах равны')\n",
    "            t_stat, p_val = stats.ttest_ind(groups[0],groups[1], equal_var=True)\n",
    "            print(f'\\nТ-Стьюдент: {t_stat}, p-value{p_val}')\n",
    "        else: \n",
    "            print('Дисперсии в группах не равны')\n",
    "            t_stat, p_val = stats.ttest_ind(groups[0],groups[1], equal_var=False)\n",
    "            print(f'\\nТ-Уэлч: {t_stat}, p-value{p_val}')\n",
    "    else:\n",
    "        u_stat, p_val = stats.mannwhitneyu(groups[0],groups[1])\n",
    "        print('Данные распределены не нормально')\n",
    "        print(f'\\nU-критерий: {u_stat}, p-value = {p_val}')\n",
    "        if p_val < 0.05:\n",
    "            print(f'Связь между полом и {variable} есть')\n",
    "        else:\n",
    "            print(f'Связи между полом и {variable} нет')\n",
    "\n",
    "t_test_fm(df_extended, 'avg_time')"
   ]
  },
  {
   "cell_type": "code",
   "execution_count": 41,
   "id": "8d7640c6",
   "metadata": {},
   "outputs": [
    {
     "name": "stdout",
     "output_type": "stream",
     "text": [
      "Данные распределены не нормально\n",
      "\n",
      "U-критерий: 123890.5, p-value = 0.8122580582653476\n",
      "Связи между типом абонемента и avg_time нет\n"
     ]
    }
   ],
   "source": [
    "def t_test_ps(data, variable):\n",
    "#функция проверяет связь значения выбранной переменной и типа абонемента\n",
    "    group_f = data[data['abonement_type']=='Premium'][variable]\n",
    "    group_m = data[data['abonement_type']=='Standard'][variable]\n",
    "\n",
    "    groups = group_f, group_m\n",
    "    \n",
    "    result = {}\n",
    "    i=0\n",
    "    for group in groups: #проверка на нормальность\n",
    "        i+=1\n",
    "        shap, p_val = stats.shapiro(group)\n",
    "        result[f'group_{i}'] = [shap, p_val]\n",
    "        \n",
    "    \n",
    "    if (result['group_1'][1] > 0.05) & (result['group_1'][1] > 0.05):\n",
    "        print('Данные распределены нормально')\n",
    "        lev, p_lev = stats.levene(groups[0],groups[1])\n",
    "        if p_lev > 0.05: # проверка равенства дисперсий\n",
    "            print('Дисперсии в группах равны')\n",
    "            t_stat, p_val = stats.ttest_ind(groups[0],groups[1], equal_var=True)\n",
    "            print(f'\\nТ-Стьюдент: {t_stat}, p-value{p_val}')\n",
    "        else: \n",
    "            print('Дисперсии в группах не равны')\n",
    "            t_stat, p_val = stats.ttest_ind(groups[0],groups[1], equal_var=False)\n",
    "            print(f'\\nТ-Уэлч: {t_stat}, p-value{p_val}')\n",
    "    else:\n",
    "        u_stat, p_val = stats.mannwhitneyu(groups[0],groups[1])\n",
    "        print('Данные распределены не нормально')\n",
    "        print(f'\\nU-критерий: {u_stat}, p-value = {p_val}')\n",
    "        if p_val < 0.05:\n",
    "            print(f'Связь между типом абонемента и {variable} есть')\n",
    "        else:\n",
    "            print(f'Связи между типом абонемента и {variable} нет')\n",
    "\n",
    "t_test_ps(df_extended, 'avg_time')"
   ]
  },
  {
   "cell_type": "code",
   "execution_count": 42,
   "id": "ac717cfb",
   "metadata": {},
   "outputs": [],
   "source": [
    "def categorize_time(time):\n",
    "    if pd.to_timedelta('05:00:00') <= time < pd.to_timedelta('12:00:00'):\n",
    "        return 'Утро'\n",
    "    elif pd.to_timedelta('12:00:00') <= time < pd.to_timedelta('18:00:00'):\n",
    "        return 'День'\n",
    "    else:\n",
    "        return 'Вечер/ночь'\n",
    "\n",
    "df_extended['check_in_cat'] = df['avg_time_check_in'].apply(categorize_time)\n"
   ]
  },
  {
   "cell_type": "code",
   "execution_count": 43,
   "id": "a08f752e",
   "metadata": {},
   "outputs": [
    {
     "name": "stdout",
     "output_type": "stream",
     "text": [
      "Хи2 = 4.575404487500084, P-value = 0.10149941503183635\n",
      "Связи между полом временем захода в зал нет, нет оснований отвергнуть нулевую гипотезу\n",
      "\n",
      "Наблюдаемые частоты:\n"
     ]
    },
    {
     "data": {
      "text/html": [
       "<div>\n",
       "<style scoped>\n",
       "    .dataframe tbody tr th:only-of-type {\n",
       "        vertical-align: middle;\n",
       "    }\n",
       "\n",
       "    .dataframe tbody tr th {\n",
       "        vertical-align: top;\n",
       "    }\n",
       "\n",
       "    .dataframe thead th {\n",
       "        text-align: right;\n",
       "    }\n",
       "</style>\n",
       "<table border=\"1\" class=\"dataframe\">\n",
       "  <thead>\n",
       "    <tr style=\"text-align: right;\">\n",
       "      <th>check_in_cat</th>\n",
       "      <th>Вечер/ночь</th>\n",
       "      <th>День</th>\n",
       "      <th>Утро</th>\n",
       "    </tr>\n",
       "    <tr>\n",
       "      <th>gender</th>\n",
       "      <th></th>\n",
       "      <th></th>\n",
       "      <th></th>\n",
       "    </tr>\n",
       "  </thead>\n",
       "  <tbody>\n",
       "    <tr>\n",
       "      <th>Female</th>\n",
       "      <td>103</td>\n",
       "      <td>217</td>\n",
       "      <td>183</td>\n",
       "    </tr>\n",
       "    <tr>\n",
       "      <th>Male</th>\n",
       "      <td>118</td>\n",
       "      <td>229</td>\n",
       "      <td>150</td>\n",
       "    </tr>\n",
       "  </tbody>\n",
       "</table>\n",
       "</div>"
      ],
      "text/plain": [
       "check_in_cat  Вечер/ночь  День  Утро\n",
       "gender                              \n",
       "Female               103   217   183\n",
       "Male                 118   229   150"
      ]
     },
     "metadata": {},
     "output_type": "display_data"
    }
   ],
   "source": [
    "cross = pd.crosstab(df_extended['gender'],df_extended['check_in_cat'])\n",
    "\n",
    "chi_2, p_val, dof, exp = stats.chi2_contingency(cross) \n",
    "print(f'Хи2 = {chi_2}, P-value = {p_val}')\n",
    "if p_val >= 0.05:\n",
    "    print('Связи между полом временем захода в зал нет, нет оснований отвергнуть нулевую гипотезу')\n",
    "    print('\\nНаблюдаемые частоты:')\n",
    "    display(cross)\n",
    "else:\n",
    "    print('Есть связь между переменными')\n",
    "    px.density_heatmap(cross)"
   ]
  },
  {
   "cell_type": "code",
   "execution_count": 44,
   "id": "4a9ffd75",
   "metadata": {},
   "outputs": [],
   "source": [
    "df_extended['check_in_hour'] = df_extended['check_in'].dt.total_seconds() / 3600"
   ]
  },
  {
   "cell_type": "code",
   "execution_count": 45,
   "id": "6744576f",
   "metadata": {},
   "outputs": [
    {
     "name": "stdout",
     "output_type": "stream",
     "text": [
      "Данные распределены не нормально\n",
      "\n",
      "U-критерий: 115918.5, p-value = 0.04685491517061679\n",
      "Связь между полом и check_in_hour есть\n"
     ]
    }
   ],
   "source": [
    "t_test_fm(df_extended, 'check_in_hour')"
   ]
  },
  {
   "cell_type": "code",
   "execution_count": 46,
   "id": "55628e93",
   "metadata": {},
   "outputs": [
    {
     "data": {
      "application/vnd.plotly.v1+json": {
       "config": {
        "plotlyServerURL": "https://plot.ly"
       },
       "data": [
        {
         "alignmentgroup": "True",
         "boxmean": true,
         "hovertemplate": "gender=%{x}<br>check_in_hour=%{y}<extra></extra>",
         "legendgroup": "",
         "marker": {
          "color": "#636efa"
         },
         "name": "",
         "notched": false,
         "offsetgroup": "",
         "orientation": "v",
         "showlegend": false,
         "type": "box",
         "x": [
          "Female",
          "Female",
          "Male",
          "Male",
          "Male",
          "Female",
          "Male",
          "Male",
          "Male",
          "Female",
          "Male",
          "Male",
          "Female",
          "Female",
          "Female",
          "Female",
          "Male",
          "Female",
          "Female",
          "Male",
          "Female",
          "Male",
          "Female",
          "Male",
          "Female",
          "Male",
          "Male",
          "Male",
          "Female",
          "Female",
          "Male",
          "Male",
          "Female",
          "Female",
          "Male",
          "Male",
          "Female",
          "Female",
          "Male",
          "Female",
          "Female",
          "Female",
          "Female",
          "Female",
          "Male",
          "Female",
          "Male",
          "Male",
          "Female",
          "Female",
          "Male",
          "Male",
          "Female",
          "Female",
          "Male",
          "Male",
          "Female",
          "Male",
          "Male",
          "Female",
          "Female",
          "Female",
          "Male",
          "Female",
          "Female",
          "Female",
          "Female",
          "Male",
          "Male",
          "Female",
          "Male",
          "Male",
          "Male",
          "Male",
          "Female",
          "Male",
          "Female",
          "Male",
          "Female",
          "Female",
          "Male",
          "Male",
          "Male",
          "Male",
          "Female",
          "Female",
          "Male",
          "Female",
          "Female",
          "Female",
          "Female",
          "Male",
          "Female",
          "Female",
          "Female",
          "Male",
          "Male",
          "Male",
          "Female",
          "Female",
          "Male",
          "Female",
          "Male",
          "Female",
          "Female",
          "Male",
          "Female",
          "Female",
          "Female",
          "Female",
          "Female",
          "Male",
          "Female",
          "Female",
          "Female",
          "Male",
          "Male",
          "Male",
          "Male",
          "Female",
          "Female",
          "Female",
          "Female",
          "Female",
          "Male",
          "Male",
          "Female",
          "Female",
          "Male",
          "Male",
          "Male",
          "Male",
          "Male",
          "Female",
          "Female",
          "Female",
          "Female",
          "Male",
          "Female",
          "Female",
          "Male",
          "Female",
          "Female",
          "Male",
          "Female",
          "Female",
          "Male",
          "Male",
          "Male",
          "Male",
          "Male",
          "Male",
          "Male",
          "Male",
          "Male",
          "Female",
          "Female",
          "Male",
          "Female",
          "Female",
          "Female",
          "Male",
          "Male",
          "Male",
          "Male",
          "Male",
          "Female",
          "Male",
          "Female",
          "Male",
          "Female",
          "Female",
          "Male",
          "Male",
          "Male",
          "Male",
          "Female",
          "Male",
          "Female",
          "Male",
          "Male",
          "Female",
          "Male",
          "Male",
          "Male",
          "Female",
          "Male",
          "Female",
          "Male",
          "Male",
          "Male",
          "Female",
          "Female",
          "Female",
          "Male",
          "Male",
          "Male",
          "Male",
          "Female",
          "Male",
          "Male",
          "Male",
          "Female",
          "Male",
          "Male",
          "Male",
          "Male",
          "Male",
          "Male",
          "Male",
          "Female",
          "Male",
          "Male",
          "Female",
          "Female",
          "Male",
          "Male",
          "Female",
          "Male",
          "Male",
          "Male",
          "Male",
          "Male",
          "Female",
          "Male",
          "Male",
          "Female",
          "Male",
          "Male",
          "Male",
          "Male",
          "Male",
          "Female",
          "Female",
          "Female",
          "Female",
          "Female",
          "Female",
          "Male",
          "Male",
          "Female",
          "Male",
          "Female",
          "Female",
          "Male",
          "Female",
          "Male",
          "Female",
          "Female",
          "Male",
          "Male",
          "Female",
          "Male",
          "Male",
          "Male",
          "Female",
          "Male",
          "Male",
          "Female",
          "Female",
          "Male",
          "Female",
          "Female",
          "Male",
          "Female",
          "Female",
          "Female",
          "Male",
          "Male",
          "Male",
          "Male",
          "Male",
          "Male",
          "Female",
          "Male",
          "Male",
          "Female",
          "Male",
          "Female",
          "Male",
          "Male",
          "Male",
          "Female",
          "Female",
          "Male",
          "Male",
          "Male",
          "Male",
          "Female",
          "Female",
          "Female",
          "Male",
          "Female",
          "Female",
          "Male",
          "Female",
          "Male",
          "Female",
          "Female",
          "Male",
          "Female",
          "Male",
          "Female",
          "Male",
          "Male",
          "Male",
          "Female",
          "Female",
          "Male",
          "Male",
          "Female",
          "Male",
          "Male",
          "Male",
          "Male",
          "Male",
          "Male",
          "Male",
          "Male",
          "Female",
          "Male",
          "Male",
          "Male",
          "Female",
          "Male",
          "Female",
          "Female",
          "Female",
          "Male",
          "Female",
          "Female",
          "Female",
          "Male",
          "Male",
          "Female",
          "Female",
          "Male",
          "Male",
          "Female",
          "Male",
          "Female",
          "Male",
          "Female",
          "Female",
          "Male",
          "Female",
          "Female",
          "Male",
          "Female",
          "Female",
          "Male",
          "Female",
          "Female",
          "Female",
          "Male",
          "Male",
          "Female",
          "Female",
          "Female",
          "Female",
          "Female",
          "Female",
          "Male",
          "Female",
          "Female",
          "Male",
          "Female",
          "Male",
          "Male",
          "Female",
          "Male",
          "Female",
          "Female",
          "Female",
          "Male",
          "Female",
          "Male",
          "Male",
          "Female",
          "Male",
          "Male",
          "Male",
          "Female",
          "Female",
          "Female",
          "Male",
          "Male",
          "Male",
          "Female",
          "Female",
          "Female",
          "Female",
          "Female",
          "Female",
          "Female",
          "Female",
          "Female",
          "Female",
          "Male",
          "Male",
          "Female",
          "Female",
          "Female",
          "Female",
          "Male",
          "Female",
          "Female",
          "Male",
          "Female",
          "Male",
          "Female",
          "Male",
          "Male",
          "Female",
          "Female",
          "Male",
          "Female",
          "Female",
          "Female",
          "Male",
          "Female",
          "Female",
          "Female",
          "Female",
          "Male",
          "Female",
          "Male",
          "Female",
          "Male",
          "Female",
          "Male",
          "Male",
          "Female",
          "Female",
          "Female",
          "Male",
          "Male",
          "Male",
          "Male",
          "Male",
          "Female",
          "Female",
          "Female",
          "Male",
          "Female",
          "Female",
          "Male",
          "Female",
          "Female",
          "Male",
          "Female",
          "Female",
          "Female",
          "Female",
          "Female",
          "Male",
          "Female",
          "Female",
          "Male",
          "Female",
          "Male",
          "Male",
          "Female",
          "Female",
          "Female",
          "Female",
          "Male",
          "Female",
          "Male",
          "Male",
          "Female",
          "Male",
          "Male",
          "Male",
          "Male",
          "Male",
          "Female",
          "Female",
          "Male",
          "Male",
          "Female",
          "Male",
          "Female",
          "Male",
          "Male",
          "Male",
          "Female",
          "Male",
          "Male",
          "Female",
          "Female",
          "Male",
          "Female",
          "Female",
          "Male",
          "Male",
          "Female",
          "Male",
          "Female",
          "Male",
          "Male",
          "Male",
          "Female",
          "Female",
          "Male",
          "Female",
          "Female",
          "Male",
          "Female",
          "Male",
          "Male",
          "Male",
          "Male",
          "Female",
          "Female",
          "Female",
          "Male",
          "Male",
          "Male",
          "Female",
          "Female",
          "Female",
          "Female",
          "Female",
          "Female",
          "Male",
          "Female",
          "Female",
          "Male",
          "Female",
          "Male",
          "Male",
          "Female",
          "Male",
          "Male",
          "Male",
          "Female",
          "Male",
          "Male",
          "Male",
          "Male",
          "Female",
          "Female",
          "Female",
          "Female",
          "Female",
          "Male",
          "Female",
          "Male",
          "Female",
          "Female",
          "Female",
          "Male",
          "Female",
          "Male",
          "Female",
          "Female",
          "Male",
          "Female",
          "Female",
          "Female",
          "Female",
          "Female",
          "Female",
          "Male",
          "Female",
          "Female",
          "Female",
          "Male",
          "Male",
          "Female",
          "Female",
          "Male",
          "Female",
          "Female",
          "Male",
          "Female",
          "Male",
          "Male",
          "Male",
          "Male",
          "Female",
          "Female",
          "Male",
          "Female",
          "Male",
          "Male",
          "Male",
          "Male",
          "Male",
          "Male",
          "Female",
          "Female",
          "Male",
          "Male",
          "Male",
          "Male",
          "Female",
          "Male",
          "Male",
          "Female",
          "Male",
          "Male",
          "Female",
          "Male",
          "Male",
          "Female",
          "Female",
          "Female",
          "Female",
          "Female",
          "Female",
          "Male",
          "Male",
          "Male",
          "Male",
          "Male",
          "Male",
          "Male",
          "Female",
          "Male",
          "Female",
          "Female",
          "Male",
          "Female",
          "Male",
          "Female",
          "Male",
          "Male",
          "Male",
          "Female",
          "Male",
          "Female",
          "Female",
          "Female",
          "Female",
          "Male",
          "Female",
          "Female",
          "Female",
          "Female",
          "Female",
          "Male",
          "Female",
          "Male",
          "Male",
          "Male",
          "Female",
          "Female",
          "Male",
          "Male",
          "Male",
          "Male",
          "Male",
          "Male",
          "Male",
          "Male",
          "Male",
          "Female",
          "Male",
          "Male",
          "Male",
          "Female",
          "Female",
          "Female",
          "Female",
          "Male",
          "Female",
          "Female",
          "Female",
          "Male",
          "Male",
          "Female",
          "Male",
          "Female",
          "Female",
          "Female",
          "Female",
          "Male",
          "Male",
          "Female",
          "Male",
          "Male",
          "Female",
          "Male",
          "Female",
          "Male",
          "Male",
          "Female",
          "Male",
          "Male",
          "Female",
          "Female",
          "Female",
          "Female",
          "Female",
          "Male",
          "Male",
          "Male",
          "Female",
          "Female",
          "Male",
          "Male",
          "Male",
          "Male",
          "Female",
          "Male",
          "Male",
          "Male",
          "Female",
          "Female",
          "Male",
          "Male",
          "Female",
          "Male",
          "Female",
          "Male",
          "Male",
          "Male",
          "Male",
          "Male",
          "Male",
          "Male",
          "Male",
          "Female",
          "Male",
          "Male",
          "Female",
          "Male",
          "Male",
          "Female",
          "Female",
          "Male",
          "Male",
          "Female",
          "Male",
          "Male",
          "Female",
          "Female",
          "Female",
          "Male",
          "Male",
          "Male",
          "Male",
          "Female",
          "Male",
          "Male",
          "Male",
          "Female",
          "Female",
          "Female",
          "Female",
          "Female",
          "Female",
          "Female",
          "Male",
          "Male",
          "Female",
          "Male",
          "Male",
          "Male",
          "Female",
          "Female",
          "Male",
          "Male",
          "Female",
          "Male",
          "Male",
          "Female",
          "Male",
          "Female",
          "Female",
          "Male",
          "Male",
          "Female",
          "Male",
          "Female",
          "Male",
          "Female",
          "Female",
          "Male",
          "Female",
          "Male",
          "Female",
          "Female",
          "Female",
          "Female",
          "Male",
          "Female",
          "Male",
          "Female",
          "Female",
          "Male",
          "Female",
          "Male",
          "Female",
          "Male",
          "Male",
          "Female",
          "Female",
          "Female",
          "Female",
          "Female",
          "Male",
          "Female",
          "Female",
          "Female",
          "Female",
          "Female",
          "Male",
          "Male",
          "Male",
          "Male",
          "Female",
          "Female",
          "Male",
          "Female",
          "Male",
          "Female",
          "Female",
          "Female",
          "Male",
          "Female",
          "Female",
          "Male",
          "Female",
          "Male",
          "Female",
          "Male",
          "Male",
          "Male",
          "Female",
          "Female",
          "Male",
          "Female",
          "Female",
          "Male",
          "Male",
          "Female",
          "Female",
          "Female",
          "Female",
          "Female",
          "Male",
          "Male",
          "Male",
          "Male",
          "Male",
          "Female",
          "Male",
          "Female",
          "Female",
          "Male",
          "Female",
          "Male",
          "Female",
          "Female",
          "Female",
          "Male",
          "Female",
          "Female",
          "Male",
          "Male",
          "Male",
          "Male",
          "Female",
          "Female",
          "Female",
          "Female",
          "Male",
          "Female",
          "Male",
          "Male",
          "Female",
          "Male",
          "Female",
          "Male",
          "Female",
          "Female",
          "Female",
          "Male",
          "Female",
          "Female",
          "Male",
          "Female",
          "Female",
          "Male",
          "Female",
          "Male",
          "Male",
          "Male",
          "Male",
          "Male",
          "Female",
          "Male",
          "Female",
          "Female",
          "Female",
          "Male",
          "Female",
          "Female",
          "Female",
          "Female",
          "Female",
          "Female",
          "Male",
          "Male",
          "Female",
          "Male",
          "Male",
          "Female",
          "Female",
          "Male",
          "Male",
          "Female",
          "Male",
          "Male",
          "Female",
          "Male",
          "Female",
          "Female",
          "Female",
          "Female",
          "Male",
          "Female",
          "Male",
          "Male",
          "Female",
          "Male",
          "Female",
          "Female",
          "Male",
          "Female",
          "Female",
          "Female",
          "Male",
          "Male",
          "Male",
          "Female",
          "Female",
          "Male",
          "Male",
          "Male",
          "Female",
          "Female",
          "Male",
          "Female",
          "Female",
          "Male",
          "Female",
          "Female",
          "Male",
          "Female",
          "Male",
          "Male",
          "Female",
          "Female",
          "Female",
          "Female",
          "Female",
          "Female",
          "Female",
          "Male",
          "Male",
          "Male",
          "Male",
          "Female",
          "Female",
          "Male",
          "Male",
          "Female",
          "Male",
          "Male",
          "Female",
          "Male",
          "Female",
          "Male",
          "Male",
          "Male",
          "Male",
          "Female",
          "Female",
          "Male",
          "Male",
          "Female",
          "Male",
          "Female",
          "Male",
          "Female",
          "Male",
          "Female",
          "Male",
          "Female",
          "Male",
          "Female",
          "Female",
          "Female",
          "Male",
          "Male",
          "Female"
         ],
         "x0": " ",
         "xaxis": "x",
         "y": {
          "bdata": "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",
          "dtype": "f8"
         },
         "y0": " ",
         "yaxis": "y"
        }
       ],
       "layout": {
        "boxmode": "group",
        "legend": {
         "tracegroupgap": 0
        },
        "margin": {
         "t": 60
        },
        "template": {
         "data": {
          "bar": [
           {
            "error_x": {
             "color": "#2a3f5f"
            },
            "error_y": {
             "color": "#2a3f5f"
            },
            "marker": {
             "line": {
              "color": "#E5ECF6",
              "width": 0.5
             },
             "pattern": {
              "fillmode": "overlay",
              "size": 10,
              "solidity": 0.2
             }
            },
            "type": "bar"
           }
          ],
          "barpolar": [
           {
            "marker": {
             "line": {
              "color": "#E5ECF6",
              "width": 0.5
             },
             "pattern": {
              "fillmode": "overlay",
              "size": 10,
              "solidity": 0.2
             }
            },
            "type": "barpolar"
           }
          ],
          "carpet": [
           {
            "aaxis": {
             "endlinecolor": "#2a3f5f",
             "gridcolor": "white",
             "linecolor": "white",
             "minorgridcolor": "white",
             "startlinecolor": "#2a3f5f"
            },
            "baxis": {
             "endlinecolor": "#2a3f5f",
             "gridcolor": "white",
             "linecolor": "white",
             "minorgridcolor": "white",
             "startlinecolor": "#2a3f5f"
            },
            "type": "carpet"
           }
          ],
          "choropleth": [
           {
            "colorbar": {
             "outlinewidth": 0,
             "ticks": ""
            },
            "type": "choropleth"
           }
          ],
          "contour": [
           {
            "colorbar": {
             "outlinewidth": 0,
             "ticks": ""
            },
            "colorscale": [
             [
              0,
              "#0d0887"
             ],
             [
              0.1111111111111111,
              "#46039f"
             ],
             [
              0.2222222222222222,
              "#7201a8"
             ],
             [
              0.3333333333333333,
              "#9c179e"
             ],
             [
              0.4444444444444444,
              "#bd3786"
             ],
             [
              0.5555555555555556,
              "#d8576b"
             ],
             [
              0.6666666666666666,
              "#ed7953"
             ],
             [
              0.7777777777777778,
              "#fb9f3a"
             ],
             [
              0.8888888888888888,
              "#fdca26"
             ],
             [
              1,
              "#f0f921"
             ]
            ],
            "type": "contour"
           }
          ],
          "contourcarpet": [
           {
            "colorbar": {
             "outlinewidth": 0,
             "ticks": ""
            },
            "type": "contourcarpet"
           }
          ],
          "heatmap": [
           {
            "colorbar": {
             "outlinewidth": 0,
             "ticks": ""
            },
            "colorscale": [
             [
              0,
              "#0d0887"
             ],
             [
              0.1111111111111111,
              "#46039f"
             ],
             [
              0.2222222222222222,
              "#7201a8"
             ],
             [
              0.3333333333333333,
              "#9c179e"
             ],
             [
              0.4444444444444444,
              "#bd3786"
             ],
             [
              0.5555555555555556,
              "#d8576b"
             ],
             [
              0.6666666666666666,
              "#ed7953"
             ],
             [
              0.7777777777777778,
              "#fb9f3a"
             ],
             [
              0.8888888888888888,
              "#fdca26"
             ],
             [
              1,
              "#f0f921"
             ]
            ],
            "type": "heatmap"
           }
          ],
          "histogram": [
           {
            "marker": {
             "pattern": {
              "fillmode": "overlay",
              "size": 10,
              "solidity": 0.2
             }
            },
            "type": "histogram"
           }
          ],
          "histogram2d": [
           {
            "colorbar": {
             "outlinewidth": 0,
             "ticks": ""
            },
            "colorscale": [
             [
              0,
              "#0d0887"
             ],
             [
              0.1111111111111111,
              "#46039f"
             ],
             [
              0.2222222222222222,
              "#7201a8"
             ],
             [
              0.3333333333333333,
              "#9c179e"
             ],
             [
              0.4444444444444444,
              "#bd3786"
             ],
             [
              0.5555555555555556,
              "#d8576b"
             ],
             [
              0.6666666666666666,
              "#ed7953"
             ],
             [
              0.7777777777777778,
              "#fb9f3a"
             ],
             [
              0.8888888888888888,
              "#fdca26"
             ],
             [
              1,
              "#f0f921"
             ]
            ],
            "type": "histogram2d"
           }
          ],
          "histogram2dcontour": [
           {
            "colorbar": {
             "outlinewidth": 0,
             "ticks": ""
            },
            "colorscale": [
             [
              0,
              "#0d0887"
             ],
             [
              0.1111111111111111,
              "#46039f"
             ],
             [
              0.2222222222222222,
              "#7201a8"
             ],
             [
              0.3333333333333333,
              "#9c179e"
             ],
             [
              0.4444444444444444,
              "#bd3786"
             ],
             [
              0.5555555555555556,
              "#d8576b"
             ],
             [
              0.6666666666666666,
              "#ed7953"
             ],
             [
              0.7777777777777778,
              "#fb9f3a"
             ],
             [
              0.8888888888888888,
              "#fdca26"
             ],
             [
              1,
              "#f0f921"
             ]
            ],
            "type": "histogram2dcontour"
           }
          ],
          "mesh3d": [
           {
            "colorbar": {
             "outlinewidth": 0,
             "ticks": ""
            },
            "type": "mesh3d"
           }
          ],
          "parcoords": [
           {
            "line": {
             "colorbar": {
              "outlinewidth": 0,
              "ticks": ""
             }
            },
            "type": "parcoords"
           }
          ],
          "pie": [
           {
            "automargin": true,
            "type": "pie"
           }
          ],
          "scatter": [
           {
            "fillpattern": {
             "fillmode": "overlay",
             "size": 10,
             "solidity": 0.2
            },
            "type": "scatter"
           }
          ],
          "scatter3d": [
           {
            "line": {
             "colorbar": {
              "outlinewidth": 0,
              "ticks": ""
             }
            },
            "marker": {
             "colorbar": {
              "outlinewidth": 0,
              "ticks": ""
             }
            },
            "type": "scatter3d"
           }
          ],
          "scattercarpet": [
           {
            "marker": {
             "colorbar": {
              "outlinewidth": 0,
              "ticks": ""
             }
            },
            "type": "scattercarpet"
           }
          ],
          "scattergeo": [
           {
            "marker": {
             "colorbar": {
              "outlinewidth": 0,
              "ticks": ""
             }
            },
            "type": "scattergeo"
           }
          ],
          "scattergl": [
           {
            "marker": {
             "colorbar": {
              "outlinewidth": 0,
              "ticks": ""
             }
            },
            "type": "scattergl"
           }
          ],
          "scattermap": [
           {
            "marker": {
             "colorbar": {
              "outlinewidth": 0,
              "ticks": ""
             }
            },
            "type": "scattermap"
           }
          ],
          "scattermapbox": [
           {
            "marker": {
             "colorbar": {
              "outlinewidth": 0,
              "ticks": ""
             }
            },
            "type": "scattermapbox"
           }
          ],
          "scatterpolar": [
           {
            "marker": {
             "colorbar": {
              "outlinewidth": 0,
              "ticks": ""
             }
            },
            "type": "scatterpolar"
           }
          ],
          "scatterpolargl": [
           {
            "marker": {
             "colorbar": {
              "outlinewidth": 0,
              "ticks": ""
             }
            },
            "type": "scatterpolargl"
           }
          ],
          "scatterternary": [
           {
            "marker": {
             "colorbar": {
              "outlinewidth": 0,
              "ticks": ""
             }
            },
            "type": "scatterternary"
           }
          ],
          "surface": [
           {
            "colorbar": {
             "outlinewidth": 0,
             "ticks": ""
            },
            "colorscale": [
             [
              0,
              "#0d0887"
             ],
             [
              0.1111111111111111,
              "#46039f"
             ],
             [
              0.2222222222222222,
              "#7201a8"
             ],
             [
              0.3333333333333333,
              "#9c179e"
             ],
             [
              0.4444444444444444,
              "#bd3786"
             ],
             [
              0.5555555555555556,
              "#d8576b"
             ],
             [
              0.6666666666666666,
              "#ed7953"
             ],
             [
              0.7777777777777778,
              "#fb9f3a"
             ],
             [
              0.8888888888888888,
              "#fdca26"
             ],
             [
              1,
              "#f0f921"
             ]
            ],
            "type": "surface"
           }
          ],
          "table": [
           {
            "cells": {
             "fill": {
              "color": "#EBF0F8"
             },
             "line": {
              "color": "white"
             }
            },
            "header": {
             "fill": {
              "color": "#C8D4E3"
             },
             "line": {
              "color": "white"
             }
            },
            "type": "table"
           }
          ]
         },
         "layout": {
          "annotationdefaults": {
           "arrowcolor": "#2a3f5f",
           "arrowhead": 0,
           "arrowwidth": 1
          },
          "autotypenumbers": "strict",
          "coloraxis": {
           "colorbar": {
            "outlinewidth": 0,
            "ticks": ""
           }
          },
          "colorscale": {
           "diverging": [
            [
             0,
             "#8e0152"
            ],
            [
             0.1,
             "#c51b7d"
            ],
            [
             0.2,
             "#de77ae"
            ],
            [
             0.3,
             "#f1b6da"
            ],
            [
             0.4,
             "#fde0ef"
            ],
            [
             0.5,
             "#f7f7f7"
            ],
            [
             0.6,
             "#e6f5d0"
            ],
            [
             0.7,
             "#b8e186"
            ],
            [
             0.8,
             "#7fbc41"
            ],
            [
             0.9,
             "#4d9221"
            ],
            [
             1,
             "#276419"
            ]
           ],
           "sequential": [
            [
             0,
             "#0d0887"
            ],
            [
             0.1111111111111111,
             "#46039f"
            ],
            [
             0.2222222222222222,
             "#7201a8"
            ],
            [
             0.3333333333333333,
             "#9c179e"
            ],
            [
             0.4444444444444444,
             "#bd3786"
            ],
            [
             0.5555555555555556,
             "#d8576b"
            ],
            [
             0.6666666666666666,
             "#ed7953"
            ],
            [
             0.7777777777777778,
             "#fb9f3a"
            ],
            [
             0.8888888888888888,
             "#fdca26"
            ],
            [
             1,
             "#f0f921"
            ]
           ],
           "sequentialminus": [
            [
             0,
             "#0d0887"
            ],
            [
             0.1111111111111111,
             "#46039f"
            ],
            [
             0.2222222222222222,
             "#7201a8"
            ],
            [
             0.3333333333333333,
             "#9c179e"
            ],
            [
             0.4444444444444444,
             "#bd3786"
            ],
            [
             0.5555555555555556,
             "#d8576b"
            ],
            [
             0.6666666666666666,
             "#ed7953"
            ],
            [
             0.7777777777777778,
             "#fb9f3a"
            ],
            [
             0.8888888888888888,
             "#fdca26"
            ],
            [
             1,
             "#f0f921"
            ]
           ]
          },
          "colorway": [
           "#636efa",
           "#EF553B",
           "#00cc96",
           "#ab63fa",
           "#FFA15A",
           "#19d3f3",
           "#FF6692",
           "#B6E880",
           "#FF97FF",
           "#FECB52"
          ],
          "font": {
           "color": "#2a3f5f"
          },
          "geo": {
           "bgcolor": "white",
           "lakecolor": "white",
           "landcolor": "#E5ECF6",
           "showlakes": true,
           "showland": true,
           "subunitcolor": "white"
          },
          "hoverlabel": {
           "align": "left"
          },
          "hovermode": "closest",
          "mapbox": {
           "style": "light"
          },
          "paper_bgcolor": "white",
          "plot_bgcolor": "#E5ECF6",
          "polar": {
           "angularaxis": {
            "gridcolor": "white",
            "linecolor": "white",
            "ticks": ""
           },
           "bgcolor": "#E5ECF6",
           "radialaxis": {
            "gridcolor": "white",
            "linecolor": "white",
            "ticks": ""
           }
          },
          "scene": {
           "xaxis": {
            "backgroundcolor": "#E5ECF6",
            "gridcolor": "white",
            "gridwidth": 2,
            "linecolor": "white",
            "showbackground": true,
            "ticks": "",
            "zerolinecolor": "white"
           },
           "yaxis": {
            "backgroundcolor": "#E5ECF6",
            "gridcolor": "white",
            "gridwidth": 2,
            "linecolor": "white",
            "showbackground": true,
            "ticks": "",
            "zerolinecolor": "white"
           },
           "zaxis": {
            "backgroundcolor": "#E5ECF6",
            "gridcolor": "white",
            "gridwidth": 2,
            "linecolor": "white",
            "showbackground": true,
            "ticks": "",
            "zerolinecolor": "white"
           }
          },
          "shapedefaults": {
           "line": {
            "color": "#2a3f5f"
           }
          },
          "ternary": {
           "aaxis": {
            "gridcolor": "white",
            "linecolor": "white",
            "ticks": ""
           },
           "baxis": {
            "gridcolor": "white",
            "linecolor": "white",
            "ticks": ""
           },
           "bgcolor": "#E5ECF6",
           "caxis": {
            "gridcolor": "white",
            "linecolor": "white",
            "ticks": ""
           }
          },
          "title": {
           "x": 0.05
          },
          "xaxis": {
           "automargin": true,
           "gridcolor": "white",
           "linecolor": "white",
           "ticks": "",
           "title": {
            "standoff": 15
           },
           "zerolinecolor": "white",
           "zerolinewidth": 2
          },
          "yaxis": {
           "automargin": true,
           "gridcolor": "white",
           "linecolor": "white",
           "ticks": "",
           "title": {
            "standoff": 15
           },
           "zerolinecolor": "white",
           "zerolinewidth": 2
          }
         }
        },
        "xaxis": {
         "anchor": "y",
         "domain": [
          0,
          1
         ],
         "title": {
          "text": "gender"
         }
        },
        "yaxis": {
         "anchor": "x",
         "domain": [
          0,
          1
         ],
         "title": {
          "text": "check_in_hour"
         }
        }
       }
      },
      "text/html": [
       "<div>            <script src=\"https://cdnjs.cloudflare.com/ajax/libs/mathjax/2.7.5/MathJax.js?config=TeX-AMS-MML_SVG\"></script><script type=\"text/javascript\">if (window.MathJax && window.MathJax.Hub && window.MathJax.Hub.Config) {window.MathJax.Hub.Config({SVG: {font: \"STIX-Web\"}});}</script>                <script type=\"text/javascript\">window.PlotlyConfig = {MathJaxConfig: 'local'};</script>\n",
       "        <script charset=\"utf-8\" src=\"https://cdn.plot.ly/plotly-3.0.1.min.js\"></script>                <div id=\"93711ed1-3ded-4af0-b184-7b35c7027858\" class=\"plotly-graph-div\" style=\"height:525px; width:100%;\"></div>            <script type=\"text/javascript\">                window.PLOTLYENV=window.PLOTLYENV || {};                                if (document.getElementById(\"93711ed1-3ded-4af0-b184-7b35c7027858\")) {                    Plotly.newPlot(                        \"93711ed1-3ded-4af0-b184-7b35c7027858\",                        [{\"alignmentgroup\":\"True\",\"hovertemplate\":\"gender=%{x}\\u003cbr\\u003echeck_in_hour=%{y}\\u003cextra\\u003e\\u003c\\u002fextra\\u003e\",\"legendgroup\":\"\",\"marker\":{\"color\":\"#636efa\"},\"name\":\"\",\"notched\":false,\"offsetgroup\":\"\",\"orientation\":\"v\",\"showlegend\":false,\"x\":[\"Female\",\"Female\",\"Male\",\"Male\",\"Male\",\"Female\",\"Male\",\"Male\",\"Male\",\"Female\",\"Male\",\"Male\",\"Female\",\"Female\",\"Female\",\"Female\",\"Male\",\"Female\",\"Female\",\"Male\",\"Female\",\"Male\",\"Female\",\"Male\",\"Female\",\"Male\",\"Male\",\"Male\",\"Female\",\"Female\",\"Male\",\"Male\",\"Female\",\"Female\",\"Male\",\"Male\",\"Female\",\"Female\",\"Male\",\"Female\",\"Female\",\"Female\",\"Female\",\"Female\",\"Male\",\"Female\",\"Male\",\"Male\",\"Female\",\"Female\",\"Male\",\"Male\",\"Female\",\"Female\",\"Male\",\"Male\",\"Female\",\"Male\",\"Male\",\"Female\",\"Female\",\"Female\",\"Male\",\"Female\",\"Female\",\"Female\",\"Female\",\"Male\",\"Male\",\"Female\",\"Male\",\"Male\",\"Male\",\"Male\",\"Female\",\"Male\",\"Female\",\"Male\",\"Female\",\"Female\",\"Male\",\"Male\",\"Male\",\"Male\",\"Female\",\"Female\",\"Male\",\"Female\",\"Female\",\"Female\",\"Female\",\"Male\",\"Female\",\"Female\",\"Female\",\"Male\",\"Male\",\"Male\",\"Female\",\"Female\",\"Male\",\"Female\",\"Male\",\"Female\",\"Female\",\"Male\",\"Female\",\"Female\",\"Female\",\"Female\",\"Female\",\"Male\",\"Female\",\"Female\",\"Female\",\"Male\",\"Male\",\"Male\",\"Male\",\"Female\",\"Female\",\"Female\",\"Female\",\"Female\",\"Male\",\"Male\",\"Female\",\"Female\",\"Male\",\"Male\",\"Male\",\"Male\",\"Male\",\"Female\",\"Female\",\"Female\",\"Female\",\"Male\",\"Female\",\"Female\",\"Male\",\"Female\",\"Female\",\"Male\",\"Female\",\"Female\",\"Male\",\"Male\",\"Male\",\"Male\",\"Male\",\"Male\",\"Male\",\"Male\",\"Male\",\"Female\",\"Female\",\"Male\",\"Female\",\"Female\",\"Female\",\"Male\",\"Male\",\"Male\",\"Male\",\"Male\",\"Female\",\"Male\",\"Female\",\"Male\",\"Female\",\"Female\",\"Male\",\"Male\",\"Male\",\"Male\",\"Female\",\"Male\",\"Female\",\"Male\",\"Male\",\"Female\",\"Male\",\"Male\",\"Male\",\"Female\",\"Male\",\"Female\",\"Male\",\"Male\",\"Male\",\"Female\",\"Female\",\"Female\",\"Male\",\"Male\",\"Male\",\"Male\",\"Female\",\"Male\",\"Male\",\"Male\",\"Female\",\"Male\",\"Male\",\"Male\",\"Male\",\"Male\",\"Male\",\"Male\",\"Female\",\"Male\",\"Male\",\"Female\",\"Female\",\"Male\",\"Male\",\"Female\",\"Male\",\"Male\",\"Male\",\"Male\",\"Male\",\"Female\",\"Male\",\"Male\",\"Female\",\"Male\",\"Male\",\"Male\",\"Male\",\"Male\",\"Female\",\"Female\",\"Female\",\"Female\",\"Female\",\"Female\",\"Male\",\"Male\",\"Female\",\"Male\",\"Female\",\"Female\",\"Male\",\"Female\",\"Male\",\"Female\",\"Female\",\"Male\",\"Male\",\"Female\",\"Male\",\"Male\",\"Male\",\"Female\",\"Male\",\"Male\",\"Female\",\"Female\",\"Male\",\"Female\",\"Female\",\"Male\",\"Female\",\"Female\",\"Female\",\"Male\",\"Male\",\"Male\",\"Male\",\"Male\",\"Male\",\"Female\",\"Male\",\"Male\",\"Female\",\"Male\",\"Female\",\"Male\",\"Male\",\"Male\",\"Female\",\"Female\",\"Male\",\"Male\",\"Male\",\"Male\",\"Female\",\"Female\",\"Female\",\"Male\",\"Female\",\"Female\",\"Male\",\"Female\",\"Male\",\"Female\",\"Female\",\"Male\",\"Female\",\"Male\",\"Female\",\"Male\",\"Male\",\"Male\",\"Female\",\"Female\",\"Male\",\"Male\",\"Female\",\"Male\",\"Male\",\"Male\",\"Male\",\"Male\",\"Male\",\"Male\",\"Male\",\"Female\",\"Male\",\"Male\",\"Male\",\"Female\",\"Male\",\"Female\",\"Female\",\"Female\",\"Male\",\"Female\",\"Female\",\"Female\",\"Male\",\"Male\",\"Female\",\"Female\",\"Male\",\"Male\",\"Female\",\"Male\",\"Female\",\"Male\",\"Female\",\"Female\",\"Male\",\"Female\",\"Female\",\"Male\",\"Female\",\"Female\",\"Male\",\"Female\",\"Female\",\"Female\",\"Male\",\"Male\",\"Female\",\"Female\",\"Female\",\"Female\",\"Female\",\"Female\",\"Male\",\"Female\",\"Female\",\"Male\",\"Female\",\"Male\",\"Male\",\"Female\",\"Male\",\"Female\",\"Female\",\"Female\",\"Male\",\"Female\",\"Male\",\"Male\",\"Female\",\"Male\",\"Male\",\"Male\",\"Female\",\"Female\",\"Female\",\"Male\",\"Male\",\"Male\",\"Female\",\"Female\",\"Female\",\"Female\",\"Female\",\"Female\",\"Female\",\"Female\",\"Female\",\"Female\",\"Male\",\"Male\",\"Female\",\"Female\",\"Female\",\"Female\",\"Male\",\"Female\",\"Female\",\"Male\",\"Female\",\"Male\",\"Female\",\"Male\",\"Male\",\"Female\",\"Female\",\"Male\",\"Female\",\"Female\",\"Female\",\"Male\",\"Female\",\"Female\",\"Female\",\"Female\",\"Male\",\"Female\",\"Male\",\"Female\",\"Male\",\"Female\",\"Male\",\"Male\",\"Female\",\"Female\",\"Female\",\"Male\",\"Male\",\"Male\",\"Male\",\"Male\",\"Female\",\"Female\",\"Female\",\"Male\",\"Female\",\"Female\",\"Male\",\"Female\",\"Female\",\"Male\",\"Female\",\"Female\",\"Female\",\"Female\",\"Female\",\"Male\",\"Female\",\"Female\",\"Male\",\"Female\",\"Male\",\"Male\",\"Female\",\"Female\",\"Female\",\"Female\",\"Male\",\"Female\",\"Male\",\"Male\",\"Female\",\"Male\",\"Male\",\"Male\",\"Male\",\"Male\",\"Female\",\"Female\",\"Male\",\"Male\",\"Female\",\"Male\",\"Female\",\"Male\",\"Male\",\"Male\",\"Female\",\"Male\",\"Male\",\"Female\",\"Female\",\"Male\",\"Female\",\"Female\",\"Male\",\"Male\",\"Female\",\"Male\",\"Female\",\"Male\",\"Male\",\"Male\",\"Female\",\"Female\",\"Male\",\"Female\",\"Female\",\"Male\",\"Female\",\"Male\",\"Male\",\"Male\",\"Male\",\"Female\",\"Female\",\"Female\",\"Male\",\"Male\",\"Male\",\"Female\",\"Female\",\"Female\",\"Female\",\"Female\",\"Female\",\"Male\",\"Female\",\"Female\",\"Male\",\"Female\",\"Male\",\"Male\",\"Female\",\"Male\",\"Male\",\"Male\",\"Female\",\"Male\",\"Male\",\"Male\",\"Male\",\"Female\",\"Female\",\"Female\",\"Female\",\"Female\",\"Male\",\"Female\",\"Male\",\"Female\",\"Female\",\"Female\",\"Male\",\"Female\",\"Male\",\"Female\",\"Female\",\"Male\",\"Female\",\"Female\",\"Female\",\"Female\",\"Female\",\"Female\",\"Male\",\"Female\",\"Female\",\"Female\",\"Male\",\"Male\",\"Female\",\"Female\",\"Male\",\"Female\",\"Female\",\"Male\",\"Female\",\"Male\",\"Male\",\"Male\",\"Male\",\"Female\",\"Female\",\"Male\",\"Female\",\"Male\",\"Male\",\"Male\",\"Male\",\"Male\",\"Male\",\"Female\",\"Female\",\"Male\",\"Male\",\"Male\",\"Male\",\"Female\",\"Male\",\"Male\",\"Female\",\"Male\",\"Male\",\"Female\",\"Male\",\"Male\",\"Female\",\"Female\",\"Female\",\"Female\",\"Female\",\"Female\",\"Male\",\"Male\",\"Male\",\"Male\",\"Male\",\"Male\",\"Male\",\"Female\",\"Male\",\"Female\",\"Female\",\"Male\",\"Female\",\"Male\",\"Female\",\"Male\",\"Male\",\"Male\",\"Female\",\"Male\",\"Female\",\"Female\",\"Female\",\"Female\",\"Male\",\"Female\",\"Female\",\"Female\",\"Female\",\"Female\",\"Male\",\"Female\",\"Male\",\"Male\",\"Male\",\"Female\",\"Female\",\"Male\",\"Male\",\"Male\",\"Male\",\"Male\",\"Male\",\"Male\",\"Male\",\"Male\",\"Female\",\"Male\",\"Male\",\"Male\",\"Female\",\"Female\",\"Female\",\"Female\",\"Male\",\"Female\",\"Female\",\"Female\",\"Male\",\"Male\",\"Female\",\"Male\",\"Female\",\"Female\",\"Female\",\"Female\",\"Male\",\"Male\",\"Female\",\"Male\",\"Male\",\"Female\",\"Male\",\"Female\",\"Male\",\"Male\",\"Female\",\"Male\",\"Male\",\"Female\",\"Female\",\"Female\",\"Female\",\"Female\",\"Male\",\"Male\",\"Male\",\"Female\",\"Female\",\"Male\",\"Male\",\"Male\",\"Male\",\"Female\",\"Male\",\"Male\",\"Male\",\"Female\",\"Female\",\"Male\",\"Male\",\"Female\",\"Male\",\"Female\",\"Male\",\"Male\",\"Male\",\"Male\",\"Male\",\"Male\",\"Male\",\"Male\",\"Female\",\"Male\",\"Male\",\"Female\",\"Male\",\"Male\",\"Female\",\"Female\",\"Male\",\"Male\",\"Female\",\"Male\",\"Male\",\"Female\",\"Female\",\"Female\",\"Male\",\"Male\",\"Male\",\"Male\",\"Female\",\"Male\",\"Male\",\"Male\",\"Female\",\"Female\",\"Female\",\"Female\",\"Female\",\"Female\",\"Female\",\"Male\",\"Male\",\"Female\",\"Male\",\"Male\",\"Male\",\"Female\",\"Female\",\"Male\",\"Male\",\"Female\",\"Male\",\"Male\",\"Female\",\"Male\",\"Female\",\"Female\",\"Male\",\"Male\",\"Female\",\"Male\",\"Female\",\"Male\",\"Female\",\"Female\",\"Male\",\"Female\",\"Male\",\"Female\",\"Female\",\"Female\",\"Female\",\"Male\",\"Female\",\"Male\",\"Female\",\"Female\",\"Male\",\"Female\",\"Male\",\"Female\",\"Male\",\"Male\",\"Female\",\"Female\",\"Female\",\"Female\",\"Female\",\"Male\",\"Female\",\"Female\",\"Female\",\"Female\",\"Female\",\"Male\",\"Male\",\"Male\",\"Male\",\"Female\",\"Female\",\"Male\",\"Female\",\"Male\",\"Female\",\"Female\",\"Female\",\"Male\",\"Female\",\"Female\",\"Male\",\"Female\",\"Male\",\"Female\",\"Male\",\"Male\",\"Male\",\"Female\",\"Female\",\"Male\",\"Female\",\"Female\",\"Male\",\"Male\",\"Female\",\"Female\",\"Female\",\"Female\",\"Female\",\"Male\",\"Male\",\"Male\",\"Male\",\"Male\",\"Female\",\"Male\",\"Female\",\"Female\",\"Male\",\"Female\",\"Male\",\"Female\",\"Female\",\"Female\",\"Male\",\"Female\",\"Female\",\"Male\",\"Male\",\"Male\",\"Male\",\"Female\",\"Female\",\"Female\",\"Female\",\"Male\",\"Female\",\"Male\",\"Male\",\"Female\",\"Male\",\"Female\",\"Male\",\"Female\",\"Female\",\"Female\",\"Male\",\"Female\",\"Female\",\"Male\",\"Female\",\"Female\",\"Male\",\"Female\",\"Male\",\"Male\",\"Male\",\"Male\",\"Male\",\"Female\",\"Male\",\"Female\",\"Female\",\"Female\",\"Male\",\"Female\",\"Female\",\"Female\",\"Female\",\"Female\",\"Female\",\"Male\",\"Male\",\"Female\",\"Male\",\"Male\",\"Female\",\"Female\",\"Male\",\"Male\",\"Female\",\"Male\",\"Male\",\"Female\",\"Male\",\"Female\",\"Female\",\"Female\",\"Female\",\"Male\",\"Female\",\"Male\",\"Male\",\"Female\",\"Male\",\"Female\",\"Female\",\"Male\",\"Female\",\"Female\",\"Female\",\"Male\",\"Male\",\"Male\",\"Female\",\"Female\",\"Male\",\"Male\",\"Male\",\"Female\",\"Female\",\"Male\",\"Female\",\"Female\",\"Male\",\"Female\",\"Female\",\"Male\",\"Female\",\"Male\",\"Male\",\"Female\",\"Female\",\"Female\",\"Female\",\"Female\",\"Female\",\"Female\",\"Male\",\"Male\",\"Male\",\"Male\",\"Female\",\"Female\",\"Male\",\"Male\",\"Female\",\"Male\",\"Male\",\"Female\",\"Male\",\"Female\",\"Male\",\"Male\",\"Male\",\"Male\",\"Female\",\"Female\",\"Male\",\"Male\",\"Female\",\"Male\",\"Female\",\"Male\",\"Female\",\"Male\",\"Female\",\"Male\",\"Female\",\"Male\",\"Female\",\"Female\",\"Female\",\"Male\",\"Male\",\"Female\"],\"x0\":\" \",\"xaxis\":\"x\",\"y\":{\"dtype\":\"f8\",\"bdata\":\"RERERESEM0BERERERIQzQHd3d3d39yBAzczMzMzMI0B3d3d3d\\u002fcgQBERERERUTFARERERETEM0AAAAAAAMAxQAAAAAAAgCNAq6qqqqoqKkCrqqqqqqorQGZmZmZmZiRAERERERERMUBVVVVVVdUzQDMzMzMzMzRAd3d3d3d3MUBVVVVVVdUiQGZmZmZm5jBAiYiIiIgIJEBVVVVVVdUrQCIiIiIioiBAMzMzMzMzLkDv7u7u7u40QCIiIiIiIi1AZmZmZmZmIUBmZmZmZmYqQImIiIiICC5A7+7u7u6uM0BVVVVVVdUmQAAAAAAAQDRAiYiIiIgIJEAiIiIiIuI0QERERERExCRAZmZmZmZmLUAAAAAAAEAyQM3MzMzMTCtAERERERERIkDNzMzMzEwhQHd3d3d3tzRA3t3d3d3dJEAREREREREwQERERERERCNAVVVVVVXVJEAiIiIiIqInQGZmZmZm5iNA7+7u7u6uMkAREREREREuQLy7u7u7ezBA3t3d3d3dJ0DNzMzMzMwhQO\\u002fu7u7ubiNAd3d3d3f3NEDe3d3d3d0iQJqZmZmZmTRAIiIiIiKiL0B3d3d3dzcxQDMzMzMzMyFAIiIiIiKiKEBVVVVVVVUlQCIiIiIiojNAAAAAAACAMkDv7u7u7u4kQN7d3d3dXTFA3t3d3d1dJUBVVVVVVdUrQDMzMzMzMypAmpmZmZmZIEAiIiIiIiIqQCIiIiIiIiJA3t3d3d1dJkAiIiIiIiIqQAAAAAAAACVAmpmZmZkZMUCJiIiIiEg0QGZmZmZm5iNAmpmZmZkZL0DNzMzMzMwvQERERERERDBAd3d3d3d3KUAREREREVEyQKuqqqqqKilAq6qqqqrqMkCamZmZmRkhQAAAAAAAgCJA3t3d3d0dM0C8u7u7u3s0QDMzMzMzsylAd3d3d3f3JkAiIiIiIiIlQO\\u002fu7u7ubiZAIiIiIiIiKkC8u7u7uzstQFVVVVVV1SNAd3d3d3e3MEBVVVVVVVUkQO\\u002fu7u7u7iRAiYiIiIiILEAzMzMzM\\u002fMwQKuqqqqqKiNAIiIiIiIiIUDe3d3d3V0kQDMzMzMzszFAd3d3d3f3JEAiIiIiIqIqQDMzMzMzsyNAMzMzMzPzM0B3d3d3dzc0QN7d3d3d3TNAERERERERLEDe3d3d3d0xQHd3d3d3tzFAzczMzMyMMEAiIiIiImIwQDMzMzMzsytAMzMzMzMzLUAiIiIiIiIzQImIiIiICDJARERERETEIEAAAAAAAAArQFVVVVVV1S1AERERERFRM0BmZmZmZiY0QImIiIiIiCNAVVVVVVVVLUDNzMzMzEwsQFVVVVVVVSFA7+7u7u7uJUBERERERMQsQM3MzMzMzChAq6qqqqqqM0De3d3d3V0vQO\\u002fu7u7uLjJAq6qqqqoqJ0CJiIiIiAgjQKuqqqqqKipAmpmZmZnZMEARERERERElQKuqqqqq6jRAd3d3d3d3M0CamZmZmRklQLy7u7u7+zNA7+7u7u5uIECamZmZmVkxQAAAAAAAgDRA3t3d3d1dJEAiIiIiImI0QBERERERUTJAREREREREIkAzMzMzM\\u002fMxQKuqqqqqKjBAAAAAAABANEC8u7u7u7s0QO\\u002fu7u7urjBAmpmZmZmZJkDe3d3d3V0tQGZmZmZm5jJAMzMzMzOzJ0BmZmZmZmYsQDMzMzMz8zFAERERERGRLkDe3d3d3V0vQAAAAAAAADFAZmZmZmZmIUDv7u7u7q4xQAAAAAAAgC1AERERERGRNEBVVVVVVdUjQGZmZmZm5ihAERERERERK0BmZmZmZmYoQGZmZmZmpjBAAAAAAACAIECrqqqqquowQDMzMzMzsyZAiYiIiIgILEAiIiIiIiIjQN7d3d3d3SNAERERERERJkAzMzMzM3MxQJqZmZmZGSFAq6qqqqqqJUCJiIiIiAgiQDMzMzMzMypAd3d3d3f3MUCrqqqqqqoiQDMzMzMzszFAERERERHRM0AzMzMzM7MgQO\\u002fu7u7u7iZAERERERGRLUCamZmZmZkrQN7d3d3dHTFAZmZmZmbmK0BmZmZmZuYwQERERERExCZAREREREQENEBERERERMQrQAAAAAAAACpAVVVVVVXVI0AREREREZEvQImIiIiICCtAMzMzMzOzIECJiIiIiIgyQHd3d3d3NzFAZmZmZmbmI0CamZmZmRkyQBERERERkSdA7+7u7u7uJkDe3d3d3R0zQLy7u7u7uzFAVVVVVVVVIkCamZmZmVkxQO\\u002fu7u7u7ilAIiIiIiIiIUAREREREZEgQLy7u7u7OylAZmZmZmZmKUBERERERAQyQHd3d3d39y1AMzMzMzPzNEDv7u7u7m4oQEREREREBDRAIiIiIiJiNEDv7u7u7q40QCIiIiIiIjRAiYiIiIgILkDe3d3d3Z00QFVVVVVVFTNAZmZmZmamNEBERERERIQwQCIiIiIi4jFAiYiIiIiILkAiIiIiIiIhQO\\u002fu7u7ubjRAIiIiIiKiJ0AAAAAAAIAvQBERERERESVAAAAAAABANEAAAAAAAIAxQCIiIiIioi9AmpmZmZkZJkAiIiIiIqIxQO\\u002fu7u7u7itAq6qqqqqqK0De3d3d3V0oQGZmZmZmZiJAvLu7u7u7MkB3d3d3d\\u002fctQAAAAAAAADJA3t3d3d3dKkCrqqqqqiogQBERERERkSRAmpmZmZkZLUAzMzMzMzMxQCIiIiIiIi1A3t3d3d2dMUBmZmZmZmYgQBERERER0TNAERERERERJECrqqqqqqogQImIiIiICChAzczMzMxMIUAREREREZEgQGZmZmZmZi9A3t3d3d3dM0De3d3d3R0yQJqZmZmZGSdAIiIiIiIiMkB3d3d3d\\u002fcjQCIiIiIioi5AREREREREJECrqqqqqqoqQERERERExCZAAAAAAACAM0BEREREREQjQDMzMzMzsyZAREREREREJUAiIiIiIqIqQO\\u002fu7u7ubiVAd3d3d3f3JEBVVVVVVVUvQFVVVVVV1ShAVVVVVVXVLUC8u7u7u7spQJqZmZmZGStARERERERENEBmZmZmZqYzQAAAAAAAgDFARERERETEIUC8u7u7u7svQCIiIiIioiNAvLu7u7v7MEBERERERIQwQHd3d3d3dypA7+7u7u7uLkAREREREZEkQLy7u7u7ezFAiYiIiIhIM0CJiIiIiAgpQERERERExC1AMzMzMzMzKkCamZmZmZkpQBEREREREStARERERETEK0CamZmZmZkhQBERERERkSdAAAAAAACAMUDNzMzMzMwnQKuqqqqqKi5AzczMzMxMM0Dv7u7u7q4xQO\\u002fu7u7urjFAvLu7u7t7M0BVVVVVVVUzQERERERERCFA3t3d3d3dNEAzMzMzMzMmQLy7u7u7OydAREREREREJUAzMzMzMzMjQN7d3d3dXSxAzczMzMxMNEDv7u7u7i4xQERERERERDNAIiIiIiIiJUBmZmZmZmYyQImIiIiICCxAvLu7u7u7K0AAAAAAAIAiQO\\u002fu7u7ubidAmpmZmZmZMEDe3d3d3V00QJqZmZmZmSZAvLu7u7t7MUBmZmZmZmYrQFVVVVVVVSVA3t3d3d1dMkAzMzMzMzMkQFVVVVVVVS9AmpmZmZnZMkAREREREREsQDMzMzMz8zFARERERETEI0CrqqqqqqopQAAAAAAAAC1AERERERGRKECamZmZmdkwQHd3d3d39ylARERERETEKUBVVVVVVVUwQDMzMzMzczNAZmZmZmZmI0C8u7u7uzsrQHd3d3d3NzFAAAAAAADAMEC8u7u7u7syQKuqqqqq6jRAmpmZmZkZMkAzMzMzM7MuQBERERERETFAERERERERNEAzMzMzM7MnQBERERERkShAERERERGRJUCrqqqqqqoyQImIiIiICCVA3t3d3d1dNEDv7u7u7q40QN7d3d3dXTFAREREREREKkCrqqqqqio0QJqZmZmZmSZAvLu7u7u7IUB3d3d3d7cxQGZmZmZm5jBARERERERENEAzMzMzMzMtQN7d3d3d3TJAd3d3d3f3IEAiIiIiIqIzQEREREREBDJAq6qqqqqqLEDv7u7u7m40QFVVVVVVlTFAAAAAAACAKUAzMzMzMzMqQCIiIiIiIjNAIiIiIiJiNEAzMzMzM\\u002fMxQHd3d3d39yFAIiIiIiIiK0BVVVVVVdUgQM3MzMzMTCRAAAAAAAAAI0C8u7u7u\\u002fszQERERERERCpAERERERGRIUC8u7u7uzslQERERERERCFAERERERERKkDe3d3d3d0xQHd3d3d39zBAAAAAAACALkAREREREREmQFVVVVVVlTBAmpmZmZkZKkC8u7u7u3sxQImIiIiICCdA3t3d3d0dMkCrqqqqqqomQERERERExCdAiYiIiIgIM0BEREREREQhQN7d3d3d3ShAZmZmZmbmMEDe3d3d3Z0zQERERERExC1A3t3d3d2dM0CamZmZmRklQGZmZmZm5iZAzczMzMzMLUCJiIiIiIgpQM3MzMzMzDJAZmZmZmbmKECamZmZmVkwQBERERERETRAVVVVVVUVMEAzMzMzMzMsQDMzMzMz8zFAZmZmZmZmLkBERERERAQwQN7d3d3d3SVAMzMzMzOzLUC8u7u7uzsyQHd3d3d3dy1A7+7u7u7uJkC8u7u7u3swQM3MzMzMTDFA7+7u7u7uK0BVVVVVVVUqQO\\u002fu7u7urjBARERERERELEB3d3d3d\\u002fcrQKuqqqqqqjJAZmZmZmZmKEAzMzMzMzMsQHd3d3d3dyJA3t3d3d1dMUB3d3d3d7cyQCIiIiIiIjNAZmZmZmbmLECamZmZmVkwQJqZmZmZmTJAvLu7u7s7MkCJiIiIiAg0QFVVVVVV1S1AmpmZmZlZMEC8u7u7uzsnQHd3d3d3dzJAvLu7u7u7IkDe3d3d3R0zQFVVVVVV1SVAAAAAAABAMkBmZmZmZuY0QJqZmZmZGS1AiYiIiIjIMUBVVVVVVdUgQN7d3d3d3SNAzczMzMxMK0AAAAAAAIApQGZmZmZmZiVAiYiIiIgII0CJiIiIiIgjQLy7u7u7+zBA3t3d3d3dJ0De3d3d3Z0xQO\\u002fu7u7ubiNA3t3d3d3dJ0BERERERMQoQImIiIiIiCdAq6qqqqqqNECrqqqqqqopQO\\u002fu7u7urjJAZmZmZmZmLEDe3d3d3R0yQKuqqqqqKjFAd3d3d3d3L0De3d3d3d0xQGZmZmZmZilAVVVVVVXVI0AzMzMzMzMgQO\\u002fu7u7ubidAd3d3d3d3LkCrqqqqqqonQN7d3d3dXSFAIiIiIiIiL0CrqqqqqiogQERERERERCVAd3d3d3e3NEAiIiIiIiItQN7d3d3dXTNAq6qqqqoqMEBVVVVVVVUuQJqZmZmZGSlAERERERFRMEB3d3d3d3cyQM3MzMzMTC5AIiIiIiJiM0AREREREZEsQN7d3d3d3SlA3t3d3d3dJ0CJiIiIiAgzQAAAAAAAAC1A7+7u7u5uKUB3d3d3d\\u002fcgQHd3d3d3dy1Ad3d3d3d3IUDNzMzMzMwgQCIiIiIiIiVAAAAAAACAM0DNzMzMzIw0QKuqqqqqajRAvLu7u7v7MUCrqqqqqqosQN7d3d3dXTJA7+7u7u5uK0AAAAAAAIAmQGZmZmZm5iBAq6qqqqqqIUC8u7u7u\\u002fszQDMzMzMzsy1AERERERERMEB3d3d3d\\u002fcyQERERERExC1ARERERETEMUBVVVVVVRUwQLy7u7u7uyRAVVVVVVVVIEAiIiIiIiIxQO\\u002fu7u7u7iFAvLu7u7v7MEBVVVVVVdUnQAAAAAAAgC1AIiIiIiKiI0De3d3d3d0uQFVVVVVV1SFAERERERFRMECamZmZmZkwQDMzMzMzczBAREREREQEMkBEREREREQvQFVVVVVV1S9AIiIiIiJiMkAAAAAAAEAyQN7d3d3dXTNAERERERERJUAzMzMzMzMlQBERERERES9AZmZmZmbmMUAzMzMzMzMvQKuqqqqqqipAvLu7u7u7KUBmZmZmZqYyQLy7u7u7+zBAvLu7u7u7KUDe3d3d3d0jQGZmZmZmJjNA3t3d3d1dJUB3d3d3d3c0QAAAAAAAgDJA3t3d3d1dJEARERERERExQERERERERDJAAAAAAACAM0C8u7u7u3swQFVVVVVVVSlA3t3d3d3dJEBVVVVVVZU0QFVVVVVV1TNAq6qqqqoqMEBVVVVVVdUuQN7d3d3dXS1AERERERGRMECamZmZmZklQAAAAAAAwDRA7+7u7u5uIEBmZmZmZuYvQLy7u7u7uyBAMzMzMzMzLEAzMzMzM7MjQKuqqqqqqilAERERERGRJECamZmZmdkzQImIiIiICCBAmpmZmZkZMUBERERERMQ0QN7d3d3d3TJAMzMzMzOzIkCrqqqqqiohQKuqqqqqqjNAVVVVVVVVKEDe3d3d3V0vQM3MzMzMzC5AMzMzMzOzMkAzMzMzM7MxQGZmZmZmpjRAVVVVVVVVMECJiIiIiIghQM3MzMzMjDFAmpmZmZkZLEAiIiIiIqItQGZmZmZmZitAiYiIiIiIMUC8u7u7uzsjQN7d3d3dHTJAAAAAAAAAJ0Dv7u7u7u4uQFVVVVVVlTRAd3d3d3f3LEDe3d3d3d0kQLy7u7u7uyVAAAAAAAAAL0BVVVVVVdUgQM3MzMzMTCFAd3d3d3d3M0AzMzMzM\\u002fMwQAAAAAAAADRAIiIiIiLiMEAREREREREmQHd3d3d39yxAq6qqqqqqIUCJiIiIiIgoQGZmZmZmZi1AmpmZmZnZMEDv7u7u7m4iQM3MzMzMzCpAiYiIiIgIJEAAAAAAAMAzQFVVVVVV1SJAAAAAAAAAJEC8u7u7uzshQGZmZmZmZilARERERESENEDNzMzMzMwpQCIiIiIiYjFAREREREREMUB3d3d3d\\u002fcyQHd3d3d3dylAq6qqqqqqK0DNzMzMzMwtQJqZmZmZmTRAMzMzMzMzJkDe3d3d3V0qQERERERERC1Aq6qqqqqqIkB3d3d3dzcxQO\\u002fu7u7u7i1AIiIiIiJiM0CJiIiIiAgyQO\\u002fu7u7u7iNAiYiIiIgIMUDe3d3d3V0nQImIiIiICCxAq6qqqqqqJEAAAAAAAIAnQGZmZmZmZiVAiYiIiIiIJ0AAAAAAAAAuQBERERERETNAERERERGRIkAzMzMzMzMpQO\\u002fu7u7ubiBAIiIiIiKiJUBEREREREQ0QLy7u7u7uydAERERERGRIEAzMzMzMzMiQGZmZmZm5itAVVVVVVVVIkDNzMzMzIwwQN7d3d3dXSJAzczMzMzMJUAiIiIiImI0QJqZmZmZ2TFAVVVVVVWVMkCJiIiIiIgkQO\\u002fu7u7ubiJAq6qqqqpqNEAREREREZEjQFVVVVVVVSpAERERERGRJECamZmZmVkwQBERERERkTFAq6qqqqqqMEAAAAAAAAApQO\\u002fu7u7ubidAiYiIiIgIJUC8u7u7u7stQJqZmZmZGTJAVVVVVVWVMEAiIiIiIqImQLy7u7u7uyRAREREREQEMEC8u7u7uzs0QLy7u7u7ezFAq6qqqqoqJkCJiIiIiAgrQEREREREBDJAd3d3d3f3MUDNzMzMzMwlQGZmZmZm5iNAZmZmZmZmKkC8u7u7uzslQKuqqqqqqiVAERERERERKEAAAAAAAEAyQFVVVVVVVSZAiYiIiIiINECamZmZmRkhQDMzMzMzszNAREREREREIUB3d3d3d\\u002fcmQN7d3d3dXTJAmpmZmZkZM0DNzMzMzEwzQM3MzMzMzCVAMzMzMzOzJ0AzMzMzM\\u002fM0QCIiIiIiojNA7+7u7u7uLkBVVVVVVVUiQAAAAAAAACtAAAAAAABAMkDv7u7u7m4iQM3MzMzMzCJAZmZmZmbmNEDv7u7u7m4hQDMzMzMzsyZA7+7u7u7uLkCJiIiIiIgmQN7d3d3dHTRAiYiIiIgIMkB3d3d3d3c0QGZmZmZmZiVAvLu7u7s7K0DNzMzMzEwkQFVVVVVVVSpAd3d3d3e3M0BmZmZmZmYlQO\\u002fu7u7u7iRA3t3d3d1dKkCrqqqqqiogQN7d3d3dXSRA7+7u7u5uLkBmZmZmZqYyQCIiIiIiYjNARERERETEJkCJiIiIiIguQCIiIiIioipAd3d3d3f3IkDe3d3d3V0rQO\\u002fu7u7ubihAzczMzMxML0BVVVVVVVUgQDMzMzMzsyxAd3d3d3d3LUC8u7u7uzsqQImIiIiIiCxAVVVVVVXVKkDe3d3d3V0xQAAAAAAAADRA3t3d3d3dNECrqqqqqmoyQBERERERESlAq6qqqqoqI0C8u7u7u7syQO\\u002fu7u7u7i1AiYiIiIhINEC8u7u7uzshQKuqqqqqqipAiYiIiIiIMECamZmZmRksQImIiIiIiChAREREREREI0C8u7u7u3syQImIiIiIiDNAq6qqqqoqJ0C8u7u7u7szQCIiIiIiIjFAvLu7u7u7KkAREREREdEwQHd3d3d3dydAmpmZmZkZMECJiIiIiEgxQHd3d3d39ylAMzMzMzOzIkDe3d3d3V0jQLy7u7u7uzRA3t3d3d1dIkAzMzMzM7MiQBERERERUTNAAAAAAAAAIEDe3d3d3d0iQHd3d3d39yFAAAAAAACAIEB3d3d3dzcwQFVVVVVVlTNAiYiIiIiIMEBVVVVVVdUqQCIiIiIioixAmpmZmZmZJkAAAAAAAAAtQLy7u7u7OyxAIiIiIiIiL0BmZmZmZmYsQJqZmZmZmShAmpmZmZkZMUAzMzMzM7MnQERERERExCBAmpmZmZkZLUCrqqqqqqoqQLy7u7u7uzNAzczMzMyMMEC8u7u7u\\u002fsxQERERERExCVAd3d3d3f3MUCamZmZmRktQERERERExC9AVVVVVVVVI0CrqqqqqiooQKuqqqqqKiNA3t3d3d1dIUC8u7u7u7sxQERERERERDNAvLu7u7s7L0CJiIiIiIgjQO\\u002fu7u7uLjNAq6qqqqqqNEDNzMzMzMwhQO\\u002fu7u7ubjRAAAAAAAAAJkAREREREZEjQKuqqqqqKjNAVVVVVVVVK0BmZmZmZiYxQHd3d3d39y9Ad3d3d3e3NEAAAAAAAAAoQN7d3d3dnTBA3t3d3d3dLUAzMzMzMzMgQO\\u002fu7u7ubi9AiYiIiIiIKEBVVVVVVVU0QFVVVVVVVShAVVVVVVUVMUBVVVVVVdUvQKuqqqqqqiRAAAAAAACALUDNzMzMzIwyQLy7u7u7uyxAERERERFRMUBEREREREQmQEREREREBDBAIiIiIiKiJkCJiIiIiIgnQFVVVVVVFTBA7+7u7u5uMkDNzMzMzEwoQHd3d3d39ylAMzMzMzOzKECJiIiIiIgjQDMzMzMzczRAZmZmZmZmLUAAAAAAAIArQImIiIiIiDJAZmZmZmZmIkAiIiIiIiIsQM3MzMzMTCVAERERERERJkCJiIiIiIglQM3MzMzMTC9AiYiIiIgIL0DNzMzMzEwwQJqZmZmZGS1AERERERGRL0AREREREREzQImIiIiICDFA3t3d3d1dJ0DNzMzMzEw0QN7d3d3d3SZAvLu7u7u7KEDNzMzMzIw0QDMzMzMzMy5AIiIiIiLiMECrqqqqqiokQM3MzMzMTCNAq6qqqqoqJkB3d3d3d\\u002fcpQHd3d3d3NzNAAAAAAACAMUDNzMzMzAwwQN7d3d3dHTNAzczMzMxMJEDNzMzMzEwsQLy7u7u7uyJAZmZmZmZmLkBVVVVVVdUkQKuqqqqqKitAzczMzMxMJkAiIiIiIuI0QImIiIiIiDNAERERERGRLUDv7u7u7q4xQAAAAAAAADNAq6qqqqoqLkC8u7u7u3szQERERERExCZAd3d3d3e3M0BERERERMQkQM3MzMzMTClA7+7u7u7uJEAiIiIiIiIuQDMzMzMz8zFAERERERGRK0CJiIiIiIgiQJqZmZmZGSRAzczMzMyMMUBEREREREQjQGZmZmZm5itAzczMzMyMMECamZmZmZklQJqZmZmZGTNARERERETEK0CrqqqqqiopQImIiIiICC9AVVVVVVXVJUBmZmZmZuYjQKuqqqqqqilAq6qqqqpqNEAzMzMzM7MkQBERERERkSVA7+7u7u7uJ0De3d3d3V0jQLy7u7u7OzFAIiIiIiKiK0BmZmZmZmYjQM3MzMzMTCdAREREREQEMUB3d3d3d3cvQDMzMzMzMydAmpmZmZlZM0CJiIiIiMgyQGZmZmZm5i5AiYiIiIiIKUCamZmZmZksQHd3d3d3tzFAd3d3d3f3K0C8u7u7u7siQHd3d3d3dyRAzczMzMzMJEDv7u7u7u4qQERERERExCJA3t3d3d2dMkDe3d3d3d0nQBERERER0TBAZmZmZmZmJ0AzMzMzMzMrQJqZmZmZGS9AvLu7u7u7IEDe3d3d3Z0wQHd3d3d3dy1A7+7u7u6uMEBVVVVVVVUmQLy7u7u7OyZAZmZmZmamMEAzMzMzMzMlQAAAAAAAADNAAAAAAAAAK0CJiIiIiMgxQLy7u7u7uy1AvLu7u7v7M0De3d3d3V0zQBERERERETBAERERERGRLkCrqqqqqiosQBERERERETNAmpmZmZmZJUB3d3d3d3ciQKuqqqqqqidAvLu7u7u7IEDNzMzMzMwkQGZmZmZmZiNAVVVVVVXVM0CJiIiIiIgkQO\\u002fu7u7u7jRAd3d3d3d3IkCamZmZmVkxQERERERExCRA7+7u7u6uMEA=\"},\"y0\":\" \",\"yaxis\":\"y\",\"type\":\"box\",\"boxmean\":true}],                        {\"template\":{\"data\":{\"histogram2dcontour\":[{\"type\":\"histogram2dcontour\",\"colorbar\":{\"outlinewidth\":0,\"ticks\":\"\"},\"colorscale\":[[0.0,\"#0d0887\"],[0.1111111111111111,\"#46039f\"],[0.2222222222222222,\"#7201a8\"],[0.3333333333333333,\"#9c179e\"],[0.4444444444444444,\"#bd3786\"],[0.5555555555555556,\"#d8576b\"],[0.6666666666666666,\"#ed7953\"],[0.7777777777777778,\"#fb9f3a\"],[0.8888888888888888,\"#fdca26\"],[1.0,\"#f0f921\"]]}],\"choropleth\":[{\"type\":\"choropleth\",\"colorbar\":{\"outlinewidth\":0,\"ticks\":\"\"}}],\"histogram2d\":[{\"type\":\"histogram2d\",\"colorbar\":{\"outlinewidth\":0,\"ticks\":\"\"},\"colorscale\":[[0.0,\"#0d0887\"],[0.1111111111111111,\"#46039f\"],[0.2222222222222222,\"#7201a8\"],[0.3333333333333333,\"#9c179e\"],[0.4444444444444444,\"#bd3786\"],[0.5555555555555556,\"#d8576b\"],[0.6666666666666666,\"#ed7953\"],[0.7777777777777778,\"#fb9f3a\"],[0.8888888888888888,\"#fdca26\"],[1.0,\"#f0f921\"]]}],\"heatmap\":[{\"type\":\"heatmap\",\"colorbar\":{\"outlinewidth\":0,\"ticks\":\"\"},\"colorscale\":[[0.0,\"#0d0887\"],[0.1111111111111111,\"#46039f\"],[0.2222222222222222,\"#7201a8\"],[0.3333333333333333,\"#9c179e\"],[0.4444444444444444,\"#bd3786\"],[0.5555555555555556,\"#d8576b\"],[0.6666666666666666,\"#ed7953\"],[0.7777777777777778,\"#fb9f3a\"],[0.8888888888888888,\"#fdca26\"],[1.0,\"#f0f921\"]]}],\"contourcarpet\":[{\"type\":\"contourcarpet\",\"colorbar\":{\"outlinewidth\":0,\"ticks\":\"\"}}],\"contour\":[{\"type\":\"contour\",\"colorbar\":{\"outlinewidth\":0,\"ticks\":\"\"},\"colorscale\":[[0.0,\"#0d0887\"],[0.1111111111111111,\"#46039f\"],[0.2222222222222222,\"#7201a8\"],[0.3333333333333333,\"#9c179e\"],[0.4444444444444444,\"#bd3786\"],[0.5555555555555556,\"#d8576b\"],[0.6666666666666666,\"#ed7953\"],[0.7777777777777778,\"#fb9f3a\"],[0.8888888888888888,\"#fdca26\"],[1.0,\"#f0f921\"]]}],\"surface\":[{\"type\":\"surface\",\"colorbar\":{\"outlinewidth\":0,\"ticks\":\"\"},\"colorscale\":[[0.0,\"#0d0887\"],[0.1111111111111111,\"#46039f\"],[0.2222222222222222,\"#7201a8\"],[0.3333333333333333,\"#9c179e\"],[0.4444444444444444,\"#bd3786\"],[0.5555555555555556,\"#d8576b\"],[0.6666666666666666,\"#ed7953\"],[0.7777777777777778,\"#fb9f3a\"],[0.8888888888888888,\"#fdca26\"],[1.0,\"#f0f921\"]]}],\"mesh3d\":[{\"type\":\"mesh3d\",\"colorbar\":{\"outlinewidth\":0,\"ticks\":\"\"}}],\"scatter\":[{\"fillpattern\":{\"fillmode\":\"overlay\",\"size\":10,\"solidity\":0.2},\"type\":\"scatter\"}],\"parcoords\":[{\"type\":\"parcoords\",\"line\":{\"colorbar\":{\"outlinewidth\":0,\"ticks\":\"\"}}}],\"scatterpolargl\":[{\"type\":\"scatterpolargl\",\"marker\":{\"colorbar\":{\"outlinewidth\":0,\"ticks\":\"\"}}}],\"bar\":[{\"error_x\":{\"color\":\"#2a3f5f\"},\"error_y\":{\"color\":\"#2a3f5f\"},\"marker\":{\"line\":{\"color\":\"#E5ECF6\",\"width\":0.5},\"pattern\":{\"fillmode\":\"overlay\",\"size\":10,\"solidity\":0.2}},\"type\":\"bar\"}],\"scattergeo\":[{\"type\":\"scattergeo\",\"marker\":{\"colorbar\":{\"outlinewidth\":0,\"ticks\":\"\"}}}],\"scatterpolar\":[{\"type\":\"scatterpolar\",\"marker\":{\"colorbar\":{\"outlinewidth\":0,\"ticks\":\"\"}}}],\"histogram\":[{\"marker\":{\"pattern\":{\"fillmode\":\"overlay\",\"size\":10,\"solidity\":0.2}},\"type\":\"histogram\"}],\"scattergl\":[{\"type\":\"scattergl\",\"marker\":{\"colorbar\":{\"outlinewidth\":0,\"ticks\":\"\"}}}],\"scatter3d\":[{\"type\":\"scatter3d\",\"line\":{\"colorbar\":{\"outlinewidth\":0,\"ticks\":\"\"}},\"marker\":{\"colorbar\":{\"outlinewidth\":0,\"ticks\":\"\"}}}],\"scattermap\":[{\"type\":\"scattermap\",\"marker\":{\"colorbar\":{\"outlinewidth\":0,\"ticks\":\"\"}}}],\"scattermapbox\":[{\"type\":\"scattermapbox\",\"marker\":{\"colorbar\":{\"outlinewidth\":0,\"ticks\":\"\"}}}],\"scatterternary\":[{\"type\":\"scatterternary\",\"marker\":{\"colorbar\":{\"outlinewidth\":0,\"ticks\":\"\"}}}],\"scattercarpet\":[{\"type\":\"scattercarpet\",\"marker\":{\"colorbar\":{\"outlinewidth\":0,\"ticks\":\"\"}}}],\"carpet\":[{\"aaxis\":{\"endlinecolor\":\"#2a3f5f\",\"gridcolor\":\"white\",\"linecolor\":\"white\",\"minorgridcolor\":\"white\",\"startlinecolor\":\"#2a3f5f\"},\"baxis\":{\"endlinecolor\":\"#2a3f5f\",\"gridcolor\":\"white\",\"linecolor\":\"white\",\"minorgridcolor\":\"white\",\"startlinecolor\":\"#2a3f5f\"},\"type\":\"carpet\"}],\"table\":[{\"cells\":{\"fill\":{\"color\":\"#EBF0F8\"},\"line\":{\"color\":\"white\"}},\"header\":{\"fill\":{\"color\":\"#C8D4E3\"},\"line\":{\"color\":\"white\"}},\"type\":\"table\"}],\"barpolar\":[{\"marker\":{\"line\":{\"color\":\"#E5ECF6\",\"width\":0.5},\"pattern\":{\"fillmode\":\"overlay\",\"size\":10,\"solidity\":0.2}},\"type\":\"barpolar\"}],\"pie\":[{\"automargin\":true,\"type\":\"pie\"}]},\"layout\":{\"autotypenumbers\":\"strict\",\"colorway\":[\"#636efa\",\"#EF553B\",\"#00cc96\",\"#ab63fa\",\"#FFA15A\",\"#19d3f3\",\"#FF6692\",\"#B6E880\",\"#FF97FF\",\"#FECB52\"],\"font\":{\"color\":\"#2a3f5f\"},\"hovermode\":\"closest\",\"hoverlabel\":{\"align\":\"left\"},\"paper_bgcolor\":\"white\",\"plot_bgcolor\":\"#E5ECF6\",\"polar\":{\"bgcolor\":\"#E5ECF6\",\"angularaxis\":{\"gridcolor\":\"white\",\"linecolor\":\"white\",\"ticks\":\"\"},\"radialaxis\":{\"gridcolor\":\"white\",\"linecolor\":\"white\",\"ticks\":\"\"}},\"ternary\":{\"bgcolor\":\"#E5ECF6\",\"aaxis\":{\"gridcolor\":\"white\",\"linecolor\":\"white\",\"ticks\":\"\"},\"baxis\":{\"gridcolor\":\"white\",\"linecolor\":\"white\",\"ticks\":\"\"},\"caxis\":{\"gridcolor\":\"white\",\"linecolor\":\"white\",\"ticks\":\"\"}},\"coloraxis\":{\"colorbar\":{\"outlinewidth\":0,\"ticks\":\"\"}},\"colorscale\":{\"sequential\":[[0.0,\"#0d0887\"],[0.1111111111111111,\"#46039f\"],[0.2222222222222222,\"#7201a8\"],[0.3333333333333333,\"#9c179e\"],[0.4444444444444444,\"#bd3786\"],[0.5555555555555556,\"#d8576b\"],[0.6666666666666666,\"#ed7953\"],[0.7777777777777778,\"#fb9f3a\"],[0.8888888888888888,\"#fdca26\"],[1.0,\"#f0f921\"]],\"sequentialminus\":[[0.0,\"#0d0887\"],[0.1111111111111111,\"#46039f\"],[0.2222222222222222,\"#7201a8\"],[0.3333333333333333,\"#9c179e\"],[0.4444444444444444,\"#bd3786\"],[0.5555555555555556,\"#d8576b\"],[0.6666666666666666,\"#ed7953\"],[0.7777777777777778,\"#fb9f3a\"],[0.8888888888888888,\"#fdca26\"],[1.0,\"#f0f921\"]],\"diverging\":[[0,\"#8e0152\"],[0.1,\"#c51b7d\"],[0.2,\"#de77ae\"],[0.3,\"#f1b6da\"],[0.4,\"#fde0ef\"],[0.5,\"#f7f7f7\"],[0.6,\"#e6f5d0\"],[0.7,\"#b8e186\"],[0.8,\"#7fbc41\"],[0.9,\"#4d9221\"],[1,\"#276419\"]]},\"xaxis\":{\"gridcolor\":\"white\",\"linecolor\":\"white\",\"ticks\":\"\",\"title\":{\"standoff\":15},\"zerolinecolor\":\"white\",\"automargin\":true,\"zerolinewidth\":2},\"yaxis\":{\"gridcolor\":\"white\",\"linecolor\":\"white\",\"ticks\":\"\",\"title\":{\"standoff\":15},\"zerolinecolor\":\"white\",\"automargin\":true,\"zerolinewidth\":2},\"scene\":{\"xaxis\":{\"backgroundcolor\":\"#E5ECF6\",\"gridcolor\":\"white\",\"linecolor\":\"white\",\"showbackground\":true,\"ticks\":\"\",\"zerolinecolor\":\"white\",\"gridwidth\":2},\"yaxis\":{\"backgroundcolor\":\"#E5ECF6\",\"gridcolor\":\"white\",\"linecolor\":\"white\",\"showbackground\":true,\"ticks\":\"\",\"zerolinecolor\":\"white\",\"gridwidth\":2},\"zaxis\":{\"backgroundcolor\":\"#E5ECF6\",\"gridcolor\":\"white\",\"linecolor\":\"white\",\"showbackground\":true,\"ticks\":\"\",\"zerolinecolor\":\"white\",\"gridwidth\":2}},\"shapedefaults\":{\"line\":{\"color\":\"#2a3f5f\"}},\"annotationdefaults\":{\"arrowcolor\":\"#2a3f5f\",\"arrowhead\":0,\"arrowwidth\":1},\"geo\":{\"bgcolor\":\"white\",\"landcolor\":\"#E5ECF6\",\"subunitcolor\":\"white\",\"showland\":true,\"showlakes\":true,\"lakecolor\":\"white\"},\"title\":{\"x\":0.05},\"mapbox\":{\"style\":\"light\"}}},\"xaxis\":{\"anchor\":\"y\",\"domain\":[0.0,1.0],\"title\":{\"text\":\"gender\"}},\"yaxis\":{\"anchor\":\"x\",\"domain\":[0.0,1.0],\"title\":{\"text\":\"check_in_hour\"}},\"legend\":{\"tracegroupgap\":0},\"margin\":{\"t\":60},\"boxmode\":\"group\"},                        {\"responsive\": true}                    ).then(function(){\n",
       "                            \n",
       "var gd = document.getElementById('93711ed1-3ded-4af0-b184-7b35c7027858');\n",
       "var x = new MutationObserver(function (mutations, observer) {{\n",
       "        var display = window.getComputedStyle(gd).display;\n",
       "        if (!display || display === 'none') {{\n",
       "            console.log([gd, 'removed!']);\n",
       "            Plotly.purge(gd);\n",
       "            observer.disconnect();\n",
       "        }}\n",
       "}});\n",
       "\n",
       "// Listen for the removal of the full notebook cells\n",
       "var notebookContainer = gd.closest('#notebook-container');\n",
       "if (notebookContainer) {{\n",
       "    x.observe(notebookContainer, {childList: true});\n",
       "}}\n",
       "\n",
       "// Listen for the clearing of the current output cell\n",
       "var outputEl = gd.closest('.output');\n",
       "if (outputEl) {{\n",
       "    x.observe(outputEl, {childList: true});\n",
       "}}\n",
       "\n",
       "                        })                };            </script>        </div>"
      ]
     },
     "metadata": {},
     "output_type": "display_data"
    }
   ],
   "source": [
    "fig=px.box(data_frame=df_extended, x='gender', y= 'check_in_hour')\n",
    "fig.update_traces(boxmean=True)"
   ]
  },
  {
   "cell_type": "markdown",
   "id": "9e0c31de",
   "metadata": {},
   "source": [
    "На выборке было выявлено значимое различие в разнице захода в зал между мужинами и женщинами. В среднем женщины приходят раньше мужчин\n",
    "\n",
    "Такое поведение может быть связано с тем, что посетители женского пола раньше приходят домой с работы/освобождаются от домашних дел. Или, возможно, им свойственно избегать \"пик часы\" зала, которые приходятся на более позднее время."
   ]
  },
  {
   "cell_type": "code",
   "execution_count": 47,
   "id": "e8364ea4",
   "metadata": {},
   "outputs": [
    {
     "data": {
      "text/plain": [
       "Index(['abonement_type', 'gender', 'check_in', 'check_out', 'avg_time',\n",
       "       'age_group', 'visit_per_week', 'check_in_cat', 'check_in_hour'],\n",
       "      dtype='object')"
      ]
     },
     "execution_count": 47,
     "metadata": {},
     "output_type": "execute_result"
    }
   ],
   "source": [
    "df_extended.columns"
   ]
  },
  {
   "cell_type": "code",
   "execution_count": 48,
   "id": "91796026",
   "metadata": {},
   "outputs": [
    {
     "name": "stdout",
     "output_type": "stream",
     "text": [
      "Данные распределены не нормально\n",
      "\n",
      "U-критерий: 128879.5, p-value = 0.3801464046771059\n",
      "Связи между полом и visit_per_week нет\n"
     ]
    }
   ],
   "source": [
    "t_test_fm(df_extended, 'visit_per_week')"
   ]
  },
  {
   "cell_type": "code",
   "execution_count": 49,
   "id": "fa1cb3ce",
   "metadata": {},
   "outputs": [
    {
     "name": "stdout",
     "output_type": "stream",
     "text": [
      "Данные распределены не нормально\n",
      "\n",
      "U-критерий: 125023.5, p-value = 0.99143462205215\n",
      "Связи между типом абонемента и visit_per_week нет\n"
     ]
    }
   ],
   "source": [
    "t_test_ps(df_extended, 'visit_per_week')"
   ]
  },
  {
   "cell_type": "code",
   "execution_count": 50,
   "id": "478bca69",
   "metadata": {},
   "outputs": [
    {
     "name": "stdout",
     "output_type": "stream",
     "text": [
      "Наблюдения:\n",
      "gender          Female  Male\n",
      "visit_per_week              \n",
      "1                   98    96\n",
      "2                  132   142\n",
      "3                  152   160\n",
      "4                   56    40\n",
      "5                   65    59\n",
      "Связи между полом и количеством посещений нет\n",
      "Хи2 = 3.511825938524489, p-value = 0.47608246438400814\n",
      "Степени свободы: 4\n",
      "Ожидаемые частоты:\n",
      "[[ 97.582  96.418]\n",
      " [137.822 136.178]\n",
      " [156.936 155.064]\n",
      " [ 48.288  47.712]\n",
      " [ 62.372  61.628]]\n"
     ]
    }
   ],
   "source": [
    "cross = pd.crosstab(df['visit_per_week'],df_extended['gender'])\n",
    "chi_2, p_val, dof, expected = stats.chi2_contingency(cross)\n",
    "\n",
    "print('Наблюдения:')\n",
    "print(cross)\n",
    "if p_val > 0.05:\n",
    "    print('Связи между полом и количеством посещений нет')\n",
    "else:\n",
    "    print('Связь между полом и количеством посещений есть')\n",
    "print(f'Хи2 = {chi_2}, p-value = {p_val}')\n",
    "print(f'Степени свободы: {dof}')\n",
    "print('Ожидаемые частоты:')\n",
    "print(expected)\n"
   ]
  },
  {
   "cell_type": "code",
   "execution_count": 51,
   "id": "8f90c7e8",
   "metadata": {},
   "outputs": [
    {
     "name": "stdout",
     "output_type": "stream",
     "text": [
      "Наблюдения:\n",
      "abonement_type  Premium  Standard\n",
      "visit_per_week                   \n",
      "1                    90       104\n",
      "2                   144       130\n",
      "3                   152       160\n",
      "4                    46        50\n",
      "5                    61        63\n",
      "Связи между типом абонемента и количеством посещений нет\n",
      "Хи2 = 1.9340697594876617, p-value = 0.7478838393628205\n",
      "Степени свободы: 4\n",
      "Ожидаемые частоты:\n",
      "[[ 95.642  98.358]\n",
      " [135.082 138.918]\n",
      " [153.816 158.184]\n",
      " [ 47.328  48.672]\n",
      " [ 61.132  62.868]]\n"
     ]
    }
   ],
   "source": [
    "cross = pd.crosstab(df['visit_per_week'],df_extended['abonement_type'])\n",
    "chi_2, p_val, dof, expected = stats.chi2_contingency(cross)\n",
    "\n",
    "print('Наблюдения:')\n",
    "print(cross)\n",
    "if p_val > 0.05:\n",
    "    print('Связи между типом абонемента и количеством посещений нет')\n",
    "else:\n",
    "    print('Связь между типом абонемента и количеством посещений есть')\n",
    "print(f'Хи2 = {chi_2}, p-value = {p_val}')\n",
    "print(f'Степени свободы: {dof}')\n",
    "print('Ожидаемые частоты:')\n",
    "print(expected)"
   ]
  },
  {
   "cell_type": "markdown",
   "id": "f2d8faee",
   "metadata": {},
   "source": [
    "Выводы по анализу выборки:\n",
    "\n",
    "\n",
    "Посетители:\n",
    "* Максимальный возраст: *49*; Минимальный: *12*\n",
    "* Основная масса посетителей от 21 до 45 лет: 67%\n",
    "* В зал ходит примерно одинаковое количество женщин(50.3%) и мужчин(49.7%).\n",
    "* Премиальных и стандартных посетителей примерно равное количество: 49.3% и 50.7% соответственно.\n",
    "Примечание по возрастным группам: \n",
    "* 21-25 лет: женщин на 13.6% (от общего числа в возрастной группе) больше\n",
    "* старше 45: мужчин на 23.5% больше\n",
    "\n",
    "\n",
    "Посещение:\n",
    "* В среднем клиенты посещают зал 2-3 раза в неделю.\n",
    "* Mike и Сhantal наиболее популярные тренеры.\n",
    "* Самые популярные дни посещения: среда и воскресенье.\n",
    "* **Понедельник же самый \"разгруженный день\", он наиболее подходит для проведения каких либо технических работ.**\n",
    "* 49.7% клиентов не посещают групповые занятия.\n",
    "* Cамое популярное групповое занятие: Bodypump (11.1% посещаяющих групповые занятия).\n",
    "* Самые непопулярные занятия: Zumba (8.1% посещаяющих групповые занятия) и running (8.2%)\n",
    "* Cамые популярные напитки: coconut_pineapple(18.6% берущих напитки), orange(16.5%), passion_fruit(15.5%).\n",
    "\n",
    "Различия в группах по полу и типу абонемента: \n",
    "* Была выявлена статистически значимая связь: женщины в среднем приходят в зал раньше мужчин.\n",
    "\n"
   ]
  }
 ],
 "metadata": {
  "kernelspec": {
   "display_name": "Python 3",
   "language": "python",
   "name": "python3"
  },
  "language_info": {
   "codemirror_mode": {
    "name": "ipython",
    "version": 3
   },
   "file_extension": ".py",
   "mimetype": "text/x-python",
   "name": "python",
   "nbconvert_exporter": "python",
   "pygments_lexer": "ipython3",
   "version": "3.13.2"
  }
 },
 "nbformat": 4,
 "nbformat_minor": 5
}
